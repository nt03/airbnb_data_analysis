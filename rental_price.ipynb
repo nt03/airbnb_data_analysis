{
 "cells": [
  {
   "cell_type": "code",
   "execution_count": 2,
   "metadata": {},
   "outputs": [],
   "source": [
    "import plotly.graph_objects as go\n",
    "import plotly.express as px\n",
    "import plotly\n",
    "import pandas as pd"
   ]
  },
  {
   "cell_type": "code",
   "execution_count": 14,
   "metadata": {},
   "outputs": [],
   "source": [
    "rent1br = pd.read_csv(\"../data/rentdataclean.csv\")"
   ]
  },
  {
   "cell_type": "code",
   "execution_count": 16,
   "metadata": {},
   "outputs": [
    {
     "data": {
      "text/html": [
       "<div>\n",
       "<style scoped>\n",
       "    .dataframe tbody tr th:only-of-type {\n",
       "        vertical-align: middle;\n",
       "    }\n",
       "\n",
       "    .dataframe tbody tr th {\n",
       "        vertical-align: top;\n",
       "    }\n",
       "\n",
       "    .dataframe thead th {\n",
       "        text-align: right;\n",
       "    }\n",
       "</style>\n",
       "<table border=\"1\" class=\"dataframe\">\n",
       "  <thead>\n",
       "    <tr style=\"text-align: right;\">\n",
       "      <th></th>\n",
       "      <th>RegionName</th>\n",
       "      <th>State</th>\n",
       "      <th>year</th>\n",
       "      <th>mean_rent</th>\n",
       "    </tr>\n",
       "  </thead>\n",
       "  <tbody>\n",
       "    <tr>\n",
       "      <th>0</th>\n",
       "      <td>Columbia Heights</td>\n",
       "      <td>DC</td>\n",
       "      <td>2010</td>\n",
       "      <td>NaN</td>\n",
       "    </tr>\n",
       "    <tr>\n",
       "      <th>1</th>\n",
       "      <td>Columbia Heights</td>\n",
       "      <td>DC</td>\n",
       "      <td>2011</td>\n",
       "      <td>NaN</td>\n",
       "    </tr>\n",
       "    <tr>\n",
       "      <th>2</th>\n",
       "      <td>Columbia Heights</td>\n",
       "      <td>DC</td>\n",
       "      <td>2012</td>\n",
       "      <td>2135.0</td>\n",
       "    </tr>\n",
       "    <tr>\n",
       "      <th>3</th>\n",
       "      <td>Columbia Heights</td>\n",
       "      <td>DC</td>\n",
       "      <td>2013</td>\n",
       "      <td>2491.0</td>\n",
       "    </tr>\n",
       "    <tr>\n",
       "      <th>4</th>\n",
       "      <td>Columbia Heights</td>\n",
       "      <td>DC</td>\n",
       "      <td>2014</td>\n",
       "      <td>2024.0</td>\n",
       "    </tr>\n",
       "  </tbody>\n",
       "</table>\n",
       "</div>"
      ],
      "text/plain": [
       "         RegionName State  year  mean_rent\n",
       "0  Columbia Heights    DC  2010        NaN\n",
       "1  Columbia Heights    DC  2011        NaN\n",
       "2  Columbia Heights    DC  2012     2135.0\n",
       "3  Columbia Heights    DC  2013     2491.0\n",
       "4  Columbia Heights    DC  2014     2024.0"
      ]
     },
     "execution_count": 16,
     "metadata": {},
     "output_type": "execute_result"
    }
   ],
   "source": [
    "rent1br.head()"
   ]
  },
  {
   "cell_type": "code",
   "execution_count": 15,
   "metadata": {},
   "outputs": [],
   "source": [
    "#drop index column \n",
    "\n",
    "rent1br = rent1br.drop(['Unnamed: 0'], axis=1)"
   ]
  },
  {
   "cell_type": "code",
   "execution_count": 17,
   "metadata": {},
   "outputs": [],
   "source": [
    "labels = rent1br.RegionName.unique()"
   ]
  },
  {
   "cell_type": "code",
   "execution_count": 18,
   "metadata": {},
   "outputs": [
    {
     "data": {
      "text/plain": [
       "array(['Columbia Heights', 'Adams Morgan', 'Logan Circle',\n",
       "       'Dupont Circle', 'Foggy Bottom', 'Mount Pleasant', 'Georgetown',\n",
       "       'Shaw', 'American University Park', 'Cleveland Park',\n",
       "       'Near Northeast', 'Southwest Waterfront', 'Mount Vernon Square',\n",
       "       'Glover Park', 'Forest Hills', 'Navy Yard', 'Woodley Park',\n",
       "       'Downtown', 'U Street Corridor', 'NoMa', 'West End', 'Gallaudet',\n",
       "       'Penn Quarter'], dtype=object)"
      ]
     },
     "execution_count": 18,
     "metadata": {},
     "output_type": "execute_result"
    }
   ],
   "source": [
    "labels"
   ]
  },
  {
   "cell_type": "code",
   "execution_count": 19,
   "metadata": {},
   "outputs": [],
   "source": [
    "#creating a list of dataframes to assign to buttons\n",
    "\n",
    "nbd_rent = []\n",
    "\n",
    "for l in labels:\n",
    "    k = rent1br[rent1br['RegionName']==l]\n",
    "    if not k.empty:\n",
    "        nbd_rent.append(k)"
   ]
  },
  {
   "cell_type": "code",
   "execution_count": 23,
   "metadata": {},
   "outputs": [
    {
     "data": {
      "application/vnd.plotly.v1+json": {
       "config": {
        "plotlyServerURL": "https://plot.ly"
       },
       "data": [
        {
         "hovertemplate": "Year:%{x} Rent:$%{y}",
         "legendgroup": "Columbia Heights",
         "marker": {
          "color": "#601A4A"
         },
         "mode": "lines+markers",
         "name": "Columbia Heights",
         "showlegend": true,
         "text": [
          "Columbia Heights",
          "Columbia Heights",
          "Columbia Heights",
          "Columbia Heights",
          "Columbia Heights",
          "Columbia Heights",
          "Columbia Heights",
          "Columbia Heights",
          "Columbia Heights",
          "Columbia Heights"
         ],
         "type": "scatter",
         "x": [
          2010,
          2011,
          2012,
          2013,
          2014,
          2015,
          2016,
          2017,
          2018,
          2019
         ],
         "y": [
          null,
          null,
          2135,
          2491,
          2024,
          1925,
          1934,
          2375,
          2100,
          2384
         ]
        },
        {
         "hovertemplate": "Year:%{x} Rent:$%{y}",
         "legendgroup": "Adams Morgan",
         "marker": {
          "color": "#601A4A"
         },
         "mode": "lines+markers",
         "name": "Adams Morgan",
         "showlegend": true,
         "text": [
          "Adams Morgan",
          "Adams Morgan",
          "Adams Morgan",
          "Adams Morgan",
          "Adams Morgan",
          "Adams Morgan",
          "Adams Morgan",
          "Adams Morgan",
          "Adams Morgan",
          "Adams Morgan"
         ],
         "type": "scatter",
         "x": [
          2010,
          2011,
          2012,
          2013,
          2014,
          2015,
          2016,
          2017,
          2018,
          2019
         ],
         "y": [
          null,
          null,
          null,
          null,
          null,
          null,
          null,
          null,
          2200,
          2445
         ]
        },
        {
         "hovertemplate": "Year:%{x} Rent:$%{y}",
         "legendgroup": "Logan Circle",
         "marker": {
          "color": "#601A4A"
         },
         "mode": "lines+markers",
         "name": "Logan Circle",
         "showlegend": true,
         "text": [
          "Logan Circle",
          "Logan Circle",
          "Logan Circle",
          "Logan Circle",
          "Logan Circle",
          "Logan Circle",
          "Logan Circle",
          "Logan Circle",
          "Logan Circle",
          "Logan Circle"
         ],
         "type": "scatter",
         "x": [
          2010,
          2011,
          2012,
          2013,
          2014,
          2015,
          2016,
          2017,
          2018,
          2019
         ],
         "y": [
          null,
          null,
          2345,
          2600,
          2665,
          2494,
          2698,
          2637.5,
          2512,
          2469
         ]
        },
        {
         "hovertemplate": "Year:%{x} Rent:$%{y}",
         "legendgroup": "Dupont Circle",
         "marker": {
          "color": "#601A4A"
         },
         "mode": "lines+markers",
         "name": "Dupont Circle",
         "showlegend": true,
         "text": [
          "Dupont Circle",
          "Dupont Circle",
          "Dupont Circle",
          "Dupont Circle",
          "Dupont Circle",
          "Dupont Circle",
          "Dupont Circle",
          "Dupont Circle",
          "Dupont Circle",
          "Dupont Circle"
         ],
         "type": "scatter",
         "x": [
          2010,
          2011,
          2012,
          2013,
          2014,
          2015,
          2016,
          2017,
          2018,
          2019
         ],
         "y": [
          null,
          null,
          2500,
          2357.5,
          2520,
          2550,
          2500,
          2350,
          2545,
          2500
         ]
        },
        {
         "hovertemplate": "Year:%{x} Rent:$%{y}",
         "legendgroup": "Foggy Bottom",
         "marker": {
          "color": "#601A4A"
         },
         "mode": "lines+markers",
         "name": "Foggy Bottom",
         "showlegend": true,
         "text": [
          "Foggy Bottom",
          "Foggy Bottom",
          "Foggy Bottom",
          "Foggy Bottom",
          "Foggy Bottom",
          "Foggy Bottom",
          "Foggy Bottom",
          "Foggy Bottom",
          "Foggy Bottom",
          "Foggy Bottom"
         ],
         "type": "scatter",
         "x": [
          2010,
          2011,
          2012,
          2013,
          2014,
          2015,
          2016,
          2017,
          2018,
          2019
         ],
         "y": [
          null,
          null,
          null,
          null,
          null,
          null,
          null,
          2067.5,
          2015,
          2259.5
         ]
        },
        {
         "hovertemplate": "Year:%{x} Rent:$%{y}",
         "legendgroup": "Mount Pleasant",
         "marker": {
          "color": "#601A4A"
         },
         "mode": "lines+markers",
         "name": "Mount Pleasant",
         "showlegend": true,
         "text": [
          "Mount Pleasant",
          "Mount Pleasant",
          "Mount Pleasant",
          "Mount Pleasant",
          "Mount Pleasant",
          "Mount Pleasant",
          "Mount Pleasant",
          "Mount Pleasant",
          "Mount Pleasant",
          "Mount Pleasant"
         ],
         "type": "scatter",
         "x": [
          2010,
          2011,
          2012,
          2013,
          2014,
          2015,
          2016,
          2017,
          2018,
          2019
         ],
         "y": [
          null,
          null,
          null,
          null,
          null,
          null,
          null,
          null,
          null,
          1800
         ]
        },
        {
         "hovertemplate": "Year:%{x} Rent:$%{y}",
         "legendgroup": "Georgetown",
         "marker": {
          "color": "#601A4A"
         },
         "mode": "lines+markers",
         "name": "Georgetown",
         "showlegend": true,
         "text": [
          "Georgetown",
          "Georgetown",
          "Georgetown",
          "Georgetown",
          "Georgetown",
          "Georgetown",
          "Georgetown",
          "Georgetown",
          "Georgetown",
          "Georgetown"
         ],
         "type": "scatter",
         "x": [
          2010,
          2011,
          2012,
          2013,
          2014,
          2015,
          2016,
          2017,
          2018,
          2019
         ],
         "y": [
          null,
          null,
          null,
          null,
          null,
          null,
          null,
          2253,
          2351,
          2297
         ]
        },
        {
         "hovertemplate": "Year:%{x} Rent:$%{y}",
         "legendgroup": "Shaw",
         "marker": {
          "color": "#601A4A"
         },
         "mode": "lines+markers",
         "name": "Shaw",
         "showlegend": true,
         "text": [
          "Shaw",
          "Shaw",
          "Shaw",
          "Shaw",
          "Shaw",
          "Shaw",
          "Shaw",
          "Shaw",
          "Shaw",
          "Shaw"
         ],
         "type": "scatter",
         "x": [
          2010,
          2011,
          2012,
          2013,
          2014,
          2015,
          2016,
          2017,
          2018,
          2019
         ],
         "y": [
          null,
          null,
          null,
          null,
          null,
          null,
          null,
          null,
          2775,
          2433
         ]
        },
        {
         "hovertemplate": "Year:%{x} Rent:$%{y}",
         "legendgroup": "American University Park",
         "marker": {
          "color": "#601A4A"
         },
         "mode": "lines+markers",
         "name": "American University Park",
         "showlegend": true,
         "text": [
          "American University Park",
          "American University Park",
          "American University Park",
          "American University Park",
          "American University Park",
          "American University Park",
          "American University Park",
          "American University Park",
          "American University Park",
          "American University Park"
         ],
         "type": "scatter",
         "x": [
          2010,
          2011,
          2012,
          2013,
          2014,
          2015,
          2016,
          2017,
          2018,
          2019
         ],
         "y": [
          null,
          null,
          null,
          null,
          null,
          null,
          null,
          null,
          null,
          2030
         ]
        },
        {
         "hovertemplate": "Year:%{x} Rent:$%{y}",
         "legendgroup": "Cleveland Park",
         "marker": {
          "color": "#601A4A"
         },
         "mode": "lines+markers",
         "name": "Cleveland Park",
         "showlegend": true,
         "text": [
          "Cleveland Park",
          "Cleveland Park",
          "Cleveland Park",
          "Cleveland Park",
          "Cleveland Park",
          "Cleveland Park",
          "Cleveland Park",
          "Cleveland Park",
          "Cleveland Park",
          "Cleveland Park"
         ],
         "type": "scatter",
         "x": [
          2010,
          2011,
          2012,
          2013,
          2014,
          2015,
          2016,
          2017,
          2018,
          2019
         ],
         "y": [
          null,
          null,
          null,
          null,
          null,
          null,
          null,
          2000,
          2000,
          2058
         ]
        },
        {
         "hovertemplate": "Year:%{x} Rent:$%{y}",
         "legendgroup": "Near Northeast",
         "marker": {
          "color": "#601A4A"
         },
         "mode": "lines+markers",
         "name": "Near Northeast",
         "showlegend": true,
         "text": [
          "Near Northeast",
          "Near Northeast",
          "Near Northeast",
          "Near Northeast",
          "Near Northeast",
          "Near Northeast",
          "Near Northeast",
          "Near Northeast",
          "Near Northeast",
          "Near Northeast"
         ],
         "type": "scatter",
         "x": [
          2010,
          2011,
          2012,
          2013,
          2014,
          2015,
          2016,
          2017,
          2018,
          2019
         ],
         "y": [
          null,
          null,
          null,
          null,
          null,
          null,
          null,
          2145,
          2370.5,
          2715
         ]
        },
        {
         "hovertemplate": "Year:%{x} Rent:$%{y}",
         "legendgroup": "Southwest Waterfront",
         "marker": {
          "color": "#601A4A"
         },
         "mode": "lines+markers",
         "name": "Southwest Waterfront",
         "showlegend": true,
         "text": [
          "Southwest Waterfront",
          "Southwest Waterfront",
          "Southwest Waterfront",
          "Southwest Waterfront",
          "Southwest Waterfront",
          "Southwest Waterfront",
          "Southwest Waterfront",
          "Southwest Waterfront",
          "Southwest Waterfront",
          "Southwest Waterfront"
         ],
         "type": "scatter",
         "x": [
          2010,
          2011,
          2012,
          2013,
          2014,
          2015,
          2016,
          2017,
          2018,
          2019
         ],
         "y": [
          null,
          null,
          null,
          null,
          null,
          null,
          null,
          null,
          2429,
          2516
         ]
        },
        {
         "hovertemplate": "Year:%{x} Rent:$%{y}",
         "legendgroup": "Mount Vernon Square",
         "marker": {
          "color": "#601A4A"
         },
         "mode": "lines+markers",
         "name": "Mount Vernon Square",
         "showlegend": true,
         "text": [
          "Mount Vernon Square",
          "Mount Vernon Square",
          "Mount Vernon Square",
          "Mount Vernon Square",
          "Mount Vernon Square",
          "Mount Vernon Square",
          "Mount Vernon Square",
          "Mount Vernon Square",
          "Mount Vernon Square",
          "Mount Vernon Square"
         ],
         "type": "scatter",
         "x": [
          2010,
          2011,
          2012,
          2013,
          2014,
          2015,
          2016,
          2017,
          2018,
          2019
         ],
         "y": [
          null,
          null,
          2325,
          2305,
          2307.5,
          2325,
          2405,
          2295,
          2301.5,
          2495
         ]
        },
        {
         "hovertemplate": "Year:%{x} Rent:$%{y}",
         "legendgroup": "Glover Park",
         "marker": {
          "color": "#601A4A"
         },
         "mode": "lines+markers",
         "name": "Glover Park",
         "showlegend": true,
         "text": [
          "Glover Park",
          "Glover Park",
          "Glover Park",
          "Glover Park",
          "Glover Park",
          "Glover Park",
          "Glover Park",
          "Glover Park",
          "Glover Park",
          "Glover Park"
         ],
         "type": "scatter",
         "x": [
          2010,
          2011,
          2012,
          2013,
          2014,
          2015,
          2016,
          2017,
          2018,
          2019
         ],
         "y": [
          null,
          null,
          null,
          null,
          null,
          null,
          null,
          1763,
          1650,
          1632.5
         ]
        },
        {
         "hovertemplate": "Year:%{x} Rent:$%{y}",
         "legendgroup": "Forest Hills",
         "marker": {
          "color": "#601A4A"
         },
         "mode": "lines+markers",
         "name": "Forest Hills",
         "showlegend": true,
         "text": [
          "Forest Hills",
          "Forest Hills",
          "Forest Hills",
          "Forest Hills",
          "Forest Hills",
          "Forest Hills",
          "Forest Hills",
          "Forest Hills",
          "Forest Hills",
          "Forest Hills"
         ],
         "type": "scatter",
         "x": [
          2010,
          2011,
          2012,
          2013,
          2014,
          2015,
          2016,
          2017,
          2018,
          2019
         ],
         "y": [
          null,
          null,
          null,
          1928,
          1894,
          1895,
          1925,
          1974,
          1882.5,
          1941.5
         ]
        },
        {
         "hovertemplate": "Year:%{x} Rent:$%{y}",
         "legendgroup": "Navy Yard",
         "marker": {
          "color": "#601A4A"
         },
         "mode": "lines+markers",
         "name": "Navy Yard",
         "showlegend": true,
         "text": [
          "Navy Yard",
          "Navy Yard",
          "Navy Yard",
          "Navy Yard",
          "Navy Yard",
          "Navy Yard",
          "Navy Yard",
          "Navy Yard",
          "Navy Yard",
          "Navy Yard"
         ],
         "type": "scatter",
         "x": [
          2010,
          2011,
          2012,
          2013,
          2014,
          2015,
          2016,
          2017,
          2018,
          2019
         ],
         "y": [
          null,
          null,
          null,
          null,
          null,
          2162,
          2198,
          2255,
          2287.5,
          2477
         ]
        },
        {
         "hovertemplate": "Year:%{x} Rent:$%{y}",
         "legendgroup": "Woodley Park",
         "marker": {
          "color": "#601A4A"
         },
         "mode": "lines+markers",
         "name": "Woodley Park",
         "showlegend": true,
         "text": [
          "Woodley Park",
          "Woodley Park",
          "Woodley Park",
          "Woodley Park",
          "Woodley Park",
          "Woodley Park",
          "Woodley Park",
          "Woodley Park",
          "Woodley Park",
          "Woodley Park"
         ],
         "type": "scatter",
         "x": [
          2010,
          2011,
          2012,
          2013,
          2014,
          2015,
          2016,
          2017,
          2018,
          2019
         ],
         "y": [
          null,
          null,
          null,
          null,
          2072.5,
          2080,
          2095,
          2150,
          2100,
          2000
         ]
        },
        {
         "hovertemplate": "Year:%{x} Rent:$%{y}",
         "legendgroup": "Downtown",
         "marker": {
          "color": "#601A4A"
         },
         "mode": "lines+markers",
         "name": "Downtown",
         "showlegend": true,
         "text": [
          "Downtown",
          "Downtown",
          "Downtown",
          "Downtown",
          "Downtown",
          "Downtown",
          "Downtown",
          "Downtown",
          "Downtown",
          "Downtown"
         ],
         "type": "scatter",
         "x": [
          2010,
          2011,
          2012,
          2013,
          2014,
          2015,
          2016,
          2017,
          2018,
          2019
         ],
         "y": [
          null,
          null,
          null,
          null,
          null,
          null,
          null,
          null,
          2476,
          2550
         ]
        },
        {
         "hovertemplate": "Year:%{x} Rent:$%{y}",
         "legendgroup": "U Street Corridor",
         "marker": {
          "color": "#601A4A"
         },
         "mode": "lines+markers",
         "name": "U Street Corridor",
         "showlegend": true,
         "text": [
          "U Street Corridor",
          "U Street Corridor",
          "U Street Corridor",
          "U Street Corridor",
          "U Street Corridor",
          "U Street Corridor",
          "U Street Corridor",
          "U Street Corridor",
          "U Street Corridor",
          "U Street Corridor"
         ],
         "type": "scatter",
         "x": [
          2010,
          2011,
          2012,
          2013,
          2014,
          2015,
          2016,
          2017,
          2018,
          2019
         ],
         "y": [
          null,
          null,
          null,
          null,
          null,
          null,
          null,
          null,
          2649,
          2877
         ]
        },
        {
         "hovertemplate": "Year:%{x} Rent:$%{y}",
         "legendgroup": "NoMa",
         "marker": {
          "color": "#601A4A"
         },
         "mode": "lines+markers",
         "name": "NoMa",
         "showlegend": true,
         "text": [
          "NoMa",
          "NoMa",
          "NoMa",
          "NoMa",
          "NoMa",
          "NoMa",
          "NoMa",
          "NoMa",
          "NoMa",
          "NoMa"
         ],
         "type": "scatter",
         "x": [
          2010,
          2011,
          2012,
          2013,
          2014,
          2015,
          2016,
          2017,
          2018,
          2019
         ],
         "y": [
          null,
          null,
          null,
          null,
          null,
          null,
          null,
          2180,
          2136,
          2235
         ]
        },
        {
         "hovertemplate": "Year:%{x} Rent:$%{y}",
         "legendgroup": "West End",
         "marker": {
          "color": "#601A4A"
         },
         "mode": "lines+markers",
         "name": "West End",
         "showlegend": true,
         "text": [
          "West End",
          "West End",
          "West End",
          "West End",
          "West End",
          "West End",
          "West End",
          "West End",
          "West End",
          "West End"
         ],
         "type": "scatter",
         "x": [
          2010,
          2011,
          2012,
          2013,
          2014,
          2015,
          2016,
          2017,
          2018,
          2019
         ],
         "y": [
          null,
          null,
          null,
          null,
          null,
          null,
          null,
          2946.5,
          2925,
          2911
         ]
        },
        {
         "hovertemplate": "Year:%{x} Rent:$%{y}",
         "legendgroup": "Gallaudet",
         "marker": {
          "color": "#601A4A"
         },
         "mode": "lines+markers",
         "name": "Gallaudet",
         "showlegend": true,
         "text": [
          "Gallaudet",
          "Gallaudet",
          "Gallaudet",
          "Gallaudet",
          "Gallaudet",
          "Gallaudet",
          "Gallaudet",
          "Gallaudet",
          "Gallaudet",
          "Gallaudet"
         ],
         "type": "scatter",
         "x": [
          2010,
          2011,
          2012,
          2013,
          2014,
          2015,
          2016,
          2017,
          2018,
          2019
         ],
         "y": [
          null,
          null,
          null,
          null,
          null,
          null,
          null,
          null,
          1963.5,
          2187.5
         ]
        },
        {
         "hovertemplate": "Year:%{x} Rent:$%{y}",
         "legendgroup": "Penn Quarter",
         "marker": {
          "color": "#601A4A"
         },
         "mode": "lines+markers",
         "name": "Penn Quarter",
         "showlegend": true,
         "text": [
          "Penn Quarter",
          "Penn Quarter",
          "Penn Quarter",
          "Penn Quarter",
          "Penn Quarter",
          "Penn Quarter",
          "Penn Quarter",
          "Penn Quarter",
          "Penn Quarter",
          "Penn Quarter"
         ],
         "type": "scatter",
         "x": [
          2010,
          2011,
          2012,
          2013,
          2014,
          2015,
          2016,
          2017,
          2018,
          2019
         ],
         "y": [
          null,
          null,
          null,
          null,
          null,
          null,
          null,
          null,
          2475,
          2400
         ]
        }
       ],
       "layout": {
        "height": 500,
        "plot_bgcolor": "#FDFEFE",
        "showlegend": false,
        "template": {
         "data": {
          "bar": [
           {
            "error_x": {
             "color": "#2a3f5f"
            },
            "error_y": {
             "color": "#2a3f5f"
            },
            "marker": {
             "line": {
              "color": "#E5ECF6",
              "width": 0.5
             }
            },
            "type": "bar"
           }
          ],
          "barpolar": [
           {
            "marker": {
             "line": {
              "color": "#E5ECF6",
              "width": 0.5
             }
            },
            "type": "barpolar"
           }
          ],
          "carpet": [
           {
            "aaxis": {
             "endlinecolor": "#2a3f5f",
             "gridcolor": "white",
             "linecolor": "white",
             "minorgridcolor": "white",
             "startlinecolor": "#2a3f5f"
            },
            "baxis": {
             "endlinecolor": "#2a3f5f",
             "gridcolor": "white",
             "linecolor": "white",
             "minorgridcolor": "white",
             "startlinecolor": "#2a3f5f"
            },
            "type": "carpet"
           }
          ],
          "choropleth": [
           {
            "colorbar": {
             "outlinewidth": 0,
             "ticks": ""
            },
            "type": "choropleth"
           }
          ],
          "contour": [
           {
            "colorbar": {
             "outlinewidth": 0,
             "ticks": ""
            },
            "colorscale": [
             [
              0,
              "#0d0887"
             ],
             [
              0.1111111111111111,
              "#46039f"
             ],
             [
              0.2222222222222222,
              "#7201a8"
             ],
             [
              0.3333333333333333,
              "#9c179e"
             ],
             [
              0.4444444444444444,
              "#bd3786"
             ],
             [
              0.5555555555555556,
              "#d8576b"
             ],
             [
              0.6666666666666666,
              "#ed7953"
             ],
             [
              0.7777777777777778,
              "#fb9f3a"
             ],
             [
              0.8888888888888888,
              "#fdca26"
             ],
             [
              1,
              "#f0f921"
             ]
            ],
            "type": "contour"
           }
          ],
          "contourcarpet": [
           {
            "colorbar": {
             "outlinewidth": 0,
             "ticks": ""
            },
            "type": "contourcarpet"
           }
          ],
          "heatmap": [
           {
            "colorbar": {
             "outlinewidth": 0,
             "ticks": ""
            },
            "colorscale": [
             [
              0,
              "#0d0887"
             ],
             [
              0.1111111111111111,
              "#46039f"
             ],
             [
              0.2222222222222222,
              "#7201a8"
             ],
             [
              0.3333333333333333,
              "#9c179e"
             ],
             [
              0.4444444444444444,
              "#bd3786"
             ],
             [
              0.5555555555555556,
              "#d8576b"
             ],
             [
              0.6666666666666666,
              "#ed7953"
             ],
             [
              0.7777777777777778,
              "#fb9f3a"
             ],
             [
              0.8888888888888888,
              "#fdca26"
             ],
             [
              1,
              "#f0f921"
             ]
            ],
            "type": "heatmap"
           }
          ],
          "heatmapgl": [
           {
            "colorbar": {
             "outlinewidth": 0,
             "ticks": ""
            },
            "colorscale": [
             [
              0,
              "#0d0887"
             ],
             [
              0.1111111111111111,
              "#46039f"
             ],
             [
              0.2222222222222222,
              "#7201a8"
             ],
             [
              0.3333333333333333,
              "#9c179e"
             ],
             [
              0.4444444444444444,
              "#bd3786"
             ],
             [
              0.5555555555555556,
              "#d8576b"
             ],
             [
              0.6666666666666666,
              "#ed7953"
             ],
             [
              0.7777777777777778,
              "#fb9f3a"
             ],
             [
              0.8888888888888888,
              "#fdca26"
             ],
             [
              1,
              "#f0f921"
             ]
            ],
            "type": "heatmapgl"
           }
          ],
          "histogram": [
           {
            "marker": {
             "colorbar": {
              "outlinewidth": 0,
              "ticks": ""
             }
            },
            "type": "histogram"
           }
          ],
          "histogram2d": [
           {
            "colorbar": {
             "outlinewidth": 0,
             "ticks": ""
            },
            "colorscale": [
             [
              0,
              "#0d0887"
             ],
             [
              0.1111111111111111,
              "#46039f"
             ],
             [
              0.2222222222222222,
              "#7201a8"
             ],
             [
              0.3333333333333333,
              "#9c179e"
             ],
             [
              0.4444444444444444,
              "#bd3786"
             ],
             [
              0.5555555555555556,
              "#d8576b"
             ],
             [
              0.6666666666666666,
              "#ed7953"
             ],
             [
              0.7777777777777778,
              "#fb9f3a"
             ],
             [
              0.8888888888888888,
              "#fdca26"
             ],
             [
              1,
              "#f0f921"
             ]
            ],
            "type": "histogram2d"
           }
          ],
          "histogram2dcontour": [
           {
            "colorbar": {
             "outlinewidth": 0,
             "ticks": ""
            },
            "colorscale": [
             [
              0,
              "#0d0887"
             ],
             [
              0.1111111111111111,
              "#46039f"
             ],
             [
              0.2222222222222222,
              "#7201a8"
             ],
             [
              0.3333333333333333,
              "#9c179e"
             ],
             [
              0.4444444444444444,
              "#bd3786"
             ],
             [
              0.5555555555555556,
              "#d8576b"
             ],
             [
              0.6666666666666666,
              "#ed7953"
             ],
             [
              0.7777777777777778,
              "#fb9f3a"
             ],
             [
              0.8888888888888888,
              "#fdca26"
             ],
             [
              1,
              "#f0f921"
             ]
            ],
            "type": "histogram2dcontour"
           }
          ],
          "mesh3d": [
           {
            "colorbar": {
             "outlinewidth": 0,
             "ticks": ""
            },
            "type": "mesh3d"
           }
          ],
          "parcoords": [
           {
            "line": {
             "colorbar": {
              "outlinewidth": 0,
              "ticks": ""
             }
            },
            "type": "parcoords"
           }
          ],
          "pie": [
           {
            "automargin": true,
            "type": "pie"
           }
          ],
          "scatter": [
           {
            "marker": {
             "colorbar": {
              "outlinewidth": 0,
              "ticks": ""
             }
            },
            "type": "scatter"
           }
          ],
          "scatter3d": [
           {
            "line": {
             "colorbar": {
              "outlinewidth": 0,
              "ticks": ""
             }
            },
            "marker": {
             "colorbar": {
              "outlinewidth": 0,
              "ticks": ""
             }
            },
            "type": "scatter3d"
           }
          ],
          "scattercarpet": [
           {
            "marker": {
             "colorbar": {
              "outlinewidth": 0,
              "ticks": ""
             }
            },
            "type": "scattercarpet"
           }
          ],
          "scattergeo": [
           {
            "marker": {
             "colorbar": {
              "outlinewidth": 0,
              "ticks": ""
             }
            },
            "type": "scattergeo"
           }
          ],
          "scattergl": [
           {
            "marker": {
             "colorbar": {
              "outlinewidth": 0,
              "ticks": ""
             }
            },
            "type": "scattergl"
           }
          ],
          "scattermapbox": [
           {
            "marker": {
             "colorbar": {
              "outlinewidth": 0,
              "ticks": ""
             }
            },
            "type": "scattermapbox"
           }
          ],
          "scatterpolar": [
           {
            "marker": {
             "colorbar": {
              "outlinewidth": 0,
              "ticks": ""
             }
            },
            "type": "scatterpolar"
           }
          ],
          "scatterpolargl": [
           {
            "marker": {
             "colorbar": {
              "outlinewidth": 0,
              "ticks": ""
             }
            },
            "type": "scatterpolargl"
           }
          ],
          "scatterternary": [
           {
            "marker": {
             "colorbar": {
              "outlinewidth": 0,
              "ticks": ""
             }
            },
            "type": "scatterternary"
           }
          ],
          "surface": [
           {
            "colorbar": {
             "outlinewidth": 0,
             "ticks": ""
            },
            "colorscale": [
             [
              0,
              "#0d0887"
             ],
             [
              0.1111111111111111,
              "#46039f"
             ],
             [
              0.2222222222222222,
              "#7201a8"
             ],
             [
              0.3333333333333333,
              "#9c179e"
             ],
             [
              0.4444444444444444,
              "#bd3786"
             ],
             [
              0.5555555555555556,
              "#d8576b"
             ],
             [
              0.6666666666666666,
              "#ed7953"
             ],
             [
              0.7777777777777778,
              "#fb9f3a"
             ],
             [
              0.8888888888888888,
              "#fdca26"
             ],
             [
              1,
              "#f0f921"
             ]
            ],
            "type": "surface"
           }
          ],
          "table": [
           {
            "cells": {
             "fill": {
              "color": "#EBF0F8"
             },
             "line": {
              "color": "white"
             }
            },
            "header": {
             "fill": {
              "color": "#C8D4E3"
             },
             "line": {
              "color": "white"
             }
            },
            "type": "table"
           }
          ]
         },
         "layout": {
          "annotationdefaults": {
           "arrowcolor": "#2a3f5f",
           "arrowhead": 0,
           "arrowwidth": 1
          },
          "coloraxis": {
           "colorbar": {
            "outlinewidth": 0,
            "ticks": ""
           }
          },
          "colorscale": {
           "diverging": [
            [
             0,
             "#8e0152"
            ],
            [
             0.1,
             "#c51b7d"
            ],
            [
             0.2,
             "#de77ae"
            ],
            [
             0.3,
             "#f1b6da"
            ],
            [
             0.4,
             "#fde0ef"
            ],
            [
             0.5,
             "#f7f7f7"
            ],
            [
             0.6,
             "#e6f5d0"
            ],
            [
             0.7,
             "#b8e186"
            ],
            [
             0.8,
             "#7fbc41"
            ],
            [
             0.9,
             "#4d9221"
            ],
            [
             1,
             "#276419"
            ]
           ],
           "sequential": [
            [
             0,
             "#0d0887"
            ],
            [
             0.1111111111111111,
             "#46039f"
            ],
            [
             0.2222222222222222,
             "#7201a8"
            ],
            [
             0.3333333333333333,
             "#9c179e"
            ],
            [
             0.4444444444444444,
             "#bd3786"
            ],
            [
             0.5555555555555556,
             "#d8576b"
            ],
            [
             0.6666666666666666,
             "#ed7953"
            ],
            [
             0.7777777777777778,
             "#fb9f3a"
            ],
            [
             0.8888888888888888,
             "#fdca26"
            ],
            [
             1,
             "#f0f921"
            ]
           ],
           "sequentialminus": [
            [
             0,
             "#0d0887"
            ],
            [
             0.1111111111111111,
             "#46039f"
            ],
            [
             0.2222222222222222,
             "#7201a8"
            ],
            [
             0.3333333333333333,
             "#9c179e"
            ],
            [
             0.4444444444444444,
             "#bd3786"
            ],
            [
             0.5555555555555556,
             "#d8576b"
            ],
            [
             0.6666666666666666,
             "#ed7953"
            ],
            [
             0.7777777777777778,
             "#fb9f3a"
            ],
            [
             0.8888888888888888,
             "#fdca26"
            ],
            [
             1,
             "#f0f921"
            ]
           ]
          },
          "colorway": [
           "#636efa",
           "#EF553B",
           "#00cc96",
           "#ab63fa",
           "#FFA15A",
           "#19d3f3",
           "#FF6692",
           "#B6E880",
           "#FF97FF",
           "#FECB52"
          ],
          "font": {
           "color": "#2a3f5f"
          },
          "geo": {
           "bgcolor": "white",
           "lakecolor": "white",
           "landcolor": "#E5ECF6",
           "showlakes": true,
           "showland": true,
           "subunitcolor": "white"
          },
          "hoverlabel": {
           "align": "left"
          },
          "hovermode": "closest",
          "mapbox": {
           "style": "light"
          },
          "paper_bgcolor": "white",
          "plot_bgcolor": "#E5ECF6",
          "polar": {
           "angularaxis": {
            "gridcolor": "white",
            "linecolor": "white",
            "ticks": ""
           },
           "bgcolor": "#E5ECF6",
           "radialaxis": {
            "gridcolor": "white",
            "linecolor": "white",
            "ticks": ""
           }
          },
          "scene": {
           "xaxis": {
            "backgroundcolor": "#E5ECF6",
            "gridcolor": "white",
            "gridwidth": 2,
            "linecolor": "white",
            "showbackground": true,
            "ticks": "",
            "zerolinecolor": "white"
           },
           "yaxis": {
            "backgroundcolor": "#E5ECF6",
            "gridcolor": "white",
            "gridwidth": 2,
            "linecolor": "white",
            "showbackground": true,
            "ticks": "",
            "zerolinecolor": "white"
           },
           "zaxis": {
            "backgroundcolor": "#E5ECF6",
            "gridcolor": "white",
            "gridwidth": 2,
            "linecolor": "white",
            "showbackground": true,
            "ticks": "",
            "zerolinecolor": "white"
           }
          },
          "shapedefaults": {
           "line": {
            "color": "#2a3f5f"
           }
          },
          "ternary": {
           "aaxis": {
            "gridcolor": "white",
            "linecolor": "white",
            "ticks": ""
           },
           "baxis": {
            "gridcolor": "white",
            "linecolor": "white",
            "ticks": ""
           },
           "bgcolor": "#E5ECF6",
           "caxis": {
            "gridcolor": "white",
            "linecolor": "white",
            "ticks": ""
           }
          },
          "title": {
           "x": 0.05
          },
          "xaxis": {
           "automargin": true,
           "gridcolor": "white",
           "linecolor": "white",
           "ticks": "",
           "title": {
            "standoff": 15
           },
           "zerolinecolor": "white",
           "zerolinewidth": 2
          },
          "yaxis": {
           "automargin": true,
           "gridcolor": "white",
           "linecolor": "white",
           "ticks": "",
           "title": {
            "standoff": 15
           },
           "zerolinecolor": "white",
           "zerolinewidth": 2
          }
         }
        },
        "title": {
         "text": "<b>Mean Monthly Rents by DC Neighbourhood</b>",
         "x": 0.099,
         "xref": "container",
         "y": 0.9,
         "yref": "container"
        },
        "updatemenus": [
         {
          "active": 1,
          "buttons": [
           {
            "args": [
             {
              "visible": [
               true,
               false,
               false,
               false,
               false,
               false,
               false,
               false,
               false,
               false,
               false,
               false,
               false,
               false,
               false,
               false,
               false,
               false,
               false,
               false,
               false,
               false,
               false
              ]
             },
             {
              "title": "Columbia Heights"
             }
            ],
            "label": "Columbia Heights",
            "method": "restyle"
           },
           {
            "args": [
             {
              "visible": [
               false,
               true,
               false,
               false,
               false,
               false,
               false,
               false,
               false,
               false,
               false,
               false,
               false,
               false,
               false,
               false,
               false,
               false,
               false,
               false,
               false,
               false,
               false
              ]
             },
             {
              "title": "Adams Morgan"
             }
            ],
            "label": "Adams Morgan",
            "method": "restyle"
           },
           {
            "args": [
             {
              "visible": [
               false,
               false,
               true,
               false,
               false,
               false,
               false,
               false,
               false,
               false,
               false,
               false,
               false,
               false,
               false,
               false,
               false,
               false,
               false,
               false,
               false,
               false,
               false
              ]
             },
             {
              "title": "Logan Circle"
             }
            ],
            "label": "Logan Circle",
            "method": "restyle"
           },
           {
            "args": [
             {
              "visible": [
               false,
               false,
               false,
               true,
               false,
               false,
               false,
               false,
               false,
               false,
               false,
               false,
               false,
               false,
               false,
               false,
               false,
               false,
               false,
               false,
               false,
               false,
               false
              ]
             },
             {
              "title": "Dupont Circle"
             }
            ],
            "label": "Dupont Circle",
            "method": "restyle"
           },
           {
            "args": [
             {
              "visible": [
               false,
               false,
               false,
               false,
               true,
               false,
               false,
               false,
               false,
               false,
               false,
               false,
               false,
               false,
               false,
               false,
               false,
               false,
               false,
               false,
               false,
               false,
               false
              ]
             },
             {
              "title": "Foggy Bottom"
             }
            ],
            "label": "Foggy Bottom",
            "method": "restyle"
           },
           {
            "args": [
             {
              "visible": [
               false,
               false,
               false,
               false,
               false,
               true,
               false,
               false,
               false,
               false,
               false,
               false,
               false,
               false,
               false,
               false,
               false,
               false,
               false,
               false,
               false,
               false,
               false
              ]
             },
             {
              "title": "Mount Pleasant"
             }
            ],
            "label": "Mount Pleasant",
            "method": "restyle"
           },
           {
            "args": [
             {
              "visible": [
               false,
               false,
               false,
               false,
               false,
               false,
               true,
               false,
               false,
               false,
               false,
               false,
               false,
               false,
               false,
               false,
               false,
               false,
               false,
               false,
               false,
               false,
               false
              ]
             },
             {
              "title": "Georgetown"
             }
            ],
            "label": "Georgetown",
            "method": "restyle"
           },
           {
            "args": [
             {
              "visible": [
               false,
               false,
               false,
               false,
               false,
               false,
               false,
               true,
               false,
               false,
               false,
               false,
               false,
               false,
               false,
               false,
               false,
               false,
               false,
               false,
               false,
               false,
               false
              ]
             },
             {
              "title": "Shaw"
             }
            ],
            "label": "Shaw",
            "method": "restyle"
           },
           {
            "args": [
             {
              "visible": [
               false,
               false,
               false,
               false,
               false,
               false,
               false,
               false,
               true,
               false,
               false,
               false,
               false,
               false,
               false,
               false,
               false,
               false,
               false,
               false,
               false,
               false,
               false
              ]
             },
             {
              "title": "American University Park"
             }
            ],
            "label": "American University Park",
            "method": "restyle"
           },
           {
            "args": [
             {
              "visible": [
               false,
               false,
               false,
               false,
               false,
               false,
               false,
               false,
               false,
               true,
               false,
               false,
               false,
               false,
               false,
               false,
               false,
               false,
               false,
               false,
               false,
               false,
               false
              ]
             },
             {
              "title": "Cleveland Park"
             }
            ],
            "label": "Cleveland Park",
            "method": "restyle"
           },
           {
            "args": [
             {
              "visible": [
               false,
               false,
               false,
               false,
               false,
               false,
               false,
               false,
               false,
               false,
               true,
               false,
               false,
               false,
               false,
               false,
               false,
               false,
               false,
               false,
               false,
               false,
               false
              ]
             },
             {
              "title": "Near Northeast"
             }
            ],
            "label": "Near Northeast",
            "method": "restyle"
           },
           {
            "args": [
             {
              "visible": [
               false,
               false,
               false,
               false,
               false,
               false,
               false,
               false,
               false,
               false,
               false,
               true,
               false,
               false,
               false,
               false,
               false,
               false,
               false,
               false,
               false,
               false,
               false
              ]
             },
             {
              "title": "Southwest Waterfront"
             }
            ],
            "label": "Southwest Waterfront",
            "method": "restyle"
           },
           {
            "args": [
             {
              "visible": [
               false,
               false,
               false,
               false,
               false,
               false,
               false,
               false,
               false,
               false,
               false,
               false,
               true,
               false,
               false,
               false,
               false,
               false,
               false,
               false,
               false,
               false,
               false
              ]
             },
             {
              "title": "Mount Vernon Square"
             }
            ],
            "label": "Mount Vernon Square",
            "method": "restyle"
           },
           {
            "args": [
             {
              "visible": [
               false,
               false,
               false,
               false,
               false,
               false,
               false,
               false,
               false,
               false,
               false,
               false,
               false,
               true,
               false,
               false,
               false,
               false,
               false,
               false,
               false,
               false,
               false
              ]
             },
             {
              "title": "Glover Park"
             }
            ],
            "label": "Glover Park",
            "method": "restyle"
           },
           {
            "args": [
             {
              "visible": [
               false,
               false,
               false,
               false,
               false,
               false,
               false,
               false,
               false,
               false,
               false,
               false,
               false,
               false,
               true,
               false,
               false,
               false,
               false,
               false,
               false,
               false,
               false
              ]
             },
             {
              "title": "Forest Hills"
             }
            ],
            "label": "Forest Hills",
            "method": "restyle"
           },
           {
            "args": [
             {
              "visible": [
               false,
               false,
               false,
               false,
               false,
               false,
               false,
               false,
               false,
               false,
               false,
               false,
               false,
               false,
               false,
               true,
               false,
               false,
               false,
               false,
               false,
               false,
               false
              ]
             },
             {
              "title": "Navy Yard"
             }
            ],
            "label": "Navy Yard",
            "method": "restyle"
           },
           {
            "args": [
             {
              "visible": [
               false,
               false,
               false,
               false,
               false,
               false,
               false,
               false,
               false,
               false,
               false,
               false,
               false,
               false,
               false,
               false,
               true,
               false,
               false,
               false,
               false,
               false,
               false
              ]
             },
             {
              "title": "Woodley Park"
             }
            ],
            "label": "Woodley Park",
            "method": "restyle"
           },
           {
            "args": [
             {
              "visible": [
               false,
               false,
               false,
               false,
               false,
               false,
               false,
               false,
               false,
               false,
               false,
               false,
               false,
               false,
               false,
               false,
               false,
               true,
               false,
               false,
               false,
               false,
               false
              ]
             },
             {
              "title": "Downtown"
             }
            ],
            "label": "Downtown",
            "method": "restyle"
           },
           {
            "args": [
             {
              "visible": [
               false,
               false,
               false,
               false,
               false,
               false,
               false,
               false,
               false,
               false,
               false,
               false,
               false,
               false,
               false,
               false,
               false,
               false,
               true,
               false,
               false,
               false,
               false
              ]
             },
             {
              "title": "U Street Corridor"
             }
            ],
            "label": "U Street Corridor",
            "method": "restyle"
           },
           {
            "args": [
             {
              "visible": [
               false,
               false,
               false,
               false,
               false,
               false,
               false,
               false,
               false,
               false,
               false,
               false,
               false,
               false,
               false,
               false,
               false,
               false,
               false,
               true,
               false,
               false,
               false
              ]
             },
             {
              "title": "NoMa"
             }
            ],
            "label": "NoMa",
            "method": "restyle"
           },
           {
            "args": [
             {
              "visible": [
               false,
               false,
               false,
               false,
               false,
               false,
               false,
               false,
               false,
               false,
               false,
               false,
               false,
               false,
               false,
               false,
               false,
               false,
               false,
               false,
               true,
               false,
               false
              ]
             },
             {
              "title": "West End"
             }
            ],
            "label": "West End",
            "method": "restyle"
           },
           {
            "args": [
             {
              "visible": [
               false,
               false,
               false,
               false,
               false,
               false,
               false,
               false,
               false,
               false,
               false,
               false,
               false,
               false,
               false,
               false,
               false,
               false,
               false,
               false,
               false,
               true,
               false
              ]
             },
             {
              "title": "Gallaudet"
             }
            ],
            "label": "Gallaudet",
            "method": "restyle"
           },
           {
            "args": [
             {
              "visible": [
               false,
               false,
               false,
               false,
               false,
               false,
               false,
               false,
               false,
               false,
               false,
               false,
               false,
               false,
               false,
               false,
               false,
               false,
               false,
               false,
               false,
               false,
               true
              ]
             },
             {
              "title": "Penn Quarter"
             }
            ],
            "label": "Penn Quarter",
            "method": "restyle"
           }
          ],
          "showactive": false,
          "x": 1,
          "y": 1.15,
          "yanchor": "top"
         }
        ],
        "width": 900,
        "xaxis": {
         "gridcolor": "#d3d3d3",
         "title": {
          "text": ""
         }
        },
        "yaxis": {
         "gridcolor": "#d3d3d3",
         "range": [
          1600,
          3000
         ],
         "title": {
          "text": "Year"
         },
         "type": "linear"
        }
       }
      },
      "text/html": [
       "<div>\n",
       "        \n",
       "        \n",
       "            <div id=\"5e891ab1-545e-471e-b244-42e52c3217a9\" class=\"plotly-graph-div\" style=\"height:500px; width:900px;\"></div>\n",
       "            <script type=\"text/javascript\">\n",
       "                require([\"plotly\"], function(Plotly) {\n",
       "                    window.PLOTLYENV=window.PLOTLYENV || {};\n",
       "                    \n",
       "                if (document.getElementById(\"5e891ab1-545e-471e-b244-42e52c3217a9\")) {\n",
       "                    Plotly.newPlot(\n",
       "                        '5e891ab1-545e-471e-b244-42e52c3217a9',\n",
       "                        [{\"hovertemplate\": \"Year:%{x} Rent:$%{y}\", \"legendgroup\": \"Columbia Heights\", \"marker\": {\"color\": \"#601A4A\"}, \"mode\": \"lines+markers\", \"name\": \"Columbia Heights\", \"showlegend\": true, \"text\": [\"Columbia Heights\", \"Columbia Heights\", \"Columbia Heights\", \"Columbia Heights\", \"Columbia Heights\", \"Columbia Heights\", \"Columbia Heights\", \"Columbia Heights\", \"Columbia Heights\", \"Columbia Heights\"], \"type\": \"scatter\", \"x\": [2010, 2011, 2012, 2013, 2014, 2015, 2016, 2017, 2018, 2019], \"y\": [null, null, 2135.0, 2491.0, 2024.0, 1925.0, 1934.0, 2375.0, 2100.0, 2384.0]}, {\"hovertemplate\": \"Year:%{x} Rent:$%{y}\", \"legendgroup\": \"Adams Morgan\", \"marker\": {\"color\": \"#601A4A\"}, \"mode\": \"lines+markers\", \"name\": \"Adams Morgan\", \"showlegend\": true, \"text\": [\"Adams Morgan\", \"Adams Morgan\", \"Adams Morgan\", \"Adams Morgan\", \"Adams Morgan\", \"Adams Morgan\", \"Adams Morgan\", \"Adams Morgan\", \"Adams Morgan\", \"Adams Morgan\"], \"type\": \"scatter\", \"x\": [2010, 2011, 2012, 2013, 2014, 2015, 2016, 2017, 2018, 2019], \"y\": [null, null, null, null, null, null, null, null, 2200.0, 2445.0]}, {\"hovertemplate\": \"Year:%{x} Rent:$%{y}\", \"legendgroup\": \"Logan Circle\", \"marker\": {\"color\": \"#601A4A\"}, \"mode\": \"lines+markers\", \"name\": \"Logan Circle\", \"showlegend\": true, \"text\": [\"Logan Circle\", \"Logan Circle\", \"Logan Circle\", \"Logan Circle\", \"Logan Circle\", \"Logan Circle\", \"Logan Circle\", \"Logan Circle\", \"Logan Circle\", \"Logan Circle\"], \"type\": \"scatter\", \"x\": [2010, 2011, 2012, 2013, 2014, 2015, 2016, 2017, 2018, 2019], \"y\": [null, null, 2345.0, 2600.0, 2665.0, 2494.0, 2698.0, 2637.5, 2512.0, 2469.0]}, {\"hovertemplate\": \"Year:%{x} Rent:$%{y}\", \"legendgroup\": \"Dupont Circle\", \"marker\": {\"color\": \"#601A4A\"}, \"mode\": \"lines+markers\", \"name\": \"Dupont Circle\", \"showlegend\": true, \"text\": [\"Dupont Circle\", \"Dupont Circle\", \"Dupont Circle\", \"Dupont Circle\", \"Dupont Circle\", \"Dupont Circle\", \"Dupont Circle\", \"Dupont Circle\", \"Dupont Circle\", \"Dupont Circle\"], \"type\": \"scatter\", \"x\": [2010, 2011, 2012, 2013, 2014, 2015, 2016, 2017, 2018, 2019], \"y\": [null, null, 2500.0, 2357.5, 2520.0, 2550.0, 2500.0, 2350.0, 2545.0, 2500.0]}, {\"hovertemplate\": \"Year:%{x} Rent:$%{y}\", \"legendgroup\": \"Foggy Bottom\", \"marker\": {\"color\": \"#601A4A\"}, \"mode\": \"lines+markers\", \"name\": \"Foggy Bottom\", \"showlegend\": true, \"text\": [\"Foggy Bottom\", \"Foggy Bottom\", \"Foggy Bottom\", \"Foggy Bottom\", \"Foggy Bottom\", \"Foggy Bottom\", \"Foggy Bottom\", \"Foggy Bottom\", \"Foggy Bottom\", \"Foggy Bottom\"], \"type\": \"scatter\", \"x\": [2010, 2011, 2012, 2013, 2014, 2015, 2016, 2017, 2018, 2019], \"y\": [null, null, null, null, null, null, null, 2067.5, 2015.0, 2259.5]}, {\"hovertemplate\": \"Year:%{x} Rent:$%{y}\", \"legendgroup\": \"Mount Pleasant\", \"marker\": {\"color\": \"#601A4A\"}, \"mode\": \"lines+markers\", \"name\": \"Mount Pleasant\", \"showlegend\": true, \"text\": [\"Mount Pleasant\", \"Mount Pleasant\", \"Mount Pleasant\", \"Mount Pleasant\", \"Mount Pleasant\", \"Mount Pleasant\", \"Mount Pleasant\", \"Mount Pleasant\", \"Mount Pleasant\", \"Mount Pleasant\"], \"type\": \"scatter\", \"x\": [2010, 2011, 2012, 2013, 2014, 2015, 2016, 2017, 2018, 2019], \"y\": [null, null, null, null, null, null, null, null, null, 1800.0]}, {\"hovertemplate\": \"Year:%{x} Rent:$%{y}\", \"legendgroup\": \"Georgetown\", \"marker\": {\"color\": \"#601A4A\"}, \"mode\": \"lines+markers\", \"name\": \"Georgetown\", \"showlegend\": true, \"text\": [\"Georgetown\", \"Georgetown\", \"Georgetown\", \"Georgetown\", \"Georgetown\", \"Georgetown\", \"Georgetown\", \"Georgetown\", \"Georgetown\", \"Georgetown\"], \"type\": \"scatter\", \"x\": [2010, 2011, 2012, 2013, 2014, 2015, 2016, 2017, 2018, 2019], \"y\": [null, null, null, null, null, null, null, 2253.0, 2351.0, 2297.0]}, {\"hovertemplate\": \"Year:%{x} Rent:$%{y}\", \"legendgroup\": \"Shaw\", \"marker\": {\"color\": \"#601A4A\"}, \"mode\": \"lines+markers\", \"name\": \"Shaw\", \"showlegend\": true, \"text\": [\"Shaw\", \"Shaw\", \"Shaw\", \"Shaw\", \"Shaw\", \"Shaw\", \"Shaw\", \"Shaw\", \"Shaw\", \"Shaw\"], \"type\": \"scatter\", \"x\": [2010, 2011, 2012, 2013, 2014, 2015, 2016, 2017, 2018, 2019], \"y\": [null, null, null, null, null, null, null, null, 2775.0, 2433.0]}, {\"hovertemplate\": \"Year:%{x} Rent:$%{y}\", \"legendgroup\": \"American University Park\", \"marker\": {\"color\": \"#601A4A\"}, \"mode\": \"lines+markers\", \"name\": \"American University Park\", \"showlegend\": true, \"text\": [\"American University Park\", \"American University Park\", \"American University Park\", \"American University Park\", \"American University Park\", \"American University Park\", \"American University Park\", \"American University Park\", \"American University Park\", \"American University Park\"], \"type\": \"scatter\", \"x\": [2010, 2011, 2012, 2013, 2014, 2015, 2016, 2017, 2018, 2019], \"y\": [null, null, null, null, null, null, null, null, null, 2030.0]}, {\"hovertemplate\": \"Year:%{x} Rent:$%{y}\", \"legendgroup\": \"Cleveland Park\", \"marker\": {\"color\": \"#601A4A\"}, \"mode\": \"lines+markers\", \"name\": \"Cleveland Park\", \"showlegend\": true, \"text\": [\"Cleveland Park\", \"Cleveland Park\", \"Cleveland Park\", \"Cleveland Park\", \"Cleveland Park\", \"Cleveland Park\", \"Cleveland Park\", \"Cleveland Park\", \"Cleveland Park\", \"Cleveland Park\"], \"type\": \"scatter\", \"x\": [2010, 2011, 2012, 2013, 2014, 2015, 2016, 2017, 2018, 2019], \"y\": [null, null, null, null, null, null, null, 2000.0, 2000.0, 2058.0]}, {\"hovertemplate\": \"Year:%{x} Rent:$%{y}\", \"legendgroup\": \"Near Northeast\", \"marker\": {\"color\": \"#601A4A\"}, \"mode\": \"lines+markers\", \"name\": \"Near Northeast\", \"showlegend\": true, \"text\": [\"Near Northeast\", \"Near Northeast\", \"Near Northeast\", \"Near Northeast\", \"Near Northeast\", \"Near Northeast\", \"Near Northeast\", \"Near Northeast\", \"Near Northeast\", \"Near Northeast\"], \"type\": \"scatter\", \"x\": [2010, 2011, 2012, 2013, 2014, 2015, 2016, 2017, 2018, 2019], \"y\": [null, null, null, null, null, null, null, 2145.0, 2370.5, 2715.0]}, {\"hovertemplate\": \"Year:%{x} Rent:$%{y}\", \"legendgroup\": \"Southwest Waterfront\", \"marker\": {\"color\": \"#601A4A\"}, \"mode\": \"lines+markers\", \"name\": \"Southwest Waterfront\", \"showlegend\": true, \"text\": [\"Southwest Waterfront\", \"Southwest Waterfront\", \"Southwest Waterfront\", \"Southwest Waterfront\", \"Southwest Waterfront\", \"Southwest Waterfront\", \"Southwest Waterfront\", \"Southwest Waterfront\", \"Southwest Waterfront\", \"Southwest Waterfront\"], \"type\": \"scatter\", \"x\": [2010, 2011, 2012, 2013, 2014, 2015, 2016, 2017, 2018, 2019], \"y\": [null, null, null, null, null, null, null, null, 2429.0, 2516.0]}, {\"hovertemplate\": \"Year:%{x} Rent:$%{y}\", \"legendgroup\": \"Mount Vernon Square\", \"marker\": {\"color\": \"#601A4A\"}, \"mode\": \"lines+markers\", \"name\": \"Mount Vernon Square\", \"showlegend\": true, \"text\": [\"Mount Vernon Square\", \"Mount Vernon Square\", \"Mount Vernon Square\", \"Mount Vernon Square\", \"Mount Vernon Square\", \"Mount Vernon Square\", \"Mount Vernon Square\", \"Mount Vernon Square\", \"Mount Vernon Square\", \"Mount Vernon Square\"], \"type\": \"scatter\", \"x\": [2010, 2011, 2012, 2013, 2014, 2015, 2016, 2017, 2018, 2019], \"y\": [null, null, 2325.0, 2305.0, 2307.5, 2325.0, 2405.0, 2295.0, 2301.5, 2495.0]}, {\"hovertemplate\": \"Year:%{x} Rent:$%{y}\", \"legendgroup\": \"Glover Park\", \"marker\": {\"color\": \"#601A4A\"}, \"mode\": \"lines+markers\", \"name\": \"Glover Park\", \"showlegend\": true, \"text\": [\"Glover Park\", \"Glover Park\", \"Glover Park\", \"Glover Park\", \"Glover Park\", \"Glover Park\", \"Glover Park\", \"Glover Park\", \"Glover Park\", \"Glover Park\"], \"type\": \"scatter\", \"x\": [2010, 2011, 2012, 2013, 2014, 2015, 2016, 2017, 2018, 2019], \"y\": [null, null, null, null, null, null, null, 1763.0, 1650.0, 1632.5]}, {\"hovertemplate\": \"Year:%{x} Rent:$%{y}\", \"legendgroup\": \"Forest Hills\", \"marker\": {\"color\": \"#601A4A\"}, \"mode\": \"lines+markers\", \"name\": \"Forest Hills\", \"showlegend\": true, \"text\": [\"Forest Hills\", \"Forest Hills\", \"Forest Hills\", \"Forest Hills\", \"Forest Hills\", \"Forest Hills\", \"Forest Hills\", \"Forest Hills\", \"Forest Hills\", \"Forest Hills\"], \"type\": \"scatter\", \"x\": [2010, 2011, 2012, 2013, 2014, 2015, 2016, 2017, 2018, 2019], \"y\": [null, null, null, 1928.0, 1894.0, 1895.0, 1925.0, 1974.0, 1882.5, 1941.5]}, {\"hovertemplate\": \"Year:%{x} Rent:$%{y}\", \"legendgroup\": \"Navy Yard\", \"marker\": {\"color\": \"#601A4A\"}, \"mode\": \"lines+markers\", \"name\": \"Navy Yard\", \"showlegend\": true, \"text\": [\"Navy Yard\", \"Navy Yard\", \"Navy Yard\", \"Navy Yard\", \"Navy Yard\", \"Navy Yard\", \"Navy Yard\", \"Navy Yard\", \"Navy Yard\", \"Navy Yard\"], \"type\": \"scatter\", \"x\": [2010, 2011, 2012, 2013, 2014, 2015, 2016, 2017, 2018, 2019], \"y\": [null, null, null, null, null, 2162.0, 2198.0, 2255.0, 2287.5, 2477.0]}, {\"hovertemplate\": \"Year:%{x} Rent:$%{y}\", \"legendgroup\": \"Woodley Park\", \"marker\": {\"color\": \"#601A4A\"}, \"mode\": \"lines+markers\", \"name\": \"Woodley Park\", \"showlegend\": true, \"text\": [\"Woodley Park\", \"Woodley Park\", \"Woodley Park\", \"Woodley Park\", \"Woodley Park\", \"Woodley Park\", \"Woodley Park\", \"Woodley Park\", \"Woodley Park\", \"Woodley Park\"], \"type\": \"scatter\", \"x\": [2010, 2011, 2012, 2013, 2014, 2015, 2016, 2017, 2018, 2019], \"y\": [null, null, null, null, 2072.5, 2080.0, 2095.0, 2150.0, 2100.0, 2000.0]}, {\"hovertemplate\": \"Year:%{x} Rent:$%{y}\", \"legendgroup\": \"Downtown\", \"marker\": {\"color\": \"#601A4A\"}, \"mode\": \"lines+markers\", \"name\": \"Downtown\", \"showlegend\": true, \"text\": [\"Downtown\", \"Downtown\", \"Downtown\", \"Downtown\", \"Downtown\", \"Downtown\", \"Downtown\", \"Downtown\", \"Downtown\", \"Downtown\"], \"type\": \"scatter\", \"x\": [2010, 2011, 2012, 2013, 2014, 2015, 2016, 2017, 2018, 2019], \"y\": [null, null, null, null, null, null, null, null, 2476.0, 2550.0]}, {\"hovertemplate\": \"Year:%{x} Rent:$%{y}\", \"legendgroup\": \"U Street Corridor\", \"marker\": {\"color\": \"#601A4A\"}, \"mode\": \"lines+markers\", \"name\": \"U Street Corridor\", \"showlegend\": true, \"text\": [\"U Street Corridor\", \"U Street Corridor\", \"U Street Corridor\", \"U Street Corridor\", \"U Street Corridor\", \"U Street Corridor\", \"U Street Corridor\", \"U Street Corridor\", \"U Street Corridor\", \"U Street Corridor\"], \"type\": \"scatter\", \"x\": [2010, 2011, 2012, 2013, 2014, 2015, 2016, 2017, 2018, 2019], \"y\": [null, null, null, null, null, null, null, null, 2649.0, 2877.0]}, {\"hovertemplate\": \"Year:%{x} Rent:$%{y}\", \"legendgroup\": \"NoMa\", \"marker\": {\"color\": \"#601A4A\"}, \"mode\": \"lines+markers\", \"name\": \"NoMa\", \"showlegend\": true, \"text\": [\"NoMa\", \"NoMa\", \"NoMa\", \"NoMa\", \"NoMa\", \"NoMa\", \"NoMa\", \"NoMa\", \"NoMa\", \"NoMa\"], \"type\": \"scatter\", \"x\": [2010, 2011, 2012, 2013, 2014, 2015, 2016, 2017, 2018, 2019], \"y\": [null, null, null, null, null, null, null, 2180.0, 2136.0, 2235.0]}, {\"hovertemplate\": \"Year:%{x} Rent:$%{y}\", \"legendgroup\": \"West End\", \"marker\": {\"color\": \"#601A4A\"}, \"mode\": \"lines+markers\", \"name\": \"West End\", \"showlegend\": true, \"text\": [\"West End\", \"West End\", \"West End\", \"West End\", \"West End\", \"West End\", \"West End\", \"West End\", \"West End\", \"West End\"], \"type\": \"scatter\", \"x\": [2010, 2011, 2012, 2013, 2014, 2015, 2016, 2017, 2018, 2019], \"y\": [null, null, null, null, null, null, null, 2946.5, 2925.0, 2911.0]}, {\"hovertemplate\": \"Year:%{x} Rent:$%{y}\", \"legendgroup\": \"Gallaudet\", \"marker\": {\"color\": \"#601A4A\"}, \"mode\": \"lines+markers\", \"name\": \"Gallaudet\", \"showlegend\": true, \"text\": [\"Gallaudet\", \"Gallaudet\", \"Gallaudet\", \"Gallaudet\", \"Gallaudet\", \"Gallaudet\", \"Gallaudet\", \"Gallaudet\", \"Gallaudet\", \"Gallaudet\"], \"type\": \"scatter\", \"x\": [2010, 2011, 2012, 2013, 2014, 2015, 2016, 2017, 2018, 2019], \"y\": [null, null, null, null, null, null, null, null, 1963.5, 2187.5]}, {\"hovertemplate\": \"Year:%{x} Rent:$%{y}\", \"legendgroup\": \"Penn Quarter\", \"marker\": {\"color\": \"#601A4A\"}, \"mode\": \"lines+markers\", \"name\": \"Penn Quarter\", \"showlegend\": true, \"text\": [\"Penn Quarter\", \"Penn Quarter\", \"Penn Quarter\", \"Penn Quarter\", \"Penn Quarter\", \"Penn Quarter\", \"Penn Quarter\", \"Penn Quarter\", \"Penn Quarter\", \"Penn Quarter\"], \"type\": \"scatter\", \"x\": [2010, 2011, 2012, 2013, 2014, 2015, 2016, 2017, 2018, 2019], \"y\": [null, null, null, null, null, null, null, null, 2475.0, 2400.0]}],\n",
       "                        {\"height\": 500, \"plot_bgcolor\": \"#FDFEFE\", \"showlegend\": false, \"template\": {\"data\": {\"bar\": [{\"error_x\": {\"color\": \"#2a3f5f\"}, \"error_y\": {\"color\": \"#2a3f5f\"}, \"marker\": {\"line\": {\"color\": \"#E5ECF6\", \"width\": 0.5}}, \"type\": \"bar\"}], \"barpolar\": [{\"marker\": {\"line\": {\"color\": \"#E5ECF6\", \"width\": 0.5}}, \"type\": \"barpolar\"}], \"carpet\": [{\"aaxis\": {\"endlinecolor\": \"#2a3f5f\", \"gridcolor\": \"white\", \"linecolor\": \"white\", \"minorgridcolor\": \"white\", \"startlinecolor\": \"#2a3f5f\"}, \"baxis\": {\"endlinecolor\": \"#2a3f5f\", \"gridcolor\": \"white\", \"linecolor\": \"white\", \"minorgridcolor\": \"white\", \"startlinecolor\": \"#2a3f5f\"}, \"type\": \"carpet\"}], \"choropleth\": [{\"colorbar\": {\"outlinewidth\": 0, \"ticks\": \"\"}, \"type\": \"choropleth\"}], \"contour\": [{\"colorbar\": {\"outlinewidth\": 0, \"ticks\": \"\"}, \"colorscale\": [[0.0, \"#0d0887\"], [0.1111111111111111, \"#46039f\"], [0.2222222222222222, \"#7201a8\"], [0.3333333333333333, \"#9c179e\"], [0.4444444444444444, \"#bd3786\"], [0.5555555555555556, \"#d8576b\"], [0.6666666666666666, \"#ed7953\"], [0.7777777777777778, \"#fb9f3a\"], [0.8888888888888888, \"#fdca26\"], [1.0, \"#f0f921\"]], \"type\": \"contour\"}], \"contourcarpet\": [{\"colorbar\": {\"outlinewidth\": 0, \"ticks\": \"\"}, \"type\": \"contourcarpet\"}], \"heatmap\": [{\"colorbar\": {\"outlinewidth\": 0, \"ticks\": \"\"}, \"colorscale\": [[0.0, \"#0d0887\"], [0.1111111111111111, \"#46039f\"], [0.2222222222222222, \"#7201a8\"], [0.3333333333333333, \"#9c179e\"], [0.4444444444444444, \"#bd3786\"], [0.5555555555555556, \"#d8576b\"], [0.6666666666666666, \"#ed7953\"], [0.7777777777777778, \"#fb9f3a\"], [0.8888888888888888, \"#fdca26\"], [1.0, \"#f0f921\"]], \"type\": \"heatmap\"}], \"heatmapgl\": [{\"colorbar\": {\"outlinewidth\": 0, \"ticks\": \"\"}, \"colorscale\": [[0.0, \"#0d0887\"], [0.1111111111111111, \"#46039f\"], [0.2222222222222222, \"#7201a8\"], [0.3333333333333333, \"#9c179e\"], [0.4444444444444444, \"#bd3786\"], [0.5555555555555556, \"#d8576b\"], [0.6666666666666666, \"#ed7953\"], [0.7777777777777778, \"#fb9f3a\"], [0.8888888888888888, \"#fdca26\"], [1.0, \"#f0f921\"]], \"type\": \"heatmapgl\"}], \"histogram\": [{\"marker\": {\"colorbar\": {\"outlinewidth\": 0, \"ticks\": \"\"}}, \"type\": \"histogram\"}], \"histogram2d\": [{\"colorbar\": {\"outlinewidth\": 0, \"ticks\": \"\"}, \"colorscale\": [[0.0, \"#0d0887\"], [0.1111111111111111, \"#46039f\"], [0.2222222222222222, \"#7201a8\"], [0.3333333333333333, \"#9c179e\"], [0.4444444444444444, \"#bd3786\"], [0.5555555555555556, \"#d8576b\"], [0.6666666666666666, \"#ed7953\"], [0.7777777777777778, \"#fb9f3a\"], [0.8888888888888888, \"#fdca26\"], [1.0, \"#f0f921\"]], \"type\": \"histogram2d\"}], \"histogram2dcontour\": [{\"colorbar\": {\"outlinewidth\": 0, \"ticks\": \"\"}, \"colorscale\": [[0.0, \"#0d0887\"], [0.1111111111111111, \"#46039f\"], [0.2222222222222222, \"#7201a8\"], [0.3333333333333333, \"#9c179e\"], [0.4444444444444444, \"#bd3786\"], [0.5555555555555556, \"#d8576b\"], [0.6666666666666666, \"#ed7953\"], [0.7777777777777778, \"#fb9f3a\"], [0.8888888888888888, \"#fdca26\"], [1.0, \"#f0f921\"]], \"type\": \"histogram2dcontour\"}], \"mesh3d\": [{\"colorbar\": {\"outlinewidth\": 0, \"ticks\": \"\"}, \"type\": \"mesh3d\"}], \"parcoords\": [{\"line\": {\"colorbar\": {\"outlinewidth\": 0, \"ticks\": \"\"}}, \"type\": \"parcoords\"}], \"pie\": [{\"automargin\": true, \"type\": \"pie\"}], \"scatter\": [{\"marker\": {\"colorbar\": {\"outlinewidth\": 0, \"ticks\": \"\"}}, \"type\": \"scatter\"}], \"scatter3d\": [{\"line\": {\"colorbar\": {\"outlinewidth\": 0, \"ticks\": \"\"}}, \"marker\": {\"colorbar\": {\"outlinewidth\": 0, \"ticks\": \"\"}}, \"type\": \"scatter3d\"}], \"scattercarpet\": [{\"marker\": {\"colorbar\": {\"outlinewidth\": 0, \"ticks\": \"\"}}, \"type\": \"scattercarpet\"}], \"scattergeo\": [{\"marker\": {\"colorbar\": {\"outlinewidth\": 0, \"ticks\": \"\"}}, \"type\": \"scattergeo\"}], \"scattergl\": [{\"marker\": {\"colorbar\": {\"outlinewidth\": 0, \"ticks\": \"\"}}, \"type\": \"scattergl\"}], \"scattermapbox\": [{\"marker\": {\"colorbar\": {\"outlinewidth\": 0, \"ticks\": \"\"}}, \"type\": \"scattermapbox\"}], \"scatterpolar\": [{\"marker\": {\"colorbar\": {\"outlinewidth\": 0, \"ticks\": \"\"}}, \"type\": \"scatterpolar\"}], \"scatterpolargl\": [{\"marker\": {\"colorbar\": {\"outlinewidth\": 0, \"ticks\": \"\"}}, \"type\": \"scatterpolargl\"}], \"scatterternary\": [{\"marker\": {\"colorbar\": {\"outlinewidth\": 0, \"ticks\": \"\"}}, \"type\": \"scatterternary\"}], \"surface\": [{\"colorbar\": {\"outlinewidth\": 0, \"ticks\": \"\"}, \"colorscale\": [[0.0, \"#0d0887\"], [0.1111111111111111, \"#46039f\"], [0.2222222222222222, \"#7201a8\"], [0.3333333333333333, \"#9c179e\"], [0.4444444444444444, \"#bd3786\"], [0.5555555555555556, \"#d8576b\"], [0.6666666666666666, \"#ed7953\"], [0.7777777777777778, \"#fb9f3a\"], [0.8888888888888888, \"#fdca26\"], [1.0, \"#f0f921\"]], \"type\": \"surface\"}], \"table\": [{\"cells\": {\"fill\": {\"color\": \"#EBF0F8\"}, \"line\": {\"color\": \"white\"}}, \"header\": {\"fill\": {\"color\": \"#C8D4E3\"}, \"line\": {\"color\": \"white\"}}, \"type\": \"table\"}]}, \"layout\": {\"annotationdefaults\": {\"arrowcolor\": \"#2a3f5f\", \"arrowhead\": 0, \"arrowwidth\": 1}, \"coloraxis\": {\"colorbar\": {\"outlinewidth\": 0, \"ticks\": \"\"}}, \"colorscale\": {\"diverging\": [[0, \"#8e0152\"], [0.1, \"#c51b7d\"], [0.2, \"#de77ae\"], [0.3, \"#f1b6da\"], [0.4, \"#fde0ef\"], [0.5, \"#f7f7f7\"], [0.6, \"#e6f5d0\"], [0.7, \"#b8e186\"], [0.8, \"#7fbc41\"], [0.9, \"#4d9221\"], [1, \"#276419\"]], \"sequential\": [[0.0, \"#0d0887\"], [0.1111111111111111, \"#46039f\"], [0.2222222222222222, \"#7201a8\"], [0.3333333333333333, \"#9c179e\"], [0.4444444444444444, \"#bd3786\"], [0.5555555555555556, \"#d8576b\"], [0.6666666666666666, \"#ed7953\"], [0.7777777777777778, \"#fb9f3a\"], [0.8888888888888888, \"#fdca26\"], [1.0, \"#f0f921\"]], \"sequentialminus\": [[0.0, \"#0d0887\"], [0.1111111111111111, \"#46039f\"], [0.2222222222222222, \"#7201a8\"], [0.3333333333333333, \"#9c179e\"], [0.4444444444444444, \"#bd3786\"], [0.5555555555555556, \"#d8576b\"], [0.6666666666666666, \"#ed7953\"], [0.7777777777777778, \"#fb9f3a\"], [0.8888888888888888, \"#fdca26\"], [1.0, \"#f0f921\"]]}, \"colorway\": [\"#636efa\", \"#EF553B\", \"#00cc96\", \"#ab63fa\", \"#FFA15A\", \"#19d3f3\", \"#FF6692\", \"#B6E880\", \"#FF97FF\", \"#FECB52\"], \"font\": {\"color\": \"#2a3f5f\"}, \"geo\": {\"bgcolor\": \"white\", \"lakecolor\": \"white\", \"landcolor\": \"#E5ECF6\", \"showlakes\": true, \"showland\": true, \"subunitcolor\": \"white\"}, \"hoverlabel\": {\"align\": \"left\"}, \"hovermode\": \"closest\", \"mapbox\": {\"style\": \"light\"}, \"paper_bgcolor\": \"white\", \"plot_bgcolor\": \"#E5ECF6\", \"polar\": {\"angularaxis\": {\"gridcolor\": \"white\", \"linecolor\": \"white\", \"ticks\": \"\"}, \"bgcolor\": \"#E5ECF6\", \"radialaxis\": {\"gridcolor\": \"white\", \"linecolor\": \"white\", \"ticks\": \"\"}}, \"scene\": {\"xaxis\": {\"backgroundcolor\": \"#E5ECF6\", \"gridcolor\": \"white\", \"gridwidth\": 2, \"linecolor\": \"white\", \"showbackground\": true, \"ticks\": \"\", \"zerolinecolor\": \"white\"}, \"yaxis\": {\"backgroundcolor\": \"#E5ECF6\", \"gridcolor\": \"white\", \"gridwidth\": 2, \"linecolor\": \"white\", \"showbackground\": true, \"ticks\": \"\", \"zerolinecolor\": \"white\"}, \"zaxis\": {\"backgroundcolor\": \"#E5ECF6\", \"gridcolor\": \"white\", \"gridwidth\": 2, \"linecolor\": \"white\", \"showbackground\": true, \"ticks\": \"\", \"zerolinecolor\": \"white\"}}, \"shapedefaults\": {\"line\": {\"color\": \"#2a3f5f\"}}, \"ternary\": {\"aaxis\": {\"gridcolor\": \"white\", \"linecolor\": \"white\", \"ticks\": \"\"}, \"baxis\": {\"gridcolor\": \"white\", \"linecolor\": \"white\", \"ticks\": \"\"}, \"bgcolor\": \"#E5ECF6\", \"caxis\": {\"gridcolor\": \"white\", \"linecolor\": \"white\", \"ticks\": \"\"}}, \"title\": {\"x\": 0.05}, \"xaxis\": {\"automargin\": true, \"gridcolor\": \"white\", \"linecolor\": \"white\", \"ticks\": \"\", \"title\": {\"standoff\": 15}, \"zerolinecolor\": \"white\", \"zerolinewidth\": 2}, \"yaxis\": {\"automargin\": true, \"gridcolor\": \"white\", \"linecolor\": \"white\", \"ticks\": \"\", \"title\": {\"standoff\": 15}, \"zerolinecolor\": \"white\", \"zerolinewidth\": 2}}}, \"title\": {\"text\": \"<b>Mean Monthly Rents by DC Neighbourhood</b>\", \"x\": 0.099, \"xref\": \"container\", \"y\": 0.9, \"yref\": \"container\"}, \"updatemenus\": [{\"active\": 1, \"buttons\": [{\"args\": [{\"visible\": [true, false, false, false, false, false, false, false, false, false, false, false, false, false, false, false, false, false, false, false, false, false, false]}, {\"title\": \"Columbia Heights\"}], \"label\": \"Columbia Heights\", \"method\": \"restyle\"}, {\"args\": [{\"visible\": [false, true, false, false, false, false, false, false, false, false, false, false, false, false, false, false, false, false, false, false, false, false, false]}, {\"title\": \"Adams Morgan\"}], \"label\": \"Adams Morgan\", \"method\": \"restyle\"}, {\"args\": [{\"visible\": [false, false, true, false, false, false, false, false, false, false, false, false, false, false, false, false, false, false, false, false, false, false, false]}, {\"title\": \"Logan Circle\"}], \"label\": \"Logan Circle\", \"method\": \"restyle\"}, {\"args\": [{\"visible\": [false, false, false, true, false, false, false, false, false, false, false, false, false, false, false, false, false, false, false, false, false, false, false]}, {\"title\": \"Dupont Circle\"}], \"label\": \"Dupont Circle\", \"method\": \"restyle\"}, {\"args\": [{\"visible\": [false, false, false, false, true, false, false, false, false, false, false, false, false, false, false, false, false, false, false, false, false, false, false]}, {\"title\": \"Foggy Bottom\"}], \"label\": \"Foggy Bottom\", \"method\": \"restyle\"}, {\"args\": [{\"visible\": [false, false, false, false, false, true, false, false, false, false, false, false, false, false, false, false, false, false, false, false, false, false, false]}, {\"title\": \"Mount Pleasant\"}], \"label\": \"Mount Pleasant\", \"method\": \"restyle\"}, {\"args\": [{\"visible\": [false, false, false, false, false, false, true, false, false, false, false, false, false, false, false, false, false, false, false, false, false, false, false]}, {\"title\": \"Georgetown\"}], \"label\": \"Georgetown\", \"method\": \"restyle\"}, {\"args\": [{\"visible\": [false, false, false, false, false, false, false, true, false, false, false, false, false, false, false, false, false, false, false, false, false, false, false]}, {\"title\": \"Shaw\"}], \"label\": \"Shaw\", \"method\": \"restyle\"}, {\"args\": [{\"visible\": [false, false, false, false, false, false, false, false, true, false, false, false, false, false, false, false, false, false, false, false, false, false, false]}, {\"title\": \"American University Park\"}], \"label\": \"American University Park\", \"method\": \"restyle\"}, {\"args\": [{\"visible\": [false, false, false, false, false, false, false, false, false, true, false, false, false, false, false, false, false, false, false, false, false, false, false]}, {\"title\": \"Cleveland Park\"}], \"label\": \"Cleveland Park\", \"method\": \"restyle\"}, {\"args\": [{\"visible\": [false, false, false, false, false, false, false, false, false, false, true, false, false, false, false, false, false, false, false, false, false, false, false]}, {\"title\": \"Near Northeast\"}], \"label\": \"Near Northeast\", \"method\": \"restyle\"}, {\"args\": [{\"visible\": [false, false, false, false, false, false, false, false, false, false, false, true, false, false, false, false, false, false, false, false, false, false, false]}, {\"title\": \"Southwest Waterfront\"}], \"label\": \"Southwest Waterfront\", \"method\": \"restyle\"}, {\"args\": [{\"visible\": [false, false, false, false, false, false, false, false, false, false, false, false, true, false, false, false, false, false, false, false, false, false, false]}, {\"title\": \"Mount Vernon Square\"}], \"label\": \"Mount Vernon Square\", \"method\": \"restyle\"}, {\"args\": [{\"visible\": [false, false, false, false, false, false, false, false, false, false, false, false, false, true, false, false, false, false, false, false, false, false, false]}, {\"title\": \"Glover Park\"}], \"label\": \"Glover Park\", \"method\": \"restyle\"}, {\"args\": [{\"visible\": [false, false, false, false, false, false, false, false, false, false, false, false, false, false, true, false, false, false, false, false, false, false, false]}, {\"title\": \"Forest Hills\"}], \"label\": \"Forest Hills\", \"method\": \"restyle\"}, {\"args\": [{\"visible\": [false, false, false, false, false, false, false, false, false, false, false, false, false, false, false, true, false, false, false, false, false, false, false]}, {\"title\": \"Navy Yard\"}], \"label\": \"Navy Yard\", \"method\": \"restyle\"}, {\"args\": [{\"visible\": [false, false, false, false, false, false, false, false, false, false, false, false, false, false, false, false, true, false, false, false, false, false, false]}, {\"title\": \"Woodley Park\"}], \"label\": \"Woodley Park\", \"method\": \"restyle\"}, {\"args\": [{\"visible\": [false, false, false, false, false, false, false, false, false, false, false, false, false, false, false, false, false, true, false, false, false, false, false]}, {\"title\": \"Downtown\"}], \"label\": \"Downtown\", \"method\": \"restyle\"}, {\"args\": [{\"visible\": [false, false, false, false, false, false, false, false, false, false, false, false, false, false, false, false, false, false, true, false, false, false, false]}, {\"title\": \"U Street Corridor\"}], \"label\": \"U Street Corridor\", \"method\": \"restyle\"}, {\"args\": [{\"visible\": [false, false, false, false, false, false, false, false, false, false, false, false, false, false, false, false, false, false, false, true, false, false, false]}, {\"title\": \"NoMa\"}], \"label\": \"NoMa\", \"method\": \"restyle\"}, {\"args\": [{\"visible\": [false, false, false, false, false, false, false, false, false, false, false, false, false, false, false, false, false, false, false, false, true, false, false]}, {\"title\": \"West End\"}], \"label\": \"West End\", \"method\": \"restyle\"}, {\"args\": [{\"visible\": [false, false, false, false, false, false, false, false, false, false, false, false, false, false, false, false, false, false, false, false, false, true, false]}, {\"title\": \"Gallaudet\"}], \"label\": \"Gallaudet\", \"method\": \"restyle\"}, {\"args\": [{\"visible\": [false, false, false, false, false, false, false, false, false, false, false, false, false, false, false, false, false, false, false, false, false, false, true]}, {\"title\": \"Penn Quarter\"}], \"label\": \"Penn Quarter\", \"method\": \"restyle\"}], \"showactive\": false, \"x\": 1, \"y\": 1.15, \"yanchor\": \"top\"}], \"width\": 900, \"xaxis\": {\"gridcolor\": \"#d3d3d3\", \"title\": {\"text\": \"\"}}, \"yaxis\": {\"gridcolor\": \"#d3d3d3\", \"range\": [1600, 3000], \"title\": {\"text\": \"Year\"}, \"type\": \"linear\"}},\n",
       "                        {\"responsive\": true}\n",
       "                    ).then(function(){\n",
       "                            \n",
       "var gd = document.getElementById('5e891ab1-545e-471e-b244-42e52c3217a9');\n",
       "var x = new MutationObserver(function (mutations, observer) {{\n",
       "        var display = window.getComputedStyle(gd).display;\n",
       "        if (!display || display === 'none') {{\n",
       "            console.log([gd, 'removed!']);\n",
       "            Plotly.purge(gd);\n",
       "            observer.disconnect();\n",
       "        }}\n",
       "}});\n",
       "\n",
       "// Listen for the removal of the full notebook cells\n",
       "var notebookContainer = gd.closest('#notebook-container');\n",
       "if (notebookContainer) {{\n",
       "    x.observe(notebookContainer, {childList: true});\n",
       "}}\n",
       "\n",
       "// Listen for the clearing of the current output cell\n",
       "var outputEl = gd.closest('.output');\n",
       "if (outputEl) {{\n",
       "    x.observe(outputEl, {childList: true});\n",
       "}}\n",
       "\n",
       "                        })\n",
       "                };\n",
       "                });\n",
       "            </script>\n",
       "        </div>"
      ]
     },
     "metadata": {},
     "output_type": "display_data"
    }
   ],
   "source": [
    "fig = go.Figure()\n",
    "\n",
    "for i,d in enumerate(nbd_rent):\n",
    "    \n",
    "    fig.add_trace(go.Scatter( x=d[\"year\"], \n",
    "                                y=d[\"mean_rent\"], \n",
    "                                mode = \"lines+markers\",\n",
    "                                marker_color=\"#601A4A\",\n",
    "                                text=d['RegionName'],\n",
    "                                showlegend= True, \n",
    "                                legendgroup = labels[i], \n",
    "                             name = labels[i], \n",
    "                             hovertemplate = \"Year:%{x} Rent:$%{y}\"\n",
    "                            )\n",
    "                  \n",
    "                                )\n",
    "\n",
    "### Create buttons for drop down menu\n",
    "buttons = []\n",
    "for i, label in enumerate(labels):\n",
    "    visibility = [i==j for j in range(len(labels))]\n",
    "    button = dict(\n",
    "                 label =  label,\n",
    "                 method = 'restyle',\n",
    "                 args = [{'visible': visibility},\n",
    "                     {'title': label}])\n",
    "    buttons.append(button)\n",
    "\n",
    "updatemenus = list([\n",
    "    dict(x = 1,\n",
    "        y = 1.15,\n",
    "        #xref = 'paper',\n",
    "        #yref = 'paper',\n",
    "        yanchor = 'top',\n",
    "        active = 1,\n",
    "        showactive = False,\n",
    "        buttons = buttons\n",
    "    )\n",
    "])\n",
    "\n",
    "\n",
    "\n",
    "fig['layout']['xaxis']['title'] = ''\n",
    "\n",
    "\n",
    "#fig['layout']['xaxis']['type'] = 'date'\n",
    "fig['layout']['xaxis']['gridcolor'] = '#d3d3d3'\n",
    "fig['layout']['yaxis']['title'] = 'Rent($)'\n",
    "fig['layout']['yaxis']['title'] = 'Year'\n",
    "fig['layout']['yaxis']['type'] = 'linear'\n",
    "fig['layout']['yaxis']['range'] = [1600,3000]\n",
    "fig['layout']['yaxis']['gridcolor'] = '#d3d3d3'\n",
    "fig['layout'][\"plot_bgcolor\"]= \"#FDFEFE\" \n",
    "fig['layout'][\"width\"]= 900\n",
    "fig['layout'][\"height\"] = 500\n",
    "fig['layout']['showlegend'] = False\n",
    "\n",
    "fig['layout']['updatemenus'] = updatemenus\n",
    "fig['layout']['title'] = '<b>Mean Monthly Rents by DC Neighbourhood</b>'\n",
    "fig['layout']['title']['x'] = 0.099\n",
    "fig['layout']['title']['y'] = 0.9\n",
    "fig['layout']['title']['xref'] = 'container'\n",
    "fig['layout']['title']['yref'] = 'container'\n",
    "\n",
    "\n",
    "\n",
    "plotly.offline.plot(fig, \"listings.html\")\n",
    "fig.show()    "
   ]
  },
  {
   "cell_type": "code",
   "execution_count": null,
   "metadata": {},
   "outputs": [],
   "source": []
  }
 ],
 "metadata": {
  "kernelspec": {
   "display_name": "Python 3",
   "language": "python",
   "name": "python3"
  },
  "language_info": {
   "codemirror_mode": {
    "name": "ipython",
    "version": 3
   },
   "file_extension": ".py",
   "mimetype": "text/x-python",
   "name": "python",
   "nbconvert_exporter": "python",
   "pygments_lexer": "ipython3",
   "version": "3.6.5"
  },
  "toc": {
   "base_numbering": 1,
   "nav_menu": {},
   "number_sections": true,
   "sideBar": true,
   "skip_h1_title": false,
   "title_cell": "Table of Contents",
   "title_sidebar": "Contents",
   "toc_cell": false,
   "toc_position": {},
   "toc_section_display": true,
   "toc_window_display": false
  },
  "varInspector": {
   "cols": {
    "lenName": 16,
    "lenType": 16,
    "lenVar": 40
   },
   "kernels_config": {
    "python": {
     "delete_cmd_postfix": "",
     "delete_cmd_prefix": "del ",
     "library": "var_list.py",
     "varRefreshCmd": "print(var_dic_list())"
    },
    "r": {
     "delete_cmd_postfix": ") ",
     "delete_cmd_prefix": "rm(",
     "library": "var_list.r",
     "varRefreshCmd": "cat(var_dic_list()) "
    }
   },
   "types_to_exclude": [
    "module",
    "function",
    "builtin_function_or_method",
    "instance",
    "_Feature"
   ],
   "window_display": false
  }
 },
 "nbformat": 4,
 "nbformat_minor": 2
}
