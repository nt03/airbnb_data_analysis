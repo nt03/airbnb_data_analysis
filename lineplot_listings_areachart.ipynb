{
 "cells": [
  {
   "cell_type": "code",
   "execution_count": 1,
   "metadata": {},
   "outputs": [],
   "source": [
    "import plotly.graph_objects as go\n",
    "import plotly.express as px\n",
    "\n",
    "import pandas as pd"
   ]
  },
  {
   "cell_type": "code",
   "execution_count": 2,
   "metadata": {},
   "outputs": [],
   "source": [
    "l = pd.read_csv(r\"../data/airbnb/listings.csv.gz\", compression='gzip', low_memory = False)"
   ]
  },
  {
   "cell_type": "code",
   "execution_count": 7,
   "metadata": {},
   "outputs": [
    {
     "data": {
      "text/plain": [
       "host_location\n",
       "AU                                                          1\n",
       "Mexico City, Federal District, Mexico                       1\n",
       "Middletown, Maryland, United States                         1\n",
       "Mifflintown, Pennsylvania, United States                    1\n",
       "Milford, Connecticut, United States                         1\n",
       "Minnesota, United States                                    1\n",
       "Montclair, Virginia, United States                          1\n",
       "Montpellier, Occitanie, France                              1\n",
       "Montreal, Québec, Canada                                    1\n",
       "Morrisville, Pennsylvania, United States                    1\n",
       "Moscow, Moscow, Russian Federation                          1\n",
       "Mountain View, California, United States                    1\n",
       "Mumbai, Maharashtra, India                                  1\n",
       "Muscatine, Iowa, United States                              1\n",
       "My family and I reside on the top two floors.               1\n",
       "Mysuru, Karnataka, India                                    1\n",
       "Naples, Campania, Italy                                     1\n",
       "Nashville, Tennessee, United States                         1\n",
       "New Delhi, Delhi, India                                     1\n",
       "New Jersey, United States                                   1\n",
       "Niceville, Florida, United States                           1\n",
       "Norcross, Georgia, United States                            1\n",
       "North Bethesda, Maryland, United States                     1\n",
       "Northbrook, Illinois, United States                         1\n",
       "Northville, Michigan, United States                         1\n",
       "Ntcheu, Central Region, Malawi                              1\n",
       "Okinawa Prefecture, Japan                                   1\n",
       "Oviedo, Principality of Asturias, Spain                     1\n",
       "Owings Mills, Maryland, United States                       1\n",
       "Oxford, Mississippi, United States                          1\n",
       "                                                         ... \n",
       "Hyattsville, Maryland, United States                        7\n",
       "Woodbridge, Virginia, United States                         8\n",
       "Bowie, Maryland, United States                              8\n",
       "Phoenix, Arizona, United States                             8\n",
       "Charlottesville, Virginia, United States                    8\n",
       "Atlanta, Georgia, United States                             8\n",
       "Maryland, United States                                     9\n",
       "Boston, Massachusetts, United States                        9\n",
       "Chevy Chase, Maryland, United States                        9\n",
       "Rockville, Maryland, United States                         11\n",
       "Memphis, Tennessee, United States                          13\n",
       "Philadelphia, Pennsylvania, United States                  15\n",
       "Baltimore, Maryland, United States                         15\n",
       "Fairfax, Virginia, United States                           16\n",
       "Sterling, Virginia, United States                          18\n",
       "San Diego, California, United States                       19\n",
       "Bethesda, Maryland, United States                          20\n",
       "Silver Spring, Maryland, United States                     27\n",
       "Alexandria, Virginia, United States                        29\n",
       "Los Angeles, California, United States                     32\n",
       "Washington, D.C., District of Columbia, United States      36\n",
       "Hawthorne, New Jersey, United States                       38\n",
       "Arlington, Virginia, United States                         51\n",
       "United States                                              78\n",
       "Washington D.C., District of Columbia, United States      110\n",
       "Spokane, Washington, United States                        118\n",
       "San Francisco, California, United States                  154\n",
       "New York, New York, United States                         164\n",
       "US                                                        671\n",
       "Washington, District of Columbia, United States          6831\n",
       "Length: 346, dtype: int64"
      ]
     },
     "execution_count": 7,
     "metadata": {},
     "output_type": "execute_result"
    }
   ],
   "source": [
    "l.groupby(\"host_location\").size().sort_values()"
   ]
  },
  {
   "cell_type": "code",
   "execution_count": 4,
   "metadata": {},
   "outputs": [
    {
     "name": "stdout",
     "output_type": "stream",
     "text": [
      "id\n",
      "listing_url\n",
      "scrape_id\n",
      "last_scraped\n",
      "name\n",
      "summary\n",
      "space\n",
      "description\n",
      "experiences_offered\n",
      "neighborhood_overview\n",
      "notes\n",
      "transit\n",
      "access\n",
      "interaction\n",
      "house_rules\n",
      "thumbnail_url\n",
      "medium_url\n",
      "picture_url\n",
      "xl_picture_url\n",
      "host_id\n",
      "host_url\n",
      "host_name\n",
      "host_since\n",
      "host_location\n",
      "host_about\n",
      "host_response_time\n",
      "host_response_rate\n",
      "host_acceptance_rate\n",
      "host_is_superhost\n",
      "host_thumbnail_url\n",
      "host_picture_url\n",
      "host_neighbourhood\n",
      "host_listings_count\n",
      "host_total_listings_count\n",
      "host_verifications\n",
      "host_has_profile_pic\n",
      "host_identity_verified\n",
      "street\n",
      "neighbourhood\n",
      "neighbourhood_cleansed\n",
      "neighbourhood_group_cleansed\n",
      "city\n",
      "state\n",
      "zipcode\n",
      "market\n",
      "smart_location\n",
      "country_code\n",
      "country\n",
      "latitude\n",
      "longitude\n",
      "is_location_exact\n",
      "property_type\n",
      "room_type\n",
      "accommodates\n",
      "bathrooms\n",
      "bedrooms\n",
      "beds\n",
      "bed_type\n",
      "amenities\n",
      "square_feet\n",
      "price\n",
      "weekly_price\n",
      "monthly_price\n",
      "security_deposit\n",
      "cleaning_fee\n",
      "guests_included\n",
      "extra_people\n",
      "minimum_nights\n",
      "maximum_nights\n",
      "minimum_minimum_nights\n",
      "maximum_minimum_nights\n",
      "minimum_maximum_nights\n",
      "maximum_maximum_nights\n",
      "minimum_nights_avg_ntm\n",
      "maximum_nights_avg_ntm\n",
      "calendar_updated\n",
      "has_availability\n",
      "availability_30\n",
      "availability_60\n",
      "availability_90\n",
      "availability_365\n",
      "calendar_last_scraped\n",
      "number_of_reviews\n",
      "number_of_reviews_ltm\n",
      "first_review\n",
      "last_review\n",
      "review_scores_rating\n",
      "review_scores_accuracy\n",
      "review_scores_cleanliness\n",
      "review_scores_checkin\n",
      "review_scores_communication\n",
      "review_scores_location\n",
      "review_scores_value\n",
      "requires_license\n",
      "license\n",
      "jurisdiction_names\n",
      "instant_bookable\n",
      "is_business_travel_ready\n",
      "cancellation_policy\n",
      "require_guest_profile_picture\n",
      "require_guest_phone_verification\n",
      "calculated_host_listings_count\n",
      "calculated_host_listings_count_entire_homes\n",
      "calculated_host_listings_count_private_rooms\n",
      "calculated_host_listings_count_shared_rooms\n",
      "reviews_per_month\n"
     ]
    }
   ],
   "source": [
    "for col in l.columns:\n",
    "    print(col)\n",
    "    "
   ]
  },
  {
   "cell_type": "code",
   "execution_count": 3,
   "metadata": {},
   "outputs": [],
   "source": [
    "#subset the relevant variables\n",
    "\n",
    "listings = l[['id', 'neighbourhood','state', 'host_id',  'host_since', 'first_review' , 'host_neighbourhood', 'property_type', 'room_type', 'host_listings_count', 'monthly_price']].copy()"
   ]
  },
  {
   "cell_type": "code",
   "execution_count": 4,
   "metadata": {},
   "outputs": [
    {
     "data": {
      "text/plain": [
       "(9126, 11)"
      ]
     },
     "execution_count": 4,
     "metadata": {},
     "output_type": "execute_result"
    }
   ],
   "source": [
    "listings.shape"
   ]
  },
  {
   "cell_type": "code",
   "execution_count": 5,
   "metadata": {},
   "outputs": [],
   "source": [
    "#remove any listings for VA or MD\n",
    "\n",
    "listings = listings[(listings['state'] == 'DC')]"
   ]
  },
  {
   "cell_type": "code",
   "execution_count": 12,
   "metadata": {},
   "outputs": [
    {
     "data": {
      "text/html": [
       "<div>\n",
       "<style scoped>\n",
       "    .dataframe tbody tr th:only-of-type {\n",
       "        vertical-align: middle;\n",
       "    }\n",
       "\n",
       "    .dataframe tbody tr th {\n",
       "        vertical-align: top;\n",
       "    }\n",
       "\n",
       "    .dataframe thead th {\n",
       "        text-align: right;\n",
       "    }\n",
       "</style>\n",
       "<table border=\"1\" class=\"dataframe\">\n",
       "  <thead>\n",
       "    <tr style=\"text-align: right;\">\n",
       "      <th></th>\n",
       "      <th>id</th>\n",
       "      <th>neighbourhood</th>\n",
       "      <th>state</th>\n",
       "      <th>host_id</th>\n",
       "      <th>host_since</th>\n",
       "      <th>first_review</th>\n",
       "      <th>host_neighbourhood</th>\n",
       "      <th>property_type</th>\n",
       "      <th>room_type</th>\n",
       "      <th>host_listings_count</th>\n",
       "      <th>monthly_price</th>\n",
       "    </tr>\n",
       "  </thead>\n",
       "  <tbody>\n",
       "    <tr>\n",
       "      <th>0</th>\n",
       "      <td>3344</td>\n",
       "      <td>Downtown/Penn Quarter</td>\n",
       "      <td>DC</td>\n",
       "      <td>4957</td>\n",
       "      <td>2008-12-10</td>\n",
       "      <td>2009-05-09</td>\n",
       "      <td>Downtown/Penn Quarter</td>\n",
       "      <td>Condominium</td>\n",
       "      <td>Private room</td>\n",
       "      <td>2.0</td>\n",
       "      <td>$1,495.00</td>\n",
       "    </tr>\n",
       "    <tr>\n",
       "      <th>1</th>\n",
       "      <td>3362</td>\n",
       "      <td>Shaw</td>\n",
       "      <td>DC</td>\n",
       "      <td>2798</td>\n",
       "      <td>2008-09-07</td>\n",
       "      <td>2009-01-21</td>\n",
       "      <td>Shaw</td>\n",
       "      <td>Townhouse</td>\n",
       "      <td>Entire home/apt</td>\n",
       "      <td>5.0</td>\n",
       "      <td>NaN</td>\n",
       "    </tr>\n",
       "    <tr>\n",
       "      <th>2</th>\n",
       "      <td>3662</td>\n",
       "      <td>Buena Vista</td>\n",
       "      <td>DC</td>\n",
       "      <td>4645</td>\n",
       "      <td>2008-11-26</td>\n",
       "      <td>2011-04-13</td>\n",
       "      <td>Anacostia</td>\n",
       "      <td>House</td>\n",
       "      <td>Private room</td>\n",
       "      <td>3.0</td>\n",
       "      <td>$1,175.00</td>\n",
       "    </tr>\n",
       "    <tr>\n",
       "      <th>3</th>\n",
       "      <td>3670</td>\n",
       "      <td>U Street Corridor</td>\n",
       "      <td>DC</td>\n",
       "      <td>4630</td>\n",
       "      <td>2008-11-25</td>\n",
       "      <td>2015-03-18</td>\n",
       "      <td>NaN</td>\n",
       "      <td>Townhouse</td>\n",
       "      <td>Private room</td>\n",
       "      <td>1.0</td>\n",
       "      <td>NaN</td>\n",
       "    </tr>\n",
       "    <tr>\n",
       "      <th>4</th>\n",
       "      <td>3686</td>\n",
       "      <td>Anacostia</td>\n",
       "      <td>DC</td>\n",
       "      <td>4645</td>\n",
       "      <td>2008-11-26</td>\n",
       "      <td>2010-11-01</td>\n",
       "      <td>Anacostia</td>\n",
       "      <td>House</td>\n",
       "      <td>Private room</td>\n",
       "      <td>3.0</td>\n",
       "      <td>$975.00</td>\n",
       "    </tr>\n",
       "  </tbody>\n",
       "</table>\n",
       "</div>"
      ],
      "text/plain": [
       "     id          neighbourhood state  host_id  host_since first_review  \\\n",
       "0  3344  Downtown/Penn Quarter    DC     4957  2008-12-10   2009-05-09   \n",
       "1  3362                   Shaw    DC     2798  2008-09-07   2009-01-21   \n",
       "2  3662            Buena Vista    DC     4645  2008-11-26   2011-04-13   \n",
       "3  3670      U Street Corridor    DC     4630  2008-11-25   2015-03-18   \n",
       "4  3686              Anacostia    DC     4645  2008-11-26   2010-11-01   \n",
       "\n",
       "      host_neighbourhood property_type        room_type  host_listings_count  \\\n",
       "0  Downtown/Penn Quarter   Condominium     Private room                  2.0   \n",
       "1                   Shaw     Townhouse  Entire home/apt                  5.0   \n",
       "2              Anacostia         House     Private room                  3.0   \n",
       "3                    NaN     Townhouse     Private room                  1.0   \n",
       "4              Anacostia         House     Private room                  3.0   \n",
       "\n",
       "  monthly_price  \n",
       "0     $1,495.00  \n",
       "1           NaN  \n",
       "2     $1,175.00  \n",
       "3           NaN  \n",
       "4       $975.00  "
      ]
     },
     "execution_count": 12,
     "metadata": {},
     "output_type": "execute_result"
    }
   ],
   "source": [
    "listings.head()"
   ]
  },
  {
   "cell_type": "code",
   "execution_count": 13,
   "metadata": {},
   "outputs": [
    {
     "data": {
      "text/plain": [
       "id                        0\n",
       "neighbourhood             0\n",
       "state                     0\n",
       "host_id                   0\n",
       "host_since                4\n",
       "first_review           1807\n",
       "host_neighbourhood      926\n",
       "property_type             0\n",
       "room_type                 0\n",
       "host_listings_count       4\n",
       "monthly_price          8171\n",
       "dtype: int64"
      ]
     },
     "execution_count": 13,
     "metadata": {},
     "output_type": "execute_result"
    }
   ],
   "source": [
    "#check for nulls\n",
    "\n",
    "listings.isnull().sum()"
   ]
  },
  {
   "cell_type": "code",
   "execution_count": 6,
   "metadata": {},
   "outputs": [],
   "source": [
    "#change dtype of host_since and first_review to datetime and create year columns\n",
    "\n",
    "listings['first_review'] = pd.to_datetime(listings['first_review'], errors='coerce')\n",
    "listings['firstreview_year'] = listings['first_review'].dt.strftime('%Y')\n",
    "\n",
    "\n",
    "listings['host_since'] = pd.to_datetime(listings['host_since'], errors='coerce')\n",
    "listings['hostsince_year'] = listings['host_since'].dt.strftime('%Y')"
   ]
  },
  {
   "cell_type": "code",
   "execution_count": 15,
   "metadata": {},
   "outputs": [],
   "source": [
    "listings.to_csv(\"../data/airbnb/listings_subset.csv\", index = False)"
   ]
  },
  {
   "cell_type": "code",
   "execution_count": 94,
   "metadata": {},
   "outputs": [],
   "source": [
    "ll = listings[['neighbourhood', 'firstreview_year', 'hostsince_year']]"
   ]
  },
  {
   "cell_type": "code",
   "execution_count": 97,
   "metadata": {},
   "outputs": [],
   "source": [
    "ll = ll.groupby(['neighbourhood', 'firstreview_year']).firstreview_year.agg('count').to_frame('listcount').reset_index()"
   ]
  },
  {
   "cell_type": "code",
   "execution_count": 98,
   "metadata": {},
   "outputs": [],
   "source": [
    "ll['listings_cumulative'] = ll.groupby(['neighbourhood'])['listcount'].apply(lambda x: x.cumsum())"
   ]
  },
  {
   "cell_type": "code",
   "execution_count": 99,
   "metadata": {},
   "outputs": [
    {
     "data": {
      "text/plain": [
       "(4890, 11)"
      ]
     },
     "execution_count": 99,
     "metadata": {},
     "output_type": "execute_result"
    }
   ],
   "source": [
    "#drop duplicate hosts from hosts df\n",
    "\n",
    "hostdata = listings.drop_duplicates(\"host_id\")\n",
    "hostdata.shape"
   ]
  },
  {
   "cell_type": "code",
   "execution_count": 100,
   "metadata": {},
   "outputs": [],
   "source": [
    "hh = hostdata.groupby(['neighbourhood', 'firstreview_year']).firstreview_year.agg('count').to_frame('hostcount').reset_index()"
   ]
  },
  {
   "cell_type": "code",
   "execution_count": 101,
   "metadata": {},
   "outputs": [],
   "source": [
    "hh['hosts_cumulative'] = hh.groupby(['neighbourhood'])['hostcount'].apply(lambda x: x.cumsum())"
   ]
  },
  {
   "cell_type": "code",
   "execution_count": 102,
   "metadata": {},
   "outputs": [
    {
     "data": {
      "text/html": [
       "<div>\n",
       "<style scoped>\n",
       "    .dataframe tbody tr th:only-of-type {\n",
       "        vertical-align: middle;\n",
       "    }\n",
       "\n",
       "    .dataframe tbody tr th {\n",
       "        vertical-align: top;\n",
       "    }\n",
       "\n",
       "    .dataframe thead th {\n",
       "        text-align: right;\n",
       "    }\n",
       "</style>\n",
       "<table border=\"1\" class=\"dataframe\">\n",
       "  <thead>\n",
       "    <tr style=\"text-align: right;\">\n",
       "      <th></th>\n",
       "      <th>neighbourhood</th>\n",
       "      <th>firstreview_year</th>\n",
       "      <th>listcount</th>\n",
       "      <th>listings_cumulative</th>\n",
       "    </tr>\n",
       "  </thead>\n",
       "  <tbody>\n",
       "    <tr>\n",
       "      <th>0</th>\n",
       "      <td>16th Street Heights</td>\n",
       "      <td>2009</td>\n",
       "      <td>1</td>\n",
       "      <td>1</td>\n",
       "    </tr>\n",
       "    <tr>\n",
       "      <th>1</th>\n",
       "      <td>16th Street Heights</td>\n",
       "      <td>2013</td>\n",
       "      <td>3</td>\n",
       "      <td>4</td>\n",
       "    </tr>\n",
       "    <tr>\n",
       "      <th>2</th>\n",
       "      <td>16th Street Heights</td>\n",
       "      <td>2014</td>\n",
       "      <td>8</td>\n",
       "      <td>12</td>\n",
       "    </tr>\n",
       "    <tr>\n",
       "      <th>3</th>\n",
       "      <td>16th Street Heights</td>\n",
       "      <td>2015</td>\n",
       "      <td>13</td>\n",
       "      <td>25</td>\n",
       "    </tr>\n",
       "    <tr>\n",
       "      <th>4</th>\n",
       "      <td>16th Street Heights</td>\n",
       "      <td>2016</td>\n",
       "      <td>24</td>\n",
       "      <td>49</td>\n",
       "    </tr>\n",
       "  </tbody>\n",
       "</table>\n",
       "</div>"
      ],
      "text/plain": [
       "         neighbourhood firstreview_year  listcount  listings_cumulative\n",
       "0  16th Street Heights             2009          1                    1\n",
       "1  16th Street Heights             2013          3                    4\n",
       "2  16th Street Heights             2014          8                   12\n",
       "3  16th Street Heights             2015         13                   25\n",
       "4  16th Street Heights             2016         24                   49"
      ]
     },
     "execution_count": 102,
     "metadata": {},
     "output_type": "execute_result"
    }
   ],
   "source": [
    "ll.head()"
   ]
  },
  {
   "cell_type": "code",
   "execution_count": 103,
   "metadata": {},
   "outputs": [
    {
     "data": {
      "text/plain": [
       "(604, 4)"
      ]
     },
     "execution_count": 103,
     "metadata": {},
     "output_type": "execute_result"
    }
   ],
   "source": [
    "ll.shape"
   ]
  },
  {
   "cell_type": "code",
   "execution_count": 104,
   "metadata": {},
   "outputs": [
    {
     "data": {
      "text/html": [
       "<div>\n",
       "<style scoped>\n",
       "    .dataframe tbody tr th:only-of-type {\n",
       "        vertical-align: middle;\n",
       "    }\n",
       "\n",
       "    .dataframe tbody tr th {\n",
       "        vertical-align: top;\n",
       "    }\n",
       "\n",
       "    .dataframe thead th {\n",
       "        text-align: right;\n",
       "    }\n",
       "</style>\n",
       "<table border=\"1\" class=\"dataframe\">\n",
       "  <thead>\n",
       "    <tr style=\"text-align: right;\">\n",
       "      <th></th>\n",
       "      <th>neighbourhood</th>\n",
       "      <th>firstreview_year</th>\n",
       "      <th>hostcount</th>\n",
       "      <th>hosts_cumulative</th>\n",
       "    </tr>\n",
       "  </thead>\n",
       "  <tbody>\n",
       "    <tr>\n",
       "      <th>0</th>\n",
       "      <td>16th Street Heights</td>\n",
       "      <td>2009</td>\n",
       "      <td>1</td>\n",
       "      <td>1</td>\n",
       "    </tr>\n",
       "    <tr>\n",
       "      <th>1</th>\n",
       "      <td>16th Street Heights</td>\n",
       "      <td>2013</td>\n",
       "      <td>3</td>\n",
       "      <td>4</td>\n",
       "    </tr>\n",
       "    <tr>\n",
       "      <th>2</th>\n",
       "      <td>16th Street Heights</td>\n",
       "      <td>2014</td>\n",
       "      <td>8</td>\n",
       "      <td>12</td>\n",
       "    </tr>\n",
       "    <tr>\n",
       "      <th>3</th>\n",
       "      <td>16th Street Heights</td>\n",
       "      <td>2015</td>\n",
       "      <td>12</td>\n",
       "      <td>24</td>\n",
       "    </tr>\n",
       "    <tr>\n",
       "      <th>4</th>\n",
       "      <td>16th Street Heights</td>\n",
       "      <td>2016</td>\n",
       "      <td>24</td>\n",
       "      <td>48</td>\n",
       "    </tr>\n",
       "  </tbody>\n",
       "</table>\n",
       "</div>"
      ],
      "text/plain": [
       "         neighbourhood firstreview_year  hostcount  hosts_cumulative\n",
       "0  16th Street Heights             2009          1                 1\n",
       "1  16th Street Heights             2013          3                 4\n",
       "2  16th Street Heights             2014          8                12\n",
       "3  16th Street Heights             2015         12                24\n",
       "4  16th Street Heights             2016         24                48"
      ]
     },
     "execution_count": 104,
     "metadata": {},
     "output_type": "execute_result"
    }
   ],
   "source": [
    "hh.head()"
   ]
  },
  {
   "cell_type": "code",
   "execution_count": 46,
   "metadata": {},
   "outputs": [],
   "source": [
    "data_list = []\n",
    "\n",
    "for l in labels:\n",
    "    df = ll[ll['neighbourhood']==l]\n",
    "    data_list.append(df)\n",
    "    "
   ]
  },
  {
   "cell_type": "code",
   "execution_count": 67,
   "metadata": {},
   "outputs": [],
   "source": [
    "data_host = []\n",
    "\n",
    "for l in labels:\n",
    "    df = hh[hh['neighbourhood']==l]\n",
    "    data_host.append(df)"
   ]
  },
  {
   "cell_type": "code",
   "execution_count": 83,
   "metadata": {},
   "outputs": [
    {
     "data": {
      "text/plain": [
       "'16th Street Heights'"
      ]
     },
     "execution_count": 83,
     "metadata": {},
     "output_type": "execute_result"
    }
   ],
   "source": [
    "data_host[0].neighbourhood.unique()[0]"
   ]
  },
  {
   "cell_type": "code",
   "execution_count": 24,
   "metadata": {},
   "outputs": [],
   "source": [
    "import plotly\n",
    "import plotly.express as px"
   ]
  },
  {
   "cell_type": "code",
   "execution_count": 49,
   "metadata": {},
   "outputs": [],
   "source": [
    "labels = hh.neighbourhood.unique().tolist()"
   ]
  },
  {
   "cell_type": "code",
   "execution_count": 50,
   "metadata": {},
   "outputs": [
    {
     "data": {
      "text/plain": [
       "110"
      ]
     },
     "execution_count": 50,
     "metadata": {},
     "output_type": "execute_result"
    }
   ],
   "source": [
    "len(labels)"
   ]
  },
  {
   "cell_type": "code",
   "execution_count": null,
   "metadata": {},
   "outputs": [],
   "source": []
  },
  {
   "cell_type": "code",
   "execution_count": 104,
   "metadata": {},
   "outputs": [
    {
     "data": {
      "application/vnd.plotly.v1+json": {
       "config": {
        "plotlyServerURL": "https://plot.ly"
       },
       "data": [
        {
         "legendgroup": "16th Street Heights",
         "marker": {
          "color": "blue"
         },
         "mode": "lines+markers",
         "name": "listings",
         "showlegend": true,
         "text": [
          "16th Street Heights",
          "16th Street Heights",
          "16th Street Heights",
          "16th Street Heights",
          "16th Street Heights",
          "16th Street Heights",
          "16th Street Heights",
          "16th Street Heights",
          "16th Street Heights",
          "16th Street Heights",
          "16th Street Heights"
         ],
         "type": "scatter",
         "x": [
          "2008",
          "2009",
          "2011",
          "2012",
          "2013",
          "2014",
          "2015",
          "2016",
          "2017",
          "2018",
          "2019"
         ],
         "y": [
          1,
          2,
          4,
          6,
          11,
          20,
          39,
          69,
          105,
          149,
          175
         ]
        },
        {
         "legendgroup": "Adams Morgan",
         "marker": {
          "color": "blue"
         },
         "mode": "lines+markers",
         "name": "listings",
         "showlegend": true,
         "text": [
          "Adams Morgan",
          "Adams Morgan",
          "Adams Morgan",
          "Adams Morgan",
          "Adams Morgan",
          "Adams Morgan",
          "Adams Morgan",
          "Adams Morgan",
          "Adams Morgan",
          "Adams Morgan"
         ],
         "type": "scatter",
         "x": [
          "2009",
          "2011",
          "2012",
          "2013",
          "2014",
          "2015",
          "2016",
          "2017",
          "2018",
          "2019"
         ],
         "y": [
          2,
          6,
          14,
          24,
          45,
          100,
          166,
          218,
          263,
          288
         ]
        },
        {
         "legendgroup": "American University Park",
         "marker": {
          "color": "blue"
         },
         "mode": "lines+markers",
         "name": "listings",
         "showlegend": true,
         "text": [
          "American University Park",
          "American University Park",
          "American University Park",
          "American University Park",
          "American University Park",
          "American University Park",
          "American University Park",
          "American University Park"
         ],
         "type": "scatter",
         "x": [
          "2009",
          "2013",
          "2014",
          "2015",
          "2016",
          "2017",
          "2018",
          "2019"
         ],
         "y": [
          2,
          6,
          7,
          12,
          19,
          34,
          38,
          47
         ]
        },
        {
         "legendgroup": "Anacostia",
         "marker": {
          "color": "blue"
         },
         "mode": "lines+markers",
         "name": "listings",
         "showlegend": true,
         "text": [
          "Anacostia",
          "Anacostia",
          "Anacostia",
          "Anacostia",
          "Anacostia",
          "Anacostia",
          "Anacostia",
          "Anacostia",
          "Anacostia",
          "Anacostia"
         ],
         "type": "scatter",
         "x": [
          "2010",
          "2011",
          "2012",
          "2013",
          "2014",
          "2015",
          "2016",
          "2017",
          "2018",
          "2019"
         ],
         "y": [
          1,
          2,
          3,
          4,
          5,
          9,
          16,
          34,
          44,
          55
         ]
        },
        {
         "legendgroup": "Arboretum",
         "marker": {
          "color": "blue"
         },
         "mode": "lines+markers",
         "name": "listings",
         "showlegend": true,
         "text": [
          "Arboretum",
          "Arboretum"
         ],
         "type": "scatter",
         "x": [
          "2016",
          "2017"
         ],
         "y": [
          1,
          3
         ]
        },
        {
         "legendgroup": "Barney Circle",
         "marker": {
          "color": "blue"
         },
         "mode": "lines+markers",
         "name": "listings",
         "showlegend": true,
         "text": [
          "Barney Circle",
          "Barney Circle",
          "Barney Circle",
          "Barney Circle",
          "Barney Circle",
          "Barney Circle",
          "Barney Circle",
          "Barney Circle"
         ],
         "type": "scatter",
         "x": [
          "2012",
          "2013",
          "2014",
          "2015",
          "2016",
          "2017",
          "2018",
          "2019"
         ],
         "y": [
          7,
          10,
          16,
          33,
          58,
          85,
          117,
          125
         ]
        },
        {
         "legendgroup": "Barry Farm",
         "marker": {
          "color": "blue"
         },
         "mode": "lines+markers",
         "name": "listings",
         "showlegend": true,
         "text": [
          "Barry Farm",
          "Barry Farm",
          "Barry Farm",
          "Barry Farm"
         ],
         "type": "scatter",
         "x": [
          "2012",
          "2016",
          "2018",
          "2019"
         ],
         "y": [
          1,
          2,
          6,
          12
         ]
        },
        {
         "legendgroup": "Bellevue",
         "marker": {
          "color": "blue"
         },
         "mode": "lines+markers",
         "name": "listings",
         "showlegend": true,
         "text": [
          "Bellevue",
          "Bellevue",
          "Bellevue",
          "Bellevue",
          "Bellevue",
          "Bellevue"
         ],
         "type": "scatter",
         "x": [
          "2014",
          "2015",
          "2016",
          "2017",
          "2018",
          "2019"
         ],
         "y": [
          1,
          2,
          3,
          6,
          14,
          20
         ]
        },
        {
         "legendgroup": "Benning",
         "marker": {
          "color": "blue"
         },
         "mode": "lines+markers",
         "name": "listings",
         "showlegend": true,
         "text": [
          "Benning",
          "Benning",
          "Benning",
          "Benning",
          "Benning",
          "Benning",
          "Benning"
         ],
         "type": "scatter",
         "x": [
          "2012",
          "2013",
          "2015",
          "2016",
          "2017",
          "2018",
          "2019"
         ],
         "y": [
          1,
          2,
          4,
          6,
          10,
          15,
          21
         ]
        },
        {
         "legendgroup": "Benning Heights",
         "marker": {
          "color": "blue"
         },
         "mode": "lines+markers",
         "name": "listings",
         "showlegend": true,
         "text": [
          "Benning Heights",
          "Benning Heights",
          "Benning Heights"
         ],
         "type": "scatter",
         "x": [
          "2012",
          "2016",
          "2018"
         ],
         "y": [
          1,
          4,
          5
         ]
        },
        {
         "legendgroup": "Benning Ridge",
         "marker": {
          "color": "blue"
         },
         "mode": "lines+markers",
         "name": "listings",
         "showlegend": true,
         "text": [
          "Benning Ridge",
          "Benning Ridge",
          "Benning Ridge",
          "Benning Ridge"
         ],
         "type": "scatter",
         "x": [
          "2016",
          "2017",
          "2018",
          "2019"
         ],
         "y": [
          2,
          7,
          14,
          21
         ]
        },
        {
         "legendgroup": "Berkley",
         "marker": {
          "color": "blue"
         },
         "mode": "lines+markers",
         "name": "listings",
         "showlegend": true,
         "text": [
          "Berkley",
          "Berkley",
          "Berkley",
          "Berkley",
          "Berkley"
         ],
         "type": "scatter",
         "x": [
          "2014",
          "2015",
          "2016",
          "2018",
          "2019"
         ],
         "y": [
          2,
          3,
          4,
          5,
          6
         ]
        },
        {
         "legendgroup": "Bloomingdale",
         "marker": {
          "color": "blue"
         },
         "mode": "lines+markers",
         "name": "listings",
         "showlegend": true,
         "text": [
          "Bloomingdale",
          "Bloomingdale",
          "Bloomingdale",
          "Bloomingdale",
          "Bloomingdale",
          "Bloomingdale",
          "Bloomingdale",
          "Bloomingdale"
         ],
         "type": "scatter",
         "x": [
          "2012",
          "2013",
          "2014",
          "2015",
          "2016",
          "2017",
          "2018",
          "2019"
         ],
         "y": [
          3,
          12,
          27,
          52,
          102,
          159,
          217,
          243
         ]
        },
        {
         "legendgroup": "Brentwood",
         "marker": {
          "color": "blue"
         },
         "mode": "lines+markers",
         "name": "listings",
         "showlegend": true,
         "text": [
          "Brentwood",
          "Brentwood",
          "Brentwood",
          "Brentwood",
          "Brentwood",
          "Brentwood",
          "Brentwood"
         ],
         "type": "scatter",
         "x": [
          "2013",
          "2014",
          "2015",
          "2016",
          "2017",
          "2018",
          "2019"
         ],
         "y": [
          2,
          5,
          9,
          18,
          28,
          34,
          38
         ]
        },
        {
         "legendgroup": "Brightwood",
         "marker": {
          "color": "blue"
         },
         "mode": "lines+markers",
         "name": "listings",
         "showlegend": true,
         "text": [
          "Brightwood",
          "Brightwood",
          "Brightwood",
          "Brightwood",
          "Brightwood",
          "Brightwood"
         ],
         "type": "scatter",
         "x": [
          "2011",
          "2013",
          "2015",
          "2016",
          "2017",
          "2018"
         ],
         "y": [
          1,
          4,
          9,
          13,
          16,
          27
         ]
        },
        {
         "legendgroup": "Brookland",
         "marker": {
          "color": "blue"
         },
         "mode": "lines+markers",
         "name": "listings",
         "showlegend": true,
         "text": [
          "Brookland",
          "Brookland",
          "Brookland",
          "Brookland",
          "Brookland",
          "Brookland",
          "Brookland",
          "Brookland"
         ],
         "type": "scatter",
         "x": [
          "2011",
          "2013",
          "2014",
          "2015",
          "2016",
          "2017",
          "2018",
          "2019"
         ],
         "y": [
          1,
          2,
          6,
          23,
          40,
          66,
          78,
          90
         ]
        },
        {
         "legendgroup": "Buena Vista",
         "marker": {
          "color": "blue"
         },
         "mode": "lines+markers",
         "name": "listings",
         "showlegend": true,
         "text": [
          "Buena Vista",
          "Buena Vista",
          "Buena Vista",
          "Buena Vista",
          "Buena Vista",
          "Buena Vista",
          "Buena Vista",
          "Buena Vista"
         ],
         "type": "scatter",
         "x": [
          "2011",
          "2013",
          "2014",
          "2015",
          "2016",
          "2017",
          "2018",
          "2019"
         ],
         "y": [
          1,
          2,
          5,
          8,
          11,
          18,
          33,
          46
         ]
        },
        {
         "legendgroup": "Burleith",
         "marker": {
          "color": "blue"
         },
         "mode": "lines+markers",
         "name": "listings",
         "showlegend": true,
         "text": [
          "Burleith",
          "Burleith",
          "Burleith",
          "Burleith",
          "Burleith",
          "Burleith",
          "Burleith",
          "Burleith"
         ],
         "type": "scatter",
         "x": [
          "2012",
          "2013",
          "2014",
          "2015",
          "2016",
          "2017",
          "2018",
          "2019"
         ],
         "y": [
          3,
          7,
          10,
          15,
          22,
          30,
          38,
          44
         ]
        },
        {
         "legendgroup": "Capitol Hill",
         "marker": {
          "color": "blue"
         },
         "mode": "lines+markers",
         "name": "listings",
         "showlegend": true,
         "text": [
          "Capitol Hill",
          "Capitol Hill",
          "Capitol Hill",
          "Capitol Hill",
          "Capitol Hill",
          "Capitol Hill",
          "Capitol Hill",
          "Capitol Hill",
          "Capitol Hill",
          "Capitol Hill",
          "Capitol Hill"
         ],
         "type": "scatter",
         "x": [
          "2009",
          "2010",
          "2011",
          "2012",
          "2013",
          "2014",
          "2015",
          "2016",
          "2017",
          "2018",
          "2019"
         ],
         "y": [
          5,
          7,
          11,
          29,
          79,
          167,
          295,
          516,
          750,
          947,
          1051
         ]
        },
        {
         "legendgroup": "Carver Langston",
         "marker": {
          "color": "blue"
         },
         "mode": "lines+markers",
         "name": "listings",
         "showlegend": true,
         "text": [
          "Carver Langston",
          "Carver Langston",
          "Carver Langston",
          "Carver Langston",
          "Carver Langston"
         ],
         "type": "scatter",
         "x": [
          "2015",
          "2016",
          "2017",
          "2018",
          "2019"
         ],
         "y": [
          2,
          8,
          19,
          33,
          42
         ]
        },
        {
         "legendgroup": "Cathedral Heights",
         "marker": {
          "color": "blue"
         },
         "mode": "lines+markers",
         "name": "listings",
         "showlegend": true,
         "text": [
          "Cathedral Heights",
          "Cathedral Heights",
          "Cathedral Heights",
          "Cathedral Heights",
          "Cathedral Heights",
          "Cathedral Heights",
          "Cathedral Heights",
          "Cathedral Heights",
          "Cathedral Heights"
         ],
         "type": "scatter",
         "x": [
          "2010",
          "2011",
          "2013",
          "2014",
          "2015",
          "2016",
          "2017",
          "2018",
          "2019"
         ],
         "y": [
          3,
          4,
          5,
          6,
          8,
          11,
          16,
          18,
          21
         ]
        },
        {
         "legendgroup": "Catholic University",
         "marker": {
          "color": "blue"
         },
         "mode": "lines+markers",
         "name": "listings",
         "showlegend": true,
         "text": [
          "Catholic University"
         ],
         "type": "scatter",
         "x": [
          "2017"
         ],
         "y": [
          1
         ]
        },
        {
         "legendgroup": "Central Northeast/Mahaning Heights",
         "marker": {
          "color": "blue"
         },
         "mode": "lines+markers",
         "name": "listings",
         "showlegend": true,
         "text": [
          "Central Northeast/Mahaning Heights",
          "Central Northeast/Mahaning Heights",
          "Central Northeast/Mahaning Heights",
          "Central Northeast/Mahaning Heights",
          "Central Northeast/Mahaning Heights",
          "Central Northeast/Mahaning Heights"
         ],
         "type": "scatter",
         "x": [
          "2013",
          "2015",
          "2016",
          "2017",
          "2018",
          "2019"
         ],
         "y": [
          1,
          3,
          6,
          27,
          36,
          46
         ]
        },
        {
         "legendgroup": "Chevy Chase",
         "marker": {
          "color": "blue"
         },
         "mode": "lines+markers",
         "name": "listings",
         "showlegend": true,
         "text": [
          "Chevy Chase",
          "Chevy Chase",
          "Chevy Chase",
          "Chevy Chase",
          "Chevy Chase",
          "Chevy Chase",
          "Chevy Chase",
          "Chevy Chase"
         ],
         "type": "scatter",
         "x": [
          "2012",
          "2013",
          "2014",
          "2015",
          "2016",
          "2017",
          "2018",
          "2019"
         ],
         "y": [
          2,
          5,
          14,
          18,
          26,
          33,
          47,
          51
         ]
        },
        {
         "legendgroup": "Civic Betterment",
         "marker": {
          "color": "blue"
         },
         "mode": "lines+markers",
         "name": "listings",
         "showlegend": true,
         "text": [
          "Civic Betterment",
          "Civic Betterment"
         ],
         "type": "scatter",
         "x": [
          "2018",
          "2019"
         ],
         "y": [
          1,
          2
         ]
        },
        {
         "legendgroup": "Cleveland Park",
         "marker": {
          "color": "blue"
         },
         "mode": "lines+markers",
         "name": "listings",
         "showlegend": true,
         "text": [
          "Cleveland Park",
          "Cleveland Park",
          "Cleveland Park",
          "Cleveland Park",
          "Cleveland Park",
          "Cleveland Park",
          "Cleveland Park",
          "Cleveland Park",
          "Cleveland Park",
          "Cleveland Park"
         ],
         "type": "scatter",
         "x": [
          "2010",
          "2011",
          "2012",
          "2013",
          "2014",
          "2015",
          "2016",
          "2017",
          "2018",
          "2019"
         ],
         "y": [
          1,
          2,
          4,
          7,
          14,
          32,
          53,
          67,
          83,
          95
         ]
        },
        {
         "legendgroup": "Colonial Village",
         "marker": {
          "color": "blue"
         },
         "mode": "lines+markers",
         "name": "listings",
         "showlegend": true,
         "text": [
          "Colonial Village",
          "Colonial Village",
          "Colonial Village",
          "Colonial Village",
          "Colonial Village",
          "Colonial Village"
         ],
         "type": "scatter",
         "x": [
          "2011",
          "2014",
          "2015",
          "2016",
          "2017",
          "2019"
         ],
         "y": [
          1,
          6,
          7,
          11,
          14,
          15
         ]
        },
        {
         "legendgroup": "Columbia Heights",
         "marker": {
          "color": "blue"
         },
         "mode": "lines+markers",
         "name": "listings",
         "showlegend": true,
         "text": [
          "Columbia Heights",
          "Columbia Heights",
          "Columbia Heights",
          "Columbia Heights",
          "Columbia Heights",
          "Columbia Heights",
          "Columbia Heights",
          "Columbia Heights",
          "Columbia Heights",
          "Columbia Heights"
         ],
         "type": "scatter",
         "x": [
          "2010",
          "2011",
          "2012",
          "2013",
          "2014",
          "2015",
          "2016",
          "2017",
          "2018",
          "2019"
         ],
         "y": [
          2,
          3,
          16,
          37,
          80,
          138,
          216,
          324,
          420,
          468
         ]
        },
        {
         "legendgroup": "Congress Heights",
         "marker": {
          "color": "blue"
         },
         "mode": "lines+markers",
         "name": "listings",
         "showlegend": true,
         "text": [
          "Congress Heights",
          "Congress Heights",
          "Congress Heights",
          "Congress Heights",
          "Congress Heights"
         ],
         "type": "scatter",
         "x": [
          "2015",
          "2016",
          "2017",
          "2018",
          "2019"
         ],
         "y": [
          2,
          7,
          13,
          19,
          22
         ]
        },
        {
         "legendgroup": "Crestwood",
         "marker": {
          "color": "blue"
         },
         "mode": "lines+markers",
         "name": "listings",
         "showlegend": true,
         "text": [
          "Crestwood",
          "Crestwood",
          "Crestwood",
          "Crestwood",
          "Crestwood",
          "Crestwood",
          "Crestwood",
          "Crestwood",
          "Crestwood"
         ],
         "type": "scatter",
         "x": [
          "2011",
          "2012",
          "2013",
          "2014",
          "2015",
          "2016",
          "2017",
          "2018",
          "2019"
         ],
         "y": [
          3,
          4,
          7,
          8,
          10,
          13,
          19,
          22,
          27
         ]
        },
        {
         "legendgroup": "Deanwood",
         "marker": {
          "color": "blue"
         },
         "mode": "lines+markers",
         "name": "listings",
         "showlegend": true,
         "text": [
          "Deanwood",
          "Deanwood",
          "Deanwood",
          "Deanwood",
          "Deanwood",
          "Deanwood"
         ],
         "type": "scatter",
         "x": [
          "2013",
          "2015",
          "2016",
          "2017",
          "2018",
          "2019"
         ],
         "y": [
          1,
          3,
          4,
          9,
          21,
          28
         ]
        },
        {
         "legendgroup": "Douglass",
         "marker": {
          "color": "blue"
         },
         "mode": "lines+markers",
         "name": "listings",
         "showlegend": true,
         "text": [
          "Douglass",
          "Douglass",
          "Douglass",
          "Douglass",
          "Douglass"
         ],
         "type": "scatter",
         "x": [
          "2015",
          "2016",
          "2017",
          "2018",
          "2019"
         ],
         "y": [
          4,
          5,
          9,
          11,
          12
         ]
        },
        {
         "legendgroup": "Downtown/Penn Quarter",
         "marker": {
          "color": "blue"
         },
         "mode": "lines+markers",
         "name": "listings",
         "showlegend": true,
         "text": [
          "Downtown/Penn Quarter",
          "Downtown/Penn Quarter",
          "Downtown/Penn Quarter",
          "Downtown/Penn Quarter",
          "Downtown/Penn Quarter",
          "Downtown/Penn Quarter",
          "Downtown/Penn Quarter",
          "Downtown/Penn Quarter",
          "Downtown/Penn Quarter",
          "Downtown/Penn Quarter",
          "Downtown/Penn Quarter"
         ],
         "type": "scatter",
         "x": [
          "2009",
          "2010",
          "2011",
          "2012",
          "2013",
          "2014",
          "2015",
          "2016",
          "2017",
          "2018",
          "2019"
         ],
         "y": [
          1,
          2,
          3,
          6,
          11,
          27,
          62,
          98,
          125,
          145,
          164
         ]
        },
        {
         "legendgroup": "Dupont Circle",
         "marker": {
          "color": "blue"
         },
         "mode": "lines+markers",
         "name": "listings",
         "showlegend": true,
         "text": [
          "Dupont Circle",
          "Dupont Circle",
          "Dupont Circle",
          "Dupont Circle",
          "Dupont Circle",
          "Dupont Circle",
          "Dupont Circle",
          "Dupont Circle",
          "Dupont Circle",
          "Dupont Circle",
          "Dupont Circle"
         ],
         "type": "scatter",
         "x": [
          "2009",
          "2010",
          "2011",
          "2012",
          "2013",
          "2014",
          "2015",
          "2016",
          "2017",
          "2018",
          "2019"
         ],
         "y": [
          3,
          5,
          7,
          12,
          42,
          84,
          204,
          297,
          383,
          456,
          525
         ]
        },
        {
         "legendgroup": "Dupont Park",
         "marker": {
          "color": "blue"
         },
         "mode": "lines+markers",
         "name": "listings",
         "showlegend": true,
         "text": [
          "Dupont Park",
          "Dupont Park",
          "Dupont Park"
         ],
         "type": "scatter",
         "x": [
          "2017",
          "2018",
          "2019"
         ],
         "y": [
          5,
          10,
          11
         ]
        },
        {
         "legendgroup": "East Corner",
         "marker": {
          "color": "blue"
         },
         "mode": "lines+markers",
         "name": "listings",
         "showlegend": true,
         "text": [
          "East Corner",
          "East Corner"
         ],
         "type": "scatter",
         "x": [
          "2014",
          "2019"
         ],
         "y": [
          1,
          3
         ]
        },
        {
         "legendgroup": "Eastland Gardens",
         "marker": {
          "color": "blue"
         },
         "mode": "lines+markers",
         "name": "listings",
         "showlegend": true,
         "text": [
          "Eastland Gardens",
          "Eastland Gardens",
          "Eastland Gardens",
          "Eastland Gardens",
          "Eastland Gardens"
         ],
         "type": "scatter",
         "x": [
          "2009",
          "2015",
          "2016",
          "2018",
          "2019"
         ],
         "y": [
          1,
          4,
          5,
          7,
          10
         ]
        },
        {
         "legendgroup": "Eckington",
         "marker": {
          "color": "blue"
         },
         "mode": "lines+markers",
         "name": "listings",
         "showlegend": true,
         "text": [
          "Eckington",
          "Eckington",
          "Eckington",
          "Eckington",
          "Eckington",
          "Eckington",
          "Eckington",
          "Eckington",
          "Eckington"
         ],
         "type": "scatter",
         "x": [
          "2011",
          "2012",
          "2013",
          "2014",
          "2015",
          "2016",
          "2017",
          "2018",
          "2019"
         ],
         "y": [
          1,
          9,
          14,
          24,
          38,
          80,
          127,
          171,
          201
         ]
        },
        {
         "legendgroup": "Edgewood",
         "marker": {
          "color": "blue"
         },
         "mode": "lines+markers",
         "name": "listings",
         "showlegend": true,
         "text": [
          "Edgewood",
          "Edgewood",
          "Edgewood",
          "Edgewood",
          "Edgewood",
          "Edgewood",
          "Edgewood",
          "Edgewood",
          "Edgewood"
         ],
         "type": "scatter",
         "x": [
          "2010",
          "2011",
          "2013",
          "2014",
          "2015",
          "2016",
          "2017",
          "2018",
          "2019"
         ],
         "y": [
          1,
          2,
          5,
          14,
          31,
          41,
          57,
          76,
          87
         ]
        },
        {
         "legendgroup": "Fairlawn",
         "marker": {
          "color": "blue"
         },
         "mode": "lines+markers",
         "name": "listings",
         "showlegend": true,
         "text": [
          "Fairlawn",
          "Fairlawn",
          "Fairlawn",
          "Fairlawn",
          "Fairlawn",
          "Fairlawn",
          "Fairlawn"
         ],
         "type": "scatter",
         "x": [
          "2011",
          "2014",
          "2015",
          "2016",
          "2017",
          "2018",
          "2019"
         ],
         "y": [
          1,
          2,
          6,
          12,
          16,
          29,
          38
         ]
        },
        {
         "legendgroup": "Foggy Bottom",
         "marker": {
          "color": "blue"
         },
         "mode": "lines+markers",
         "name": "listings",
         "showlegend": true,
         "text": [
          "Foggy Bottom",
          "Foggy Bottom",
          "Foggy Bottom",
          "Foggy Bottom",
          "Foggy Bottom",
          "Foggy Bottom",
          "Foggy Bottom",
          "Foggy Bottom"
         ],
         "type": "scatter",
         "x": [
          "2012",
          "2013",
          "2014",
          "2015",
          "2016",
          "2017",
          "2018",
          "2019"
         ],
         "y": [
          3,
          16,
          29,
          55,
          98,
          151,
          227,
          280
         ]
        },
        {
         "legendgroup": "Forest Hills",
         "marker": {
          "color": "blue"
         },
         "mode": "lines+markers",
         "name": "listings",
         "showlegend": true,
         "text": [
          "Forest Hills",
          "Forest Hills",
          "Forest Hills",
          "Forest Hills",
          "Forest Hills",
          "Forest Hills",
          "Forest Hills"
         ],
         "type": "scatter",
         "x": [
          "2012",
          "2014",
          "2015",
          "2016",
          "2017",
          "2018",
          "2019"
         ],
         "y": [
          1,
          10,
          17,
          23,
          37,
          44,
          48
         ]
        },
        {
         "legendgroup": "Fort Davis",
         "marker": {
          "color": "blue"
         },
         "mode": "lines+markers",
         "name": "listings",
         "showlegend": true,
         "text": [
          "Fort Davis",
          "Fort Davis",
          "Fort Davis"
         ],
         "type": "scatter",
         "x": [
          "2017",
          "2018",
          "2019"
         ],
         "y": [
          7,
          10,
          20
         ]
        },
        {
         "legendgroup": "Fort Dupont",
         "marker": {
          "color": "blue"
         },
         "mode": "lines+markers",
         "name": "listings",
         "showlegend": true,
         "text": [
          "Fort Dupont",
          "Fort Dupont",
          "Fort Dupont",
          "Fort Dupont",
          "Fort Dupont"
         ],
         "type": "scatter",
         "x": [
          "2013",
          "2015",
          "2016",
          "2017",
          "2018"
         ],
         "y": [
          1,
          2,
          4,
          5,
          6
         ]
        },
        {
         "legendgroup": "Fort Lincoln",
         "marker": {
          "color": "blue"
         },
         "mode": "lines+markers",
         "name": "listings",
         "showlegend": true,
         "text": [
          "Fort Lincoln",
          "Fort Lincoln",
          "Fort Lincoln",
          "Fort Lincoln",
          "Fort Lincoln",
          "Fort Lincoln"
         ],
         "type": "scatter",
         "x": [
          "2014",
          "2015",
          "2016",
          "2017",
          "2018",
          "2019"
         ],
         "y": [
          1,
          3,
          8,
          13,
          18,
          21
         ]
        },
        {
         "legendgroup": "Fort Totten",
         "marker": {
          "color": "blue"
         },
         "mode": "lines+markers",
         "name": "listings",
         "showlegend": true,
         "text": [
          "Fort Totten",
          "Fort Totten",
          "Fort Totten",
          "Fort Totten",
          "Fort Totten"
         ],
         "type": "scatter",
         "x": [
          "2012",
          "2014",
          "2016",
          "2018",
          "2019"
         ],
         "y": [
          1,
          2,
          3,
          4,
          5
         ]
        },
        {
         "legendgroup": "Foxhall",
         "marker": {
          "color": "blue"
         },
         "mode": "lines+markers",
         "name": "listings",
         "showlegend": true,
         "text": [
          "Foxhall",
          "Foxhall",
          "Foxhall",
          "Foxhall",
          "Foxhall",
          "Foxhall",
          "Foxhall"
         ],
         "type": "scatter",
         "x": [
          "2012",
          "2014",
          "2015",
          "2016",
          "2017",
          "2018",
          "2019"
         ],
         "y": [
          1,
          2,
          4,
          5,
          9,
          12,
          14
         ]
        },
        {
         "legendgroup": "Friendship Heights",
         "marker": {
          "color": "blue"
         },
         "mode": "lines+markers",
         "name": "listings",
         "showlegend": true,
         "text": [
          "Friendship Heights",
          "Friendship Heights",
          "Friendship Heights",
          "Friendship Heights",
          "Friendship Heights",
          "Friendship Heights",
          "Friendship Heights"
         ],
         "type": "scatter",
         "x": [
          "2013",
          "2014",
          "2015",
          "2016",
          "2017",
          "2018",
          "2019"
         ],
         "y": [
          2,
          3,
          6,
          9,
          11,
          14,
          17
         ]
        },
        {
         "legendgroup": "Gallaudet",
         "marker": {
          "color": "blue"
         },
         "mode": "lines+markers",
         "name": "listings",
         "showlegend": true,
         "text": [
          "Gallaudet",
          "Gallaudet",
          "Gallaudet",
          "Gallaudet",
          "Gallaudet"
         ],
         "type": "scatter",
         "x": [
          "2013",
          "2015",
          "2017",
          "2018",
          "2019"
         ],
         "y": [
          2,
          3,
          5,
          10,
          14
         ]
        },
        {
         "legendgroup": "Garfield Heights",
         "marker": {
          "color": "blue"
         },
         "mode": "lines+markers",
         "name": "listings",
         "showlegend": true,
         "text": [
          "Garfield Heights"
         ],
         "type": "scatter",
         "x": [
          "2018"
         ],
         "y": [
          1
         ]
        },
        {
         "legendgroup": "Gateway",
         "marker": {
          "color": "blue"
         },
         "mode": "lines+markers",
         "name": "listings",
         "showlegend": true,
         "text": [
          "Gateway",
          "Gateway"
         ],
         "type": "scatter",
         "x": [
          "2018",
          "2019"
         ],
         "y": [
          3,
          5
         ]
        },
        {
         "legendgroup": "Georgetown",
         "marker": {
          "color": "blue"
         },
         "mode": "lines+markers",
         "name": "listings",
         "showlegend": true,
         "text": [
          "Georgetown",
          "Georgetown",
          "Georgetown",
          "Georgetown",
          "Georgetown",
          "Georgetown",
          "Georgetown",
          "Georgetown",
          "Georgetown"
         ],
         "type": "scatter",
         "x": [
          "2011",
          "2012",
          "2013",
          "2014",
          "2015",
          "2016",
          "2017",
          "2018",
          "2019"
         ],
         "y": [
          2,
          5,
          15,
          31,
          74,
          112,
          150,
          192,
          217
         ]
        },
        {
         "legendgroup": "Glover Park",
         "marker": {
          "color": "blue"
         },
         "mode": "lines+markers",
         "name": "listings",
         "showlegend": true,
         "text": [
          "Glover Park",
          "Glover Park",
          "Glover Park",
          "Glover Park",
          "Glover Park",
          "Glover Park",
          "Glover Park",
          "Glover Park",
          "Glover Park"
         ],
         "type": "scatter",
         "x": [
          "2010",
          "2012",
          "2013",
          "2014",
          "2015",
          "2016",
          "2017",
          "2018",
          "2019"
         ],
         "y": [
          1,
          2,
          4,
          9,
          24,
          41,
          57,
          73,
          86
         ]
        },
        {
         "legendgroup": "Good Hope",
         "marker": {
          "color": "blue"
         },
         "mode": "lines+markers",
         "name": "listings",
         "showlegend": true,
         "text": [
          "Good Hope",
          "Good Hope",
          "Good Hope",
          "Good Hope",
          "Good Hope"
         ],
         "type": "scatter",
         "x": [
          "2014",
          "2015",
          "2016",
          "2017",
          "2019"
         ],
         "y": [
          1,
          4,
          8,
          12,
          23
         ]
        },
        {
         "legendgroup": "Greenway",
         "marker": {
          "color": "blue"
         },
         "mode": "lines+markers",
         "name": "listings",
         "showlegend": true,
         "text": [
          "Greenway",
          "Greenway",
          "Greenway"
         ],
         "type": "scatter",
         "x": [
          "2016",
          "2017",
          "2019"
         ],
         "y": [
          1,
          3,
          5
         ]
        },
        {
         "legendgroup": "Hilcrest Heights/Marlow Heights, MD",
         "marker": {
          "color": "blue"
         },
         "mode": "lines+markers",
         "name": "listings",
         "showlegend": true,
         "text": [
          "Hilcrest Heights/Marlow Heights, MD",
          "Hilcrest Heights/Marlow Heights, MD"
         ],
         "type": "scatter",
         "x": [
          "2013",
          "2016"
         ],
         "y": [
          2,
          3
         ]
        },
        {
         "legendgroup": "Hillbrook",
         "marker": {
          "color": "blue"
         },
         "mode": "lines+markers",
         "name": "listings",
         "showlegend": true,
         "text": [
          "Hillbrook",
          "Hillbrook",
          "Hillbrook"
         ],
         "type": "scatter",
         "x": [
          "2017",
          "2018",
          "2019"
         ],
         "y": [
          3,
          9,
          14
         ]
        },
        {
         "legendgroup": "Hillcrest",
         "marker": {
          "color": "blue"
         },
         "mode": "lines+markers",
         "name": "listings",
         "showlegend": true,
         "text": [
          "Hillcrest",
          "Hillcrest",
          "Hillcrest",
          "Hillcrest",
          "Hillcrest"
         ],
         "type": "scatter",
         "x": [
          "2015",
          "2016",
          "2017",
          "2018",
          "2019"
         ],
         "y": [
          1,
          3,
          5,
          7,
          10
         ]
        },
        {
         "legendgroup": "Ivy City",
         "marker": {
          "color": "blue"
         },
         "mode": "lines+markers",
         "name": "listings",
         "showlegend": true,
         "text": [
          "Ivy City",
          "Ivy City",
          "Ivy City",
          "Ivy City",
          "Ivy City",
          "Ivy City",
          "Ivy City"
         ],
         "type": "scatter",
         "x": [
          "2010",
          "2014",
          "2015",
          "2016",
          "2017",
          "2018",
          "2019"
         ],
         "y": [
          1,
          2,
          5,
          6,
          9,
          11,
          12
         ]
        },
        {
         "legendgroup": "Judiciary Square",
         "marker": {
          "color": "blue"
         },
         "mode": "lines+markers",
         "name": "listings",
         "showlegend": true,
         "text": [
          "Judiciary Square",
          "Judiciary Square",
          "Judiciary Square",
          "Judiciary Square",
          "Judiciary Square",
          "Judiciary Square",
          "Judiciary Square"
         ],
         "type": "scatter",
         "x": [
          "2013",
          "2014",
          "2015",
          "2016",
          "2017",
          "2018",
          "2019"
         ],
         "y": [
          5,
          10,
          25,
          44,
          58,
          69,
          73
         ]
        },
        {
         "legendgroup": "Kalorama",
         "marker": {
          "color": "blue"
         },
         "mode": "lines+markers",
         "name": "listings",
         "showlegend": true,
         "text": [
          "Kalorama",
          "Kalorama",
          "Kalorama",
          "Kalorama",
          "Kalorama",
          "Kalorama",
          "Kalorama",
          "Kalorama",
          "Kalorama",
          "Kalorama"
         ],
         "type": "scatter",
         "x": [
          "2010",
          "2011",
          "2012",
          "2013",
          "2014",
          "2015",
          "2016",
          "2017",
          "2018",
          "2019"
         ],
         "y": [
          2,
          3,
          9,
          17,
          30,
          47,
          69,
          93,
          106,
          123
         ]
        },
        {
         "legendgroup": "Kent",
         "marker": {
          "color": "blue"
         },
         "mode": "lines+markers",
         "name": "listings",
         "showlegend": true,
         "text": [
          "Kent",
          "Kent",
          "Kent",
          "Kent",
          "Kent",
          "Kent"
         ],
         "type": "scatter",
         "x": [
          "2013",
          "2014",
          "2015",
          "2016",
          "2017",
          "2018"
         ],
         "y": [
          2,
          3,
          5,
          7,
          9,
          12
         ]
        },
        {
         "legendgroup": "Kingman Park",
         "marker": {
          "color": "blue"
         },
         "mode": "lines+markers",
         "name": "listings",
         "showlegend": true,
         "text": [
          "Kingman Park",
          "Kingman Park",
          "Kingman Park",
          "Kingman Park",
          "Kingman Park",
          "Kingman Park",
          "Kingman Park",
          "Kingman Park",
          "Kingman Park"
         ],
         "type": "scatter",
         "x": [
          "2011",
          "2012",
          "2013",
          "2014",
          "2015",
          "2016",
          "2017",
          "2018",
          "2019"
         ],
         "y": [
          2,
          3,
          9,
          14,
          27,
          53,
          97,
          143,
          158
         ]
        },
        {
         "legendgroup": "Knox Hill",
         "marker": {
          "color": "blue"
         },
         "mode": "lines+markers",
         "name": "listings",
         "showlegend": true,
         "text": [
          "Knox Hill"
         ],
         "type": "scatter",
         "x": [
          "2017"
         ],
         "y": [
          1
         ]
        },
        {
         "legendgroup": "Lamond Riggs",
         "marker": {
          "color": "blue"
         },
         "mode": "lines+markers",
         "name": "listings",
         "showlegend": true,
         "text": [
          "Lamond Riggs",
          "Lamond Riggs",
          "Lamond Riggs",
          "Lamond Riggs",
          "Lamond Riggs",
          "Lamond Riggs",
          "Lamond Riggs",
          "Lamond Riggs"
         ],
         "type": "scatter",
         "x": [
          "2011",
          "2012",
          "2014",
          "2015",
          "2016",
          "2017",
          "2018",
          "2019"
         ],
         "y": [
          3,
          4,
          5,
          12,
          21,
          36,
          53,
          62
         ]
        },
        {
         "legendgroup": "Langdon",
         "marker": {
          "color": "blue"
         },
         "mode": "lines+markers",
         "name": "listings",
         "showlegend": true,
         "text": [
          "Langdon",
          "Langdon",
          "Langdon",
          "Langdon",
          "Langdon",
          "Langdon",
          "Langdon"
         ],
         "type": "scatter",
         "x": [
          "2013",
          "2014",
          "2015",
          "2016",
          "2017",
          "2018",
          "2019"
         ],
         "y": [
          1,
          6,
          8,
          15,
          25,
          30,
          50
         ]
        },
        {
         "legendgroup": "LeDroit Park",
         "marker": {
          "color": "blue"
         },
         "mode": "lines+markers",
         "name": "listings",
         "showlegend": true,
         "text": [
          "LeDroit Park",
          "LeDroit Park",
          "LeDroit Park",
          "LeDroit Park",
          "LeDroit Park",
          "LeDroit Park",
          "LeDroit Park",
          "LeDroit Park"
         ],
         "type": "scatter",
         "x": [
          "2012",
          "2013",
          "2014",
          "2015",
          "2016",
          "2017",
          "2018",
          "2019"
         ],
         "y": [
          3,
          5,
          11,
          26,
          38,
          67,
          84,
          92
         ]
        },
        {
         "legendgroup": "Lincoln Heights",
         "marker": {
          "color": "blue"
         },
         "mode": "lines+markers",
         "name": "listings",
         "showlegend": true,
         "text": [
          "Lincoln Heights",
          "Lincoln Heights",
          "Lincoln Heights"
         ],
         "type": "scatter",
         "x": [
          "2016",
          "2017",
          "2019"
         ],
         "y": [
          1,
          3,
          4
         ]
        },
        {
         "legendgroup": "Logan Circle",
         "marker": {
          "color": "blue"
         },
         "mode": "lines+markers",
         "name": "listings",
         "showlegend": true,
         "text": [
          "Logan Circle",
          "Logan Circle",
          "Logan Circle",
          "Logan Circle",
          "Logan Circle",
          "Logan Circle",
          "Logan Circle",
          "Logan Circle",
          "Logan Circle",
          "Logan Circle",
          "Logan Circle",
          "Logan Circle"
         ],
         "type": "scatter",
         "x": [
          "2008",
          "2009",
          "2010",
          "2011",
          "2012",
          "2013",
          "2014",
          "2015",
          "2016",
          "2017",
          "2018",
          "2019"
         ],
         "y": [
          1,
          2,
          5,
          7,
          12,
          28,
          57,
          108,
          186,
          267,
          343,
          387
         ]
        },
        {
         "legendgroup": "Manor Park",
         "marker": {
          "color": "blue"
         },
         "mode": "lines+markers",
         "name": "listings",
         "showlegend": true,
         "text": [
          "Manor Park",
          "Manor Park",
          "Manor Park",
          "Manor Park",
          "Manor Park",
          "Manor Park",
          "Manor Park",
          "Manor Park",
          "Manor Park"
         ],
         "type": "scatter",
         "x": [
          "2011",
          "2012",
          "2013",
          "2014",
          "2015",
          "2016",
          "2017",
          "2018",
          "2019"
         ],
         "y": [
          6,
          8,
          12,
          17,
          25,
          51,
          68,
          98,
          118
         ]
        },
        {
         "legendgroup": "Marshall Heights",
         "marker": {
          "color": "blue"
         },
         "mode": "lines+markers",
         "name": "listings",
         "showlegend": true,
         "text": [
          "Marshall Heights",
          "Marshall Heights",
          "Marshall Heights",
          "Marshall Heights",
          "Marshall Heights",
          "Marshall Heights",
          "Marshall Heights",
          "Marshall Heights",
          "Marshall Heights"
         ],
         "type": "scatter",
         "x": [
          "2011",
          "2012",
          "2013",
          "2014",
          "2015",
          "2016",
          "2017",
          "2018",
          "2019"
         ],
         "y": [
          1,
          2,
          3,
          7,
          12,
          20,
          22,
          39,
          43
         ]
        },
        {
         "legendgroup": "Massachusetts Heights",
         "marker": {
          "color": "blue"
         },
         "mode": "lines+markers",
         "name": "listings",
         "showlegend": true,
         "text": [
          "Massachusetts Heights",
          "Massachusetts Heights",
          "Massachusetts Heights"
         ],
         "type": "scatter",
         "x": [
          "2015",
          "2016",
          "2017"
         ],
         "y": [
          1,
          2,
          3
         ]
        },
        {
         "legendgroup": "Michigan Park",
         "marker": {
          "color": "blue"
         },
         "mode": "lines+markers",
         "name": "listings",
         "showlegend": true,
         "text": [
          "Michigan Park",
          "Michigan Park",
          "Michigan Park",
          "Michigan Park",
          "Michigan Park",
          "Michigan Park",
          "Michigan Park"
         ],
         "type": "scatter",
         "x": [
          "2013",
          "2014",
          "2015",
          "2016",
          "2017",
          "2018",
          "2019"
         ],
         "y": [
          3,
          4,
          9,
          19,
          29,
          35,
          43
         ]
        },
        {
         "legendgroup": "Mount Pleasant",
         "marker": {
          "color": "blue"
         },
         "mode": "lines+markers",
         "name": "listings",
         "showlegend": true,
         "text": [
          "Mount Pleasant",
          "Mount Pleasant",
          "Mount Pleasant",
          "Mount Pleasant",
          "Mount Pleasant",
          "Mount Pleasant",
          "Mount Pleasant",
          "Mount Pleasant",
          "Mount Pleasant",
          "Mount Pleasant"
         ],
         "type": "scatter",
         "x": [
          "2009",
          "2011",
          "2012",
          "2013",
          "2014",
          "2015",
          "2016",
          "2017",
          "2018",
          "2019"
         ],
         "y": [
          2,
          3,
          11,
          22,
          43,
          74,
          99,
          150,
          185,
          198
         ]
        },
        {
         "legendgroup": "Mount Vernon Square",
         "marker": {
          "color": "blue"
         },
         "mode": "lines+markers",
         "name": "listings",
         "showlegend": true,
         "text": [
          "Mount Vernon Square",
          "Mount Vernon Square",
          "Mount Vernon Square",
          "Mount Vernon Square",
          "Mount Vernon Square",
          "Mount Vernon Square",
          "Mount Vernon Square",
          "Mount Vernon Square"
         ],
         "type": "scatter",
         "x": [
          "2011",
          "2013",
          "2014",
          "2015",
          "2016",
          "2017",
          "2018",
          "2019"
         ],
         "y": [
          2,
          6,
          13,
          34,
          66,
          83,
          104,
          125
         ]
        },
        {
         "legendgroup": "Navy Yard",
         "marker": {
          "color": "blue"
         },
         "mode": "lines+markers",
         "name": "listings",
         "showlegend": true,
         "text": [
          "Navy Yard",
          "Navy Yard",
          "Navy Yard",
          "Navy Yard",
          "Navy Yard",
          "Navy Yard",
          "Navy Yard",
          "Navy Yard",
          "Navy Yard"
         ],
         "type": "scatter",
         "x": [
          "2011",
          "2012",
          "2013",
          "2014",
          "2015",
          "2016",
          "2017",
          "2018",
          "2019"
         ],
         "y": [
          1,
          2,
          4,
          6,
          11,
          23,
          30,
          40,
          64
         ]
        },
        {
         "legendgroup": "Naylor Gardens",
         "marker": {
          "color": "blue"
         },
         "mode": "lines+markers",
         "name": "listings",
         "showlegend": true,
         "text": [
          "Naylor Gardens",
          "Naylor Gardens",
          "Naylor Gardens",
          "Naylor Gardens"
         ],
         "type": "scatter",
         "x": [
          "2013",
          "2014",
          "2015",
          "2017"
         ],
         "y": [
          2,
          3,
          4,
          5
         ]
        },
        {
         "legendgroup": "Near Northeast/H Street Corridor",
         "marker": {
          "color": "blue"
         },
         "mode": "lines+markers",
         "name": "listings",
         "showlegend": true,
         "text": [
          "Near Northeast/H Street Corridor",
          "Near Northeast/H Street Corridor",
          "Near Northeast/H Street Corridor",
          "Near Northeast/H Street Corridor",
          "Near Northeast/H Street Corridor",
          "Near Northeast/H Street Corridor",
          "Near Northeast/H Street Corridor",
          "Near Northeast/H Street Corridor",
          "Near Northeast/H Street Corridor",
          "Near Northeast/H Street Corridor",
          "Near Northeast/H Street Corridor"
         ],
         "type": "scatter",
         "x": [
          "2008",
          "2010",
          "2011",
          "2012",
          "2013",
          "2014",
          "2015",
          "2016",
          "2017",
          "2018",
          "2019"
         ],
         "y": [
          1,
          3,
          4,
          6,
          17,
          44,
          96,
          192,
          288,
          377,
          430
         ]
        },
        {
         "legendgroup": "North Cleveland Park",
         "marker": {
          "color": "blue"
         },
         "mode": "lines+markers",
         "name": "listings",
         "showlegend": true,
         "text": [
          "North Cleveland Park",
          "North Cleveland Park",
          "North Cleveland Park",
          "North Cleveland Park",
          "North Cleveland Park",
          "North Cleveland Park",
          "North Cleveland Park"
         ],
         "type": "scatter",
         "x": [
          "2013",
          "2014",
          "2015",
          "2016",
          "2017",
          "2018",
          "2019"
         ],
         "y": [
          2,
          3,
          6,
          10,
          17,
          22,
          26
         ]
        },
        {
         "legendgroup": "North Michigan Park",
         "marker": {
          "color": "blue"
         },
         "mode": "lines+markers",
         "name": "listings",
         "showlegend": true,
         "text": [
          "North Michigan Park",
          "North Michigan Park",
          "North Michigan Park",
          "North Michigan Park",
          "North Michigan Park"
         ],
         "type": "scatter",
         "x": [
          "2013",
          "2016",
          "2017",
          "2018",
          "2019"
         ],
         "y": [
          1,
          2,
          8,
          9,
          10
         ]
        },
        {
         "legendgroup": "Observatory Circle",
         "marker": {
          "color": "blue"
         },
         "mode": "lines+markers",
         "name": "listings",
         "showlegend": true,
         "text": [
          "Observatory Circle"
         ],
         "type": "scatter",
         "x": [
          "2017"
         ],
         "y": [
          1
         ]
        },
        {
         "legendgroup": "Palisades",
         "marker": {
          "color": "blue"
         },
         "mode": "lines+markers",
         "name": "listings",
         "showlegend": true,
         "text": [
          "Palisades",
          "Palisades",
          "Palisades",
          "Palisades",
          "Palisades",
          "Palisades",
          "Palisades",
          "Palisades",
          "Palisades"
         ],
         "type": "scatter",
         "x": [
          "2009",
          "2012",
          "2013",
          "2014",
          "2015",
          "2016",
          "2017",
          "2018",
          "2019"
         ],
         "y": [
          1,
          3,
          4,
          6,
          11,
          18,
          25,
          38,
          45
         ]
        },
        {
         "legendgroup": "Park View",
         "marker": {
          "color": "blue"
         },
         "mode": "lines+markers",
         "name": "listings",
         "showlegend": true,
         "text": [
          "Park View",
          "Park View",
          "Park View",
          "Park View",
          "Park View",
          "Park View",
          "Park View",
          "Park View",
          "Park View"
         ],
         "type": "scatter",
         "x": [
          "2011",
          "2012",
          "2013",
          "2014",
          "2015",
          "2016",
          "2017",
          "2018",
          "2019"
         ],
         "y": [
          2,
          5,
          10,
          17,
          39,
          71,
          105,
          148,
          176
         ]
        },
        {
         "legendgroup": "Petworth",
         "marker": {
          "color": "blue"
         },
         "mode": "lines+markers",
         "name": "listings",
         "showlegend": true,
         "text": [
          "Petworth",
          "Petworth",
          "Petworth",
          "Petworth",
          "Petworth",
          "Petworth",
          "Petworth",
          "Petworth",
          "Petworth",
          "Petworth"
         ],
         "type": "scatter",
         "x": [
          "2010",
          "2011",
          "2012",
          "2013",
          "2014",
          "2015",
          "2016",
          "2017",
          "2018",
          "2019"
         ],
         "y": [
          7,
          11,
          19,
          24,
          45,
          82,
          133,
          186,
          255,
          294
         ]
        },
        {
         "legendgroup": "Pleasant Hill",
         "marker": {
          "color": "blue"
         },
         "mode": "lines+markers",
         "name": "listings",
         "showlegend": true,
         "text": [
          "Pleasant Hill",
          "Pleasant Hill",
          "Pleasant Hill",
          "Pleasant Hill",
          "Pleasant Hill",
          "Pleasant Hill"
         ],
         "type": "scatter",
         "x": [
          "2012",
          "2014",
          "2016",
          "2017",
          "2018",
          "2019"
         ],
         "y": [
          1,
          2,
          8,
          13,
          16,
          18
         ]
        },
        {
         "legendgroup": "Pleasant Plains",
         "marker": {
          "color": "blue"
         },
         "mode": "lines+markers",
         "name": "listings",
         "showlegend": true,
         "text": [
          "Pleasant Plains",
          "Pleasant Plains",
          "Pleasant Plains",
          "Pleasant Plains",
          "Pleasant Plains",
          "Pleasant Plains",
          "Pleasant Plains",
          "Pleasant Plains"
         ],
         "type": "scatter",
         "x": [
          "2009",
          "2013",
          "2014",
          "2015",
          "2016",
          "2017",
          "2018",
          "2019"
         ],
         "y": [
          1,
          3,
          4,
          7,
          16,
          24,
          35,
          48
         ]
        },
        {
         "legendgroup": "Randle Highlands",
         "marker": {
          "color": "blue"
         },
         "mode": "lines+markers",
         "name": "listings",
         "showlegend": true,
         "text": [
          "Randle Highlands",
          "Randle Highlands",
          "Randle Highlands",
          "Randle Highlands",
          "Randle Highlands",
          "Randle Highlands"
         ],
         "type": "scatter",
         "x": [
          "2014",
          "2015",
          "2016",
          "2017",
          "2018",
          "2019"
         ],
         "y": [
          2,
          3,
          4,
          7,
          11,
          14
         ]
        },
        {
         "legendgroup": "River Terrace",
         "marker": {
          "color": "blue"
         },
         "mode": "lines+markers",
         "name": "listings",
         "showlegend": true,
         "text": [
          "River Terrace",
          "River Terrace",
          "River Terrace",
          "River Terrace",
          "River Terrace",
          "River Terrace"
         ],
         "type": "scatter",
         "x": [
          "2014",
          "2015",
          "2016",
          "2017",
          "2018",
          "2019"
         ],
         "y": [
          1,
          4,
          6,
          12,
          19,
          22
         ]
        },
        {
         "legendgroup": "Shaw",
         "marker": {
          "color": "blue"
         },
         "mode": "lines+markers",
         "name": "listings",
         "showlegend": true,
         "text": [
          "Shaw",
          "Shaw",
          "Shaw",
          "Shaw",
          "Shaw",
          "Shaw",
          "Shaw",
          "Shaw",
          "Shaw",
          "Shaw",
          "Shaw"
         ],
         "type": "scatter",
         "x": [
          "2009",
          "2010",
          "2011",
          "2012",
          "2013",
          "2014",
          "2015",
          "2016",
          "2017",
          "2018",
          "2019"
         ],
         "y": [
          4,
          8,
          12,
          19,
          32,
          50,
          97,
          170,
          281,
          354,
          403
         ]
        },
        {
         "legendgroup": "Shepherd Park",
         "marker": {
          "color": "blue"
         },
         "mode": "lines+markers",
         "name": "listings",
         "showlegend": true,
         "text": [
          "Shepherd Park",
          "Shepherd Park",
          "Shepherd Park",
          "Shepherd Park",
          "Shepherd Park"
         ],
         "type": "scatter",
         "x": [
          "2012",
          "2014",
          "2016",
          "2017",
          "2019"
         ],
         "y": [
          2,
          3,
          7,
          12,
          13
         ]
        },
        {
         "legendgroup": "Shipley Terrace",
         "marker": {
          "color": "blue"
         },
         "mode": "lines+markers",
         "name": "listings",
         "showlegend": true,
         "text": [
          "Shipley Terrace",
          "Shipley Terrace",
          "Shipley Terrace",
          "Shipley Terrace",
          "Shipley Terrace",
          "Shipley Terrace"
         ],
         "type": "scatter",
         "x": [
          "2012",
          "2014",
          "2015",
          "2017",
          "2018",
          "2019"
         ],
         "y": [
          1,
          4,
          5,
          7,
          21,
          24
         ]
        },
        {
         "legendgroup": "Skyland",
         "marker": {
          "color": "blue"
         },
         "mode": "lines+markers",
         "name": "listings",
         "showlegend": true,
         "text": [
          "Skyland",
          "Skyland"
         ],
         "type": "scatter",
         "x": [
          "2017",
          "2018"
         ],
         "y": [
          1,
          2
         ]
        },
        {
         "legendgroup": "Southwest Waterfront",
         "marker": {
          "color": "blue"
         },
         "mode": "lines+markers",
         "name": "listings",
         "showlegend": true,
         "text": [
          "Southwest Waterfront",
          "Southwest Waterfront",
          "Southwest Waterfront",
          "Southwest Waterfront",
          "Southwest Waterfront",
          "Southwest Waterfront",
          "Southwest Waterfront",
          "Southwest Waterfront",
          "Southwest Waterfront",
          "Southwest Waterfront"
         ],
         "type": "scatter",
         "x": [
          "2008",
          "2011",
          "2012",
          "2013",
          "2014",
          "2015",
          "2016",
          "2017",
          "2018",
          "2019"
         ],
         "y": [
          1,
          3,
          4,
          8,
          17,
          36,
          62,
          92,
          114,
          136
         ]
        },
        {
         "legendgroup": "Spring Valley",
         "marker": {
          "color": "blue"
         },
         "mode": "lines+markers",
         "name": "listings",
         "showlegend": true,
         "text": [
          "Spring Valley",
          "Spring Valley",
          "Spring Valley"
         ],
         "type": "scatter",
         "x": [
          "2014",
          "2015",
          "2019"
         ],
         "y": [
          1,
          3,
          4
         ]
        },
        {
         "legendgroup": "St. Elizabeths",
         "marker": {
          "color": "blue"
         },
         "mode": "lines+markers",
         "name": "listings",
         "showlegend": true,
         "text": [
          "St. Elizabeths",
          "St. Elizabeths",
          "St. Elizabeths",
          "St. Elizabeths",
          "St. Elizabeths"
         ],
         "type": "scatter",
         "x": [
          "2015",
          "2016",
          "2017",
          "2018",
          "2019"
         ],
         "y": [
          2,
          5,
          9,
          10,
          11
         ]
        },
        {
         "legendgroup": "Stronghold",
         "marker": {
          "color": "blue"
         },
         "mode": "lines+markers",
         "name": "listings",
         "showlegend": true,
         "text": [
          "Stronghold",
          "Stronghold",
          "Stronghold",
          "Stronghold",
          "Stronghold",
          "Stronghold",
          "Stronghold"
         ],
         "type": "scatter",
         "x": [
          "2010",
          "2014",
          "2015",
          "2016",
          "2017",
          "2018",
          "2019"
         ],
         "y": [
          1,
          3,
          5,
          10,
          18,
          31,
          35
         ]
        },
        {
         "legendgroup": "Takoma",
         "marker": {
          "color": "blue"
         },
         "mode": "lines+markers",
         "name": "listings",
         "showlegend": true,
         "text": [
          "Takoma",
          "Takoma",
          "Takoma",
          "Takoma",
          "Takoma",
          "Takoma",
          "Takoma",
          "Takoma"
         ],
         "type": "scatter",
         "x": [
          "2011",
          "2012",
          "2013",
          "2015",
          "2016",
          "2017",
          "2018",
          "2019"
         ],
         "y": [
          3,
          4,
          8,
          14,
          19,
          33,
          45,
          51
         ]
        },
        {
         "legendgroup": "Takoma Park, MD",
         "marker": {
          "color": "blue"
         },
         "mode": "lines+markers",
         "name": "listings",
         "showlegend": true,
         "text": [
          "Takoma Park, MD"
         ],
         "type": "scatter",
         "x": [
          "2011"
         ],
         "y": [
          1
         ]
        },
        {
         "legendgroup": "Tenleytown",
         "marker": {
          "color": "blue"
         },
         "mode": "lines+markers",
         "name": "listings",
         "showlegend": true,
         "text": [
          "Tenleytown"
         ],
         "type": "scatter",
         "x": [
          "2015"
         ],
         "y": [
          1
         ]
        },
        {
         "legendgroup": "Trinidad",
         "marker": {
          "color": "blue"
         },
         "mode": "lines+markers",
         "name": "listings",
         "showlegend": true,
         "text": [
          "Trinidad",
          "Trinidad",
          "Trinidad",
          "Trinidad",
          "Trinidad",
          "Trinidad",
          "Trinidad",
          "Trinidad",
          "Trinidad",
          "Trinidad"
         ],
         "type": "scatter",
         "x": [
          "2009",
          "2011",
          "2012",
          "2013",
          "2014",
          "2015",
          "2016",
          "2017",
          "2018",
          "2019"
         ],
         "y": [
          1,
          3,
          4,
          10,
          16,
          26,
          52,
          90,
          140,
          183
         ]
        },
        {
         "legendgroup": "Truxton Circle",
         "marker": {
          "color": "blue"
         },
         "mode": "lines+markers",
         "name": "listings",
         "showlegend": true,
         "text": [
          "Truxton Circle",
          "Truxton Circle",
          "Truxton Circle",
          "Truxton Circle",
          "Truxton Circle",
          "Truxton Circle",
          "Truxton Circle",
          "Truxton Circle"
         ],
         "type": "scatter",
         "x": [
          "2009",
          "2012",
          "2014",
          "2015",
          "2016",
          "2017",
          "2018",
          "2019"
         ],
         "y": [
          1,
          2,
          3,
          11,
          19,
          33,
          47,
          54
         ]
        },
        {
         "legendgroup": "Twining",
         "marker": {
          "color": "blue"
         },
         "mode": "lines+markers",
         "name": "listings",
         "showlegend": true,
         "text": [
          "Twining",
          "Twining"
         ],
         "type": "scatter",
         "x": [
          "2016",
          "2018"
         ],
         "y": [
          3,
          4
         ]
        },
        {
         "legendgroup": "U Street Corridor",
         "marker": {
          "color": "blue"
         },
         "mode": "lines+markers",
         "name": "listings",
         "showlegend": true,
         "text": [
          "U Street Corridor",
          "U Street Corridor",
          "U Street Corridor",
          "U Street Corridor",
          "U Street Corridor",
          "U Street Corridor",
          "U Street Corridor",
          "U Street Corridor",
          "U Street Corridor",
          "U Street Corridor"
         ],
         "type": "scatter",
         "x": [
          "2009",
          "2010",
          "2012",
          "2013",
          "2014",
          "2015",
          "2016",
          "2017",
          "2018",
          "2019"
         ],
         "y": [
          4,
          6,
          10,
          35,
          61,
          110,
          180,
          257,
          314,
          365
         ]
        },
        {
         "legendgroup": "Washington Highlands",
         "marker": {
          "color": "blue"
         },
         "mode": "lines+markers",
         "name": "listings",
         "showlegend": true,
         "text": [
          "Washington Highlands",
          "Washington Highlands",
          "Washington Highlands"
         ],
         "type": "scatter",
         "x": [
          "2017",
          "2018",
          "2019"
         ],
         "y": [
          2,
          9,
          10
         ]
        },
        {
         "legendgroup": "Wesley Heights",
         "marker": {
          "color": "blue"
         },
         "mode": "lines+markers",
         "name": "listings",
         "showlegend": true,
         "text": [
          "Wesley Heights",
          "Wesley Heights",
          "Wesley Heights",
          "Wesley Heights",
          "Wesley Heights",
          "Wesley Heights"
         ],
         "type": "scatter",
         "x": [
          "2013",
          "2014",
          "2016",
          "2017",
          "2018",
          "2019"
         ],
         "y": [
          1,
          2,
          5,
          8,
          10,
          11
         ]
        },
        {
         "legendgroup": "West End",
         "marker": {
          "color": "blue"
         },
         "mode": "lines+markers",
         "name": "listings",
         "showlegend": true,
         "text": [
          "West End",
          "West End",
          "West End",
          "West End",
          "West End",
          "West End"
         ],
         "type": "scatter",
         "x": [
          "2014",
          "2015",
          "2016",
          "2017",
          "2018",
          "2019"
         ],
         "y": [
          1,
          4,
          13,
          21,
          26,
          37
         ]
        },
        {
         "legendgroup": "Woodland",
         "marker": {
          "color": "blue"
         },
         "mode": "lines+markers",
         "name": "listings",
         "showlegend": true,
         "text": [
          "Woodland"
         ],
         "type": "scatter",
         "x": [
          "2017"
         ],
         "y": [
          1
         ]
        },
        {
         "legendgroup": "Woodland-Normanstone Terrace",
         "marker": {
          "color": "blue"
         },
         "mode": "lines+markers",
         "name": "listings",
         "showlegend": true,
         "text": [
          "Woodland-Normanstone Terrace"
         ],
         "type": "scatter",
         "x": [
          "2018"
         ],
         "y": [
          1
         ]
        },
        {
         "legendgroup": "Woodley Park",
         "marker": {
          "color": "blue"
         },
         "mode": "lines+markers",
         "name": "listings",
         "showlegend": true,
         "text": [
          "Woodley Park",
          "Woodley Park",
          "Woodley Park",
          "Woodley Park",
          "Woodley Park",
          "Woodley Park",
          "Woodley Park",
          "Woodley Park",
          "Woodley Park"
         ],
         "type": "scatter",
         "x": [
          "2011",
          "2012",
          "2013",
          "2014",
          "2015",
          "2016",
          "2017",
          "2018",
          "2019"
         ],
         "y": [
          2,
          4,
          8,
          13,
          23,
          33,
          46,
          57,
          63
         ]
        },
        {
         "legendgroup": "Woodridge",
         "marker": {
          "color": "blue"
         },
         "mode": "lines+markers",
         "name": "listings",
         "showlegend": true,
         "text": [
          "Woodridge",
          "Woodridge",
          "Woodridge",
          "Woodridge",
          "Woodridge",
          "Woodridge",
          "Woodridge"
         ],
         "type": "scatter",
         "x": [
          "2012",
          "2014",
          "2015",
          "2016",
          "2017",
          "2018",
          "2019"
         ],
         "y": [
          1,
          2,
          7,
          17,
          24,
          32,
          39
         ]
        },
        {
         "legendgroup": "16th Street Heights",
         "marker": {
          "color": "black"
         },
         "mode": "lines+markers",
         "name": "hosts",
         "text": [
          "16th Street Heights",
          "16th Street Heights",
          "16th Street Heights",
          "16th Street Heights",
          "16th Street Heights",
          "16th Street Heights",
          "16th Street Heights",
          "16th Street Heights",
          "16th Street Heights",
          "16th Street Heights",
          "16th Street Heights"
         ],
         "type": "scatter",
         "x": [
          "2008",
          "2009",
          "2011",
          "2012",
          "2013",
          "2014",
          "2015",
          "2016",
          "2017",
          "2018",
          "2019"
         ],
         "y": [
          2,
          4,
          10,
          19,
          38,
          66,
          96,
          121,
          131,
          139,
          142
         ]
        },
        {
         "legendgroup": "Adams Morgan",
         "marker": {
          "color": "black"
         },
         "mode": "lines+markers",
         "name": "hosts",
         "text": [
          "Adams Morgan",
          "Adams Morgan",
          "Adams Morgan",
          "Adams Morgan",
          "Adams Morgan",
          "Adams Morgan",
          "Adams Morgan",
          "Adams Morgan",
          "Adams Morgan",
          "Adams Morgan"
         ],
         "type": "scatter",
         "x": [
          "2009",
          "2011",
          "2012",
          "2013",
          "2014",
          "2015",
          "2016",
          "2017",
          "2018",
          "2019"
         ],
         "y": [
          2,
          16,
          37,
          84,
          116,
          147,
          179,
          189,
          199,
          203
         ]
        },
        {
         "legendgroup": "American University Park",
         "marker": {
          "color": "black"
         },
         "mode": "lines+markers",
         "name": "hosts",
         "text": [
          "American University Park",
          "American University Park",
          "American University Park",
          "American University Park",
          "American University Park",
          "American University Park",
          "American University Park",
          "American University Park",
          "American University Park"
         ],
         "type": "scatter",
         "x": [
          "2009",
          "2011",
          "2013",
          "2014",
          "2015",
          "2016",
          "2017",
          "2018",
          "2019"
         ],
         "y": [
          1,
          2,
          7,
          10,
          16,
          27,
          30,
          31,
          33
         ]
        },
        {
         "legendgroup": "Anacostia",
         "marker": {
          "color": "black"
         },
         "mode": "lines+markers",
         "name": "hosts",
         "text": [
          "Anacostia",
          "Anacostia",
          "Anacostia",
          "Anacostia",
          "Anacostia",
          "Anacostia",
          "Anacostia",
          "Anacostia",
          "Anacostia",
          "Anacostia"
         ],
         "type": "scatter",
         "x": [
          "2010",
          "2011",
          "2012",
          "2013",
          "2014",
          "2015",
          "2016",
          "2017",
          "2018",
          "2019"
         ],
         "y": [
          1,
          6,
          9,
          12,
          15,
          20,
          25,
          32,
          36,
          38
         ]
        },
        {
         "legendgroup": "Arboretum",
         "marker": {
          "color": "black"
         },
         "mode": "lines+markers",
         "name": "hosts",
         "text": [
          "Arboretum",
          "Arboretum"
         ],
         "type": "scatter",
         "x": [
          "2016",
          "2017"
         ],
         "y": [
          2,
          3
         ]
        },
        {
         "legendgroup": "Barney Circle",
         "marker": {
          "color": "black"
         },
         "mode": "lines+markers",
         "name": "hosts",
         "text": [
          "Barney Circle",
          "Barney Circle",
          "Barney Circle",
          "Barney Circle",
          "Barney Circle",
          "Barney Circle",
          "Barney Circle",
          "Barney Circle",
          "Barney Circle",
          "Barney Circle"
         ],
         "type": "scatter",
         "x": [
          "2009",
          "2011",
          "2012",
          "2013",
          "2014",
          "2015",
          "2016",
          "2017",
          "2018",
          "2019"
         ],
         "y": [
          1,
          6,
          19,
          32,
          47,
          66,
          87,
          91,
          100,
          101
         ]
        },
        {
         "legendgroup": "Barry Farm",
         "marker": {
          "color": "black"
         },
         "mode": "lines+markers",
         "name": "hosts",
         "text": [
          "Barry Farm",
          "Barry Farm",
          "Barry Farm",
          "Barry Farm"
         ],
         "type": "scatter",
         "x": [
          "2012",
          "2016",
          "2018",
          "2019"
         ],
         "y": [
          1,
          2,
          5,
          6
         ]
        },
        {
         "legendgroup": "Bellevue",
         "marker": {
          "color": "black"
         },
         "mode": "lines+markers",
         "name": "hosts",
         "text": [
          "Bellevue",
          "Bellevue",
          "Bellevue",
          "Bellevue",
          "Bellevue",
          "Bellevue"
         ],
         "type": "scatter",
         "x": [
          "2014",
          "2015",
          "2016",
          "2017",
          "2018",
          "2019"
         ],
         "y": [
          1,
          4,
          7,
          10,
          12,
          13
         ]
        },
        {
         "legendgroup": "Benning",
         "marker": {
          "color": "black"
         },
         "mode": "lines+markers",
         "name": "hosts",
         "text": [
          "Benning",
          "Benning",
          "Benning",
          "Benning",
          "Benning",
          "Benning"
         ],
         "type": "scatter",
         "x": [
          "2012",
          "2013",
          "2014",
          "2015",
          "2016",
          "2017"
         ],
         "y": [
          1,
          3,
          4,
          7,
          9,
          10
         ]
        },
        {
         "legendgroup": "Benning Heights",
         "marker": {
          "color": "black"
         },
         "mode": "lines+markers",
         "name": "hosts",
         "text": [
          "Benning Heights",
          "Benning Heights",
          "Benning Heights",
          "Benning Heights"
         ],
         "type": "scatter",
         "x": [
          "2012",
          "2014",
          "2015",
          "2016"
         ],
         "y": [
          1,
          2,
          3,
          5
         ]
        },
        {
         "legendgroup": "Benning Ridge",
         "marker": {
          "color": "black"
         },
         "mode": "lines+markers",
         "name": "hosts",
         "text": [
          "Benning Ridge",
          "Benning Ridge",
          "Benning Ridge",
          "Benning Ridge",
          "Benning Ridge",
          "Benning Ridge",
          "Benning Ridge",
          "Benning Ridge"
         ],
         "type": "scatter",
         "x": [
          "2012",
          "2013",
          "2014",
          "2015",
          "2016",
          "2017",
          "2018",
          "2019"
         ],
         "y": [
          1,
          3,
          5,
          7,
          9,
          11,
          14,
          15
         ]
        },
        {
         "legendgroup": "Berkley",
         "marker": {
          "color": "black"
         },
         "mode": "lines+markers",
         "name": "hosts",
         "text": [
          "Berkley",
          "Berkley",
          "Berkley"
         ],
         "type": "scatter",
         "x": [
          "2014",
          "2015",
          "2018"
         ],
         "y": [
          2,
          3,
          4
         ]
        },
        {
         "legendgroup": "Bloomingdale",
         "marker": {
          "color": "black"
         },
         "mode": "lines+markers",
         "name": "hosts",
         "text": [
          "Bloomingdale",
          "Bloomingdale",
          "Bloomingdale",
          "Bloomingdale",
          "Bloomingdale",
          "Bloomingdale",
          "Bloomingdale",
          "Bloomingdale",
          "Bloomingdale",
          "Bloomingdale",
          "Bloomingdale",
          "Bloomingdale"
         ],
         "type": "scatter",
         "x": [
          "2008",
          "2009",
          "2010",
          "2011",
          "2012",
          "2013",
          "2014",
          "2015",
          "2016",
          "2017",
          "2018",
          "2019"
         ],
         "y": [
          2,
          4,
          9,
          17,
          37,
          56,
          90,
          125,
          153,
          164,
          171,
          173
         ]
        },
        {
         "legendgroup": "Brentwood",
         "marker": {
          "color": "black"
         },
         "mode": "lines+markers",
         "name": "hosts",
         "text": [
          "Brentwood",
          "Brentwood",
          "Brentwood",
          "Brentwood",
          "Brentwood",
          "Brentwood",
          "Brentwood",
          "Brentwood"
         ],
         "type": "scatter",
         "x": [
          "2009",
          "2012",
          "2013",
          "2014",
          "2015",
          "2016",
          "2017",
          "2018"
         ],
         "y": [
          1,
          5,
          6,
          11,
          16,
          20,
          24,
          26
         ]
        },
        {
         "legendgroup": "Brightwood",
         "marker": {
          "color": "black"
         },
         "mode": "lines+markers",
         "name": "hosts",
         "text": [
          "Brightwood",
          "Brightwood",
          "Brightwood",
          "Brightwood",
          "Brightwood",
          "Brightwood",
          "Brightwood",
          "Brightwood"
         ],
         "type": "scatter",
         "x": [
          "2011",
          "2012",
          "2013",
          "2014",
          "2015",
          "2016",
          "2017",
          "2018"
         ],
         "y": [
          1,
          3,
          5,
          6,
          8,
          13,
          15,
          17
         ]
        },
        {
         "legendgroup": "Brookland",
         "marker": {
          "color": "black"
         },
         "mode": "lines+markers",
         "name": "hosts",
         "text": [
          "Brookland",
          "Brookland",
          "Brookland",
          "Brookland",
          "Brookland",
          "Brookland",
          "Brookland",
          "Brookland"
         ],
         "type": "scatter",
         "x": [
          "2012",
          "2013",
          "2014",
          "2015",
          "2016",
          "2017",
          "2018",
          "2019"
         ],
         "y": [
          4,
          13,
          26,
          42,
          51,
          60,
          65,
          66
         ]
        },
        {
         "legendgroup": "Buena Vista",
         "marker": {
          "color": "black"
         },
         "mode": "lines+markers",
         "name": "hosts",
         "text": [
          "Buena Vista",
          "Buena Vista",
          "Buena Vista",
          "Buena Vista",
          "Buena Vista",
          "Buena Vista",
          "Buena Vista",
          "Buena Vista"
         ],
         "type": "scatter",
         "x": [
          "2008",
          "2011",
          "2012",
          "2014",
          "2015",
          "2016",
          "2017",
          "2018"
         ],
         "y": [
          1,
          3,
          6,
          10,
          14,
          21,
          27,
          32
         ]
        },
        {
         "legendgroup": "Burleith",
         "marker": {
          "color": "black"
         },
         "mode": "lines+markers",
         "name": "hosts",
         "text": [
          "Burleith",
          "Burleith",
          "Burleith",
          "Burleith",
          "Burleith",
          "Burleith",
          "Burleith",
          "Burleith",
          "Burleith"
         ],
         "type": "scatter",
         "x": [
          "2008",
          "2010",
          "2011",
          "2012",
          "2013",
          "2014",
          "2015",
          "2016",
          "2017"
         ],
         "y": [
          1,
          2,
          3,
          7,
          11,
          12,
          16,
          27,
          29
         ]
        },
        {
         "legendgroup": "Capitol Hill",
         "marker": {
          "color": "black"
         },
         "mode": "lines+markers",
         "name": "hosts",
         "text": [
          "Capitol Hill",
          "Capitol Hill",
          "Capitol Hill",
          "Capitol Hill",
          "Capitol Hill",
          "Capitol Hill",
          "Capitol Hill",
          "Capitol Hill",
          "Capitol Hill",
          "Capitol Hill",
          "Capitol Hill",
          "Capitol Hill",
          "Capitol Hill"
         ],
         "type": "scatter",
         "x": [
          "2008",
          "2009",
          "2010",
          "2011",
          "2012",
          "2013",
          "2014",
          "2015",
          "2016",
          "2017",
          "2018",
          "2019",
          "NaT"
         ],
         "y": [
          1,
          8,
          12,
          31,
          81,
          168,
          294,
          429,
          571,
          630,
          654,
          670,
          671
         ]
        },
        {
         "legendgroup": "Carver Langston",
         "marker": {
          "color": "black"
         },
         "mode": "lines+markers",
         "name": "hosts",
         "text": [
          "Carver Langston",
          "Carver Langston",
          "Carver Langston",
          "Carver Langston",
          "Carver Langston",
          "Carver Langston",
          "Carver Langston",
          "Carver Langston",
          "Carver Langston"
         ],
         "type": "scatter",
         "x": [
          "2011",
          "2012",
          "2013",
          "2014",
          "2015",
          "2016",
          "2017",
          "2018",
          "2019"
         ],
         "y": [
          2,
          4,
          5,
          12,
          17,
          23,
          29,
          33,
          34
         ]
        },
        {
         "legendgroup": "Cathedral Heights",
         "marker": {
          "color": "black"
         },
         "mode": "lines+markers",
         "name": "hosts",
         "text": [
          "Cathedral Heights",
          "Cathedral Heights",
          "Cathedral Heights",
          "Cathedral Heights",
          "Cathedral Heights",
          "Cathedral Heights",
          "Cathedral Heights",
          "Cathedral Heights"
         ],
         "type": "scatter",
         "x": [
          "2009",
          "2012",
          "2013",
          "2014",
          "2015",
          "2016",
          "2017",
          "2018"
         ],
         "y": [
          1,
          2,
          3,
          8,
          10,
          12,
          14,
          15
         ]
        },
        {
         "legendgroup": "Catholic University",
         "marker": {
          "color": "black"
         },
         "mode": "lines+markers",
         "name": "hosts",
         "text": [],
         "type": "scatter",
         "x": [],
         "y": []
        },
        {
         "legendgroup": "Central Northeast/Mahaning Heights",
         "marker": {
          "color": "black"
         },
         "mode": "lines+markers",
         "name": "hosts",
         "text": [
          "Central Northeast/Mahaning Heights",
          "Central Northeast/Mahaning Heights",
          "Central Northeast/Mahaning Heights",
          "Central Northeast/Mahaning Heights",
          "Central Northeast/Mahaning Heights",
          "Central Northeast/Mahaning Heights",
          "Central Northeast/Mahaning Heights",
          "Central Northeast/Mahaning Heights"
         ],
         "type": "scatter",
         "x": [
          "2012",
          "2013",
          "2014",
          "2015",
          "2016",
          "2017",
          "2018",
          "2019"
         ],
         "y": [
          2,
          3,
          7,
          10,
          18,
          24,
          27,
          28
         ]
        },
        {
         "legendgroup": "Chevy Chase",
         "marker": {
          "color": "black"
         },
         "mode": "lines+markers",
         "name": "hosts",
         "text": [
          "Chevy Chase",
          "Chevy Chase",
          "Chevy Chase",
          "Chevy Chase",
          "Chevy Chase",
          "Chevy Chase",
          "Chevy Chase",
          "Chevy Chase",
          "Chevy Chase"
         ],
         "type": "scatter",
         "x": [
          "2010",
          "2011",
          "2012",
          "2013",
          "2014",
          "2015",
          "2016",
          "2017",
          "2018"
         ],
         "y": [
          1,
          3,
          6,
          11,
          19,
          24,
          32,
          39,
          41
         ]
        },
        {
         "legendgroup": "Civic Betterment",
         "marker": {
          "color": "black"
         },
         "mode": "lines+markers",
         "name": "hosts",
         "text": [
          "Civic Betterment"
         ],
         "type": "scatter",
         "x": [
          "2016"
         ],
         "y": [
          2
         ]
        },
        {
         "legendgroup": "Cleveland Park",
         "marker": {
          "color": "black"
         },
         "mode": "lines+markers",
         "name": "hosts",
         "text": [
          "Cleveland Park",
          "Cleveland Park",
          "Cleveland Park",
          "Cleveland Park",
          "Cleveland Park",
          "Cleveland Park",
          "Cleveland Park",
          "Cleveland Park",
          "Cleveland Park",
          "Cleveland Park"
         ],
         "type": "scatter",
         "x": [
          "2010",
          "2011",
          "2012",
          "2013",
          "2014",
          "2015",
          "2016",
          "2017",
          "2018",
          "2019"
         ],
         "y": [
          1,
          3,
          8,
          15,
          38,
          54,
          65,
          71,
          73,
          75
         ]
        },
        {
         "legendgroup": "Colonial Village",
         "marker": {
          "color": "black"
         },
         "mode": "lines+markers",
         "name": "hosts",
         "text": [
          "Colonial Village",
          "Colonial Village",
          "Colonial Village",
          "Colonial Village",
          "Colonial Village"
         ],
         "type": "scatter",
         "x": [
          "2011",
          "2013",
          "2014",
          "2015",
          "2017"
         ],
         "y": [
          1,
          4,
          6,
          10,
          11
         ]
        },
        {
         "legendgroup": "Columbia Heights",
         "marker": {
          "color": "black"
         },
         "mode": "lines+markers",
         "name": "hosts",
         "text": [
          "Columbia Heights",
          "Columbia Heights",
          "Columbia Heights",
          "Columbia Heights",
          "Columbia Heights",
          "Columbia Heights",
          "Columbia Heights",
          "Columbia Heights",
          "Columbia Heights",
          "Columbia Heights",
          "Columbia Heights"
         ],
         "type": "scatter",
         "x": [
          "2009",
          "2010",
          "2011",
          "2012",
          "2013",
          "2014",
          "2015",
          "2016",
          "2017",
          "2018",
          "2019"
         ],
         "y": [
          2,
          8,
          22,
          54,
          113,
          177,
          248,
          291,
          323,
          334,
          344
         ]
        },
        {
         "legendgroup": "Congress Heights",
         "marker": {
          "color": "black"
         },
         "mode": "lines+markers",
         "name": "hosts",
         "text": [
          "Congress Heights",
          "Congress Heights",
          "Congress Heights",
          "Congress Heights",
          "Congress Heights",
          "Congress Heights"
         ],
         "type": "scatter",
         "x": [
          "2013",
          "2014",
          "2015",
          "2016",
          "2017",
          "2018"
         ],
         "y": [
          2,
          4,
          7,
          9,
          11,
          13
         ]
        },
        {
         "legendgroup": "Crestwood",
         "marker": {
          "color": "black"
         },
         "mode": "lines+markers",
         "name": "hosts",
         "text": [
          "Crestwood",
          "Crestwood",
          "Crestwood",
          "Crestwood",
          "Crestwood",
          "Crestwood",
          "Crestwood",
          "Crestwood",
          "Crestwood"
         ],
         "type": "scatter",
         "x": [
          "2011",
          "2012",
          "2013",
          "2014",
          "2015",
          "2016",
          "2017",
          "2018",
          "2019"
         ],
         "y": [
          4,
          5,
          8,
          9,
          11,
          14,
          17,
          18,
          19
         ]
        },
        {
         "legendgroup": "Deanwood",
         "marker": {
          "color": "black"
         },
         "mode": "lines+markers",
         "name": "hosts",
         "text": [
          "Deanwood",
          "Deanwood",
          "Deanwood",
          "Deanwood",
          "Deanwood",
          "Deanwood",
          "Deanwood",
          "Deanwood"
         ],
         "type": "scatter",
         "x": [
          "2011",
          "2013",
          "2014",
          "2015",
          "2016",
          "2017",
          "2018",
          "2019"
         ],
         "y": [
          1,
          5,
          7,
          9,
          11,
          16,
          18,
          19
         ]
        },
        {
         "legendgroup": "Douglass",
         "marker": {
          "color": "black"
         },
         "mode": "lines+markers",
         "name": "hosts",
         "text": [
          "Douglass",
          "Douglass",
          "Douglass",
          "Douglass",
          "Douglass"
         ],
         "type": "scatter",
         "x": [
          "2012",
          "2015",
          "2016",
          "2017",
          "2018"
         ],
         "y": [
          1,
          3,
          5,
          8,
          10
         ]
        },
        {
         "legendgroup": "Downtown/Penn Quarter",
         "marker": {
          "color": "black"
         },
         "mode": "lines+markers",
         "name": "hosts",
         "text": [
          "Downtown/Penn Quarter",
          "Downtown/Penn Quarter",
          "Downtown/Penn Quarter",
          "Downtown/Penn Quarter",
          "Downtown/Penn Quarter",
          "Downtown/Penn Quarter",
          "Downtown/Penn Quarter",
          "Downtown/Penn Quarter",
          "Downtown/Penn Quarter",
          "Downtown/Penn Quarter",
          "Downtown/Penn Quarter"
         ],
         "type": "scatter",
         "x": [
          "2008",
          "2010",
          "2011",
          "2012",
          "2013",
          "2014",
          "2015",
          "2016",
          "2017",
          "2019",
          "NaT"
         ],
         "y": [
          1,
          2,
          3,
          10,
          15,
          40,
          65,
          79,
          86,
          90,
          91
         ]
        },
        {
         "legendgroup": "Dupont Circle",
         "marker": {
          "color": "black"
         },
         "mode": "lines+markers",
         "name": "hosts",
         "text": [
          "Dupont Circle",
          "Dupont Circle",
          "Dupont Circle",
          "Dupont Circle",
          "Dupont Circle",
          "Dupont Circle",
          "Dupont Circle",
          "Dupont Circle",
          "Dupont Circle",
          "Dupont Circle"
         ],
         "type": "scatter",
         "x": [
          "2010",
          "2011",
          "2012",
          "2013",
          "2014",
          "2015",
          "2016",
          "2017",
          "2018",
          "2019"
         ],
         "y": [
          2,
          12,
          31,
          73,
          129,
          191,
          240,
          256,
          266,
          273
         ]
        },
        {
         "legendgroup": "Dupont Park",
         "marker": {
          "color": "black"
         },
         "mode": "lines+markers",
         "name": "hosts",
         "text": [
          "Dupont Park",
          "Dupont Park",
          "Dupont Park"
         ],
         "type": "scatter",
         "x": [
          "2013",
          "2016",
          "2018"
         ],
         "y": [
          2,
          5,
          7
         ]
        },
        {
         "legendgroup": "East Corner",
         "marker": {
          "color": "black"
         },
         "mode": "lines+markers",
         "name": "hosts",
         "text": [
          "East Corner"
         ],
         "type": "scatter",
         "x": [
          "2014"
         ],
         "y": [
          2
         ]
        },
        {
         "legendgroup": "Eastland Gardens",
         "marker": {
          "color": "black"
         },
         "mode": "lines+markers",
         "name": "hosts",
         "text": [
          "Eastland Gardens",
          "Eastland Gardens",
          "Eastland Gardens",
          "Eastland Gardens",
          "Eastland Gardens"
         ],
         "type": "scatter",
         "x": [
          "2008",
          "2012",
          "2013",
          "2015",
          "2016"
         ],
         "y": [
          1,
          2,
          3,
          5,
          6
         ]
        },
        {
         "legendgroup": "Eckington",
         "marker": {
          "color": "black"
         },
         "mode": "lines+markers",
         "name": "hosts",
         "text": [
          "Eckington",
          "Eckington",
          "Eckington",
          "Eckington",
          "Eckington",
          "Eckington",
          "Eckington",
          "Eckington",
          "Eckington",
          "Eckington",
          "Eckington",
          "Eckington"
         ],
         "type": "scatter",
         "x": [
          "2008",
          "2009",
          "2010",
          "2011",
          "2012",
          "2013",
          "2014",
          "2015",
          "2016",
          "2017",
          "2018",
          "2019"
         ],
         "y": [
          2,
          4,
          5,
          10,
          23,
          41,
          64,
          84,
          112,
          126,
          132,
          136
         ]
        },
        {
         "legendgroup": "Edgewood",
         "marker": {
          "color": "black"
         },
         "mode": "lines+markers",
         "name": "hosts",
         "text": [
          "Edgewood",
          "Edgewood",
          "Edgewood",
          "Edgewood",
          "Edgewood",
          "Edgewood",
          "Edgewood",
          "Edgewood",
          "Edgewood",
          "Edgewood",
          "Edgewood"
         ],
         "type": "scatter",
         "x": [
          "2008",
          "2010",
          "2011",
          "2012",
          "2013",
          "2014",
          "2015",
          "2016",
          "2017",
          "2018",
          "2019"
         ],
         "y": [
          1,
          2,
          3,
          10,
          21,
          30,
          55,
          59,
          64,
          66,
          67
         ]
        },
        {
         "legendgroup": "Fairlawn",
         "marker": {
          "color": "black"
         },
         "mode": "lines+markers",
         "name": "hosts",
         "text": [
          "Fairlawn",
          "Fairlawn",
          "Fairlawn",
          "Fairlawn",
          "Fairlawn",
          "Fairlawn",
          "Fairlawn",
          "Fairlawn"
         ],
         "type": "scatter",
         "x": [
          "2011",
          "2012",
          "2013",
          "2014",
          "2015",
          "2016",
          "2018",
          "2019"
         ],
         "y": [
          2,
          4,
          5,
          10,
          18,
          23,
          26,
          29
         ]
        },
        {
         "legendgroup": "Foggy Bottom",
         "marker": {
          "color": "black"
         },
         "mode": "lines+markers",
         "name": "hosts",
         "text": [
          "Foggy Bottom",
          "Foggy Bottom",
          "Foggy Bottom",
          "Foggy Bottom",
          "Foggy Bottom",
          "Foggy Bottom",
          "Foggy Bottom",
          "Foggy Bottom",
          "Foggy Bottom",
          "Foggy Bottom"
         ],
         "type": "scatter",
         "x": [
          "2010",
          "2011",
          "2012",
          "2013",
          "2014",
          "2015",
          "2016",
          "2017",
          "2018",
          "2019"
         ],
         "y": [
          1,
          2,
          9,
          17,
          36,
          60,
          77,
          86,
          93,
          95
         ]
        },
        {
         "legendgroup": "Forest Hills",
         "marker": {
          "color": "black"
         },
         "mode": "lines+markers",
         "name": "hosts",
         "text": [
          "Forest Hills",
          "Forest Hills",
          "Forest Hills",
          "Forest Hills",
          "Forest Hills",
          "Forest Hills",
          "Forest Hills",
          "Forest Hills",
          "Forest Hills",
          "Forest Hills"
         ],
         "type": "scatter",
         "x": [
          "2010",
          "2011",
          "2012",
          "2013",
          "2014",
          "2015",
          "2016",
          "2017",
          "2018",
          "2019"
         ],
         "y": [
          1,
          2,
          4,
          5,
          14,
          23,
          31,
          39,
          40,
          42
         ]
        },
        {
         "legendgroup": "Fort Davis",
         "marker": {
          "color": "black"
         },
         "mode": "lines+markers",
         "name": "hosts",
         "text": [
          "Fort Davis",
          "Fort Davis",
          "Fort Davis",
          "Fort Davis",
          "Fort Davis",
          "Fort Davis"
         ],
         "type": "scatter",
         "x": [
          "2014",
          "2015",
          "2016",
          "2017",
          "2018",
          "2019"
         ],
         "y": [
          1,
          2,
          4,
          5,
          6,
          9
         ]
        },
        {
         "legendgroup": "Fort Dupont",
         "marker": {
          "color": "black"
         },
         "mode": "lines+markers",
         "name": "hosts",
         "text": [
          "Fort Dupont",
          "Fort Dupont",
          "Fort Dupont"
         ],
         "type": "scatter",
         "x": [
          "2012",
          "2015",
          "2016"
         ],
         "y": [
          1,
          2,
          4
         ]
        },
        {
         "legendgroup": "Fort Lincoln",
         "marker": {
          "color": "black"
         },
         "mode": "lines+markers",
         "name": "hosts",
         "text": [
          "Fort Lincoln",
          "Fort Lincoln",
          "Fort Lincoln",
          "Fort Lincoln",
          "Fort Lincoln",
          "Fort Lincoln",
          "Fort Lincoln"
         ],
         "type": "scatter",
         "x": [
          "2012",
          "2013",
          "2014",
          "2015",
          "2016",
          "2017",
          "2018"
         ],
         "y": [
          2,
          6,
          7,
          8,
          12,
          16,
          18
         ]
        },
        {
         "legendgroup": "Fort Totten",
         "marker": {
          "color": "black"
         },
         "mode": "lines+markers",
         "name": "hosts",
         "text": [
          "Fort Totten",
          "Fort Totten",
          "Fort Totten"
         ],
         "type": "scatter",
         "x": [
          "2012",
          "2014",
          "2018"
         ],
         "y": [
          1,
          3,
          4
         ]
        },
        {
         "legendgroup": "Foxhall",
         "marker": {
          "color": "black"
         },
         "mode": "lines+markers",
         "name": "hosts",
         "text": [
          "Foxhall",
          "Foxhall",
          "Foxhall",
          "Foxhall",
          "Foxhall",
          "Foxhall",
          "Foxhall"
         ],
         "type": "scatter",
         "x": [
          "2012",
          "2013",
          "2014",
          "2015",
          "2016",
          "2017",
          "2018"
         ],
         "y": [
          1,
          3,
          5,
          7,
          8,
          9,
          10
         ]
        },
        {
         "legendgroup": "Friendship Heights",
         "marker": {
          "color": "black"
         },
         "mode": "lines+markers",
         "name": "hosts",
         "text": [
          "Friendship Heights",
          "Friendship Heights",
          "Friendship Heights",
          "Friendship Heights",
          "Friendship Heights",
          "Friendship Heights"
         ],
         "type": "scatter",
         "x": [
          "2009",
          "2013",
          "2014",
          "2015",
          "2017",
          "2018"
         ],
         "y": [
          1,
          4,
          9,
          10,
          11,
          12
         ]
        },
        {
         "legendgroup": "Gallaudet",
         "marker": {
          "color": "black"
         },
         "mode": "lines+markers",
         "name": "hosts",
         "text": [
          "Gallaudet",
          "Gallaudet",
          "Gallaudet",
          "Gallaudet",
          "Gallaudet"
         ],
         "type": "scatter",
         "x": [
          "2013",
          "2015",
          "2016",
          "2017",
          "2018"
         ],
         "y": [
          3,
          5,
          6,
          9,
          10
         ]
        },
        {
         "legendgroup": "Garfield Heights",
         "marker": {
          "color": "black"
         },
         "mode": "lines+markers",
         "name": "hosts",
         "text": [
          "Garfield Heights"
         ],
         "type": "scatter",
         "x": [
          "2015"
         ],
         "y": [
          1
         ]
        },
        {
         "legendgroup": "Gateway",
         "marker": {
          "color": "black"
         },
         "mode": "lines+markers",
         "name": "hosts",
         "text": [
          "Gateway",
          "Gateway"
         ],
         "type": "scatter",
         "x": [
          "2014",
          "2017"
         ],
         "y": [
          1,
          3
         ]
        },
        {
         "legendgroup": "Georgetown",
         "marker": {
          "color": "black"
         },
         "mode": "lines+markers",
         "name": "hosts",
         "text": [
          "Georgetown",
          "Georgetown",
          "Georgetown",
          "Georgetown",
          "Georgetown",
          "Georgetown",
          "Georgetown",
          "Georgetown",
          "Georgetown",
          "Georgetown"
         ],
         "type": "scatter",
         "x": [
          "2010",
          "2011",
          "2012",
          "2013",
          "2014",
          "2015",
          "2016",
          "2017",
          "2018",
          "2019"
         ],
         "y": [
          1,
          5,
          13,
          25,
          63,
          87,
          106,
          117,
          123,
          125
         ]
        },
        {
         "legendgroup": "Glover Park",
         "marker": {
          "color": "black"
         },
         "mode": "lines+markers",
         "name": "hosts",
         "text": [
          "Glover Park",
          "Glover Park",
          "Glover Park",
          "Glover Park",
          "Glover Park",
          "Glover Park",
          "Glover Park",
          "Glover Park",
          "Glover Park",
          "Glover Park"
         ],
         "type": "scatter",
         "x": [
          "2010",
          "2011",
          "2012",
          "2013",
          "2014",
          "2015",
          "2016",
          "2017",
          "2018",
          "2019"
         ],
         "y": [
          2,
          3,
          6,
          15,
          30,
          45,
          58,
          63,
          66,
          71
         ]
        },
        {
         "legendgroup": "Good Hope",
         "marker": {
          "color": "black"
         },
         "mode": "lines+markers",
         "name": "hosts",
         "text": [
          "Good Hope",
          "Good Hope",
          "Good Hope",
          "Good Hope",
          "Good Hope",
          "Good Hope"
         ],
         "type": "scatter",
         "x": [
          "2013",
          "2014",
          "2015",
          "2016",
          "2017",
          "2019"
         ],
         "y": [
          1,
          3,
          5,
          8,
          9,
          10
         ]
        },
        {
         "legendgroup": "Greenway",
         "marker": {
          "color": "black"
         },
         "mode": "lines+markers",
         "name": "hosts",
         "text": [
          "Greenway",
          "Greenway",
          "Greenway"
         ],
         "type": "scatter",
         "x": [
          "2013",
          "2014",
          "2016"
         ],
         "y": [
          1,
          3,
          5
         ]
        },
        {
         "legendgroup": "Hilcrest Heights/Marlow Heights, MD",
         "marker": {
          "color": "black"
         },
         "mode": "lines+markers",
         "name": "hosts",
         "text": [
          "Hilcrest Heights/Marlow Heights, MD"
         ],
         "type": "scatter",
         "x": [
          "2013"
         ],
         "y": [
          1
         ]
        },
        {
         "legendgroup": "Hillbrook",
         "marker": {
          "color": "black"
         },
         "mode": "lines+markers",
         "name": "hosts",
         "text": [
          "Hillbrook",
          "Hillbrook",
          "Hillbrook",
          "Hillbrook",
          "Hillbrook"
         ],
         "type": "scatter",
         "x": [
          "2015",
          "2016",
          "2017",
          "2018",
          "2019"
         ],
         "y": [
          1,
          2,
          3,
          7,
          10
         ]
        },
        {
         "legendgroup": "Hillcrest",
         "marker": {
          "color": "black"
         },
         "mode": "lines+markers",
         "name": "hosts",
         "text": [
          "Hillcrest",
          "Hillcrest",
          "Hillcrest",
          "Hillcrest"
         ],
         "type": "scatter",
         "x": [
          "2015",
          "2016",
          "2017",
          "2019"
         ],
         "y": [
          2,
          3,
          6,
          7
         ]
        },
        {
         "legendgroup": "Ivy City",
         "marker": {
          "color": "black"
         },
         "mode": "lines+markers",
         "name": "hosts",
         "text": [
          "Ivy City",
          "Ivy City",
          "Ivy City",
          "Ivy City",
          "Ivy City",
          "Ivy City",
          "Ivy City"
         ],
         "type": "scatter",
         "x": [
          "2009",
          "2011",
          "2012",
          "2014",
          "2015",
          "2016",
          "2018"
         ],
         "y": [
          1,
          2,
          3,
          5,
          8,
          10,
          12
         ]
        },
        {
         "legendgroup": "Judiciary Square",
         "marker": {
          "color": "black"
         },
         "mode": "lines+markers",
         "name": "hosts",
         "text": [
          "Judiciary Square",
          "Judiciary Square",
          "Judiciary Square",
          "Judiciary Square",
          "Judiciary Square",
          "Judiciary Square"
         ],
         "type": "scatter",
         "x": [
          "2012",
          "2013",
          "2014",
          "2015",
          "2016",
          "2017"
         ],
         "y": [
          1,
          6,
          7,
          15,
          25,
          28
         ]
        },
        {
         "legendgroup": "Kalorama",
         "marker": {
          "color": "black"
         },
         "mode": "lines+markers",
         "name": "hosts",
         "text": [
          "Kalorama",
          "Kalorama",
          "Kalorama",
          "Kalorama",
          "Kalorama",
          "Kalorama",
          "Kalorama",
          "Kalorama",
          "Kalorama",
          "Kalorama"
         ],
         "type": "scatter",
         "x": [
          "2010",
          "2011",
          "2012",
          "2013",
          "2014",
          "2015",
          "2016",
          "2017",
          "2018",
          "2019"
         ],
         "y": [
          7,
          13,
          24,
          39,
          50,
          65,
          80,
          84,
          87,
          89
         ]
        },
        {
         "legendgroup": "Kent",
         "marker": {
          "color": "black"
         },
         "mode": "lines+markers",
         "name": "hosts",
         "text": [
          "Kent",
          "Kent",
          "Kent",
          "Kent",
          "Kent",
          "Kent"
         ],
         "type": "scatter",
         "x": [
          "2012",
          "2013",
          "2014",
          "2015",
          "2016",
          "2017"
         ],
         "y": [
          2,
          3,
          5,
          7,
          8,
          9
         ]
        },
        {
         "legendgroup": "Kingman Park",
         "marker": {
          "color": "black"
         },
         "mode": "lines+markers",
         "name": "hosts",
         "text": [
          "Kingman Park",
          "Kingman Park",
          "Kingman Park",
          "Kingman Park",
          "Kingman Park",
          "Kingman Park",
          "Kingman Park",
          "Kingman Park",
          "Kingman Park"
         ],
         "type": "scatter",
         "x": [
          "2011",
          "2012",
          "2013",
          "2014",
          "2015",
          "2016",
          "2017",
          "2018",
          "2019"
         ],
         "y": [
          4,
          11,
          30,
          49,
          71,
          97,
          103,
          112,
          113
         ]
        },
        {
         "legendgroup": "Knox Hill",
         "marker": {
          "color": "black"
         },
         "mode": "lines+markers",
         "name": "hosts",
         "text": [
          "Knox Hill"
         ],
         "type": "scatter",
         "x": [
          "2017"
         ],
         "y": [
          1
         ]
        },
        {
         "legendgroup": "Lamond Riggs",
         "marker": {
          "color": "black"
         },
         "mode": "lines+markers",
         "name": "hosts",
         "text": [
          "Lamond Riggs",
          "Lamond Riggs",
          "Lamond Riggs",
          "Lamond Riggs",
          "Lamond Riggs",
          "Lamond Riggs",
          "Lamond Riggs",
          "Lamond Riggs",
          "Lamond Riggs",
          "Lamond Riggs",
          "Lamond Riggs"
         ],
         "type": "scatter",
         "x": [
          "2009",
          "2010",
          "2011",
          "2012",
          "2013",
          "2014",
          "2015",
          "2016",
          "2017",
          "2018",
          "2019"
         ],
         "y": [
          1,
          2,
          5,
          8,
          12,
          18,
          31,
          41,
          45,
          47,
          49
         ]
        },
        {
         "legendgroup": "Langdon",
         "marker": {
          "color": "black"
         },
         "mode": "lines+markers",
         "name": "hosts",
         "text": [
          "Langdon",
          "Langdon",
          "Langdon",
          "Langdon",
          "Langdon",
          "Langdon",
          "Langdon",
          "Langdon",
          "Langdon"
         ],
         "type": "scatter",
         "x": [
          "2011",
          "2012",
          "2013",
          "2014",
          "2015",
          "2016",
          "2017",
          "2018",
          "2019"
         ],
         "y": [
          1,
          3,
          4,
          11,
          12,
          17,
          18,
          22,
          26
         ]
        },
        {
         "legendgroup": "LeDroit Park",
         "marker": {
          "color": "black"
         },
         "mode": "lines+markers",
         "name": "hosts",
         "text": [
          "LeDroit Park",
          "LeDroit Park",
          "LeDroit Park",
          "LeDroit Park",
          "LeDroit Park",
          "LeDroit Park",
          "LeDroit Park",
          "LeDroit Park",
          "LeDroit Park",
          "LeDroit Park",
          "LeDroit Park"
         ],
         "type": "scatter",
         "x": [
          "2009",
          "2010",
          "2011",
          "2012",
          "2013",
          "2014",
          "2015",
          "2016",
          "2017",
          "2018",
          "2019"
         ],
         "y": [
          1,
          2,
          3,
          8,
          12,
          24,
          32,
          41,
          48,
          50,
          51
         ]
        },
        {
         "legendgroup": "Lincoln Heights",
         "marker": {
          "color": "black"
         },
         "mode": "lines+markers",
         "name": "hosts",
         "text": [
          "Lincoln Heights",
          "Lincoln Heights",
          "Lincoln Heights"
         ],
         "type": "scatter",
         "x": [
          "2014",
          "2016",
          "2017"
         ],
         "y": [
          1,
          3,
          4
         ]
        },
        {
         "legendgroup": "Logan Circle",
         "marker": {
          "color": "black"
         },
         "mode": "lines+markers",
         "name": "hosts",
         "text": [
          "Logan Circle",
          "Logan Circle",
          "Logan Circle",
          "Logan Circle",
          "Logan Circle",
          "Logan Circle",
          "Logan Circle",
          "Logan Circle",
          "Logan Circle",
          "Logan Circle",
          "Logan Circle",
          "Logan Circle"
         ],
         "type": "scatter",
         "x": [
          "2008",
          "2009",
          "2010",
          "2011",
          "2012",
          "2013",
          "2014",
          "2015",
          "2016",
          "2017",
          "2018",
          "2019"
         ],
         "y": [
          1,
          4,
          7,
          19,
          41,
          84,
          133,
          170,
          218,
          238,
          254,
          259
         ]
        },
        {
         "legendgroup": "Manor Park",
         "marker": {
          "color": "black"
         },
         "mode": "lines+markers",
         "name": "hosts",
         "text": [
          "Manor Park",
          "Manor Park",
          "Manor Park",
          "Manor Park",
          "Manor Park",
          "Manor Park",
          "Manor Park",
          "Manor Park",
          "Manor Park",
          "Manor Park"
         ],
         "type": "scatter",
         "x": [
          "2010",
          "2011",
          "2012",
          "2013",
          "2014",
          "2015",
          "2016",
          "2017",
          "2018",
          "2019"
         ],
         "y": [
          2,
          9,
          16,
          29,
          36,
          48,
          67,
          76,
          83,
          86
         ]
        },
        {
         "legendgroup": "Marshall Heights",
         "marker": {
          "color": "black"
         },
         "mode": "lines+markers",
         "name": "hosts",
         "text": [
          "Marshall Heights",
          "Marshall Heights",
          "Marshall Heights",
          "Marshall Heights",
          "Marshall Heights",
          "Marshall Heights",
          "Marshall Heights",
          "Marshall Heights",
          "Marshall Heights"
         ],
         "type": "scatter",
         "x": [
          "2011",
          "2012",
          "2013",
          "2014",
          "2015",
          "2016",
          "2017",
          "2018",
          "2019"
         ],
         "y": [
          1,
          3,
          8,
          12,
          17,
          23,
          25,
          29,
          30
         ]
        },
        {
         "legendgroup": "Massachusetts Heights",
         "marker": {
          "color": "black"
         },
         "mode": "lines+markers",
         "name": "hosts",
         "text": [
          "Massachusetts Heights",
          "Massachusetts Heights"
         ],
         "type": "scatter",
         "x": [
          "2014",
          "2015"
         ],
         "y": [
          1,
          2
         ]
        },
        {
         "legendgroup": "Michigan Park",
         "marker": {
          "color": "black"
         },
         "mode": "lines+markers",
         "name": "hosts",
         "text": [
          "Michigan Park",
          "Michigan Park",
          "Michigan Park",
          "Michigan Park",
          "Michigan Park",
          "Michigan Park",
          "Michigan Park",
          "Michigan Park",
          "Michigan Park"
         ],
         "type": "scatter",
         "x": [
          "2010",
          "2011",
          "2013",
          "2014",
          "2015",
          "2016",
          "2017",
          "2018",
          "2019"
         ],
         "y": [
          1,
          3,
          9,
          13,
          21,
          27,
          32,
          33,
          34
         ]
        },
        {
         "legendgroup": "Mount Pleasant",
         "marker": {
          "color": "black"
         },
         "mode": "lines+markers",
         "name": "hosts",
         "text": [
          "Mount Pleasant",
          "Mount Pleasant",
          "Mount Pleasant",
          "Mount Pleasant",
          "Mount Pleasant",
          "Mount Pleasant",
          "Mount Pleasant",
          "Mount Pleasant",
          "Mount Pleasant",
          "Mount Pleasant",
          "Mount Pleasant",
          "Mount Pleasant",
          "Mount Pleasant"
         ],
         "type": "scatter",
         "x": [
          "2008",
          "2009",
          "2010",
          "2011",
          "2012",
          "2013",
          "2014",
          "2015",
          "2016",
          "2017",
          "2018",
          "2019",
          "NaT"
         ],
         "y": [
          2,
          4,
          6,
          14,
          31,
          56,
          91,
          122,
          137,
          149,
          153,
          156,
          157
         ]
        },
        {
         "legendgroup": "Mount Vernon Square",
         "marker": {
          "color": "black"
         },
         "mode": "lines+markers",
         "name": "hosts",
         "text": [
          "Mount Vernon Square",
          "Mount Vernon Square",
          "Mount Vernon Square",
          "Mount Vernon Square",
          "Mount Vernon Square",
          "Mount Vernon Square",
          "Mount Vernon Square",
          "Mount Vernon Square",
          "Mount Vernon Square"
         ],
         "type": "scatter",
         "x": [
          "2011",
          "2012",
          "2013",
          "2014",
          "2015",
          "2016",
          "2017",
          "2018",
          "2019"
         ],
         "y": [
          4,
          6,
          17,
          30,
          51,
          65,
          71,
          77,
          81
         ]
        },
        {
         "legendgroup": "Navy Yard",
         "marker": {
          "color": "black"
         },
         "mode": "lines+markers",
         "name": "hosts",
         "text": [
          "Navy Yard",
          "Navy Yard",
          "Navy Yard",
          "Navy Yard",
          "Navy Yard",
          "Navy Yard",
          "Navy Yard",
          "Navy Yard",
          "Navy Yard"
         ],
         "type": "scatter",
         "x": [
          "2011",
          "2012",
          "2013",
          "2014",
          "2015",
          "2016",
          "2017",
          "2018",
          "2019"
         ],
         "y": [
          2,
          3,
          7,
          11,
          14,
          23,
          27,
          31,
          33
         ]
        },
        {
         "legendgroup": "Naylor Gardens",
         "marker": {
          "color": "black"
         },
         "mode": "lines+markers",
         "name": "hosts",
         "text": [
          "Naylor Gardens",
          "Naylor Gardens",
          "Naylor Gardens",
          "Naylor Gardens"
         ],
         "type": "scatter",
         "x": [
          "2013",
          "2014",
          "2015",
          "2016"
         ],
         "y": [
          1,
          2,
          3,
          4
         ]
        },
        {
         "legendgroup": "Near Northeast/H Street Corridor",
         "marker": {
          "color": "black"
         },
         "mode": "lines+markers",
         "name": "hosts",
         "text": [
          "Near Northeast/H Street Corridor",
          "Near Northeast/H Street Corridor",
          "Near Northeast/H Street Corridor",
          "Near Northeast/H Street Corridor",
          "Near Northeast/H Street Corridor",
          "Near Northeast/H Street Corridor",
          "Near Northeast/H Street Corridor",
          "Near Northeast/H Street Corridor",
          "Near Northeast/H Street Corridor",
          "Near Northeast/H Street Corridor",
          "Near Northeast/H Street Corridor",
          "Near Northeast/H Street Corridor"
         ],
         "type": "scatter",
         "x": [
          "2008",
          "2009",
          "2010",
          "2011",
          "2012",
          "2013",
          "2014",
          "2015",
          "2016",
          "2017",
          "2018",
          "2019"
         ],
         "y": [
          1,
          2,
          7,
          20,
          35,
          76,
          132,
          176,
          242,
          260,
          281,
          296
         ]
        },
        {
         "legendgroup": "North Cleveland Park",
         "marker": {
          "color": "black"
         },
         "mode": "lines+markers",
         "name": "hosts",
         "text": [
          "North Cleveland Park",
          "North Cleveland Park",
          "North Cleveland Park",
          "North Cleveland Park",
          "North Cleveland Park",
          "North Cleveland Park",
          "North Cleveland Park",
          "North Cleveland Park",
          "North Cleveland Park"
         ],
         "type": "scatter",
         "x": [
          "2011",
          "2012",
          "2013",
          "2014",
          "2015",
          "2016",
          "2017",
          "2018",
          "2019"
         ],
         "y": [
          1,
          3,
          6,
          9,
          15,
          17,
          19,
          20,
          22
         ]
        },
        {
         "legendgroup": "North Michigan Park",
         "marker": {
          "color": "black"
         },
         "mode": "lines+markers",
         "name": "hosts",
         "text": [
          "North Michigan Park",
          "North Michigan Park",
          "North Michigan Park",
          "North Michigan Park",
          "North Michigan Park"
         ],
         "type": "scatter",
         "x": [
          "2011",
          "2013",
          "2014",
          "2015",
          "2016"
         ],
         "y": [
          1,
          2,
          4,
          6,
          9
         ]
        },
        {
         "legendgroup": "Observatory Circle",
         "marker": {
          "color": "black"
         },
         "mode": "lines+markers",
         "name": "hosts",
         "text": [
          "Observatory Circle"
         ],
         "type": "scatter",
         "x": [
          "2014"
         ],
         "y": [
          1
         ]
        },
        {
         "legendgroup": "Palisades",
         "marker": {
          "color": "black"
         },
         "mode": "lines+markers",
         "name": "hosts",
         "text": [
          "Palisades",
          "Palisades",
          "Palisades",
          "Palisades",
          "Palisades",
          "Palisades",
          "Palisades",
          "Palisades",
          "Palisades"
         ],
         "type": "scatter",
         "x": [
          "2009",
          "2011",
          "2012",
          "2013",
          "2014",
          "2015",
          "2016",
          "2017",
          "2018"
         ],
         "y": [
          1,
          4,
          8,
          10,
          13,
          21,
          26,
          28,
          30
         ]
        },
        {
         "legendgroup": "Park View",
         "marker": {
          "color": "black"
         },
         "mode": "lines+markers",
         "name": "hosts",
         "text": [
          "Park View",
          "Park View",
          "Park View",
          "Park View",
          "Park View",
          "Park View",
          "Park View",
          "Park View",
          "Park View",
          "Park View",
          "Park View"
         ],
         "type": "scatter",
         "x": [
          "2008",
          "2010",
          "2011",
          "2012",
          "2013",
          "2014",
          "2015",
          "2016",
          "2017",
          "2018",
          "2019"
         ],
         "y": [
          2,
          4,
          6,
          19,
          32,
          58,
          82,
          98,
          105,
          108,
          112
         ]
        },
        {
         "legendgroup": "Petworth",
         "marker": {
          "color": "black"
         },
         "mode": "lines+markers",
         "name": "hosts",
         "text": [
          "Petworth",
          "Petworth",
          "Petworth",
          "Petworth",
          "Petworth",
          "Petworth",
          "Petworth",
          "Petworth",
          "Petworth",
          "Petworth",
          "Petworth",
          "Petworth"
         ],
         "type": "scatter",
         "x": [
          "2008",
          "2010",
          "2011",
          "2012",
          "2013",
          "2014",
          "2015",
          "2016",
          "2017",
          "2018",
          "2019",
          "NaT"
         ],
         "y": [
          1,
          7,
          21,
          39,
          68,
          99,
          132,
          161,
          189,
          198,
          203,
          204
         ]
        },
        {
         "legendgroup": "Pleasant Hill",
         "marker": {
          "color": "black"
         },
         "mode": "lines+markers",
         "name": "hosts",
         "text": [
          "Pleasant Hill",
          "Pleasant Hill",
          "Pleasant Hill",
          "Pleasant Hill",
          "Pleasant Hill",
          "Pleasant Hill",
          "Pleasant Hill"
         ],
         "type": "scatter",
         "x": [
          "2012",
          "2014",
          "2015",
          "2016",
          "2017",
          "2018",
          "2019"
         ],
         "y": [
          1,
          4,
          5,
          8,
          9,
          10,
          11
         ]
        },
        {
         "legendgroup": "Pleasant Plains",
         "marker": {
          "color": "black"
         },
         "mode": "lines+markers",
         "name": "hosts",
         "text": [
          "Pleasant Plains",
          "Pleasant Plains",
          "Pleasant Plains",
          "Pleasant Plains",
          "Pleasant Plains",
          "Pleasant Plains",
          "Pleasant Plains",
          "Pleasant Plains"
         ],
         "type": "scatter",
         "x": [
          "2011",
          "2012",
          "2013",
          "2014",
          "2015",
          "2016",
          "2018",
          "2019"
         ],
         "y": [
          1,
          3,
          8,
          12,
          19,
          27,
          30,
          31
         ]
        },
        {
         "legendgroup": "Randle Highlands",
         "marker": {
          "color": "black"
         },
         "mode": "lines+markers",
         "name": "hosts",
         "text": [
          "Randle Highlands",
          "Randle Highlands",
          "Randle Highlands",
          "Randle Highlands",
          "Randle Highlands",
          "Randle Highlands"
         ],
         "type": "scatter",
         "x": [
          "2009",
          "2012",
          "2014",
          "2015",
          "2017",
          "2018"
         ],
         "y": [
          1,
          2,
          6,
          8,
          11,
          12
         ]
        },
        {
         "legendgroup": "River Terrace",
         "marker": {
          "color": "black"
         },
         "mode": "lines+markers",
         "name": "hosts",
         "text": [
          "River Terrace",
          "River Terrace",
          "River Terrace",
          "River Terrace",
          "River Terrace",
          "River Terrace",
          "River Terrace"
         ],
         "type": "scatter",
         "x": [
          "2013",
          "2014",
          "2015",
          "2016",
          "2017",
          "2018",
          "2019"
         ],
         "y": [
          1,
          3,
          6,
          9,
          11,
          12,
          13
         ]
        },
        {
         "legendgroup": "Shaw",
         "marker": {
          "color": "black"
         },
         "mode": "lines+markers",
         "name": "hosts",
         "text": [
          "Shaw",
          "Shaw",
          "Shaw",
          "Shaw",
          "Shaw",
          "Shaw",
          "Shaw",
          "Shaw",
          "Shaw",
          "Shaw",
          "Shaw",
          "Shaw"
         ],
         "type": "scatter",
         "x": [
          "2008",
          "2009",
          "2010",
          "2011",
          "2012",
          "2013",
          "2014",
          "2015",
          "2016",
          "2017",
          "2018",
          "2019"
         ],
         "y": [
          2,
          4,
          9,
          20,
          38,
          68,
          116,
          165,
          199,
          213,
          223,
          233
         ]
        },
        {
         "legendgroup": "Shepherd Park",
         "marker": {
          "color": "black"
         },
         "mode": "lines+markers",
         "name": "hosts",
         "text": [
          "Shepherd Park",
          "Shepherd Park",
          "Shepherd Park",
          "Shepherd Park",
          "Shepherd Park"
         ],
         "type": "scatter",
         "x": [
          "2011",
          "2014",
          "2015",
          "2016",
          "2017"
         ],
         "y": [
          2,
          3,
          5,
          10,
          11
         ]
        },
        {
         "legendgroup": "Shipley Terrace",
         "marker": {
          "color": "black"
         },
         "mode": "lines+markers",
         "name": "hosts",
         "text": [
          "Shipley Terrace",
          "Shipley Terrace",
          "Shipley Terrace",
          "Shipley Terrace",
          "Shipley Terrace",
          "Shipley Terrace"
         ],
         "type": "scatter",
         "x": [
          "2012",
          "2014",
          "2015",
          "2016",
          "2017",
          "2018"
         ],
         "y": [
          1,
          2,
          5,
          7,
          10,
          18
         ]
        },
        {
         "legendgroup": "Skyland",
         "marker": {
          "color": "black"
         },
         "mode": "lines+markers",
         "name": "hosts",
         "text": [
          "Skyland",
          "Skyland"
         ],
         "type": "scatter",
         "x": [
          "2016",
          "2018"
         ],
         "y": [
          1,
          2
         ]
        },
        {
         "legendgroup": "Southwest Waterfront",
         "marker": {
          "color": "black"
         },
         "mode": "lines+markers",
         "name": "hosts",
         "text": [
          "Southwest Waterfront",
          "Southwest Waterfront",
          "Southwest Waterfront",
          "Southwest Waterfront",
          "Southwest Waterfront",
          "Southwest Waterfront",
          "Southwest Waterfront",
          "Southwest Waterfront",
          "Southwest Waterfront",
          "Southwest Waterfront",
          "Southwest Waterfront"
         ],
         "type": "scatter",
         "x": [
          "2008",
          "2010",
          "2011",
          "2012",
          "2013",
          "2014",
          "2015",
          "2016",
          "2017",
          "2018",
          "2019"
         ],
         "y": [
          1,
          2,
          7,
          14,
          20,
          37,
          53,
          76,
          85,
          92,
          93
         ]
        },
        {
         "legendgroup": "Spring Valley",
         "marker": {
          "color": "black"
         },
         "mode": "lines+markers",
         "name": "hosts",
         "text": [
          "Spring Valley",
          "Spring Valley"
         ],
         "type": "scatter",
         "x": [
          "2014",
          "2015"
         ],
         "y": [
          2,
          3
         ]
        },
        {
         "legendgroup": "St. Elizabeths",
         "marker": {
          "color": "black"
         },
         "mode": "lines+markers",
         "name": "hosts",
         "text": [
          "St. Elizabeths",
          "St. Elizabeths",
          "St. Elizabeths",
          "St. Elizabeths"
         ],
         "type": "scatter",
         "x": [
          "2014",
          "2015",
          "2016",
          "2017"
         ],
         "y": [
          1,
          4,
          7,
          8
         ]
        },
        {
         "legendgroup": "Stronghold",
         "marker": {
          "color": "black"
         },
         "mode": "lines+markers",
         "name": "hosts",
         "text": [
          "Stronghold",
          "Stronghold",
          "Stronghold",
          "Stronghold",
          "Stronghold",
          "Stronghold",
          "Stronghold",
          "Stronghold",
          "Stronghold"
         ],
         "type": "scatter",
         "x": [
          "2010",
          "2011",
          "2012",
          "2013",
          "2014",
          "2015",
          "2016",
          "2017",
          "2018"
         ],
         "y": [
          1,
          2,
          3,
          7,
          11,
          18,
          23,
          27,
          31
         ]
        },
        {
         "legendgroup": "Takoma",
         "marker": {
          "color": "black"
         },
         "mode": "lines+markers",
         "name": "hosts",
         "text": [
          "Takoma",
          "Takoma",
          "Takoma",
          "Takoma",
          "Takoma",
          "Takoma",
          "Takoma",
          "Takoma",
          "Takoma"
         ],
         "type": "scatter",
         "x": [
          "2011",
          "2012",
          "2013",
          "2014",
          "2015",
          "2016",
          "2017",
          "2018",
          "2019"
         ],
         "y": [
          7,
          12,
          18,
          19,
          24,
          29,
          36,
          38,
          39
         ]
        },
        {
         "legendgroup": "Takoma Park, MD",
         "marker": {
          "color": "black"
         },
         "mode": "lines+markers",
         "name": "hosts",
         "text": [
          "Takoma Park, MD"
         ],
         "type": "scatter",
         "x": [
          "2011"
         ],
         "y": [
          1
         ]
        },
        {
         "legendgroup": "Tenleytown",
         "marker": {
          "color": "black"
         },
         "mode": "lines+markers",
         "name": "hosts",
         "text": [],
         "type": "scatter",
         "x": [],
         "y": []
        },
        {
         "legendgroup": "Trinidad",
         "marker": {
          "color": "black"
         },
         "mode": "lines+markers",
         "name": "hosts",
         "text": [
          "Trinidad",
          "Trinidad",
          "Trinidad",
          "Trinidad",
          "Trinidad",
          "Trinidad",
          "Trinidad",
          "Trinidad",
          "Trinidad",
          "Trinidad"
         ],
         "type": "scatter",
         "x": [
          "2010",
          "2011",
          "2012",
          "2013",
          "2014",
          "2015",
          "2016",
          "2017",
          "2018",
          "2019"
         ],
         "y": [
          1,
          7,
          16,
          34,
          56,
          85,
          109,
          119,
          128,
          131
         ]
        },
        {
         "legendgroup": "Truxton Circle",
         "marker": {
          "color": "black"
         },
         "mode": "lines+markers",
         "name": "hosts",
         "text": [
          "Truxton Circle",
          "Truxton Circle",
          "Truxton Circle",
          "Truxton Circle",
          "Truxton Circle",
          "Truxton Circle",
          "Truxton Circle",
          "Truxton Circle",
          "Truxton Circle"
         ],
         "type": "scatter",
         "x": [
          "2011",
          "2012",
          "2013",
          "2014",
          "2015",
          "2016",
          "2017",
          "2018",
          "2019"
         ],
         "y": [
          2,
          3,
          4,
          7,
          13,
          23,
          25,
          28,
          29
         ]
        },
        {
         "legendgroup": "Twining",
         "marker": {
          "color": "black"
         },
         "mode": "lines+markers",
         "name": "hosts",
         "text": [
          "Twining",
          "Twining",
          "Twining"
         ],
         "type": "scatter",
         "x": [
          "2013",
          "2016",
          "2018"
         ],
         "y": [
          1,
          3,
          4
         ]
        },
        {
         "legendgroup": "U Street Corridor",
         "marker": {
          "color": "black"
         },
         "mode": "lines+markers",
         "name": "hosts",
         "text": [
          "U Street Corridor",
          "U Street Corridor",
          "U Street Corridor",
          "U Street Corridor",
          "U Street Corridor",
          "U Street Corridor",
          "U Street Corridor",
          "U Street Corridor",
          "U Street Corridor",
          "U Street Corridor",
          "U Street Corridor"
         ],
         "type": "scatter",
         "x": [
          "2008",
          "2010",
          "2011",
          "2012",
          "2013",
          "2014",
          "2015",
          "2016",
          "2017",
          "2018",
          "2019"
         ],
         "y": [
          2,
          7,
          14,
          34,
          76,
          132,
          176,
          228,
          248,
          255,
          259
         ]
        },
        {
         "legendgroup": "Washington Highlands",
         "marker": {
          "color": "black"
         },
         "mode": "lines+markers",
         "name": "hosts",
         "text": [
          "Washington Highlands",
          "Washington Highlands",
          "Washington Highlands",
          "Washington Highlands",
          "Washington Highlands"
         ],
         "type": "scatter",
         "x": [
          "2011",
          "2013",
          "2014",
          "2016",
          "2017"
         ],
         "y": [
          1,
          3,
          5,
          8,
          9
         ]
        },
        {
         "legendgroup": "Wesley Heights",
         "marker": {
          "color": "black"
         },
         "mode": "lines+markers",
         "name": "hosts",
         "text": [
          "Wesley Heights",
          "Wesley Heights",
          "Wesley Heights",
          "Wesley Heights"
         ],
         "type": "scatter",
         "x": [
          "2012",
          "2014",
          "2015",
          "2016"
         ],
         "y": [
          1,
          2,
          4,
          7
         ]
        },
        {
         "legendgroup": "West End",
         "marker": {
          "color": "black"
         },
         "mode": "lines+markers",
         "name": "hosts",
         "text": [
          "West End",
          "West End",
          "West End",
          "West End",
          "West End",
          "West End",
          "West End"
         ],
         "type": "scatter",
         "x": [
          "2011",
          "2013",
          "2015",
          "2016",
          "2017",
          "2018",
          "2019"
         ],
         "y": [
          1,
          2,
          4,
          9,
          10,
          11,
          13
         ]
        },
        {
         "legendgroup": "Woodland",
         "marker": {
          "color": "black"
         },
         "mode": "lines+markers",
         "name": "hosts",
         "text": [
          "Woodland"
         ],
         "type": "scatter",
         "x": [
          "2017"
         ],
         "y": [
          1
         ]
        },
        {
         "legendgroup": "Woodland-Normanstone Terrace",
         "marker": {
          "color": "black"
         },
         "mode": "lines+markers",
         "name": "hosts",
         "text": [
          "Woodland-Normanstone Terrace"
         ],
         "type": "scatter",
         "x": [
          "2018"
         ],
         "y": [
          1
         ]
        },
        {
         "legendgroup": "Woodley Park",
         "marker": {
          "color": "black"
         },
         "mode": "lines+markers",
         "name": "hosts",
         "text": [
          "Woodley Park",
          "Woodley Park",
          "Woodley Park",
          "Woodley Park",
          "Woodley Park",
          "Woodley Park",
          "Woodley Park",
          "Woodley Park",
          "Woodley Park",
          "Woodley Park"
         ],
         "type": "scatter",
         "x": [
          "2010",
          "2011",
          "2012",
          "2013",
          "2014",
          "2015",
          "2016",
          "2017",
          "2018",
          "2019"
         ],
         "y": [
          1,
          3,
          11,
          18,
          27,
          31,
          41,
          43,
          44,
          45
         ]
        },
        {
         "legendgroup": "Woodridge",
         "marker": {
          "color": "black"
         },
         "mode": "lines+markers",
         "name": "hosts",
         "text": [
          "Woodridge",
          "Woodridge",
          "Woodridge",
          "Woodridge",
          "Woodridge",
          "Woodridge",
          "Woodridge",
          "Woodridge",
          "Woodridge",
          "Woodridge"
         ],
         "type": "scatter",
         "x": [
          "2009",
          "2011",
          "2012",
          "2013",
          "2014",
          "2015",
          "2016",
          "2017",
          "2018",
          "2019"
         ],
         "y": [
          1,
          2,
          3,
          5,
          11,
          15,
          21,
          23,
          26,
          28
         ]
        }
       ],
       "layout": {
        "height": 400,
        "plot_bgcolor": "rgb(240, 240, 240)",
        "showlegend": false,
        "template": {
         "data": {
          "bar": [
           {
            "error_x": {
             "color": "#2a3f5f"
            },
            "error_y": {
             "color": "#2a3f5f"
            },
            "marker": {
             "line": {
              "color": "#E5ECF6",
              "width": 0.5
             }
            },
            "type": "bar"
           }
          ],
          "barpolar": [
           {
            "marker": {
             "line": {
              "color": "#E5ECF6",
              "width": 0.5
             }
            },
            "type": "barpolar"
           }
          ],
          "carpet": [
           {
            "aaxis": {
             "endlinecolor": "#2a3f5f",
             "gridcolor": "white",
             "linecolor": "white",
             "minorgridcolor": "white",
             "startlinecolor": "#2a3f5f"
            },
            "baxis": {
             "endlinecolor": "#2a3f5f",
             "gridcolor": "white",
             "linecolor": "white",
             "minorgridcolor": "white",
             "startlinecolor": "#2a3f5f"
            },
            "type": "carpet"
           }
          ],
          "choropleth": [
           {
            "colorbar": {
             "outlinewidth": 0,
             "ticks": ""
            },
            "type": "choropleth"
           }
          ],
          "contour": [
           {
            "colorbar": {
             "outlinewidth": 0,
             "ticks": ""
            },
            "colorscale": [
             [
              0,
              "#0d0887"
             ],
             [
              0.1111111111111111,
              "#46039f"
             ],
             [
              0.2222222222222222,
              "#7201a8"
             ],
             [
              0.3333333333333333,
              "#9c179e"
             ],
             [
              0.4444444444444444,
              "#bd3786"
             ],
             [
              0.5555555555555556,
              "#d8576b"
             ],
             [
              0.6666666666666666,
              "#ed7953"
             ],
             [
              0.7777777777777778,
              "#fb9f3a"
             ],
             [
              0.8888888888888888,
              "#fdca26"
             ],
             [
              1,
              "#f0f921"
             ]
            ],
            "type": "contour"
           }
          ],
          "contourcarpet": [
           {
            "colorbar": {
             "outlinewidth": 0,
             "ticks": ""
            },
            "type": "contourcarpet"
           }
          ],
          "heatmap": [
           {
            "colorbar": {
             "outlinewidth": 0,
             "ticks": ""
            },
            "colorscale": [
             [
              0,
              "#0d0887"
             ],
             [
              0.1111111111111111,
              "#46039f"
             ],
             [
              0.2222222222222222,
              "#7201a8"
             ],
             [
              0.3333333333333333,
              "#9c179e"
             ],
             [
              0.4444444444444444,
              "#bd3786"
             ],
             [
              0.5555555555555556,
              "#d8576b"
             ],
             [
              0.6666666666666666,
              "#ed7953"
             ],
             [
              0.7777777777777778,
              "#fb9f3a"
             ],
             [
              0.8888888888888888,
              "#fdca26"
             ],
             [
              1,
              "#f0f921"
             ]
            ],
            "type": "heatmap"
           }
          ],
          "heatmapgl": [
           {
            "colorbar": {
             "outlinewidth": 0,
             "ticks": ""
            },
            "colorscale": [
             [
              0,
              "#0d0887"
             ],
             [
              0.1111111111111111,
              "#46039f"
             ],
             [
              0.2222222222222222,
              "#7201a8"
             ],
             [
              0.3333333333333333,
              "#9c179e"
             ],
             [
              0.4444444444444444,
              "#bd3786"
             ],
             [
              0.5555555555555556,
              "#d8576b"
             ],
             [
              0.6666666666666666,
              "#ed7953"
             ],
             [
              0.7777777777777778,
              "#fb9f3a"
             ],
             [
              0.8888888888888888,
              "#fdca26"
             ],
             [
              1,
              "#f0f921"
             ]
            ],
            "type": "heatmapgl"
           }
          ],
          "histogram": [
           {
            "marker": {
             "colorbar": {
              "outlinewidth": 0,
              "ticks": ""
             }
            },
            "type": "histogram"
           }
          ],
          "histogram2d": [
           {
            "colorbar": {
             "outlinewidth": 0,
             "ticks": ""
            },
            "colorscale": [
             [
              0,
              "#0d0887"
             ],
             [
              0.1111111111111111,
              "#46039f"
             ],
             [
              0.2222222222222222,
              "#7201a8"
             ],
             [
              0.3333333333333333,
              "#9c179e"
             ],
             [
              0.4444444444444444,
              "#bd3786"
             ],
             [
              0.5555555555555556,
              "#d8576b"
             ],
             [
              0.6666666666666666,
              "#ed7953"
             ],
             [
              0.7777777777777778,
              "#fb9f3a"
             ],
             [
              0.8888888888888888,
              "#fdca26"
             ],
             [
              1,
              "#f0f921"
             ]
            ],
            "type": "histogram2d"
           }
          ],
          "histogram2dcontour": [
           {
            "colorbar": {
             "outlinewidth": 0,
             "ticks": ""
            },
            "colorscale": [
             [
              0,
              "#0d0887"
             ],
             [
              0.1111111111111111,
              "#46039f"
             ],
             [
              0.2222222222222222,
              "#7201a8"
             ],
             [
              0.3333333333333333,
              "#9c179e"
             ],
             [
              0.4444444444444444,
              "#bd3786"
             ],
             [
              0.5555555555555556,
              "#d8576b"
             ],
             [
              0.6666666666666666,
              "#ed7953"
             ],
             [
              0.7777777777777778,
              "#fb9f3a"
             ],
             [
              0.8888888888888888,
              "#fdca26"
             ],
             [
              1,
              "#f0f921"
             ]
            ],
            "type": "histogram2dcontour"
           }
          ],
          "mesh3d": [
           {
            "colorbar": {
             "outlinewidth": 0,
             "ticks": ""
            },
            "type": "mesh3d"
           }
          ],
          "parcoords": [
           {
            "line": {
             "colorbar": {
              "outlinewidth": 0,
              "ticks": ""
             }
            },
            "type": "parcoords"
           }
          ],
          "scatter": [
           {
            "marker": {
             "colorbar": {
              "outlinewidth": 0,
              "ticks": ""
             }
            },
            "type": "scatter"
           }
          ],
          "scatter3d": [
           {
            "line": {
             "colorbar": {
              "outlinewidth": 0,
              "ticks": ""
             }
            },
            "marker": {
             "colorbar": {
              "outlinewidth": 0,
              "ticks": ""
             }
            },
            "type": "scatter3d"
           }
          ],
          "scattercarpet": [
           {
            "marker": {
             "colorbar": {
              "outlinewidth": 0,
              "ticks": ""
             }
            },
            "type": "scattercarpet"
           }
          ],
          "scattergeo": [
           {
            "marker": {
             "colorbar": {
              "outlinewidth": 0,
              "ticks": ""
             }
            },
            "type": "scattergeo"
           }
          ],
          "scattergl": [
           {
            "marker": {
             "colorbar": {
              "outlinewidth": 0,
              "ticks": ""
             }
            },
            "type": "scattergl"
           }
          ],
          "scattermapbox": [
           {
            "marker": {
             "colorbar": {
              "outlinewidth": 0,
              "ticks": ""
             }
            },
            "type": "scattermapbox"
           }
          ],
          "scatterpolar": [
           {
            "marker": {
             "colorbar": {
              "outlinewidth": 0,
              "ticks": ""
             }
            },
            "type": "scatterpolar"
           }
          ],
          "scatterpolargl": [
           {
            "marker": {
             "colorbar": {
              "outlinewidth": 0,
              "ticks": ""
             }
            },
            "type": "scatterpolargl"
           }
          ],
          "scatterternary": [
           {
            "marker": {
             "colorbar": {
              "outlinewidth": 0,
              "ticks": ""
             }
            },
            "type": "scatterternary"
           }
          ],
          "surface": [
           {
            "colorbar": {
             "outlinewidth": 0,
             "ticks": ""
            },
            "colorscale": [
             [
              0,
              "#0d0887"
             ],
             [
              0.1111111111111111,
              "#46039f"
             ],
             [
              0.2222222222222222,
              "#7201a8"
             ],
             [
              0.3333333333333333,
              "#9c179e"
             ],
             [
              0.4444444444444444,
              "#bd3786"
             ],
             [
              0.5555555555555556,
              "#d8576b"
             ],
             [
              0.6666666666666666,
              "#ed7953"
             ],
             [
              0.7777777777777778,
              "#fb9f3a"
             ],
             [
              0.8888888888888888,
              "#fdca26"
             ],
             [
              1,
              "#f0f921"
             ]
            ],
            "type": "surface"
           }
          ],
          "table": [
           {
            "cells": {
             "fill": {
              "color": "#EBF0F8"
             },
             "line": {
              "color": "white"
             }
            },
            "header": {
             "fill": {
              "color": "#C8D4E3"
             },
             "line": {
              "color": "white"
             }
            },
            "type": "table"
           }
          ]
         },
         "layout": {
          "annotationdefaults": {
           "arrowcolor": "#2a3f5f",
           "arrowhead": 0,
           "arrowwidth": 1
          },
          "colorscale": {
           "diverging": [
            [
             0,
             "#8e0152"
            ],
            [
             0.1,
             "#c51b7d"
            ],
            [
             0.2,
             "#de77ae"
            ],
            [
             0.3,
             "#f1b6da"
            ],
            [
             0.4,
             "#fde0ef"
            ],
            [
             0.5,
             "#f7f7f7"
            ],
            [
             0.6,
             "#e6f5d0"
            ],
            [
             0.7,
             "#b8e186"
            ],
            [
             0.8,
             "#7fbc41"
            ],
            [
             0.9,
             "#4d9221"
            ],
            [
             1,
             "#276419"
            ]
           ],
           "sequential": [
            [
             0,
             "#0d0887"
            ],
            [
             0.1111111111111111,
             "#46039f"
            ],
            [
             0.2222222222222222,
             "#7201a8"
            ],
            [
             0.3333333333333333,
             "#9c179e"
            ],
            [
             0.4444444444444444,
             "#bd3786"
            ],
            [
             0.5555555555555556,
             "#d8576b"
            ],
            [
             0.6666666666666666,
             "#ed7953"
            ],
            [
             0.7777777777777778,
             "#fb9f3a"
            ],
            [
             0.8888888888888888,
             "#fdca26"
            ],
            [
             1,
             "#f0f921"
            ]
           ],
           "sequentialminus": [
            [
             0,
             "#0d0887"
            ],
            [
             0.1111111111111111,
             "#46039f"
            ],
            [
             0.2222222222222222,
             "#7201a8"
            ],
            [
             0.3333333333333333,
             "#9c179e"
            ],
            [
             0.4444444444444444,
             "#bd3786"
            ],
            [
             0.5555555555555556,
             "#d8576b"
            ],
            [
             0.6666666666666666,
             "#ed7953"
            ],
            [
             0.7777777777777778,
             "#fb9f3a"
            ],
            [
             0.8888888888888888,
             "#fdca26"
            ],
            [
             1,
             "#f0f921"
            ]
           ]
          },
          "colorway": [
           "#636efa",
           "#EF553B",
           "#00cc96",
           "#ab63fa",
           "#FFA15A",
           "#19d3f3",
           "#FF6692",
           "#B6E880",
           "#FF97FF",
           "#FECB52"
          ],
          "font": {
           "color": "#2a3f5f"
          },
          "geo": {
           "bgcolor": "white",
           "lakecolor": "white",
           "landcolor": "#E5ECF6",
           "showlakes": true,
           "showland": true,
           "subunitcolor": "white"
          },
          "hoverlabel": {
           "align": "left"
          },
          "hovermode": "closest",
          "mapbox": {
           "style": "light"
          },
          "paper_bgcolor": "white",
          "plot_bgcolor": "#E5ECF6",
          "polar": {
           "angularaxis": {
            "gridcolor": "white",
            "linecolor": "white",
            "ticks": ""
           },
           "bgcolor": "#E5ECF6",
           "radialaxis": {
            "gridcolor": "white",
            "linecolor": "white",
            "ticks": ""
           }
          },
          "scene": {
           "xaxis": {
            "backgroundcolor": "#E5ECF6",
            "gridcolor": "white",
            "gridwidth": 2,
            "linecolor": "white",
            "showbackground": true,
            "ticks": "",
            "zerolinecolor": "white"
           },
           "yaxis": {
            "backgroundcolor": "#E5ECF6",
            "gridcolor": "white",
            "gridwidth": 2,
            "linecolor": "white",
            "showbackground": true,
            "ticks": "",
            "zerolinecolor": "white"
           },
           "zaxis": {
            "backgroundcolor": "#E5ECF6",
            "gridcolor": "white",
            "gridwidth": 2,
            "linecolor": "white",
            "showbackground": true,
            "ticks": "",
            "zerolinecolor": "white"
           }
          },
          "shapedefaults": {
           "line": {
            "color": "#2a3f5f"
           }
          },
          "ternary": {
           "aaxis": {
            "gridcolor": "white",
            "linecolor": "white",
            "ticks": ""
           },
           "baxis": {
            "gridcolor": "white",
            "linecolor": "white",
            "ticks": ""
           },
           "bgcolor": "#E5ECF6",
           "caxis": {
            "gridcolor": "white",
            "linecolor": "white",
            "ticks": ""
           }
          },
          "title": {
           "x": 0.05
          },
          "xaxis": {
           "automargin": true,
           "gridcolor": "white",
           "linecolor": "white",
           "ticks": "",
           "zerolinecolor": "white",
           "zerolinewidth": 2
          },
          "yaxis": {
           "automargin": true,
           "gridcolor": "white",
           "linecolor": "white",
           "ticks": "",
           "zerolinecolor": "white",
           "zerolinewidth": 2
          }
         }
        },
        "title": {
         "text": "<b>Number of Listings vs Hosts by Neighbourhood</b>"
        },
        "updatemenus": [
         {
          "active": 1,
          "buttons": [
           {
            "args": [
             {
              "visible": [
               true,
               false,
               false,
               false,
               false,
               false,
               false,
               false,
               false,
               false,
               false,
               false,
               false,
               false,
               false,
               false,
               false,
               false,
               false,
               false,
               false,
               false,
               false,
               false,
               false,
               false,
               false,
               false,
               false,
               false,
               false,
               false,
               false,
               false,
               false,
               false,
               false,
               false,
               false,
               false,
               false,
               false,
               false,
               false,
               false,
               false,
               false,
               false,
               false,
               false,
               false,
               false,
               false,
               false,
               false,
               false,
               false,
               false,
               false,
               false,
               false,
               false,
               false,
               false,
               false,
               false,
               false,
               false,
               false,
               false,
               false,
               false,
               false,
               false,
               false,
               false,
               false,
               false,
               false,
               false,
               false,
               false,
               false,
               false,
               false,
               false,
               false,
               false,
               false,
               false,
               false,
               false,
               false,
               false,
               false,
               false,
               false,
               false,
               false,
               false,
               false,
               false,
               false,
               false,
               false,
               false,
               false,
               false,
               false,
               false
              ]
             },
             {
              "title": "16th Street Heights"
             }
            ],
            "label": "16th Street Heights",
            "method": "update"
           },
           {
            "args": [
             {
              "visible": [
               false,
               true,
               false,
               false,
               false,
               false,
               false,
               false,
               false,
               false,
               false,
               false,
               false,
               false,
               false,
               false,
               false,
               false,
               false,
               false,
               false,
               false,
               false,
               false,
               false,
               false,
               false,
               false,
               false,
               false,
               false,
               false,
               false,
               false,
               false,
               false,
               false,
               false,
               false,
               false,
               false,
               false,
               false,
               false,
               false,
               false,
               false,
               false,
               false,
               false,
               false,
               false,
               false,
               false,
               false,
               false,
               false,
               false,
               false,
               false,
               false,
               false,
               false,
               false,
               false,
               false,
               false,
               false,
               false,
               false,
               false,
               false,
               false,
               false,
               false,
               false,
               false,
               false,
               false,
               false,
               false,
               false,
               false,
               false,
               false,
               false,
               false,
               false,
               false,
               false,
               false,
               false,
               false,
               false,
               false,
               false,
               false,
               false,
               false,
               false,
               false,
               false,
               false,
               false,
               false,
               false,
               false,
               false,
               false,
               false
              ]
             },
             {
              "title": "Adams Morgan"
             }
            ],
            "label": "Adams Morgan",
            "method": "update"
           },
           {
            "args": [
             {
              "visible": [
               false,
               false,
               true,
               false,
               false,
               false,
               false,
               false,
               false,
               false,
               false,
               false,
               false,
               false,
               false,
               false,
               false,
               false,
               false,
               false,
               false,
               false,
               false,
               false,
               false,
               false,
               false,
               false,
               false,
               false,
               false,
               false,
               false,
               false,
               false,
               false,
               false,
               false,
               false,
               false,
               false,
               false,
               false,
               false,
               false,
               false,
               false,
               false,
               false,
               false,
               false,
               false,
               false,
               false,
               false,
               false,
               false,
               false,
               false,
               false,
               false,
               false,
               false,
               false,
               false,
               false,
               false,
               false,
               false,
               false,
               false,
               false,
               false,
               false,
               false,
               false,
               false,
               false,
               false,
               false,
               false,
               false,
               false,
               false,
               false,
               false,
               false,
               false,
               false,
               false,
               false,
               false,
               false,
               false,
               false,
               false,
               false,
               false,
               false,
               false,
               false,
               false,
               false,
               false,
               false,
               false,
               false,
               false,
               false,
               false
              ]
             },
             {
              "title": "American University Park"
             }
            ],
            "label": "American University Park",
            "method": "update"
           },
           {
            "args": [
             {
              "visible": [
               false,
               false,
               false,
               true,
               false,
               false,
               false,
               false,
               false,
               false,
               false,
               false,
               false,
               false,
               false,
               false,
               false,
               false,
               false,
               false,
               false,
               false,
               false,
               false,
               false,
               false,
               false,
               false,
               false,
               false,
               false,
               false,
               false,
               false,
               false,
               false,
               false,
               false,
               false,
               false,
               false,
               false,
               false,
               false,
               false,
               false,
               false,
               false,
               false,
               false,
               false,
               false,
               false,
               false,
               false,
               false,
               false,
               false,
               false,
               false,
               false,
               false,
               false,
               false,
               false,
               false,
               false,
               false,
               false,
               false,
               false,
               false,
               false,
               false,
               false,
               false,
               false,
               false,
               false,
               false,
               false,
               false,
               false,
               false,
               false,
               false,
               false,
               false,
               false,
               false,
               false,
               false,
               false,
               false,
               false,
               false,
               false,
               false,
               false,
               false,
               false,
               false,
               false,
               false,
               false,
               false,
               false,
               false,
               false,
               false
              ]
             },
             {
              "title": "Anacostia"
             }
            ],
            "label": "Anacostia",
            "method": "update"
           },
           {
            "args": [
             {
              "visible": [
               false,
               false,
               false,
               false,
               true,
               false,
               false,
               false,
               false,
               false,
               false,
               false,
               false,
               false,
               false,
               false,
               false,
               false,
               false,
               false,
               false,
               false,
               false,
               false,
               false,
               false,
               false,
               false,
               false,
               false,
               false,
               false,
               false,
               false,
               false,
               false,
               false,
               false,
               false,
               false,
               false,
               false,
               false,
               false,
               false,
               false,
               false,
               false,
               false,
               false,
               false,
               false,
               false,
               false,
               false,
               false,
               false,
               false,
               false,
               false,
               false,
               false,
               false,
               false,
               false,
               false,
               false,
               false,
               false,
               false,
               false,
               false,
               false,
               false,
               false,
               false,
               false,
               false,
               false,
               false,
               false,
               false,
               false,
               false,
               false,
               false,
               false,
               false,
               false,
               false,
               false,
               false,
               false,
               false,
               false,
               false,
               false,
               false,
               false,
               false,
               false,
               false,
               false,
               false,
               false,
               false,
               false,
               false,
               false,
               false
              ]
             },
             {
              "title": "Arboretum"
             }
            ],
            "label": "Arboretum",
            "method": "update"
           },
           {
            "args": [
             {
              "visible": [
               false,
               false,
               false,
               false,
               false,
               true,
               false,
               false,
               false,
               false,
               false,
               false,
               false,
               false,
               false,
               false,
               false,
               false,
               false,
               false,
               false,
               false,
               false,
               false,
               false,
               false,
               false,
               false,
               false,
               false,
               false,
               false,
               false,
               false,
               false,
               false,
               false,
               false,
               false,
               false,
               false,
               false,
               false,
               false,
               false,
               false,
               false,
               false,
               false,
               false,
               false,
               false,
               false,
               false,
               false,
               false,
               false,
               false,
               false,
               false,
               false,
               false,
               false,
               false,
               false,
               false,
               false,
               false,
               false,
               false,
               false,
               false,
               false,
               false,
               false,
               false,
               false,
               false,
               false,
               false,
               false,
               false,
               false,
               false,
               false,
               false,
               false,
               false,
               false,
               false,
               false,
               false,
               false,
               false,
               false,
               false,
               false,
               false,
               false,
               false,
               false,
               false,
               false,
               false,
               false,
               false,
               false,
               false,
               false,
               false
              ]
             },
             {
              "title": "Barney Circle"
             }
            ],
            "label": "Barney Circle",
            "method": "update"
           },
           {
            "args": [
             {
              "visible": [
               false,
               false,
               false,
               false,
               false,
               false,
               true,
               false,
               false,
               false,
               false,
               false,
               false,
               false,
               false,
               false,
               false,
               false,
               false,
               false,
               false,
               false,
               false,
               false,
               false,
               false,
               false,
               false,
               false,
               false,
               false,
               false,
               false,
               false,
               false,
               false,
               false,
               false,
               false,
               false,
               false,
               false,
               false,
               false,
               false,
               false,
               false,
               false,
               false,
               false,
               false,
               false,
               false,
               false,
               false,
               false,
               false,
               false,
               false,
               false,
               false,
               false,
               false,
               false,
               false,
               false,
               false,
               false,
               false,
               false,
               false,
               false,
               false,
               false,
               false,
               false,
               false,
               false,
               false,
               false,
               false,
               false,
               false,
               false,
               false,
               false,
               false,
               false,
               false,
               false,
               false,
               false,
               false,
               false,
               false,
               false,
               false,
               false,
               false,
               false,
               false,
               false,
               false,
               false,
               false,
               false,
               false,
               false,
               false,
               false
              ]
             },
             {
              "title": "Barry Farm"
             }
            ],
            "label": "Barry Farm",
            "method": "update"
           },
           {
            "args": [
             {
              "visible": [
               false,
               false,
               false,
               false,
               false,
               false,
               false,
               true,
               false,
               false,
               false,
               false,
               false,
               false,
               false,
               false,
               false,
               false,
               false,
               false,
               false,
               false,
               false,
               false,
               false,
               false,
               false,
               false,
               false,
               false,
               false,
               false,
               false,
               false,
               false,
               false,
               false,
               false,
               false,
               false,
               false,
               false,
               false,
               false,
               false,
               false,
               false,
               false,
               false,
               false,
               false,
               false,
               false,
               false,
               false,
               false,
               false,
               false,
               false,
               false,
               false,
               false,
               false,
               false,
               false,
               false,
               false,
               false,
               false,
               false,
               false,
               false,
               false,
               false,
               false,
               false,
               false,
               false,
               false,
               false,
               false,
               false,
               false,
               false,
               false,
               false,
               false,
               false,
               false,
               false,
               false,
               false,
               false,
               false,
               false,
               false,
               false,
               false,
               false,
               false,
               false,
               false,
               false,
               false,
               false,
               false,
               false,
               false,
               false,
               false
              ]
             },
             {
              "title": "Bellevue"
             }
            ],
            "label": "Bellevue",
            "method": "update"
           },
           {
            "args": [
             {
              "visible": [
               false,
               false,
               false,
               false,
               false,
               false,
               false,
               false,
               true,
               false,
               false,
               false,
               false,
               false,
               false,
               false,
               false,
               false,
               false,
               false,
               false,
               false,
               false,
               false,
               false,
               false,
               false,
               false,
               false,
               false,
               false,
               false,
               false,
               false,
               false,
               false,
               false,
               false,
               false,
               false,
               false,
               false,
               false,
               false,
               false,
               false,
               false,
               false,
               false,
               false,
               false,
               false,
               false,
               false,
               false,
               false,
               false,
               false,
               false,
               false,
               false,
               false,
               false,
               false,
               false,
               false,
               false,
               false,
               false,
               false,
               false,
               false,
               false,
               false,
               false,
               false,
               false,
               false,
               false,
               false,
               false,
               false,
               false,
               false,
               false,
               false,
               false,
               false,
               false,
               false,
               false,
               false,
               false,
               false,
               false,
               false,
               false,
               false,
               false,
               false,
               false,
               false,
               false,
               false,
               false,
               false,
               false,
               false,
               false,
               false
              ]
             },
             {
              "title": "Benning"
             }
            ],
            "label": "Benning",
            "method": "update"
           },
           {
            "args": [
             {
              "visible": [
               false,
               false,
               false,
               false,
               false,
               false,
               false,
               false,
               false,
               true,
               false,
               false,
               false,
               false,
               false,
               false,
               false,
               false,
               false,
               false,
               false,
               false,
               false,
               false,
               false,
               false,
               false,
               false,
               false,
               false,
               false,
               false,
               false,
               false,
               false,
               false,
               false,
               false,
               false,
               false,
               false,
               false,
               false,
               false,
               false,
               false,
               false,
               false,
               false,
               false,
               false,
               false,
               false,
               false,
               false,
               false,
               false,
               false,
               false,
               false,
               false,
               false,
               false,
               false,
               false,
               false,
               false,
               false,
               false,
               false,
               false,
               false,
               false,
               false,
               false,
               false,
               false,
               false,
               false,
               false,
               false,
               false,
               false,
               false,
               false,
               false,
               false,
               false,
               false,
               false,
               false,
               false,
               false,
               false,
               false,
               false,
               false,
               false,
               false,
               false,
               false,
               false,
               false,
               false,
               false,
               false,
               false,
               false,
               false,
               false
              ]
             },
             {
              "title": "Benning Heights"
             }
            ],
            "label": "Benning Heights",
            "method": "update"
           },
           {
            "args": [
             {
              "visible": [
               false,
               false,
               false,
               false,
               false,
               false,
               false,
               false,
               false,
               false,
               true,
               false,
               false,
               false,
               false,
               false,
               false,
               false,
               false,
               false,
               false,
               false,
               false,
               false,
               false,
               false,
               false,
               false,
               false,
               false,
               false,
               false,
               false,
               false,
               false,
               false,
               false,
               false,
               false,
               false,
               false,
               false,
               false,
               false,
               false,
               false,
               false,
               false,
               false,
               false,
               false,
               false,
               false,
               false,
               false,
               false,
               false,
               false,
               false,
               false,
               false,
               false,
               false,
               false,
               false,
               false,
               false,
               false,
               false,
               false,
               false,
               false,
               false,
               false,
               false,
               false,
               false,
               false,
               false,
               false,
               false,
               false,
               false,
               false,
               false,
               false,
               false,
               false,
               false,
               false,
               false,
               false,
               false,
               false,
               false,
               false,
               false,
               false,
               false,
               false,
               false,
               false,
               false,
               false,
               false,
               false,
               false,
               false,
               false,
               false
              ]
             },
             {
              "title": "Benning Ridge"
             }
            ],
            "label": "Benning Ridge",
            "method": "update"
           },
           {
            "args": [
             {
              "visible": [
               false,
               false,
               false,
               false,
               false,
               false,
               false,
               false,
               false,
               false,
               false,
               true,
               false,
               false,
               false,
               false,
               false,
               false,
               false,
               false,
               false,
               false,
               false,
               false,
               false,
               false,
               false,
               false,
               false,
               false,
               false,
               false,
               false,
               false,
               false,
               false,
               false,
               false,
               false,
               false,
               false,
               false,
               false,
               false,
               false,
               false,
               false,
               false,
               false,
               false,
               false,
               false,
               false,
               false,
               false,
               false,
               false,
               false,
               false,
               false,
               false,
               false,
               false,
               false,
               false,
               false,
               false,
               false,
               false,
               false,
               false,
               false,
               false,
               false,
               false,
               false,
               false,
               false,
               false,
               false,
               false,
               false,
               false,
               false,
               false,
               false,
               false,
               false,
               false,
               false,
               false,
               false,
               false,
               false,
               false,
               false,
               false,
               false,
               false,
               false,
               false,
               false,
               false,
               false,
               false,
               false,
               false,
               false,
               false,
               false
              ]
             },
             {
              "title": "Berkley"
             }
            ],
            "label": "Berkley",
            "method": "update"
           },
           {
            "args": [
             {
              "visible": [
               false,
               false,
               false,
               false,
               false,
               false,
               false,
               false,
               false,
               false,
               false,
               false,
               true,
               false,
               false,
               false,
               false,
               false,
               false,
               false,
               false,
               false,
               false,
               false,
               false,
               false,
               false,
               false,
               false,
               false,
               false,
               false,
               false,
               false,
               false,
               false,
               false,
               false,
               false,
               false,
               false,
               false,
               false,
               false,
               false,
               false,
               false,
               false,
               false,
               false,
               false,
               false,
               false,
               false,
               false,
               false,
               false,
               false,
               false,
               false,
               false,
               false,
               false,
               false,
               false,
               false,
               false,
               false,
               false,
               false,
               false,
               false,
               false,
               false,
               false,
               false,
               false,
               false,
               false,
               false,
               false,
               false,
               false,
               false,
               false,
               false,
               false,
               false,
               false,
               false,
               false,
               false,
               false,
               false,
               false,
               false,
               false,
               false,
               false,
               false,
               false,
               false,
               false,
               false,
               false,
               false,
               false,
               false,
               false,
               false
              ]
             },
             {
              "title": "Bloomingdale"
             }
            ],
            "label": "Bloomingdale",
            "method": "update"
           },
           {
            "args": [
             {
              "visible": [
               false,
               false,
               false,
               false,
               false,
               false,
               false,
               false,
               false,
               false,
               false,
               false,
               false,
               true,
               false,
               false,
               false,
               false,
               false,
               false,
               false,
               false,
               false,
               false,
               false,
               false,
               false,
               false,
               false,
               false,
               false,
               false,
               false,
               false,
               false,
               false,
               false,
               false,
               false,
               false,
               false,
               false,
               false,
               false,
               false,
               false,
               false,
               false,
               false,
               false,
               false,
               false,
               false,
               false,
               false,
               false,
               false,
               false,
               false,
               false,
               false,
               false,
               false,
               false,
               false,
               false,
               false,
               false,
               false,
               false,
               false,
               false,
               false,
               false,
               false,
               false,
               false,
               false,
               false,
               false,
               false,
               false,
               false,
               false,
               false,
               false,
               false,
               false,
               false,
               false,
               false,
               false,
               false,
               false,
               false,
               false,
               false,
               false,
               false,
               false,
               false,
               false,
               false,
               false,
               false,
               false,
               false,
               false,
               false,
               false
              ]
             },
             {
              "title": "Brentwood"
             }
            ],
            "label": "Brentwood",
            "method": "update"
           },
           {
            "args": [
             {
              "visible": [
               false,
               false,
               false,
               false,
               false,
               false,
               false,
               false,
               false,
               false,
               false,
               false,
               false,
               false,
               true,
               false,
               false,
               false,
               false,
               false,
               false,
               false,
               false,
               false,
               false,
               false,
               false,
               false,
               false,
               false,
               false,
               false,
               false,
               false,
               false,
               false,
               false,
               false,
               false,
               false,
               false,
               false,
               false,
               false,
               false,
               false,
               false,
               false,
               false,
               false,
               false,
               false,
               false,
               false,
               false,
               false,
               false,
               false,
               false,
               false,
               false,
               false,
               false,
               false,
               false,
               false,
               false,
               false,
               false,
               false,
               false,
               false,
               false,
               false,
               false,
               false,
               false,
               false,
               false,
               false,
               false,
               false,
               false,
               false,
               false,
               false,
               false,
               false,
               false,
               false,
               false,
               false,
               false,
               false,
               false,
               false,
               false,
               false,
               false,
               false,
               false,
               false,
               false,
               false,
               false,
               false,
               false,
               false,
               false,
               false
              ]
             },
             {
              "title": "Brightwood"
             }
            ],
            "label": "Brightwood",
            "method": "update"
           },
           {
            "args": [
             {
              "visible": [
               false,
               false,
               false,
               false,
               false,
               false,
               false,
               false,
               false,
               false,
               false,
               false,
               false,
               false,
               false,
               true,
               false,
               false,
               false,
               false,
               false,
               false,
               false,
               false,
               false,
               false,
               false,
               false,
               false,
               false,
               false,
               false,
               false,
               false,
               false,
               false,
               false,
               false,
               false,
               false,
               false,
               false,
               false,
               false,
               false,
               false,
               false,
               false,
               false,
               false,
               false,
               false,
               false,
               false,
               false,
               false,
               false,
               false,
               false,
               false,
               false,
               false,
               false,
               false,
               false,
               false,
               false,
               false,
               false,
               false,
               false,
               false,
               false,
               false,
               false,
               false,
               false,
               false,
               false,
               false,
               false,
               false,
               false,
               false,
               false,
               false,
               false,
               false,
               false,
               false,
               false,
               false,
               false,
               false,
               false,
               false,
               false,
               false,
               false,
               false,
               false,
               false,
               false,
               false,
               false,
               false,
               false,
               false,
               false,
               false
              ]
             },
             {
              "title": "Brookland"
             }
            ],
            "label": "Brookland",
            "method": "update"
           },
           {
            "args": [
             {
              "visible": [
               false,
               false,
               false,
               false,
               false,
               false,
               false,
               false,
               false,
               false,
               false,
               false,
               false,
               false,
               false,
               false,
               true,
               false,
               false,
               false,
               false,
               false,
               false,
               false,
               false,
               false,
               false,
               false,
               false,
               false,
               false,
               false,
               false,
               false,
               false,
               false,
               false,
               false,
               false,
               false,
               false,
               false,
               false,
               false,
               false,
               false,
               false,
               false,
               false,
               false,
               false,
               false,
               false,
               false,
               false,
               false,
               false,
               false,
               false,
               false,
               false,
               false,
               false,
               false,
               false,
               false,
               false,
               false,
               false,
               false,
               false,
               false,
               false,
               false,
               false,
               false,
               false,
               false,
               false,
               false,
               false,
               false,
               false,
               false,
               false,
               false,
               false,
               false,
               false,
               false,
               false,
               false,
               false,
               false,
               false,
               false,
               false,
               false,
               false,
               false,
               false,
               false,
               false,
               false,
               false,
               false,
               false,
               false,
               false,
               false
              ]
             },
             {
              "title": "Buena Vista"
             }
            ],
            "label": "Buena Vista",
            "method": "update"
           },
           {
            "args": [
             {
              "visible": [
               false,
               false,
               false,
               false,
               false,
               false,
               false,
               false,
               false,
               false,
               false,
               false,
               false,
               false,
               false,
               false,
               false,
               true,
               false,
               false,
               false,
               false,
               false,
               false,
               false,
               false,
               false,
               false,
               false,
               false,
               false,
               false,
               false,
               false,
               false,
               false,
               false,
               false,
               false,
               false,
               false,
               false,
               false,
               false,
               false,
               false,
               false,
               false,
               false,
               false,
               false,
               false,
               false,
               false,
               false,
               false,
               false,
               false,
               false,
               false,
               false,
               false,
               false,
               false,
               false,
               false,
               false,
               false,
               false,
               false,
               false,
               false,
               false,
               false,
               false,
               false,
               false,
               false,
               false,
               false,
               false,
               false,
               false,
               false,
               false,
               false,
               false,
               false,
               false,
               false,
               false,
               false,
               false,
               false,
               false,
               false,
               false,
               false,
               false,
               false,
               false,
               false,
               false,
               false,
               false,
               false,
               false,
               false,
               false,
               false
              ]
             },
             {
              "title": "Burleith"
             }
            ],
            "label": "Burleith",
            "method": "update"
           },
           {
            "args": [
             {
              "visible": [
               false,
               false,
               false,
               false,
               false,
               false,
               false,
               false,
               false,
               false,
               false,
               false,
               false,
               false,
               false,
               false,
               false,
               false,
               true,
               false,
               false,
               false,
               false,
               false,
               false,
               false,
               false,
               false,
               false,
               false,
               false,
               false,
               false,
               false,
               false,
               false,
               false,
               false,
               false,
               false,
               false,
               false,
               false,
               false,
               false,
               false,
               false,
               false,
               false,
               false,
               false,
               false,
               false,
               false,
               false,
               false,
               false,
               false,
               false,
               false,
               false,
               false,
               false,
               false,
               false,
               false,
               false,
               false,
               false,
               false,
               false,
               false,
               false,
               false,
               false,
               false,
               false,
               false,
               false,
               false,
               false,
               false,
               false,
               false,
               false,
               false,
               false,
               false,
               false,
               false,
               false,
               false,
               false,
               false,
               false,
               false,
               false,
               false,
               false,
               false,
               false,
               false,
               false,
               false,
               false,
               false,
               false,
               false,
               false,
               false
              ]
             },
             {
              "title": "Capitol Hill"
             }
            ],
            "label": "Capitol Hill",
            "method": "update"
           },
           {
            "args": [
             {
              "visible": [
               false,
               false,
               false,
               false,
               false,
               false,
               false,
               false,
               false,
               false,
               false,
               false,
               false,
               false,
               false,
               false,
               false,
               false,
               false,
               true,
               false,
               false,
               false,
               false,
               false,
               false,
               false,
               false,
               false,
               false,
               false,
               false,
               false,
               false,
               false,
               false,
               false,
               false,
               false,
               false,
               false,
               false,
               false,
               false,
               false,
               false,
               false,
               false,
               false,
               false,
               false,
               false,
               false,
               false,
               false,
               false,
               false,
               false,
               false,
               false,
               false,
               false,
               false,
               false,
               false,
               false,
               false,
               false,
               false,
               false,
               false,
               false,
               false,
               false,
               false,
               false,
               false,
               false,
               false,
               false,
               false,
               false,
               false,
               false,
               false,
               false,
               false,
               false,
               false,
               false,
               false,
               false,
               false,
               false,
               false,
               false,
               false,
               false,
               false,
               false,
               false,
               false,
               false,
               false,
               false,
               false,
               false,
               false,
               false,
               false
              ]
             },
             {
              "title": "Carver Langston"
             }
            ],
            "label": "Carver Langston",
            "method": "update"
           },
           {
            "args": [
             {
              "visible": [
               false,
               false,
               false,
               false,
               false,
               false,
               false,
               false,
               false,
               false,
               false,
               false,
               false,
               false,
               false,
               false,
               false,
               false,
               false,
               false,
               true,
               false,
               false,
               false,
               false,
               false,
               false,
               false,
               false,
               false,
               false,
               false,
               false,
               false,
               false,
               false,
               false,
               false,
               false,
               false,
               false,
               false,
               false,
               false,
               false,
               false,
               false,
               false,
               false,
               false,
               false,
               false,
               false,
               false,
               false,
               false,
               false,
               false,
               false,
               false,
               false,
               false,
               false,
               false,
               false,
               false,
               false,
               false,
               false,
               false,
               false,
               false,
               false,
               false,
               false,
               false,
               false,
               false,
               false,
               false,
               false,
               false,
               false,
               false,
               false,
               false,
               false,
               false,
               false,
               false,
               false,
               false,
               false,
               false,
               false,
               false,
               false,
               false,
               false,
               false,
               false,
               false,
               false,
               false,
               false,
               false,
               false,
               false,
               false,
               false
              ]
             },
             {
              "title": "Cathedral Heights"
             }
            ],
            "label": "Cathedral Heights",
            "method": "update"
           },
           {
            "args": [
             {
              "visible": [
               false,
               false,
               false,
               false,
               false,
               false,
               false,
               false,
               false,
               false,
               false,
               false,
               false,
               false,
               false,
               false,
               false,
               false,
               false,
               false,
               false,
               true,
               false,
               false,
               false,
               false,
               false,
               false,
               false,
               false,
               false,
               false,
               false,
               false,
               false,
               false,
               false,
               false,
               false,
               false,
               false,
               false,
               false,
               false,
               false,
               false,
               false,
               false,
               false,
               false,
               false,
               false,
               false,
               false,
               false,
               false,
               false,
               false,
               false,
               false,
               false,
               false,
               false,
               false,
               false,
               false,
               false,
               false,
               false,
               false,
               false,
               false,
               false,
               false,
               false,
               false,
               false,
               false,
               false,
               false,
               false,
               false,
               false,
               false,
               false,
               false,
               false,
               false,
               false,
               false,
               false,
               false,
               false,
               false,
               false,
               false,
               false,
               false,
               false,
               false,
               false,
               false,
               false,
               false,
               false,
               false,
               false,
               false,
               false,
               false
              ]
             },
             {
              "title": "Catholic University"
             }
            ],
            "label": "Catholic University",
            "method": "update"
           },
           {
            "args": [
             {
              "visible": [
               false,
               false,
               false,
               false,
               false,
               false,
               false,
               false,
               false,
               false,
               false,
               false,
               false,
               false,
               false,
               false,
               false,
               false,
               false,
               false,
               false,
               false,
               true,
               false,
               false,
               false,
               false,
               false,
               false,
               false,
               false,
               false,
               false,
               false,
               false,
               false,
               false,
               false,
               false,
               false,
               false,
               false,
               false,
               false,
               false,
               false,
               false,
               false,
               false,
               false,
               false,
               false,
               false,
               false,
               false,
               false,
               false,
               false,
               false,
               false,
               false,
               false,
               false,
               false,
               false,
               false,
               false,
               false,
               false,
               false,
               false,
               false,
               false,
               false,
               false,
               false,
               false,
               false,
               false,
               false,
               false,
               false,
               false,
               false,
               false,
               false,
               false,
               false,
               false,
               false,
               false,
               false,
               false,
               false,
               false,
               false,
               false,
               false,
               false,
               false,
               false,
               false,
               false,
               false,
               false,
               false,
               false,
               false,
               false,
               false
              ]
             },
             {
              "title": "Central Northeast/Mahaning Heights"
             }
            ],
            "label": "Central Northeast/Mahaning Heights",
            "method": "update"
           },
           {
            "args": [
             {
              "visible": [
               false,
               false,
               false,
               false,
               false,
               false,
               false,
               false,
               false,
               false,
               false,
               false,
               false,
               false,
               false,
               false,
               false,
               false,
               false,
               false,
               false,
               false,
               false,
               true,
               false,
               false,
               false,
               false,
               false,
               false,
               false,
               false,
               false,
               false,
               false,
               false,
               false,
               false,
               false,
               false,
               false,
               false,
               false,
               false,
               false,
               false,
               false,
               false,
               false,
               false,
               false,
               false,
               false,
               false,
               false,
               false,
               false,
               false,
               false,
               false,
               false,
               false,
               false,
               false,
               false,
               false,
               false,
               false,
               false,
               false,
               false,
               false,
               false,
               false,
               false,
               false,
               false,
               false,
               false,
               false,
               false,
               false,
               false,
               false,
               false,
               false,
               false,
               false,
               false,
               false,
               false,
               false,
               false,
               false,
               false,
               false,
               false,
               false,
               false,
               false,
               false,
               false,
               false,
               false,
               false,
               false,
               false,
               false,
               false,
               false
              ]
             },
             {
              "title": "Chevy Chase"
             }
            ],
            "label": "Chevy Chase",
            "method": "update"
           },
           {
            "args": [
             {
              "visible": [
               false,
               false,
               false,
               false,
               false,
               false,
               false,
               false,
               false,
               false,
               false,
               false,
               false,
               false,
               false,
               false,
               false,
               false,
               false,
               false,
               false,
               false,
               false,
               false,
               true,
               false,
               false,
               false,
               false,
               false,
               false,
               false,
               false,
               false,
               false,
               false,
               false,
               false,
               false,
               false,
               false,
               false,
               false,
               false,
               false,
               false,
               false,
               false,
               false,
               false,
               false,
               false,
               false,
               false,
               false,
               false,
               false,
               false,
               false,
               false,
               false,
               false,
               false,
               false,
               false,
               false,
               false,
               false,
               false,
               false,
               false,
               false,
               false,
               false,
               false,
               false,
               false,
               false,
               false,
               false,
               false,
               false,
               false,
               false,
               false,
               false,
               false,
               false,
               false,
               false,
               false,
               false,
               false,
               false,
               false,
               false,
               false,
               false,
               false,
               false,
               false,
               false,
               false,
               false,
               false,
               false,
               false,
               false,
               false,
               false
              ]
             },
             {
              "title": "Civic Betterment"
             }
            ],
            "label": "Civic Betterment",
            "method": "update"
           },
           {
            "args": [
             {
              "visible": [
               false,
               false,
               false,
               false,
               false,
               false,
               false,
               false,
               false,
               false,
               false,
               false,
               false,
               false,
               false,
               false,
               false,
               false,
               false,
               false,
               false,
               false,
               false,
               false,
               false,
               true,
               false,
               false,
               false,
               false,
               false,
               false,
               false,
               false,
               false,
               false,
               false,
               false,
               false,
               false,
               false,
               false,
               false,
               false,
               false,
               false,
               false,
               false,
               false,
               false,
               false,
               false,
               false,
               false,
               false,
               false,
               false,
               false,
               false,
               false,
               false,
               false,
               false,
               false,
               false,
               false,
               false,
               false,
               false,
               false,
               false,
               false,
               false,
               false,
               false,
               false,
               false,
               false,
               false,
               false,
               false,
               false,
               false,
               false,
               false,
               false,
               false,
               false,
               false,
               false,
               false,
               false,
               false,
               false,
               false,
               false,
               false,
               false,
               false,
               false,
               false,
               false,
               false,
               false,
               false,
               false,
               false,
               false,
               false,
               false
              ]
             },
             {
              "title": "Cleveland Park"
             }
            ],
            "label": "Cleveland Park",
            "method": "update"
           },
           {
            "args": [
             {
              "visible": [
               false,
               false,
               false,
               false,
               false,
               false,
               false,
               false,
               false,
               false,
               false,
               false,
               false,
               false,
               false,
               false,
               false,
               false,
               false,
               false,
               false,
               false,
               false,
               false,
               false,
               false,
               true,
               false,
               false,
               false,
               false,
               false,
               false,
               false,
               false,
               false,
               false,
               false,
               false,
               false,
               false,
               false,
               false,
               false,
               false,
               false,
               false,
               false,
               false,
               false,
               false,
               false,
               false,
               false,
               false,
               false,
               false,
               false,
               false,
               false,
               false,
               false,
               false,
               false,
               false,
               false,
               false,
               false,
               false,
               false,
               false,
               false,
               false,
               false,
               false,
               false,
               false,
               false,
               false,
               false,
               false,
               false,
               false,
               false,
               false,
               false,
               false,
               false,
               false,
               false,
               false,
               false,
               false,
               false,
               false,
               false,
               false,
               false,
               false,
               false,
               false,
               false,
               false,
               false,
               false,
               false,
               false,
               false,
               false,
               false
              ]
             },
             {
              "title": "Colonial Village"
             }
            ],
            "label": "Colonial Village",
            "method": "update"
           },
           {
            "args": [
             {
              "visible": [
               false,
               false,
               false,
               false,
               false,
               false,
               false,
               false,
               false,
               false,
               false,
               false,
               false,
               false,
               false,
               false,
               false,
               false,
               false,
               false,
               false,
               false,
               false,
               false,
               false,
               false,
               false,
               true,
               false,
               false,
               false,
               false,
               false,
               false,
               false,
               false,
               false,
               false,
               false,
               false,
               false,
               false,
               false,
               false,
               false,
               false,
               false,
               false,
               false,
               false,
               false,
               false,
               false,
               false,
               false,
               false,
               false,
               false,
               false,
               false,
               false,
               false,
               false,
               false,
               false,
               false,
               false,
               false,
               false,
               false,
               false,
               false,
               false,
               false,
               false,
               false,
               false,
               false,
               false,
               false,
               false,
               false,
               false,
               false,
               false,
               false,
               false,
               false,
               false,
               false,
               false,
               false,
               false,
               false,
               false,
               false,
               false,
               false,
               false,
               false,
               false,
               false,
               false,
               false,
               false,
               false,
               false,
               false,
               false,
               false
              ]
             },
             {
              "title": "Columbia Heights"
             }
            ],
            "label": "Columbia Heights",
            "method": "update"
           },
           {
            "args": [
             {
              "visible": [
               false,
               false,
               false,
               false,
               false,
               false,
               false,
               false,
               false,
               false,
               false,
               false,
               false,
               false,
               false,
               false,
               false,
               false,
               false,
               false,
               false,
               false,
               false,
               false,
               false,
               false,
               false,
               false,
               true,
               false,
               false,
               false,
               false,
               false,
               false,
               false,
               false,
               false,
               false,
               false,
               false,
               false,
               false,
               false,
               false,
               false,
               false,
               false,
               false,
               false,
               false,
               false,
               false,
               false,
               false,
               false,
               false,
               false,
               false,
               false,
               false,
               false,
               false,
               false,
               false,
               false,
               false,
               false,
               false,
               false,
               false,
               false,
               false,
               false,
               false,
               false,
               false,
               false,
               false,
               false,
               false,
               false,
               false,
               false,
               false,
               false,
               false,
               false,
               false,
               false,
               false,
               false,
               false,
               false,
               false,
               false,
               false,
               false,
               false,
               false,
               false,
               false,
               false,
               false,
               false,
               false,
               false,
               false,
               false,
               false
              ]
             },
             {
              "title": "Congress Heights"
             }
            ],
            "label": "Congress Heights",
            "method": "update"
           },
           {
            "args": [
             {
              "visible": [
               false,
               false,
               false,
               false,
               false,
               false,
               false,
               false,
               false,
               false,
               false,
               false,
               false,
               false,
               false,
               false,
               false,
               false,
               false,
               false,
               false,
               false,
               false,
               false,
               false,
               false,
               false,
               false,
               false,
               true,
               false,
               false,
               false,
               false,
               false,
               false,
               false,
               false,
               false,
               false,
               false,
               false,
               false,
               false,
               false,
               false,
               false,
               false,
               false,
               false,
               false,
               false,
               false,
               false,
               false,
               false,
               false,
               false,
               false,
               false,
               false,
               false,
               false,
               false,
               false,
               false,
               false,
               false,
               false,
               false,
               false,
               false,
               false,
               false,
               false,
               false,
               false,
               false,
               false,
               false,
               false,
               false,
               false,
               false,
               false,
               false,
               false,
               false,
               false,
               false,
               false,
               false,
               false,
               false,
               false,
               false,
               false,
               false,
               false,
               false,
               false,
               false,
               false,
               false,
               false,
               false,
               false,
               false,
               false,
               false
              ]
             },
             {
              "title": "Crestwood"
             }
            ],
            "label": "Crestwood",
            "method": "update"
           },
           {
            "args": [
             {
              "visible": [
               false,
               false,
               false,
               false,
               false,
               false,
               false,
               false,
               false,
               false,
               false,
               false,
               false,
               false,
               false,
               false,
               false,
               false,
               false,
               false,
               false,
               false,
               false,
               false,
               false,
               false,
               false,
               false,
               false,
               false,
               true,
               false,
               false,
               false,
               false,
               false,
               false,
               false,
               false,
               false,
               false,
               false,
               false,
               false,
               false,
               false,
               false,
               false,
               false,
               false,
               false,
               false,
               false,
               false,
               false,
               false,
               false,
               false,
               false,
               false,
               false,
               false,
               false,
               false,
               false,
               false,
               false,
               false,
               false,
               false,
               false,
               false,
               false,
               false,
               false,
               false,
               false,
               false,
               false,
               false,
               false,
               false,
               false,
               false,
               false,
               false,
               false,
               false,
               false,
               false,
               false,
               false,
               false,
               false,
               false,
               false,
               false,
               false,
               false,
               false,
               false,
               false,
               false,
               false,
               false,
               false,
               false,
               false,
               false,
               false
              ]
             },
             {
              "title": "Deanwood"
             }
            ],
            "label": "Deanwood",
            "method": "update"
           },
           {
            "args": [
             {
              "visible": [
               false,
               false,
               false,
               false,
               false,
               false,
               false,
               false,
               false,
               false,
               false,
               false,
               false,
               false,
               false,
               false,
               false,
               false,
               false,
               false,
               false,
               false,
               false,
               false,
               false,
               false,
               false,
               false,
               false,
               false,
               false,
               true,
               false,
               false,
               false,
               false,
               false,
               false,
               false,
               false,
               false,
               false,
               false,
               false,
               false,
               false,
               false,
               false,
               false,
               false,
               false,
               false,
               false,
               false,
               false,
               false,
               false,
               false,
               false,
               false,
               false,
               false,
               false,
               false,
               false,
               false,
               false,
               false,
               false,
               false,
               false,
               false,
               false,
               false,
               false,
               false,
               false,
               false,
               false,
               false,
               false,
               false,
               false,
               false,
               false,
               false,
               false,
               false,
               false,
               false,
               false,
               false,
               false,
               false,
               false,
               false,
               false,
               false,
               false,
               false,
               false,
               false,
               false,
               false,
               false,
               false,
               false,
               false,
               false,
               false
              ]
             },
             {
              "title": "Douglass"
             }
            ],
            "label": "Douglass",
            "method": "update"
           },
           {
            "args": [
             {
              "visible": [
               false,
               false,
               false,
               false,
               false,
               false,
               false,
               false,
               false,
               false,
               false,
               false,
               false,
               false,
               false,
               false,
               false,
               false,
               false,
               false,
               false,
               false,
               false,
               false,
               false,
               false,
               false,
               false,
               false,
               false,
               false,
               false,
               true,
               false,
               false,
               false,
               false,
               false,
               false,
               false,
               false,
               false,
               false,
               false,
               false,
               false,
               false,
               false,
               false,
               false,
               false,
               false,
               false,
               false,
               false,
               false,
               false,
               false,
               false,
               false,
               false,
               false,
               false,
               false,
               false,
               false,
               false,
               false,
               false,
               false,
               false,
               false,
               false,
               false,
               false,
               false,
               false,
               false,
               false,
               false,
               false,
               false,
               false,
               false,
               false,
               false,
               false,
               false,
               false,
               false,
               false,
               false,
               false,
               false,
               false,
               false,
               false,
               false,
               false,
               false,
               false,
               false,
               false,
               false,
               false,
               false,
               false,
               false,
               false,
               false
              ]
             },
             {
              "title": "Downtown/Penn Quarter"
             }
            ],
            "label": "Downtown/Penn Quarter",
            "method": "update"
           },
           {
            "args": [
             {
              "visible": [
               false,
               false,
               false,
               false,
               false,
               false,
               false,
               false,
               false,
               false,
               false,
               false,
               false,
               false,
               false,
               false,
               false,
               false,
               false,
               false,
               false,
               false,
               false,
               false,
               false,
               false,
               false,
               false,
               false,
               false,
               false,
               false,
               false,
               true,
               false,
               false,
               false,
               false,
               false,
               false,
               false,
               false,
               false,
               false,
               false,
               false,
               false,
               false,
               false,
               false,
               false,
               false,
               false,
               false,
               false,
               false,
               false,
               false,
               false,
               false,
               false,
               false,
               false,
               false,
               false,
               false,
               false,
               false,
               false,
               false,
               false,
               false,
               false,
               false,
               false,
               false,
               false,
               false,
               false,
               false,
               false,
               false,
               false,
               false,
               false,
               false,
               false,
               false,
               false,
               false,
               false,
               false,
               false,
               false,
               false,
               false,
               false,
               false,
               false,
               false,
               false,
               false,
               false,
               false,
               false,
               false,
               false,
               false,
               false,
               false
              ]
             },
             {
              "title": "Dupont Circle"
             }
            ],
            "label": "Dupont Circle",
            "method": "update"
           },
           {
            "args": [
             {
              "visible": [
               false,
               false,
               false,
               false,
               false,
               false,
               false,
               false,
               false,
               false,
               false,
               false,
               false,
               false,
               false,
               false,
               false,
               false,
               false,
               false,
               false,
               false,
               false,
               false,
               false,
               false,
               false,
               false,
               false,
               false,
               false,
               false,
               false,
               false,
               true,
               false,
               false,
               false,
               false,
               false,
               false,
               false,
               false,
               false,
               false,
               false,
               false,
               false,
               false,
               false,
               false,
               false,
               false,
               false,
               false,
               false,
               false,
               false,
               false,
               false,
               false,
               false,
               false,
               false,
               false,
               false,
               false,
               false,
               false,
               false,
               false,
               false,
               false,
               false,
               false,
               false,
               false,
               false,
               false,
               false,
               false,
               false,
               false,
               false,
               false,
               false,
               false,
               false,
               false,
               false,
               false,
               false,
               false,
               false,
               false,
               false,
               false,
               false,
               false,
               false,
               false,
               false,
               false,
               false,
               false,
               false,
               false,
               false,
               false,
               false
              ]
             },
             {
              "title": "Dupont Park"
             }
            ],
            "label": "Dupont Park",
            "method": "update"
           },
           {
            "args": [
             {
              "visible": [
               false,
               false,
               false,
               false,
               false,
               false,
               false,
               false,
               false,
               false,
               false,
               false,
               false,
               false,
               false,
               false,
               false,
               false,
               false,
               false,
               false,
               false,
               false,
               false,
               false,
               false,
               false,
               false,
               false,
               false,
               false,
               false,
               false,
               false,
               false,
               true,
               false,
               false,
               false,
               false,
               false,
               false,
               false,
               false,
               false,
               false,
               false,
               false,
               false,
               false,
               false,
               false,
               false,
               false,
               false,
               false,
               false,
               false,
               false,
               false,
               false,
               false,
               false,
               false,
               false,
               false,
               false,
               false,
               false,
               false,
               false,
               false,
               false,
               false,
               false,
               false,
               false,
               false,
               false,
               false,
               false,
               false,
               false,
               false,
               false,
               false,
               false,
               false,
               false,
               false,
               false,
               false,
               false,
               false,
               false,
               false,
               false,
               false,
               false,
               false,
               false,
               false,
               false,
               false,
               false,
               false,
               false,
               false,
               false,
               false
              ]
             },
             {
              "title": "East Corner"
             }
            ],
            "label": "East Corner",
            "method": "update"
           },
           {
            "args": [
             {
              "visible": [
               false,
               false,
               false,
               false,
               false,
               false,
               false,
               false,
               false,
               false,
               false,
               false,
               false,
               false,
               false,
               false,
               false,
               false,
               false,
               false,
               false,
               false,
               false,
               false,
               false,
               false,
               false,
               false,
               false,
               false,
               false,
               false,
               false,
               false,
               false,
               false,
               true,
               false,
               false,
               false,
               false,
               false,
               false,
               false,
               false,
               false,
               false,
               false,
               false,
               false,
               false,
               false,
               false,
               false,
               false,
               false,
               false,
               false,
               false,
               false,
               false,
               false,
               false,
               false,
               false,
               false,
               false,
               false,
               false,
               false,
               false,
               false,
               false,
               false,
               false,
               false,
               false,
               false,
               false,
               false,
               false,
               false,
               false,
               false,
               false,
               false,
               false,
               false,
               false,
               false,
               false,
               false,
               false,
               false,
               false,
               false,
               false,
               false,
               false,
               false,
               false,
               false,
               false,
               false,
               false,
               false,
               false,
               false,
               false,
               false
              ]
             },
             {
              "title": "Eastland Gardens"
             }
            ],
            "label": "Eastland Gardens",
            "method": "update"
           },
           {
            "args": [
             {
              "visible": [
               false,
               false,
               false,
               false,
               false,
               false,
               false,
               false,
               false,
               false,
               false,
               false,
               false,
               false,
               false,
               false,
               false,
               false,
               false,
               false,
               false,
               false,
               false,
               false,
               false,
               false,
               false,
               false,
               false,
               false,
               false,
               false,
               false,
               false,
               false,
               false,
               false,
               true,
               false,
               false,
               false,
               false,
               false,
               false,
               false,
               false,
               false,
               false,
               false,
               false,
               false,
               false,
               false,
               false,
               false,
               false,
               false,
               false,
               false,
               false,
               false,
               false,
               false,
               false,
               false,
               false,
               false,
               false,
               false,
               false,
               false,
               false,
               false,
               false,
               false,
               false,
               false,
               false,
               false,
               false,
               false,
               false,
               false,
               false,
               false,
               false,
               false,
               false,
               false,
               false,
               false,
               false,
               false,
               false,
               false,
               false,
               false,
               false,
               false,
               false,
               false,
               false,
               false,
               false,
               false,
               false,
               false,
               false,
               false,
               false
              ]
             },
             {
              "title": "Eckington"
             }
            ],
            "label": "Eckington",
            "method": "update"
           },
           {
            "args": [
             {
              "visible": [
               false,
               false,
               false,
               false,
               false,
               false,
               false,
               false,
               false,
               false,
               false,
               false,
               false,
               false,
               false,
               false,
               false,
               false,
               false,
               false,
               false,
               false,
               false,
               false,
               false,
               false,
               false,
               false,
               false,
               false,
               false,
               false,
               false,
               false,
               false,
               false,
               false,
               false,
               true,
               false,
               false,
               false,
               false,
               false,
               false,
               false,
               false,
               false,
               false,
               false,
               false,
               false,
               false,
               false,
               false,
               false,
               false,
               false,
               false,
               false,
               false,
               false,
               false,
               false,
               false,
               false,
               false,
               false,
               false,
               false,
               false,
               false,
               false,
               false,
               false,
               false,
               false,
               false,
               false,
               false,
               false,
               false,
               false,
               false,
               false,
               false,
               false,
               false,
               false,
               false,
               false,
               false,
               false,
               false,
               false,
               false,
               false,
               false,
               false,
               false,
               false,
               false,
               false,
               false,
               false,
               false,
               false,
               false,
               false,
               false
              ]
             },
             {
              "title": "Edgewood"
             }
            ],
            "label": "Edgewood",
            "method": "update"
           },
           {
            "args": [
             {
              "visible": [
               false,
               false,
               false,
               false,
               false,
               false,
               false,
               false,
               false,
               false,
               false,
               false,
               false,
               false,
               false,
               false,
               false,
               false,
               false,
               false,
               false,
               false,
               false,
               false,
               false,
               false,
               false,
               false,
               false,
               false,
               false,
               false,
               false,
               false,
               false,
               false,
               false,
               false,
               false,
               true,
               false,
               false,
               false,
               false,
               false,
               false,
               false,
               false,
               false,
               false,
               false,
               false,
               false,
               false,
               false,
               false,
               false,
               false,
               false,
               false,
               false,
               false,
               false,
               false,
               false,
               false,
               false,
               false,
               false,
               false,
               false,
               false,
               false,
               false,
               false,
               false,
               false,
               false,
               false,
               false,
               false,
               false,
               false,
               false,
               false,
               false,
               false,
               false,
               false,
               false,
               false,
               false,
               false,
               false,
               false,
               false,
               false,
               false,
               false,
               false,
               false,
               false,
               false,
               false,
               false,
               false,
               false,
               false,
               false,
               false
              ]
             },
             {
              "title": "Fairlawn"
             }
            ],
            "label": "Fairlawn",
            "method": "update"
           },
           {
            "args": [
             {
              "visible": [
               false,
               false,
               false,
               false,
               false,
               false,
               false,
               false,
               false,
               false,
               false,
               false,
               false,
               false,
               false,
               false,
               false,
               false,
               false,
               false,
               false,
               false,
               false,
               false,
               false,
               false,
               false,
               false,
               false,
               false,
               false,
               false,
               false,
               false,
               false,
               false,
               false,
               false,
               false,
               false,
               true,
               false,
               false,
               false,
               false,
               false,
               false,
               false,
               false,
               false,
               false,
               false,
               false,
               false,
               false,
               false,
               false,
               false,
               false,
               false,
               false,
               false,
               false,
               false,
               false,
               false,
               false,
               false,
               false,
               false,
               false,
               false,
               false,
               false,
               false,
               false,
               false,
               false,
               false,
               false,
               false,
               false,
               false,
               false,
               false,
               false,
               false,
               false,
               false,
               false,
               false,
               false,
               false,
               false,
               false,
               false,
               false,
               false,
               false,
               false,
               false,
               false,
               false,
               false,
               false,
               false,
               false,
               false,
               false,
               false
              ]
             },
             {
              "title": "Foggy Bottom"
             }
            ],
            "label": "Foggy Bottom",
            "method": "update"
           },
           {
            "args": [
             {
              "visible": [
               false,
               false,
               false,
               false,
               false,
               false,
               false,
               false,
               false,
               false,
               false,
               false,
               false,
               false,
               false,
               false,
               false,
               false,
               false,
               false,
               false,
               false,
               false,
               false,
               false,
               false,
               false,
               false,
               false,
               false,
               false,
               false,
               false,
               false,
               false,
               false,
               false,
               false,
               false,
               false,
               false,
               true,
               false,
               false,
               false,
               false,
               false,
               false,
               false,
               false,
               false,
               false,
               false,
               false,
               false,
               false,
               false,
               false,
               false,
               false,
               false,
               false,
               false,
               false,
               false,
               false,
               false,
               false,
               false,
               false,
               false,
               false,
               false,
               false,
               false,
               false,
               false,
               false,
               false,
               false,
               false,
               false,
               false,
               false,
               false,
               false,
               false,
               false,
               false,
               false,
               false,
               false,
               false,
               false,
               false,
               false,
               false,
               false,
               false,
               false,
               false,
               false,
               false,
               false,
               false,
               false,
               false,
               false,
               false,
               false
              ]
             },
             {
              "title": "Forest Hills"
             }
            ],
            "label": "Forest Hills",
            "method": "update"
           },
           {
            "args": [
             {
              "visible": [
               false,
               false,
               false,
               false,
               false,
               false,
               false,
               false,
               false,
               false,
               false,
               false,
               false,
               false,
               false,
               false,
               false,
               false,
               false,
               false,
               false,
               false,
               false,
               false,
               false,
               false,
               false,
               false,
               false,
               false,
               false,
               false,
               false,
               false,
               false,
               false,
               false,
               false,
               false,
               false,
               false,
               false,
               true,
               false,
               false,
               false,
               false,
               false,
               false,
               false,
               false,
               false,
               false,
               false,
               false,
               false,
               false,
               false,
               false,
               false,
               false,
               false,
               false,
               false,
               false,
               false,
               false,
               false,
               false,
               false,
               false,
               false,
               false,
               false,
               false,
               false,
               false,
               false,
               false,
               false,
               false,
               false,
               false,
               false,
               false,
               false,
               false,
               false,
               false,
               false,
               false,
               false,
               false,
               false,
               false,
               false,
               false,
               false,
               false,
               false,
               false,
               false,
               false,
               false,
               false,
               false,
               false,
               false,
               false,
               false
              ]
             },
             {
              "title": "Fort Davis"
             }
            ],
            "label": "Fort Davis",
            "method": "update"
           },
           {
            "args": [
             {
              "visible": [
               false,
               false,
               false,
               false,
               false,
               false,
               false,
               false,
               false,
               false,
               false,
               false,
               false,
               false,
               false,
               false,
               false,
               false,
               false,
               false,
               false,
               false,
               false,
               false,
               false,
               false,
               false,
               false,
               false,
               false,
               false,
               false,
               false,
               false,
               false,
               false,
               false,
               false,
               false,
               false,
               false,
               false,
               false,
               true,
               false,
               false,
               false,
               false,
               false,
               false,
               false,
               false,
               false,
               false,
               false,
               false,
               false,
               false,
               false,
               false,
               false,
               false,
               false,
               false,
               false,
               false,
               false,
               false,
               false,
               false,
               false,
               false,
               false,
               false,
               false,
               false,
               false,
               false,
               false,
               false,
               false,
               false,
               false,
               false,
               false,
               false,
               false,
               false,
               false,
               false,
               false,
               false,
               false,
               false,
               false,
               false,
               false,
               false,
               false,
               false,
               false,
               false,
               false,
               false,
               false,
               false,
               false,
               false,
               false,
               false
              ]
             },
             {
              "title": "Fort Dupont"
             }
            ],
            "label": "Fort Dupont",
            "method": "update"
           },
           {
            "args": [
             {
              "visible": [
               false,
               false,
               false,
               false,
               false,
               false,
               false,
               false,
               false,
               false,
               false,
               false,
               false,
               false,
               false,
               false,
               false,
               false,
               false,
               false,
               false,
               false,
               false,
               false,
               false,
               false,
               false,
               false,
               false,
               false,
               false,
               false,
               false,
               false,
               false,
               false,
               false,
               false,
               false,
               false,
               false,
               false,
               false,
               false,
               true,
               false,
               false,
               false,
               false,
               false,
               false,
               false,
               false,
               false,
               false,
               false,
               false,
               false,
               false,
               false,
               false,
               false,
               false,
               false,
               false,
               false,
               false,
               false,
               false,
               false,
               false,
               false,
               false,
               false,
               false,
               false,
               false,
               false,
               false,
               false,
               false,
               false,
               false,
               false,
               false,
               false,
               false,
               false,
               false,
               false,
               false,
               false,
               false,
               false,
               false,
               false,
               false,
               false,
               false,
               false,
               false,
               false,
               false,
               false,
               false,
               false,
               false,
               false,
               false,
               false
              ]
             },
             {
              "title": "Fort Lincoln"
             }
            ],
            "label": "Fort Lincoln",
            "method": "update"
           },
           {
            "args": [
             {
              "visible": [
               false,
               false,
               false,
               false,
               false,
               false,
               false,
               false,
               false,
               false,
               false,
               false,
               false,
               false,
               false,
               false,
               false,
               false,
               false,
               false,
               false,
               false,
               false,
               false,
               false,
               false,
               false,
               false,
               false,
               false,
               false,
               false,
               false,
               false,
               false,
               false,
               false,
               false,
               false,
               false,
               false,
               false,
               false,
               false,
               false,
               true,
               false,
               false,
               false,
               false,
               false,
               false,
               false,
               false,
               false,
               false,
               false,
               false,
               false,
               false,
               false,
               false,
               false,
               false,
               false,
               false,
               false,
               false,
               false,
               false,
               false,
               false,
               false,
               false,
               false,
               false,
               false,
               false,
               false,
               false,
               false,
               false,
               false,
               false,
               false,
               false,
               false,
               false,
               false,
               false,
               false,
               false,
               false,
               false,
               false,
               false,
               false,
               false,
               false,
               false,
               false,
               false,
               false,
               false,
               false,
               false,
               false,
               false,
               false,
               false
              ]
             },
             {
              "title": "Fort Totten"
             }
            ],
            "label": "Fort Totten",
            "method": "update"
           },
           {
            "args": [
             {
              "visible": [
               false,
               false,
               false,
               false,
               false,
               false,
               false,
               false,
               false,
               false,
               false,
               false,
               false,
               false,
               false,
               false,
               false,
               false,
               false,
               false,
               false,
               false,
               false,
               false,
               false,
               false,
               false,
               false,
               false,
               false,
               false,
               false,
               false,
               false,
               false,
               false,
               false,
               false,
               false,
               false,
               false,
               false,
               false,
               false,
               false,
               false,
               true,
               false,
               false,
               false,
               false,
               false,
               false,
               false,
               false,
               false,
               false,
               false,
               false,
               false,
               false,
               false,
               false,
               false,
               false,
               false,
               false,
               false,
               false,
               false,
               false,
               false,
               false,
               false,
               false,
               false,
               false,
               false,
               false,
               false,
               false,
               false,
               false,
               false,
               false,
               false,
               false,
               false,
               false,
               false,
               false,
               false,
               false,
               false,
               false,
               false,
               false,
               false,
               false,
               false,
               false,
               false,
               false,
               false,
               false,
               false,
               false,
               false,
               false,
               false
              ]
             },
             {
              "title": "Foxhall"
             }
            ],
            "label": "Foxhall",
            "method": "update"
           },
           {
            "args": [
             {
              "visible": [
               false,
               false,
               false,
               false,
               false,
               false,
               false,
               false,
               false,
               false,
               false,
               false,
               false,
               false,
               false,
               false,
               false,
               false,
               false,
               false,
               false,
               false,
               false,
               false,
               false,
               false,
               false,
               false,
               false,
               false,
               false,
               false,
               false,
               false,
               false,
               false,
               false,
               false,
               false,
               false,
               false,
               false,
               false,
               false,
               false,
               false,
               false,
               true,
               false,
               false,
               false,
               false,
               false,
               false,
               false,
               false,
               false,
               false,
               false,
               false,
               false,
               false,
               false,
               false,
               false,
               false,
               false,
               false,
               false,
               false,
               false,
               false,
               false,
               false,
               false,
               false,
               false,
               false,
               false,
               false,
               false,
               false,
               false,
               false,
               false,
               false,
               false,
               false,
               false,
               false,
               false,
               false,
               false,
               false,
               false,
               false,
               false,
               false,
               false,
               false,
               false,
               false,
               false,
               false,
               false,
               false,
               false,
               false,
               false,
               false
              ]
             },
             {
              "title": "Friendship Heights"
             }
            ],
            "label": "Friendship Heights",
            "method": "update"
           },
           {
            "args": [
             {
              "visible": [
               false,
               false,
               false,
               false,
               false,
               false,
               false,
               false,
               false,
               false,
               false,
               false,
               false,
               false,
               false,
               false,
               false,
               false,
               false,
               false,
               false,
               false,
               false,
               false,
               false,
               false,
               false,
               false,
               false,
               false,
               false,
               false,
               false,
               false,
               false,
               false,
               false,
               false,
               false,
               false,
               false,
               false,
               false,
               false,
               false,
               false,
               false,
               false,
               true,
               false,
               false,
               false,
               false,
               false,
               false,
               false,
               false,
               false,
               false,
               false,
               false,
               false,
               false,
               false,
               false,
               false,
               false,
               false,
               false,
               false,
               false,
               false,
               false,
               false,
               false,
               false,
               false,
               false,
               false,
               false,
               false,
               false,
               false,
               false,
               false,
               false,
               false,
               false,
               false,
               false,
               false,
               false,
               false,
               false,
               false,
               false,
               false,
               false,
               false,
               false,
               false,
               false,
               false,
               false,
               false,
               false,
               false,
               false,
               false,
               false
              ]
             },
             {
              "title": "Gallaudet"
             }
            ],
            "label": "Gallaudet",
            "method": "update"
           },
           {
            "args": [
             {
              "visible": [
               false,
               false,
               false,
               false,
               false,
               false,
               false,
               false,
               false,
               false,
               false,
               false,
               false,
               false,
               false,
               false,
               false,
               false,
               false,
               false,
               false,
               false,
               false,
               false,
               false,
               false,
               false,
               false,
               false,
               false,
               false,
               false,
               false,
               false,
               false,
               false,
               false,
               false,
               false,
               false,
               false,
               false,
               false,
               false,
               false,
               false,
               false,
               false,
               false,
               true,
               false,
               false,
               false,
               false,
               false,
               false,
               false,
               false,
               false,
               false,
               false,
               false,
               false,
               false,
               false,
               false,
               false,
               false,
               false,
               false,
               false,
               false,
               false,
               false,
               false,
               false,
               false,
               false,
               false,
               false,
               false,
               false,
               false,
               false,
               false,
               false,
               false,
               false,
               false,
               false,
               false,
               false,
               false,
               false,
               false,
               false,
               false,
               false,
               false,
               false,
               false,
               false,
               false,
               false,
               false,
               false,
               false,
               false,
               false,
               false
              ]
             },
             {
              "title": "Garfield Heights"
             }
            ],
            "label": "Garfield Heights",
            "method": "update"
           },
           {
            "args": [
             {
              "visible": [
               false,
               false,
               false,
               false,
               false,
               false,
               false,
               false,
               false,
               false,
               false,
               false,
               false,
               false,
               false,
               false,
               false,
               false,
               false,
               false,
               false,
               false,
               false,
               false,
               false,
               false,
               false,
               false,
               false,
               false,
               false,
               false,
               false,
               false,
               false,
               false,
               false,
               false,
               false,
               false,
               false,
               false,
               false,
               false,
               false,
               false,
               false,
               false,
               false,
               false,
               true,
               false,
               false,
               false,
               false,
               false,
               false,
               false,
               false,
               false,
               false,
               false,
               false,
               false,
               false,
               false,
               false,
               false,
               false,
               false,
               false,
               false,
               false,
               false,
               false,
               false,
               false,
               false,
               false,
               false,
               false,
               false,
               false,
               false,
               false,
               false,
               false,
               false,
               false,
               false,
               false,
               false,
               false,
               false,
               false,
               false,
               false,
               false,
               false,
               false,
               false,
               false,
               false,
               false,
               false,
               false,
               false,
               false,
               false,
               false
              ]
             },
             {
              "title": "Gateway"
             }
            ],
            "label": "Gateway",
            "method": "update"
           },
           {
            "args": [
             {
              "visible": [
               false,
               false,
               false,
               false,
               false,
               false,
               false,
               false,
               false,
               false,
               false,
               false,
               false,
               false,
               false,
               false,
               false,
               false,
               false,
               false,
               false,
               false,
               false,
               false,
               false,
               false,
               false,
               false,
               false,
               false,
               false,
               false,
               false,
               false,
               false,
               false,
               false,
               false,
               false,
               false,
               false,
               false,
               false,
               false,
               false,
               false,
               false,
               false,
               false,
               false,
               false,
               true,
               false,
               false,
               false,
               false,
               false,
               false,
               false,
               false,
               false,
               false,
               false,
               false,
               false,
               false,
               false,
               false,
               false,
               false,
               false,
               false,
               false,
               false,
               false,
               false,
               false,
               false,
               false,
               false,
               false,
               false,
               false,
               false,
               false,
               false,
               false,
               false,
               false,
               false,
               false,
               false,
               false,
               false,
               false,
               false,
               false,
               false,
               false,
               false,
               false,
               false,
               false,
               false,
               false,
               false,
               false,
               false,
               false,
               false
              ]
             },
             {
              "title": "Georgetown"
             }
            ],
            "label": "Georgetown",
            "method": "update"
           },
           {
            "args": [
             {
              "visible": [
               false,
               false,
               false,
               false,
               false,
               false,
               false,
               false,
               false,
               false,
               false,
               false,
               false,
               false,
               false,
               false,
               false,
               false,
               false,
               false,
               false,
               false,
               false,
               false,
               false,
               false,
               false,
               false,
               false,
               false,
               false,
               false,
               false,
               false,
               false,
               false,
               false,
               false,
               false,
               false,
               false,
               false,
               false,
               false,
               false,
               false,
               false,
               false,
               false,
               false,
               false,
               false,
               true,
               false,
               false,
               false,
               false,
               false,
               false,
               false,
               false,
               false,
               false,
               false,
               false,
               false,
               false,
               false,
               false,
               false,
               false,
               false,
               false,
               false,
               false,
               false,
               false,
               false,
               false,
               false,
               false,
               false,
               false,
               false,
               false,
               false,
               false,
               false,
               false,
               false,
               false,
               false,
               false,
               false,
               false,
               false,
               false,
               false,
               false,
               false,
               false,
               false,
               false,
               false,
               false,
               false,
               false,
               false,
               false,
               false
              ]
             },
             {
              "title": "Glover Park"
             }
            ],
            "label": "Glover Park",
            "method": "update"
           },
           {
            "args": [
             {
              "visible": [
               false,
               false,
               false,
               false,
               false,
               false,
               false,
               false,
               false,
               false,
               false,
               false,
               false,
               false,
               false,
               false,
               false,
               false,
               false,
               false,
               false,
               false,
               false,
               false,
               false,
               false,
               false,
               false,
               false,
               false,
               false,
               false,
               false,
               false,
               false,
               false,
               false,
               false,
               false,
               false,
               false,
               false,
               false,
               false,
               false,
               false,
               false,
               false,
               false,
               false,
               false,
               false,
               false,
               true,
               false,
               false,
               false,
               false,
               false,
               false,
               false,
               false,
               false,
               false,
               false,
               false,
               false,
               false,
               false,
               false,
               false,
               false,
               false,
               false,
               false,
               false,
               false,
               false,
               false,
               false,
               false,
               false,
               false,
               false,
               false,
               false,
               false,
               false,
               false,
               false,
               false,
               false,
               false,
               false,
               false,
               false,
               false,
               false,
               false,
               false,
               false,
               false,
               false,
               false,
               false,
               false,
               false,
               false,
               false,
               false
              ]
             },
             {
              "title": "Good Hope"
             }
            ],
            "label": "Good Hope",
            "method": "update"
           },
           {
            "args": [
             {
              "visible": [
               false,
               false,
               false,
               false,
               false,
               false,
               false,
               false,
               false,
               false,
               false,
               false,
               false,
               false,
               false,
               false,
               false,
               false,
               false,
               false,
               false,
               false,
               false,
               false,
               false,
               false,
               false,
               false,
               false,
               false,
               false,
               false,
               false,
               false,
               false,
               false,
               false,
               false,
               false,
               false,
               false,
               false,
               false,
               false,
               false,
               false,
               false,
               false,
               false,
               false,
               false,
               false,
               false,
               false,
               true,
               false,
               false,
               false,
               false,
               false,
               false,
               false,
               false,
               false,
               false,
               false,
               false,
               false,
               false,
               false,
               false,
               false,
               false,
               false,
               false,
               false,
               false,
               false,
               false,
               false,
               false,
               false,
               false,
               false,
               false,
               false,
               false,
               false,
               false,
               false,
               false,
               false,
               false,
               false,
               false,
               false,
               false,
               false,
               false,
               false,
               false,
               false,
               false,
               false,
               false,
               false,
               false,
               false,
               false,
               false
              ]
             },
             {
              "title": "Greenway"
             }
            ],
            "label": "Greenway",
            "method": "update"
           },
           {
            "args": [
             {
              "visible": [
               false,
               false,
               false,
               false,
               false,
               false,
               false,
               false,
               false,
               false,
               false,
               false,
               false,
               false,
               false,
               false,
               false,
               false,
               false,
               false,
               false,
               false,
               false,
               false,
               false,
               false,
               false,
               false,
               false,
               false,
               false,
               false,
               false,
               false,
               false,
               false,
               false,
               false,
               false,
               false,
               false,
               false,
               false,
               false,
               false,
               false,
               false,
               false,
               false,
               false,
               false,
               false,
               false,
               false,
               false,
               true,
               false,
               false,
               false,
               false,
               false,
               false,
               false,
               false,
               false,
               false,
               false,
               false,
               false,
               false,
               false,
               false,
               false,
               false,
               false,
               false,
               false,
               false,
               false,
               false,
               false,
               false,
               false,
               false,
               false,
               false,
               false,
               false,
               false,
               false,
               false,
               false,
               false,
               false,
               false,
               false,
               false,
               false,
               false,
               false,
               false,
               false,
               false,
               false,
               false,
               false,
               false,
               false,
               false,
               false
              ]
             },
             {
              "title": "Hilcrest Heights/Marlow Heights, MD"
             }
            ],
            "label": "Hilcrest Heights/Marlow Heights, MD",
            "method": "update"
           },
           {
            "args": [
             {
              "visible": [
               false,
               false,
               false,
               false,
               false,
               false,
               false,
               false,
               false,
               false,
               false,
               false,
               false,
               false,
               false,
               false,
               false,
               false,
               false,
               false,
               false,
               false,
               false,
               false,
               false,
               false,
               false,
               false,
               false,
               false,
               false,
               false,
               false,
               false,
               false,
               false,
               false,
               false,
               false,
               false,
               false,
               false,
               false,
               false,
               false,
               false,
               false,
               false,
               false,
               false,
               false,
               false,
               false,
               false,
               false,
               false,
               true,
               false,
               false,
               false,
               false,
               false,
               false,
               false,
               false,
               false,
               false,
               false,
               false,
               false,
               false,
               false,
               false,
               false,
               false,
               false,
               false,
               false,
               false,
               false,
               false,
               false,
               false,
               false,
               false,
               false,
               false,
               false,
               false,
               false,
               false,
               false,
               false,
               false,
               false,
               false,
               false,
               false,
               false,
               false,
               false,
               false,
               false,
               false,
               false,
               false,
               false,
               false,
               false,
               false
              ]
             },
             {
              "title": "Hillbrook"
             }
            ],
            "label": "Hillbrook",
            "method": "update"
           },
           {
            "args": [
             {
              "visible": [
               false,
               false,
               false,
               false,
               false,
               false,
               false,
               false,
               false,
               false,
               false,
               false,
               false,
               false,
               false,
               false,
               false,
               false,
               false,
               false,
               false,
               false,
               false,
               false,
               false,
               false,
               false,
               false,
               false,
               false,
               false,
               false,
               false,
               false,
               false,
               false,
               false,
               false,
               false,
               false,
               false,
               false,
               false,
               false,
               false,
               false,
               false,
               false,
               false,
               false,
               false,
               false,
               false,
               false,
               false,
               false,
               false,
               true,
               false,
               false,
               false,
               false,
               false,
               false,
               false,
               false,
               false,
               false,
               false,
               false,
               false,
               false,
               false,
               false,
               false,
               false,
               false,
               false,
               false,
               false,
               false,
               false,
               false,
               false,
               false,
               false,
               false,
               false,
               false,
               false,
               false,
               false,
               false,
               false,
               false,
               false,
               false,
               false,
               false,
               false,
               false,
               false,
               false,
               false,
               false,
               false,
               false,
               false,
               false,
               false
              ]
             },
             {
              "title": "Hillcrest"
             }
            ],
            "label": "Hillcrest",
            "method": "update"
           },
           {
            "args": [
             {
              "visible": [
               false,
               false,
               false,
               false,
               false,
               false,
               false,
               false,
               false,
               false,
               false,
               false,
               false,
               false,
               false,
               false,
               false,
               false,
               false,
               false,
               false,
               false,
               false,
               false,
               false,
               false,
               false,
               false,
               false,
               false,
               false,
               false,
               false,
               false,
               false,
               false,
               false,
               false,
               false,
               false,
               false,
               false,
               false,
               false,
               false,
               false,
               false,
               false,
               false,
               false,
               false,
               false,
               false,
               false,
               false,
               false,
               false,
               false,
               true,
               false,
               false,
               false,
               false,
               false,
               false,
               false,
               false,
               false,
               false,
               false,
               false,
               false,
               false,
               false,
               false,
               false,
               false,
               false,
               false,
               false,
               false,
               false,
               false,
               false,
               false,
               false,
               false,
               false,
               false,
               false,
               false,
               false,
               false,
               false,
               false,
               false,
               false,
               false,
               false,
               false,
               false,
               false,
               false,
               false,
               false,
               false,
               false,
               false,
               false,
               false
              ]
             },
             {
              "title": "Ivy City"
             }
            ],
            "label": "Ivy City",
            "method": "update"
           },
           {
            "args": [
             {
              "visible": [
               false,
               false,
               false,
               false,
               false,
               false,
               false,
               false,
               false,
               false,
               false,
               false,
               false,
               false,
               false,
               false,
               false,
               false,
               false,
               false,
               false,
               false,
               false,
               false,
               false,
               false,
               false,
               false,
               false,
               false,
               false,
               false,
               false,
               false,
               false,
               false,
               false,
               false,
               false,
               false,
               false,
               false,
               false,
               false,
               false,
               false,
               false,
               false,
               false,
               false,
               false,
               false,
               false,
               false,
               false,
               false,
               false,
               false,
               false,
               true,
               false,
               false,
               false,
               false,
               false,
               false,
               false,
               false,
               false,
               false,
               false,
               false,
               false,
               false,
               false,
               false,
               false,
               false,
               false,
               false,
               false,
               false,
               false,
               false,
               false,
               false,
               false,
               false,
               false,
               false,
               false,
               false,
               false,
               false,
               false,
               false,
               false,
               false,
               false,
               false,
               false,
               false,
               false,
               false,
               false,
               false,
               false,
               false,
               false,
               false
              ]
             },
             {
              "title": "Judiciary Square"
             }
            ],
            "label": "Judiciary Square",
            "method": "update"
           },
           {
            "args": [
             {
              "visible": [
               false,
               false,
               false,
               false,
               false,
               false,
               false,
               false,
               false,
               false,
               false,
               false,
               false,
               false,
               false,
               false,
               false,
               false,
               false,
               false,
               false,
               false,
               false,
               false,
               false,
               false,
               false,
               false,
               false,
               false,
               false,
               false,
               false,
               false,
               false,
               false,
               false,
               false,
               false,
               false,
               false,
               false,
               false,
               false,
               false,
               false,
               false,
               false,
               false,
               false,
               false,
               false,
               false,
               false,
               false,
               false,
               false,
               false,
               false,
               false,
               true,
               false,
               false,
               false,
               false,
               false,
               false,
               false,
               false,
               false,
               false,
               false,
               false,
               false,
               false,
               false,
               false,
               false,
               false,
               false,
               false,
               false,
               false,
               false,
               false,
               false,
               false,
               false,
               false,
               false,
               false,
               false,
               false,
               false,
               false,
               false,
               false,
               false,
               false,
               false,
               false,
               false,
               false,
               false,
               false,
               false,
               false,
               false,
               false,
               false
              ]
             },
             {
              "title": "Kalorama"
             }
            ],
            "label": "Kalorama",
            "method": "update"
           },
           {
            "args": [
             {
              "visible": [
               false,
               false,
               false,
               false,
               false,
               false,
               false,
               false,
               false,
               false,
               false,
               false,
               false,
               false,
               false,
               false,
               false,
               false,
               false,
               false,
               false,
               false,
               false,
               false,
               false,
               false,
               false,
               false,
               false,
               false,
               false,
               false,
               false,
               false,
               false,
               false,
               false,
               false,
               false,
               false,
               false,
               false,
               false,
               false,
               false,
               false,
               false,
               false,
               false,
               false,
               false,
               false,
               false,
               false,
               false,
               false,
               false,
               false,
               false,
               false,
               false,
               true,
               false,
               false,
               false,
               false,
               false,
               false,
               false,
               false,
               false,
               false,
               false,
               false,
               false,
               false,
               false,
               false,
               false,
               false,
               false,
               false,
               false,
               false,
               false,
               false,
               false,
               false,
               false,
               false,
               false,
               false,
               false,
               false,
               false,
               false,
               false,
               false,
               false,
               false,
               false,
               false,
               false,
               false,
               false,
               false,
               false,
               false,
               false,
               false
              ]
             },
             {
              "title": "Kent"
             }
            ],
            "label": "Kent",
            "method": "update"
           },
           {
            "args": [
             {
              "visible": [
               false,
               false,
               false,
               false,
               false,
               false,
               false,
               false,
               false,
               false,
               false,
               false,
               false,
               false,
               false,
               false,
               false,
               false,
               false,
               false,
               false,
               false,
               false,
               false,
               false,
               false,
               false,
               false,
               false,
               false,
               false,
               false,
               false,
               false,
               false,
               false,
               false,
               false,
               false,
               false,
               false,
               false,
               false,
               false,
               false,
               false,
               false,
               false,
               false,
               false,
               false,
               false,
               false,
               false,
               false,
               false,
               false,
               false,
               false,
               false,
               false,
               false,
               true,
               false,
               false,
               false,
               false,
               false,
               false,
               false,
               false,
               false,
               false,
               false,
               false,
               false,
               false,
               false,
               false,
               false,
               false,
               false,
               false,
               false,
               false,
               false,
               false,
               false,
               false,
               false,
               false,
               false,
               false,
               false,
               false,
               false,
               false,
               false,
               false,
               false,
               false,
               false,
               false,
               false,
               false,
               false,
               false,
               false,
               false,
               false
              ]
             },
             {
              "title": "Kingman Park"
             }
            ],
            "label": "Kingman Park",
            "method": "update"
           },
           {
            "args": [
             {
              "visible": [
               false,
               false,
               false,
               false,
               false,
               false,
               false,
               false,
               false,
               false,
               false,
               false,
               false,
               false,
               false,
               false,
               false,
               false,
               false,
               false,
               false,
               false,
               false,
               false,
               false,
               false,
               false,
               false,
               false,
               false,
               false,
               false,
               false,
               false,
               false,
               false,
               false,
               false,
               false,
               false,
               false,
               false,
               false,
               false,
               false,
               false,
               false,
               false,
               false,
               false,
               false,
               false,
               false,
               false,
               false,
               false,
               false,
               false,
               false,
               false,
               false,
               false,
               false,
               true,
               false,
               false,
               false,
               false,
               false,
               false,
               false,
               false,
               false,
               false,
               false,
               false,
               false,
               false,
               false,
               false,
               false,
               false,
               false,
               false,
               false,
               false,
               false,
               false,
               false,
               false,
               false,
               false,
               false,
               false,
               false,
               false,
               false,
               false,
               false,
               false,
               false,
               false,
               false,
               false,
               false,
               false,
               false,
               false,
               false,
               false
              ]
             },
             {
              "title": "Knox Hill"
             }
            ],
            "label": "Knox Hill",
            "method": "update"
           },
           {
            "args": [
             {
              "visible": [
               false,
               false,
               false,
               false,
               false,
               false,
               false,
               false,
               false,
               false,
               false,
               false,
               false,
               false,
               false,
               false,
               false,
               false,
               false,
               false,
               false,
               false,
               false,
               false,
               false,
               false,
               false,
               false,
               false,
               false,
               false,
               false,
               false,
               false,
               false,
               false,
               false,
               false,
               false,
               false,
               false,
               false,
               false,
               false,
               false,
               false,
               false,
               false,
               false,
               false,
               false,
               false,
               false,
               false,
               false,
               false,
               false,
               false,
               false,
               false,
               false,
               false,
               false,
               false,
               true,
               false,
               false,
               false,
               false,
               false,
               false,
               false,
               false,
               false,
               false,
               false,
               false,
               false,
               false,
               false,
               false,
               false,
               false,
               false,
               false,
               false,
               false,
               false,
               false,
               false,
               false,
               false,
               false,
               false,
               false,
               false,
               false,
               false,
               false,
               false,
               false,
               false,
               false,
               false,
               false,
               false,
               false,
               false,
               false,
               false
              ]
             },
             {
              "title": "Lamond Riggs"
             }
            ],
            "label": "Lamond Riggs",
            "method": "update"
           },
           {
            "args": [
             {
              "visible": [
               false,
               false,
               false,
               false,
               false,
               false,
               false,
               false,
               false,
               false,
               false,
               false,
               false,
               false,
               false,
               false,
               false,
               false,
               false,
               false,
               false,
               false,
               false,
               false,
               false,
               false,
               false,
               false,
               false,
               false,
               false,
               false,
               false,
               false,
               false,
               false,
               false,
               false,
               false,
               false,
               false,
               false,
               false,
               false,
               false,
               false,
               false,
               false,
               false,
               false,
               false,
               false,
               false,
               false,
               false,
               false,
               false,
               false,
               false,
               false,
               false,
               false,
               false,
               false,
               false,
               true,
               false,
               false,
               false,
               false,
               false,
               false,
               false,
               false,
               false,
               false,
               false,
               false,
               false,
               false,
               false,
               false,
               false,
               false,
               false,
               false,
               false,
               false,
               false,
               false,
               false,
               false,
               false,
               false,
               false,
               false,
               false,
               false,
               false,
               false,
               false,
               false,
               false,
               false,
               false,
               false,
               false,
               false,
               false,
               false
              ]
             },
             {
              "title": "Langdon"
             }
            ],
            "label": "Langdon",
            "method": "update"
           },
           {
            "args": [
             {
              "visible": [
               false,
               false,
               false,
               false,
               false,
               false,
               false,
               false,
               false,
               false,
               false,
               false,
               false,
               false,
               false,
               false,
               false,
               false,
               false,
               false,
               false,
               false,
               false,
               false,
               false,
               false,
               false,
               false,
               false,
               false,
               false,
               false,
               false,
               false,
               false,
               false,
               false,
               false,
               false,
               false,
               false,
               false,
               false,
               false,
               false,
               false,
               false,
               false,
               false,
               false,
               false,
               false,
               false,
               false,
               false,
               false,
               false,
               false,
               false,
               false,
               false,
               false,
               false,
               false,
               false,
               false,
               true,
               false,
               false,
               false,
               false,
               false,
               false,
               false,
               false,
               false,
               false,
               false,
               false,
               false,
               false,
               false,
               false,
               false,
               false,
               false,
               false,
               false,
               false,
               false,
               false,
               false,
               false,
               false,
               false,
               false,
               false,
               false,
               false,
               false,
               false,
               false,
               false,
               false,
               false,
               false,
               false,
               false,
               false,
               false
              ]
             },
             {
              "title": "LeDroit Park"
             }
            ],
            "label": "LeDroit Park",
            "method": "update"
           },
           {
            "args": [
             {
              "visible": [
               false,
               false,
               false,
               false,
               false,
               false,
               false,
               false,
               false,
               false,
               false,
               false,
               false,
               false,
               false,
               false,
               false,
               false,
               false,
               false,
               false,
               false,
               false,
               false,
               false,
               false,
               false,
               false,
               false,
               false,
               false,
               false,
               false,
               false,
               false,
               false,
               false,
               false,
               false,
               false,
               false,
               false,
               false,
               false,
               false,
               false,
               false,
               false,
               false,
               false,
               false,
               false,
               false,
               false,
               false,
               false,
               false,
               false,
               false,
               false,
               false,
               false,
               false,
               false,
               false,
               false,
               false,
               true,
               false,
               false,
               false,
               false,
               false,
               false,
               false,
               false,
               false,
               false,
               false,
               false,
               false,
               false,
               false,
               false,
               false,
               false,
               false,
               false,
               false,
               false,
               false,
               false,
               false,
               false,
               false,
               false,
               false,
               false,
               false,
               false,
               false,
               false,
               false,
               false,
               false,
               false,
               false,
               false,
               false,
               false
              ]
             },
             {
              "title": "Lincoln Heights"
             }
            ],
            "label": "Lincoln Heights",
            "method": "update"
           },
           {
            "args": [
             {
              "visible": [
               false,
               false,
               false,
               false,
               false,
               false,
               false,
               false,
               false,
               false,
               false,
               false,
               false,
               false,
               false,
               false,
               false,
               false,
               false,
               false,
               false,
               false,
               false,
               false,
               false,
               false,
               false,
               false,
               false,
               false,
               false,
               false,
               false,
               false,
               false,
               false,
               false,
               false,
               false,
               false,
               false,
               false,
               false,
               false,
               false,
               false,
               false,
               false,
               false,
               false,
               false,
               false,
               false,
               false,
               false,
               false,
               false,
               false,
               false,
               false,
               false,
               false,
               false,
               false,
               false,
               false,
               false,
               false,
               true,
               false,
               false,
               false,
               false,
               false,
               false,
               false,
               false,
               false,
               false,
               false,
               false,
               false,
               false,
               false,
               false,
               false,
               false,
               false,
               false,
               false,
               false,
               false,
               false,
               false,
               false,
               false,
               false,
               false,
               false,
               false,
               false,
               false,
               false,
               false,
               false,
               false,
               false,
               false,
               false,
               false
              ]
             },
             {
              "title": "Logan Circle"
             }
            ],
            "label": "Logan Circle",
            "method": "update"
           },
           {
            "args": [
             {
              "visible": [
               false,
               false,
               false,
               false,
               false,
               false,
               false,
               false,
               false,
               false,
               false,
               false,
               false,
               false,
               false,
               false,
               false,
               false,
               false,
               false,
               false,
               false,
               false,
               false,
               false,
               false,
               false,
               false,
               false,
               false,
               false,
               false,
               false,
               false,
               false,
               false,
               false,
               false,
               false,
               false,
               false,
               false,
               false,
               false,
               false,
               false,
               false,
               false,
               false,
               false,
               false,
               false,
               false,
               false,
               false,
               false,
               false,
               false,
               false,
               false,
               false,
               false,
               false,
               false,
               false,
               false,
               false,
               false,
               false,
               true,
               false,
               false,
               false,
               false,
               false,
               false,
               false,
               false,
               false,
               false,
               false,
               false,
               false,
               false,
               false,
               false,
               false,
               false,
               false,
               false,
               false,
               false,
               false,
               false,
               false,
               false,
               false,
               false,
               false,
               false,
               false,
               false,
               false,
               false,
               false,
               false,
               false,
               false,
               false,
               false
              ]
             },
             {
              "title": "Manor Park"
             }
            ],
            "label": "Manor Park",
            "method": "update"
           },
           {
            "args": [
             {
              "visible": [
               false,
               false,
               false,
               false,
               false,
               false,
               false,
               false,
               false,
               false,
               false,
               false,
               false,
               false,
               false,
               false,
               false,
               false,
               false,
               false,
               false,
               false,
               false,
               false,
               false,
               false,
               false,
               false,
               false,
               false,
               false,
               false,
               false,
               false,
               false,
               false,
               false,
               false,
               false,
               false,
               false,
               false,
               false,
               false,
               false,
               false,
               false,
               false,
               false,
               false,
               false,
               false,
               false,
               false,
               false,
               false,
               false,
               false,
               false,
               false,
               false,
               false,
               false,
               false,
               false,
               false,
               false,
               false,
               false,
               false,
               true,
               false,
               false,
               false,
               false,
               false,
               false,
               false,
               false,
               false,
               false,
               false,
               false,
               false,
               false,
               false,
               false,
               false,
               false,
               false,
               false,
               false,
               false,
               false,
               false,
               false,
               false,
               false,
               false,
               false,
               false,
               false,
               false,
               false,
               false,
               false,
               false,
               false,
               false,
               false
              ]
             },
             {
              "title": "Marshall Heights"
             }
            ],
            "label": "Marshall Heights",
            "method": "update"
           },
           {
            "args": [
             {
              "visible": [
               false,
               false,
               false,
               false,
               false,
               false,
               false,
               false,
               false,
               false,
               false,
               false,
               false,
               false,
               false,
               false,
               false,
               false,
               false,
               false,
               false,
               false,
               false,
               false,
               false,
               false,
               false,
               false,
               false,
               false,
               false,
               false,
               false,
               false,
               false,
               false,
               false,
               false,
               false,
               false,
               false,
               false,
               false,
               false,
               false,
               false,
               false,
               false,
               false,
               false,
               false,
               false,
               false,
               false,
               false,
               false,
               false,
               false,
               false,
               false,
               false,
               false,
               false,
               false,
               false,
               false,
               false,
               false,
               false,
               false,
               false,
               true,
               false,
               false,
               false,
               false,
               false,
               false,
               false,
               false,
               false,
               false,
               false,
               false,
               false,
               false,
               false,
               false,
               false,
               false,
               false,
               false,
               false,
               false,
               false,
               false,
               false,
               false,
               false,
               false,
               false,
               false,
               false,
               false,
               false,
               false,
               false,
               false,
               false,
               false
              ]
             },
             {
              "title": "Massachusetts Heights"
             }
            ],
            "label": "Massachusetts Heights",
            "method": "update"
           },
           {
            "args": [
             {
              "visible": [
               false,
               false,
               false,
               false,
               false,
               false,
               false,
               false,
               false,
               false,
               false,
               false,
               false,
               false,
               false,
               false,
               false,
               false,
               false,
               false,
               false,
               false,
               false,
               false,
               false,
               false,
               false,
               false,
               false,
               false,
               false,
               false,
               false,
               false,
               false,
               false,
               false,
               false,
               false,
               false,
               false,
               false,
               false,
               false,
               false,
               false,
               false,
               false,
               false,
               false,
               false,
               false,
               false,
               false,
               false,
               false,
               false,
               false,
               false,
               false,
               false,
               false,
               false,
               false,
               false,
               false,
               false,
               false,
               false,
               false,
               false,
               false,
               true,
               false,
               false,
               false,
               false,
               false,
               false,
               false,
               false,
               false,
               false,
               false,
               false,
               false,
               false,
               false,
               false,
               false,
               false,
               false,
               false,
               false,
               false,
               false,
               false,
               false,
               false,
               false,
               false,
               false,
               false,
               false,
               false,
               false,
               false,
               false,
               false,
               false
              ]
             },
             {
              "title": "Michigan Park"
             }
            ],
            "label": "Michigan Park",
            "method": "update"
           },
           {
            "args": [
             {
              "visible": [
               false,
               false,
               false,
               false,
               false,
               false,
               false,
               false,
               false,
               false,
               false,
               false,
               false,
               false,
               false,
               false,
               false,
               false,
               false,
               false,
               false,
               false,
               false,
               false,
               false,
               false,
               false,
               false,
               false,
               false,
               false,
               false,
               false,
               false,
               false,
               false,
               false,
               false,
               false,
               false,
               false,
               false,
               false,
               false,
               false,
               false,
               false,
               false,
               false,
               false,
               false,
               false,
               false,
               false,
               false,
               false,
               false,
               false,
               false,
               false,
               false,
               false,
               false,
               false,
               false,
               false,
               false,
               false,
               false,
               false,
               false,
               false,
               false,
               true,
               false,
               false,
               false,
               false,
               false,
               false,
               false,
               false,
               false,
               false,
               false,
               false,
               false,
               false,
               false,
               false,
               false,
               false,
               false,
               false,
               false,
               false,
               false,
               false,
               false,
               false,
               false,
               false,
               false,
               false,
               false,
               false,
               false,
               false,
               false,
               false
              ]
             },
             {
              "title": "Mount Pleasant"
             }
            ],
            "label": "Mount Pleasant",
            "method": "update"
           },
           {
            "args": [
             {
              "visible": [
               false,
               false,
               false,
               false,
               false,
               false,
               false,
               false,
               false,
               false,
               false,
               false,
               false,
               false,
               false,
               false,
               false,
               false,
               false,
               false,
               false,
               false,
               false,
               false,
               false,
               false,
               false,
               false,
               false,
               false,
               false,
               false,
               false,
               false,
               false,
               false,
               false,
               false,
               false,
               false,
               false,
               false,
               false,
               false,
               false,
               false,
               false,
               false,
               false,
               false,
               false,
               false,
               false,
               false,
               false,
               false,
               false,
               false,
               false,
               false,
               false,
               false,
               false,
               false,
               false,
               false,
               false,
               false,
               false,
               false,
               false,
               false,
               false,
               false,
               true,
               false,
               false,
               false,
               false,
               false,
               false,
               false,
               false,
               false,
               false,
               false,
               false,
               false,
               false,
               false,
               false,
               false,
               false,
               false,
               false,
               false,
               false,
               false,
               false,
               false,
               false,
               false,
               false,
               false,
               false,
               false,
               false,
               false,
               false,
               false
              ]
             },
             {
              "title": "Mount Vernon Square"
             }
            ],
            "label": "Mount Vernon Square",
            "method": "update"
           },
           {
            "args": [
             {
              "visible": [
               false,
               false,
               false,
               false,
               false,
               false,
               false,
               false,
               false,
               false,
               false,
               false,
               false,
               false,
               false,
               false,
               false,
               false,
               false,
               false,
               false,
               false,
               false,
               false,
               false,
               false,
               false,
               false,
               false,
               false,
               false,
               false,
               false,
               false,
               false,
               false,
               false,
               false,
               false,
               false,
               false,
               false,
               false,
               false,
               false,
               false,
               false,
               false,
               false,
               false,
               false,
               false,
               false,
               false,
               false,
               false,
               false,
               false,
               false,
               false,
               false,
               false,
               false,
               false,
               false,
               false,
               false,
               false,
               false,
               false,
               false,
               false,
               false,
               false,
               false,
               true,
               false,
               false,
               false,
               false,
               false,
               false,
               false,
               false,
               false,
               false,
               false,
               false,
               false,
               false,
               false,
               false,
               false,
               false,
               false,
               false,
               false,
               false,
               false,
               false,
               false,
               false,
               false,
               false,
               false,
               false,
               false,
               false,
               false,
               false
              ]
             },
             {
              "title": "Navy Yard"
             }
            ],
            "label": "Navy Yard",
            "method": "update"
           },
           {
            "args": [
             {
              "visible": [
               false,
               false,
               false,
               false,
               false,
               false,
               false,
               false,
               false,
               false,
               false,
               false,
               false,
               false,
               false,
               false,
               false,
               false,
               false,
               false,
               false,
               false,
               false,
               false,
               false,
               false,
               false,
               false,
               false,
               false,
               false,
               false,
               false,
               false,
               false,
               false,
               false,
               false,
               false,
               false,
               false,
               false,
               false,
               false,
               false,
               false,
               false,
               false,
               false,
               false,
               false,
               false,
               false,
               false,
               false,
               false,
               false,
               false,
               false,
               false,
               false,
               false,
               false,
               false,
               false,
               false,
               false,
               false,
               false,
               false,
               false,
               false,
               false,
               false,
               false,
               false,
               true,
               false,
               false,
               false,
               false,
               false,
               false,
               false,
               false,
               false,
               false,
               false,
               false,
               false,
               false,
               false,
               false,
               false,
               false,
               false,
               false,
               false,
               false,
               false,
               false,
               false,
               false,
               false,
               false,
               false,
               false,
               false,
               false,
               false
              ]
             },
             {
              "title": "Naylor Gardens"
             }
            ],
            "label": "Naylor Gardens",
            "method": "update"
           },
           {
            "args": [
             {
              "visible": [
               false,
               false,
               false,
               false,
               false,
               false,
               false,
               false,
               false,
               false,
               false,
               false,
               false,
               false,
               false,
               false,
               false,
               false,
               false,
               false,
               false,
               false,
               false,
               false,
               false,
               false,
               false,
               false,
               false,
               false,
               false,
               false,
               false,
               false,
               false,
               false,
               false,
               false,
               false,
               false,
               false,
               false,
               false,
               false,
               false,
               false,
               false,
               false,
               false,
               false,
               false,
               false,
               false,
               false,
               false,
               false,
               false,
               false,
               false,
               false,
               false,
               false,
               false,
               false,
               false,
               false,
               false,
               false,
               false,
               false,
               false,
               false,
               false,
               false,
               false,
               false,
               false,
               true,
               false,
               false,
               false,
               false,
               false,
               false,
               false,
               false,
               false,
               false,
               false,
               false,
               false,
               false,
               false,
               false,
               false,
               false,
               false,
               false,
               false,
               false,
               false,
               false,
               false,
               false,
               false,
               false,
               false,
               false,
               false,
               false
              ]
             },
             {
              "title": "Near Northeast/H Street Corridor"
             }
            ],
            "label": "Near Northeast/H Street Corridor",
            "method": "update"
           },
           {
            "args": [
             {
              "visible": [
               false,
               false,
               false,
               false,
               false,
               false,
               false,
               false,
               false,
               false,
               false,
               false,
               false,
               false,
               false,
               false,
               false,
               false,
               false,
               false,
               false,
               false,
               false,
               false,
               false,
               false,
               false,
               false,
               false,
               false,
               false,
               false,
               false,
               false,
               false,
               false,
               false,
               false,
               false,
               false,
               false,
               false,
               false,
               false,
               false,
               false,
               false,
               false,
               false,
               false,
               false,
               false,
               false,
               false,
               false,
               false,
               false,
               false,
               false,
               false,
               false,
               false,
               false,
               false,
               false,
               false,
               false,
               false,
               false,
               false,
               false,
               false,
               false,
               false,
               false,
               false,
               false,
               false,
               true,
               false,
               false,
               false,
               false,
               false,
               false,
               false,
               false,
               false,
               false,
               false,
               false,
               false,
               false,
               false,
               false,
               false,
               false,
               false,
               false,
               false,
               false,
               false,
               false,
               false,
               false,
               false,
               false,
               false,
               false,
               false
              ]
             },
             {
              "title": "North Cleveland Park"
             }
            ],
            "label": "North Cleveland Park",
            "method": "update"
           },
           {
            "args": [
             {
              "visible": [
               false,
               false,
               false,
               false,
               false,
               false,
               false,
               false,
               false,
               false,
               false,
               false,
               false,
               false,
               false,
               false,
               false,
               false,
               false,
               false,
               false,
               false,
               false,
               false,
               false,
               false,
               false,
               false,
               false,
               false,
               false,
               false,
               false,
               false,
               false,
               false,
               false,
               false,
               false,
               false,
               false,
               false,
               false,
               false,
               false,
               false,
               false,
               false,
               false,
               false,
               false,
               false,
               false,
               false,
               false,
               false,
               false,
               false,
               false,
               false,
               false,
               false,
               false,
               false,
               false,
               false,
               false,
               false,
               false,
               false,
               false,
               false,
               false,
               false,
               false,
               false,
               false,
               false,
               false,
               true,
               false,
               false,
               false,
               false,
               false,
               false,
               false,
               false,
               false,
               false,
               false,
               false,
               false,
               false,
               false,
               false,
               false,
               false,
               false,
               false,
               false,
               false,
               false,
               false,
               false,
               false,
               false,
               false,
               false,
               false
              ]
             },
             {
              "title": "North Michigan Park"
             }
            ],
            "label": "North Michigan Park",
            "method": "update"
           },
           {
            "args": [
             {
              "visible": [
               false,
               false,
               false,
               false,
               false,
               false,
               false,
               false,
               false,
               false,
               false,
               false,
               false,
               false,
               false,
               false,
               false,
               false,
               false,
               false,
               false,
               false,
               false,
               false,
               false,
               false,
               false,
               false,
               false,
               false,
               false,
               false,
               false,
               false,
               false,
               false,
               false,
               false,
               false,
               false,
               false,
               false,
               false,
               false,
               false,
               false,
               false,
               false,
               false,
               false,
               false,
               false,
               false,
               false,
               false,
               false,
               false,
               false,
               false,
               false,
               false,
               false,
               false,
               false,
               false,
               false,
               false,
               false,
               false,
               false,
               false,
               false,
               false,
               false,
               false,
               false,
               false,
               false,
               false,
               false,
               true,
               false,
               false,
               false,
               false,
               false,
               false,
               false,
               false,
               false,
               false,
               false,
               false,
               false,
               false,
               false,
               false,
               false,
               false,
               false,
               false,
               false,
               false,
               false,
               false,
               false,
               false,
               false,
               false,
               false
              ]
             },
             {
              "title": "Observatory Circle"
             }
            ],
            "label": "Observatory Circle",
            "method": "update"
           },
           {
            "args": [
             {
              "visible": [
               false,
               false,
               false,
               false,
               false,
               false,
               false,
               false,
               false,
               false,
               false,
               false,
               false,
               false,
               false,
               false,
               false,
               false,
               false,
               false,
               false,
               false,
               false,
               false,
               false,
               false,
               false,
               false,
               false,
               false,
               false,
               false,
               false,
               false,
               false,
               false,
               false,
               false,
               false,
               false,
               false,
               false,
               false,
               false,
               false,
               false,
               false,
               false,
               false,
               false,
               false,
               false,
               false,
               false,
               false,
               false,
               false,
               false,
               false,
               false,
               false,
               false,
               false,
               false,
               false,
               false,
               false,
               false,
               false,
               false,
               false,
               false,
               false,
               false,
               false,
               false,
               false,
               false,
               false,
               false,
               false,
               true,
               false,
               false,
               false,
               false,
               false,
               false,
               false,
               false,
               false,
               false,
               false,
               false,
               false,
               false,
               false,
               false,
               false,
               false,
               false,
               false,
               false,
               false,
               false,
               false,
               false,
               false,
               false,
               false
              ]
             },
             {
              "title": "Palisades"
             }
            ],
            "label": "Palisades",
            "method": "update"
           },
           {
            "args": [
             {
              "visible": [
               false,
               false,
               false,
               false,
               false,
               false,
               false,
               false,
               false,
               false,
               false,
               false,
               false,
               false,
               false,
               false,
               false,
               false,
               false,
               false,
               false,
               false,
               false,
               false,
               false,
               false,
               false,
               false,
               false,
               false,
               false,
               false,
               false,
               false,
               false,
               false,
               false,
               false,
               false,
               false,
               false,
               false,
               false,
               false,
               false,
               false,
               false,
               false,
               false,
               false,
               false,
               false,
               false,
               false,
               false,
               false,
               false,
               false,
               false,
               false,
               false,
               false,
               false,
               false,
               false,
               false,
               false,
               false,
               false,
               false,
               false,
               false,
               false,
               false,
               false,
               false,
               false,
               false,
               false,
               false,
               false,
               false,
               true,
               false,
               false,
               false,
               false,
               false,
               false,
               false,
               false,
               false,
               false,
               false,
               false,
               false,
               false,
               false,
               false,
               false,
               false,
               false,
               false,
               false,
               false,
               false,
               false,
               false,
               false,
               false
              ]
             },
             {
              "title": "Park View"
             }
            ],
            "label": "Park View",
            "method": "update"
           },
           {
            "args": [
             {
              "visible": [
               false,
               false,
               false,
               false,
               false,
               false,
               false,
               false,
               false,
               false,
               false,
               false,
               false,
               false,
               false,
               false,
               false,
               false,
               false,
               false,
               false,
               false,
               false,
               false,
               false,
               false,
               false,
               false,
               false,
               false,
               false,
               false,
               false,
               false,
               false,
               false,
               false,
               false,
               false,
               false,
               false,
               false,
               false,
               false,
               false,
               false,
               false,
               false,
               false,
               false,
               false,
               false,
               false,
               false,
               false,
               false,
               false,
               false,
               false,
               false,
               false,
               false,
               false,
               false,
               false,
               false,
               false,
               false,
               false,
               false,
               false,
               false,
               false,
               false,
               false,
               false,
               false,
               false,
               false,
               false,
               false,
               false,
               false,
               true,
               false,
               false,
               false,
               false,
               false,
               false,
               false,
               false,
               false,
               false,
               false,
               false,
               false,
               false,
               false,
               false,
               false,
               false,
               false,
               false,
               false,
               false,
               false,
               false,
               false,
               false
              ]
             },
             {
              "title": "Petworth"
             }
            ],
            "label": "Petworth",
            "method": "update"
           },
           {
            "args": [
             {
              "visible": [
               false,
               false,
               false,
               false,
               false,
               false,
               false,
               false,
               false,
               false,
               false,
               false,
               false,
               false,
               false,
               false,
               false,
               false,
               false,
               false,
               false,
               false,
               false,
               false,
               false,
               false,
               false,
               false,
               false,
               false,
               false,
               false,
               false,
               false,
               false,
               false,
               false,
               false,
               false,
               false,
               false,
               false,
               false,
               false,
               false,
               false,
               false,
               false,
               false,
               false,
               false,
               false,
               false,
               false,
               false,
               false,
               false,
               false,
               false,
               false,
               false,
               false,
               false,
               false,
               false,
               false,
               false,
               false,
               false,
               false,
               false,
               false,
               false,
               false,
               false,
               false,
               false,
               false,
               false,
               false,
               false,
               false,
               false,
               false,
               true,
               false,
               false,
               false,
               false,
               false,
               false,
               false,
               false,
               false,
               false,
               false,
               false,
               false,
               false,
               false,
               false,
               false,
               false,
               false,
               false,
               false,
               false,
               false,
               false,
               false
              ]
             },
             {
              "title": "Pleasant Hill"
             }
            ],
            "label": "Pleasant Hill",
            "method": "update"
           },
           {
            "args": [
             {
              "visible": [
               false,
               false,
               false,
               false,
               false,
               false,
               false,
               false,
               false,
               false,
               false,
               false,
               false,
               false,
               false,
               false,
               false,
               false,
               false,
               false,
               false,
               false,
               false,
               false,
               false,
               false,
               false,
               false,
               false,
               false,
               false,
               false,
               false,
               false,
               false,
               false,
               false,
               false,
               false,
               false,
               false,
               false,
               false,
               false,
               false,
               false,
               false,
               false,
               false,
               false,
               false,
               false,
               false,
               false,
               false,
               false,
               false,
               false,
               false,
               false,
               false,
               false,
               false,
               false,
               false,
               false,
               false,
               false,
               false,
               false,
               false,
               false,
               false,
               false,
               false,
               false,
               false,
               false,
               false,
               false,
               false,
               false,
               false,
               false,
               false,
               true,
               false,
               false,
               false,
               false,
               false,
               false,
               false,
               false,
               false,
               false,
               false,
               false,
               false,
               false,
               false,
               false,
               false,
               false,
               false,
               false,
               false,
               false,
               false,
               false
              ]
             },
             {
              "title": "Pleasant Plains"
             }
            ],
            "label": "Pleasant Plains",
            "method": "update"
           },
           {
            "args": [
             {
              "visible": [
               false,
               false,
               false,
               false,
               false,
               false,
               false,
               false,
               false,
               false,
               false,
               false,
               false,
               false,
               false,
               false,
               false,
               false,
               false,
               false,
               false,
               false,
               false,
               false,
               false,
               false,
               false,
               false,
               false,
               false,
               false,
               false,
               false,
               false,
               false,
               false,
               false,
               false,
               false,
               false,
               false,
               false,
               false,
               false,
               false,
               false,
               false,
               false,
               false,
               false,
               false,
               false,
               false,
               false,
               false,
               false,
               false,
               false,
               false,
               false,
               false,
               false,
               false,
               false,
               false,
               false,
               false,
               false,
               false,
               false,
               false,
               false,
               false,
               false,
               false,
               false,
               false,
               false,
               false,
               false,
               false,
               false,
               false,
               false,
               false,
               false,
               true,
               false,
               false,
               false,
               false,
               false,
               false,
               false,
               false,
               false,
               false,
               false,
               false,
               false,
               false,
               false,
               false,
               false,
               false,
               false,
               false,
               false,
               false,
               false
              ]
             },
             {
              "title": "Randle Highlands"
             }
            ],
            "label": "Randle Highlands",
            "method": "update"
           },
           {
            "args": [
             {
              "visible": [
               false,
               false,
               false,
               false,
               false,
               false,
               false,
               false,
               false,
               false,
               false,
               false,
               false,
               false,
               false,
               false,
               false,
               false,
               false,
               false,
               false,
               false,
               false,
               false,
               false,
               false,
               false,
               false,
               false,
               false,
               false,
               false,
               false,
               false,
               false,
               false,
               false,
               false,
               false,
               false,
               false,
               false,
               false,
               false,
               false,
               false,
               false,
               false,
               false,
               false,
               false,
               false,
               false,
               false,
               false,
               false,
               false,
               false,
               false,
               false,
               false,
               false,
               false,
               false,
               false,
               false,
               false,
               false,
               false,
               false,
               false,
               false,
               false,
               false,
               false,
               false,
               false,
               false,
               false,
               false,
               false,
               false,
               false,
               false,
               false,
               false,
               false,
               true,
               false,
               false,
               false,
               false,
               false,
               false,
               false,
               false,
               false,
               false,
               false,
               false,
               false,
               false,
               false,
               false,
               false,
               false,
               false,
               false,
               false,
               false
              ]
             },
             {
              "title": "River Terrace"
             }
            ],
            "label": "River Terrace",
            "method": "update"
           },
           {
            "args": [
             {
              "visible": [
               false,
               false,
               false,
               false,
               false,
               false,
               false,
               false,
               false,
               false,
               false,
               false,
               false,
               false,
               false,
               false,
               false,
               false,
               false,
               false,
               false,
               false,
               false,
               false,
               false,
               false,
               false,
               false,
               false,
               false,
               false,
               false,
               false,
               false,
               false,
               false,
               false,
               false,
               false,
               false,
               false,
               false,
               false,
               false,
               false,
               false,
               false,
               false,
               false,
               false,
               false,
               false,
               false,
               false,
               false,
               false,
               false,
               false,
               false,
               false,
               false,
               false,
               false,
               false,
               false,
               false,
               false,
               false,
               false,
               false,
               false,
               false,
               false,
               false,
               false,
               false,
               false,
               false,
               false,
               false,
               false,
               false,
               false,
               false,
               false,
               false,
               false,
               false,
               true,
               false,
               false,
               false,
               false,
               false,
               false,
               false,
               false,
               false,
               false,
               false,
               false,
               false,
               false,
               false,
               false,
               false,
               false,
               false,
               false,
               false
              ]
             },
             {
              "title": "Shaw"
             }
            ],
            "label": "Shaw",
            "method": "update"
           },
           {
            "args": [
             {
              "visible": [
               false,
               false,
               false,
               false,
               false,
               false,
               false,
               false,
               false,
               false,
               false,
               false,
               false,
               false,
               false,
               false,
               false,
               false,
               false,
               false,
               false,
               false,
               false,
               false,
               false,
               false,
               false,
               false,
               false,
               false,
               false,
               false,
               false,
               false,
               false,
               false,
               false,
               false,
               false,
               false,
               false,
               false,
               false,
               false,
               false,
               false,
               false,
               false,
               false,
               false,
               false,
               false,
               false,
               false,
               false,
               false,
               false,
               false,
               false,
               false,
               false,
               false,
               false,
               false,
               false,
               false,
               false,
               false,
               false,
               false,
               false,
               false,
               false,
               false,
               false,
               false,
               false,
               false,
               false,
               false,
               false,
               false,
               false,
               false,
               false,
               false,
               false,
               false,
               false,
               true,
               false,
               false,
               false,
               false,
               false,
               false,
               false,
               false,
               false,
               false,
               false,
               false,
               false,
               false,
               false,
               false,
               false,
               false,
               false,
               false
              ]
             },
             {
              "title": "Shepherd Park"
             }
            ],
            "label": "Shepherd Park",
            "method": "update"
           },
           {
            "args": [
             {
              "visible": [
               false,
               false,
               false,
               false,
               false,
               false,
               false,
               false,
               false,
               false,
               false,
               false,
               false,
               false,
               false,
               false,
               false,
               false,
               false,
               false,
               false,
               false,
               false,
               false,
               false,
               false,
               false,
               false,
               false,
               false,
               false,
               false,
               false,
               false,
               false,
               false,
               false,
               false,
               false,
               false,
               false,
               false,
               false,
               false,
               false,
               false,
               false,
               false,
               false,
               false,
               false,
               false,
               false,
               false,
               false,
               false,
               false,
               false,
               false,
               false,
               false,
               false,
               false,
               false,
               false,
               false,
               false,
               false,
               false,
               false,
               false,
               false,
               false,
               false,
               false,
               false,
               false,
               false,
               false,
               false,
               false,
               false,
               false,
               false,
               false,
               false,
               false,
               false,
               false,
               false,
               true,
               false,
               false,
               false,
               false,
               false,
               false,
               false,
               false,
               false,
               false,
               false,
               false,
               false,
               false,
               false,
               false,
               false,
               false,
               false
              ]
             },
             {
              "title": "Shipley Terrace"
             }
            ],
            "label": "Shipley Terrace",
            "method": "update"
           },
           {
            "args": [
             {
              "visible": [
               false,
               false,
               false,
               false,
               false,
               false,
               false,
               false,
               false,
               false,
               false,
               false,
               false,
               false,
               false,
               false,
               false,
               false,
               false,
               false,
               false,
               false,
               false,
               false,
               false,
               false,
               false,
               false,
               false,
               false,
               false,
               false,
               false,
               false,
               false,
               false,
               false,
               false,
               false,
               false,
               false,
               false,
               false,
               false,
               false,
               false,
               false,
               false,
               false,
               false,
               false,
               false,
               false,
               false,
               false,
               false,
               false,
               false,
               false,
               false,
               false,
               false,
               false,
               false,
               false,
               false,
               false,
               false,
               false,
               false,
               false,
               false,
               false,
               false,
               false,
               false,
               false,
               false,
               false,
               false,
               false,
               false,
               false,
               false,
               false,
               false,
               false,
               false,
               false,
               false,
               false,
               true,
               false,
               false,
               false,
               false,
               false,
               false,
               false,
               false,
               false,
               false,
               false,
               false,
               false,
               false,
               false,
               false,
               false,
               false
              ]
             },
             {
              "title": "Skyland"
             }
            ],
            "label": "Skyland",
            "method": "update"
           },
           {
            "args": [
             {
              "visible": [
               false,
               false,
               false,
               false,
               false,
               false,
               false,
               false,
               false,
               false,
               false,
               false,
               false,
               false,
               false,
               false,
               false,
               false,
               false,
               false,
               false,
               false,
               false,
               false,
               false,
               false,
               false,
               false,
               false,
               false,
               false,
               false,
               false,
               false,
               false,
               false,
               false,
               false,
               false,
               false,
               false,
               false,
               false,
               false,
               false,
               false,
               false,
               false,
               false,
               false,
               false,
               false,
               false,
               false,
               false,
               false,
               false,
               false,
               false,
               false,
               false,
               false,
               false,
               false,
               false,
               false,
               false,
               false,
               false,
               false,
               false,
               false,
               false,
               false,
               false,
               false,
               false,
               false,
               false,
               false,
               false,
               false,
               false,
               false,
               false,
               false,
               false,
               false,
               false,
               false,
               false,
               false,
               true,
               false,
               false,
               false,
               false,
               false,
               false,
               false,
               false,
               false,
               false,
               false,
               false,
               false,
               false,
               false,
               false,
               false
              ]
             },
             {
              "title": "Southwest Waterfront"
             }
            ],
            "label": "Southwest Waterfront",
            "method": "update"
           },
           {
            "args": [
             {
              "visible": [
               false,
               false,
               false,
               false,
               false,
               false,
               false,
               false,
               false,
               false,
               false,
               false,
               false,
               false,
               false,
               false,
               false,
               false,
               false,
               false,
               false,
               false,
               false,
               false,
               false,
               false,
               false,
               false,
               false,
               false,
               false,
               false,
               false,
               false,
               false,
               false,
               false,
               false,
               false,
               false,
               false,
               false,
               false,
               false,
               false,
               false,
               false,
               false,
               false,
               false,
               false,
               false,
               false,
               false,
               false,
               false,
               false,
               false,
               false,
               false,
               false,
               false,
               false,
               false,
               false,
               false,
               false,
               false,
               false,
               false,
               false,
               false,
               false,
               false,
               false,
               false,
               false,
               false,
               false,
               false,
               false,
               false,
               false,
               false,
               false,
               false,
               false,
               false,
               false,
               false,
               false,
               false,
               false,
               true,
               false,
               false,
               false,
               false,
               false,
               false,
               false,
               false,
               false,
               false,
               false,
               false,
               false,
               false,
               false,
               false
              ]
             },
             {
              "title": "Spring Valley"
             }
            ],
            "label": "Spring Valley",
            "method": "update"
           },
           {
            "args": [
             {
              "visible": [
               false,
               false,
               false,
               false,
               false,
               false,
               false,
               false,
               false,
               false,
               false,
               false,
               false,
               false,
               false,
               false,
               false,
               false,
               false,
               false,
               false,
               false,
               false,
               false,
               false,
               false,
               false,
               false,
               false,
               false,
               false,
               false,
               false,
               false,
               false,
               false,
               false,
               false,
               false,
               false,
               false,
               false,
               false,
               false,
               false,
               false,
               false,
               false,
               false,
               false,
               false,
               false,
               false,
               false,
               false,
               false,
               false,
               false,
               false,
               false,
               false,
               false,
               false,
               false,
               false,
               false,
               false,
               false,
               false,
               false,
               false,
               false,
               false,
               false,
               false,
               false,
               false,
               false,
               false,
               false,
               false,
               false,
               false,
               false,
               false,
               false,
               false,
               false,
               false,
               false,
               false,
               false,
               false,
               false,
               true,
               false,
               false,
               false,
               false,
               false,
               false,
               false,
               false,
               false,
               false,
               false,
               false,
               false,
               false,
               false
              ]
             },
             {
              "title": "St. Elizabeths"
             }
            ],
            "label": "St. Elizabeths",
            "method": "update"
           },
           {
            "args": [
             {
              "visible": [
               false,
               false,
               false,
               false,
               false,
               false,
               false,
               false,
               false,
               false,
               false,
               false,
               false,
               false,
               false,
               false,
               false,
               false,
               false,
               false,
               false,
               false,
               false,
               false,
               false,
               false,
               false,
               false,
               false,
               false,
               false,
               false,
               false,
               false,
               false,
               false,
               false,
               false,
               false,
               false,
               false,
               false,
               false,
               false,
               false,
               false,
               false,
               false,
               false,
               false,
               false,
               false,
               false,
               false,
               false,
               false,
               false,
               false,
               false,
               false,
               false,
               false,
               false,
               false,
               false,
               false,
               false,
               false,
               false,
               false,
               false,
               false,
               false,
               false,
               false,
               false,
               false,
               false,
               false,
               false,
               false,
               false,
               false,
               false,
               false,
               false,
               false,
               false,
               false,
               false,
               false,
               false,
               false,
               false,
               false,
               true,
               false,
               false,
               false,
               false,
               false,
               false,
               false,
               false,
               false,
               false,
               false,
               false,
               false,
               false
              ]
             },
             {
              "title": "Stronghold"
             }
            ],
            "label": "Stronghold",
            "method": "update"
           },
           {
            "args": [
             {
              "visible": [
               false,
               false,
               false,
               false,
               false,
               false,
               false,
               false,
               false,
               false,
               false,
               false,
               false,
               false,
               false,
               false,
               false,
               false,
               false,
               false,
               false,
               false,
               false,
               false,
               false,
               false,
               false,
               false,
               false,
               false,
               false,
               false,
               false,
               false,
               false,
               false,
               false,
               false,
               false,
               false,
               false,
               false,
               false,
               false,
               false,
               false,
               false,
               false,
               false,
               false,
               false,
               false,
               false,
               false,
               false,
               false,
               false,
               false,
               false,
               false,
               false,
               false,
               false,
               false,
               false,
               false,
               false,
               false,
               false,
               false,
               false,
               false,
               false,
               false,
               false,
               false,
               false,
               false,
               false,
               false,
               false,
               false,
               false,
               false,
               false,
               false,
               false,
               false,
               false,
               false,
               false,
               false,
               false,
               false,
               false,
               false,
               true,
               false,
               false,
               false,
               false,
               false,
               false,
               false,
               false,
               false,
               false,
               false,
               false,
               false
              ]
             },
             {
              "title": "Takoma"
             }
            ],
            "label": "Takoma",
            "method": "update"
           },
           {
            "args": [
             {
              "visible": [
               false,
               false,
               false,
               false,
               false,
               false,
               false,
               false,
               false,
               false,
               false,
               false,
               false,
               false,
               false,
               false,
               false,
               false,
               false,
               false,
               false,
               false,
               false,
               false,
               false,
               false,
               false,
               false,
               false,
               false,
               false,
               false,
               false,
               false,
               false,
               false,
               false,
               false,
               false,
               false,
               false,
               false,
               false,
               false,
               false,
               false,
               false,
               false,
               false,
               false,
               false,
               false,
               false,
               false,
               false,
               false,
               false,
               false,
               false,
               false,
               false,
               false,
               false,
               false,
               false,
               false,
               false,
               false,
               false,
               false,
               false,
               false,
               false,
               false,
               false,
               false,
               false,
               false,
               false,
               false,
               false,
               false,
               false,
               false,
               false,
               false,
               false,
               false,
               false,
               false,
               false,
               false,
               false,
               false,
               false,
               false,
               false,
               true,
               false,
               false,
               false,
               false,
               false,
               false,
               false,
               false,
               false,
               false,
               false,
               false
              ]
             },
             {
              "title": "Takoma Park, MD"
             }
            ],
            "label": "Takoma Park, MD",
            "method": "update"
           },
           {
            "args": [
             {
              "visible": [
               false,
               false,
               false,
               false,
               false,
               false,
               false,
               false,
               false,
               false,
               false,
               false,
               false,
               false,
               false,
               false,
               false,
               false,
               false,
               false,
               false,
               false,
               false,
               false,
               false,
               false,
               false,
               false,
               false,
               false,
               false,
               false,
               false,
               false,
               false,
               false,
               false,
               false,
               false,
               false,
               false,
               false,
               false,
               false,
               false,
               false,
               false,
               false,
               false,
               false,
               false,
               false,
               false,
               false,
               false,
               false,
               false,
               false,
               false,
               false,
               false,
               false,
               false,
               false,
               false,
               false,
               false,
               false,
               false,
               false,
               false,
               false,
               false,
               false,
               false,
               false,
               false,
               false,
               false,
               false,
               false,
               false,
               false,
               false,
               false,
               false,
               false,
               false,
               false,
               false,
               false,
               false,
               false,
               false,
               false,
               false,
               false,
               false,
               true,
               false,
               false,
               false,
               false,
               false,
               false,
               false,
               false,
               false,
               false,
               false
              ]
             },
             {
              "title": "Tenleytown"
             }
            ],
            "label": "Tenleytown",
            "method": "update"
           },
           {
            "args": [
             {
              "visible": [
               false,
               false,
               false,
               false,
               false,
               false,
               false,
               false,
               false,
               false,
               false,
               false,
               false,
               false,
               false,
               false,
               false,
               false,
               false,
               false,
               false,
               false,
               false,
               false,
               false,
               false,
               false,
               false,
               false,
               false,
               false,
               false,
               false,
               false,
               false,
               false,
               false,
               false,
               false,
               false,
               false,
               false,
               false,
               false,
               false,
               false,
               false,
               false,
               false,
               false,
               false,
               false,
               false,
               false,
               false,
               false,
               false,
               false,
               false,
               false,
               false,
               false,
               false,
               false,
               false,
               false,
               false,
               false,
               false,
               false,
               false,
               false,
               false,
               false,
               false,
               false,
               false,
               false,
               false,
               false,
               false,
               false,
               false,
               false,
               false,
               false,
               false,
               false,
               false,
               false,
               false,
               false,
               false,
               false,
               false,
               false,
               false,
               false,
               false,
               true,
               false,
               false,
               false,
               false,
               false,
               false,
               false,
               false,
               false,
               false
              ]
             },
             {
              "title": "Trinidad"
             }
            ],
            "label": "Trinidad",
            "method": "update"
           },
           {
            "args": [
             {
              "visible": [
               false,
               false,
               false,
               false,
               false,
               false,
               false,
               false,
               false,
               false,
               false,
               false,
               false,
               false,
               false,
               false,
               false,
               false,
               false,
               false,
               false,
               false,
               false,
               false,
               false,
               false,
               false,
               false,
               false,
               false,
               false,
               false,
               false,
               false,
               false,
               false,
               false,
               false,
               false,
               false,
               false,
               false,
               false,
               false,
               false,
               false,
               false,
               false,
               false,
               false,
               false,
               false,
               false,
               false,
               false,
               false,
               false,
               false,
               false,
               false,
               false,
               false,
               false,
               false,
               false,
               false,
               false,
               false,
               false,
               false,
               false,
               false,
               false,
               false,
               false,
               false,
               false,
               false,
               false,
               false,
               false,
               false,
               false,
               false,
               false,
               false,
               false,
               false,
               false,
               false,
               false,
               false,
               false,
               false,
               false,
               false,
               false,
               false,
               false,
               false,
               true,
               false,
               false,
               false,
               false,
               false,
               false,
               false,
               false,
               false
              ]
             },
             {
              "title": "Truxton Circle"
             }
            ],
            "label": "Truxton Circle",
            "method": "update"
           },
           {
            "args": [
             {
              "visible": [
               false,
               false,
               false,
               false,
               false,
               false,
               false,
               false,
               false,
               false,
               false,
               false,
               false,
               false,
               false,
               false,
               false,
               false,
               false,
               false,
               false,
               false,
               false,
               false,
               false,
               false,
               false,
               false,
               false,
               false,
               false,
               false,
               false,
               false,
               false,
               false,
               false,
               false,
               false,
               false,
               false,
               false,
               false,
               false,
               false,
               false,
               false,
               false,
               false,
               false,
               false,
               false,
               false,
               false,
               false,
               false,
               false,
               false,
               false,
               false,
               false,
               false,
               false,
               false,
               false,
               false,
               false,
               false,
               false,
               false,
               false,
               false,
               false,
               false,
               false,
               false,
               false,
               false,
               false,
               false,
               false,
               false,
               false,
               false,
               false,
               false,
               false,
               false,
               false,
               false,
               false,
               false,
               false,
               false,
               false,
               false,
               false,
               false,
               false,
               false,
               false,
               true,
               false,
               false,
               false,
               false,
               false,
               false,
               false,
               false
              ]
             },
             {
              "title": "Twining"
             }
            ],
            "label": "Twining",
            "method": "update"
           },
           {
            "args": [
             {
              "visible": [
               false,
               false,
               false,
               false,
               false,
               false,
               false,
               false,
               false,
               false,
               false,
               false,
               false,
               false,
               false,
               false,
               false,
               false,
               false,
               false,
               false,
               false,
               false,
               false,
               false,
               false,
               false,
               false,
               false,
               false,
               false,
               false,
               false,
               false,
               false,
               false,
               false,
               false,
               false,
               false,
               false,
               false,
               false,
               false,
               false,
               false,
               false,
               false,
               false,
               false,
               false,
               false,
               false,
               false,
               false,
               false,
               false,
               false,
               false,
               false,
               false,
               false,
               false,
               false,
               false,
               false,
               false,
               false,
               false,
               false,
               false,
               false,
               false,
               false,
               false,
               false,
               false,
               false,
               false,
               false,
               false,
               false,
               false,
               false,
               false,
               false,
               false,
               false,
               false,
               false,
               false,
               false,
               false,
               false,
               false,
               false,
               false,
               false,
               false,
               false,
               false,
               false,
               true,
               false,
               false,
               false,
               false,
               false,
               false,
               false
              ]
             },
             {
              "title": "U Street Corridor"
             }
            ],
            "label": "U Street Corridor",
            "method": "update"
           },
           {
            "args": [
             {
              "visible": [
               false,
               false,
               false,
               false,
               false,
               false,
               false,
               false,
               false,
               false,
               false,
               false,
               false,
               false,
               false,
               false,
               false,
               false,
               false,
               false,
               false,
               false,
               false,
               false,
               false,
               false,
               false,
               false,
               false,
               false,
               false,
               false,
               false,
               false,
               false,
               false,
               false,
               false,
               false,
               false,
               false,
               false,
               false,
               false,
               false,
               false,
               false,
               false,
               false,
               false,
               false,
               false,
               false,
               false,
               false,
               false,
               false,
               false,
               false,
               false,
               false,
               false,
               false,
               false,
               false,
               false,
               false,
               false,
               false,
               false,
               false,
               false,
               false,
               false,
               false,
               false,
               false,
               false,
               false,
               false,
               false,
               false,
               false,
               false,
               false,
               false,
               false,
               false,
               false,
               false,
               false,
               false,
               false,
               false,
               false,
               false,
               false,
               false,
               false,
               false,
               false,
               false,
               false,
               true,
               false,
               false,
               false,
               false,
               false,
               false
              ]
             },
             {
              "title": "Washington Highlands"
             }
            ],
            "label": "Washington Highlands",
            "method": "update"
           },
           {
            "args": [
             {
              "visible": [
               false,
               false,
               false,
               false,
               false,
               false,
               false,
               false,
               false,
               false,
               false,
               false,
               false,
               false,
               false,
               false,
               false,
               false,
               false,
               false,
               false,
               false,
               false,
               false,
               false,
               false,
               false,
               false,
               false,
               false,
               false,
               false,
               false,
               false,
               false,
               false,
               false,
               false,
               false,
               false,
               false,
               false,
               false,
               false,
               false,
               false,
               false,
               false,
               false,
               false,
               false,
               false,
               false,
               false,
               false,
               false,
               false,
               false,
               false,
               false,
               false,
               false,
               false,
               false,
               false,
               false,
               false,
               false,
               false,
               false,
               false,
               false,
               false,
               false,
               false,
               false,
               false,
               false,
               false,
               false,
               false,
               false,
               false,
               false,
               false,
               false,
               false,
               false,
               false,
               false,
               false,
               false,
               false,
               false,
               false,
               false,
               false,
               false,
               false,
               false,
               false,
               false,
               false,
               false,
               true,
               false,
               false,
               false,
               false,
               false
              ]
             },
             {
              "title": "Wesley Heights"
             }
            ],
            "label": "Wesley Heights",
            "method": "update"
           },
           {
            "args": [
             {
              "visible": [
               false,
               false,
               false,
               false,
               false,
               false,
               false,
               false,
               false,
               false,
               false,
               false,
               false,
               false,
               false,
               false,
               false,
               false,
               false,
               false,
               false,
               false,
               false,
               false,
               false,
               false,
               false,
               false,
               false,
               false,
               false,
               false,
               false,
               false,
               false,
               false,
               false,
               false,
               false,
               false,
               false,
               false,
               false,
               false,
               false,
               false,
               false,
               false,
               false,
               false,
               false,
               false,
               false,
               false,
               false,
               false,
               false,
               false,
               false,
               false,
               false,
               false,
               false,
               false,
               false,
               false,
               false,
               false,
               false,
               false,
               false,
               false,
               false,
               false,
               false,
               false,
               false,
               false,
               false,
               false,
               false,
               false,
               false,
               false,
               false,
               false,
               false,
               false,
               false,
               false,
               false,
               false,
               false,
               false,
               false,
               false,
               false,
               false,
               false,
               false,
               false,
               false,
               false,
               false,
               false,
               true,
               false,
               false,
               false,
               false
              ]
             },
             {
              "title": "West End"
             }
            ],
            "label": "West End",
            "method": "update"
           },
           {
            "args": [
             {
              "visible": [
               false,
               false,
               false,
               false,
               false,
               false,
               false,
               false,
               false,
               false,
               false,
               false,
               false,
               false,
               false,
               false,
               false,
               false,
               false,
               false,
               false,
               false,
               false,
               false,
               false,
               false,
               false,
               false,
               false,
               false,
               false,
               false,
               false,
               false,
               false,
               false,
               false,
               false,
               false,
               false,
               false,
               false,
               false,
               false,
               false,
               false,
               false,
               false,
               false,
               false,
               false,
               false,
               false,
               false,
               false,
               false,
               false,
               false,
               false,
               false,
               false,
               false,
               false,
               false,
               false,
               false,
               false,
               false,
               false,
               false,
               false,
               false,
               false,
               false,
               false,
               false,
               false,
               false,
               false,
               false,
               false,
               false,
               false,
               false,
               false,
               false,
               false,
               false,
               false,
               false,
               false,
               false,
               false,
               false,
               false,
               false,
               false,
               false,
               false,
               false,
               false,
               false,
               false,
               false,
               false,
               false,
               true,
               false,
               false,
               false
              ]
             },
             {
              "title": "Woodland"
             }
            ],
            "label": "Woodland",
            "method": "update"
           },
           {
            "args": [
             {
              "visible": [
               false,
               false,
               false,
               false,
               false,
               false,
               false,
               false,
               false,
               false,
               false,
               false,
               false,
               false,
               false,
               false,
               false,
               false,
               false,
               false,
               false,
               false,
               false,
               false,
               false,
               false,
               false,
               false,
               false,
               false,
               false,
               false,
               false,
               false,
               false,
               false,
               false,
               false,
               false,
               false,
               false,
               false,
               false,
               false,
               false,
               false,
               false,
               false,
               false,
               false,
               false,
               false,
               false,
               false,
               false,
               false,
               false,
               false,
               false,
               false,
               false,
               false,
               false,
               false,
               false,
               false,
               false,
               false,
               false,
               false,
               false,
               false,
               false,
               false,
               false,
               false,
               false,
               false,
               false,
               false,
               false,
               false,
               false,
               false,
               false,
               false,
               false,
               false,
               false,
               false,
               false,
               false,
               false,
               false,
               false,
               false,
               false,
               false,
               false,
               false,
               false,
               false,
               false,
               false,
               false,
               false,
               false,
               true,
               false,
               false
              ]
             },
             {
              "title": "Woodland-Normanstone Terrace"
             }
            ],
            "label": "Woodland-Normanstone Terrace",
            "method": "update"
           },
           {
            "args": [
             {
              "visible": [
               false,
               false,
               false,
               false,
               false,
               false,
               false,
               false,
               false,
               false,
               false,
               false,
               false,
               false,
               false,
               false,
               false,
               false,
               false,
               false,
               false,
               false,
               false,
               false,
               false,
               false,
               false,
               false,
               false,
               false,
               false,
               false,
               false,
               false,
               false,
               false,
               false,
               false,
               false,
               false,
               false,
               false,
               false,
               false,
               false,
               false,
               false,
               false,
               false,
               false,
               false,
               false,
               false,
               false,
               false,
               false,
               false,
               false,
               false,
               false,
               false,
               false,
               false,
               false,
               false,
               false,
               false,
               false,
               false,
               false,
               false,
               false,
               false,
               false,
               false,
               false,
               false,
               false,
               false,
               false,
               false,
               false,
               false,
               false,
               false,
               false,
               false,
               false,
               false,
               false,
               false,
               false,
               false,
               false,
               false,
               false,
               false,
               false,
               false,
               false,
               false,
               false,
               false,
               false,
               false,
               false,
               false,
               false,
               true,
               false
              ]
             },
             {
              "title": "Woodley Park"
             }
            ],
            "label": "Woodley Park",
            "method": "update"
           },
           {
            "args": [
             {
              "visible": [
               false,
               false,
               false,
               false,
               false,
               false,
               false,
               false,
               false,
               false,
               false,
               false,
               false,
               false,
               false,
               false,
               false,
               false,
               false,
               false,
               false,
               false,
               false,
               false,
               false,
               false,
               false,
               false,
               false,
               false,
               false,
               false,
               false,
               false,
               false,
               false,
               false,
               false,
               false,
               false,
               false,
               false,
               false,
               false,
               false,
               false,
               false,
               false,
               false,
               false,
               false,
               false,
               false,
               false,
               false,
               false,
               false,
               false,
               false,
               false,
               false,
               false,
               false,
               false,
               false,
               false,
               false,
               false,
               false,
               false,
               false,
               false,
               false,
               false,
               false,
               false,
               false,
               false,
               false,
               false,
               false,
               false,
               false,
               false,
               false,
               false,
               false,
               false,
               false,
               false,
               false,
               false,
               false,
               false,
               false,
               false,
               false,
               false,
               false,
               false,
               false,
               false,
               false,
               false,
               false,
               false,
               false,
               false,
               false,
               true
              ]
             },
             {
              "title": "Woodridge"
             }
            ],
            "label": "Woodridge",
            "method": "update"
           }
          ],
          "showactive": false,
          "x": 1,
          "y": 1.15,
          "yanchor": "top"
         }
        ],
        "width": 800,
        "xaxis": {
         "gridcolor": "#d3d3d3",
         "title": {
          "text": ""
         },
         "type": "date"
        },
        "yaxis": {
         "gridcolor": "#d3d3d3",
         "range": [
          0,
          1200
         ],
         "title": {
          "text": "<b>Count</b>"
         },
         "type": "linear"
        }
       }
      },
      "text/html": [
       "<div>\n",
       "        \n",
       "        \n",
       "            <div id=\"63ec1d7a-9fa1-4cd3-b8a8-19c0a9304a43\" class=\"plotly-graph-div\" style=\"height:400px; width:800px;\"></div>\n",
       "            <script type=\"text/javascript\">\n",
       "                require([\"plotly\"], function(Plotly) {\n",
       "                    window.PLOTLYENV=window.PLOTLYENV || {};\n",
       "                    \n",
       "                if (document.getElementById(\"63ec1d7a-9fa1-4cd3-b8a8-19c0a9304a43\")) {\n",
       "                    Plotly.newPlot(\n",
       "                        '63ec1d7a-9fa1-4cd3-b8a8-19c0a9304a43',\n",
       "                        [{\"legendgroup\": \"16th Street Heights\", \"marker\": {\"color\": \"blue\"}, \"mode\": \"lines+markers\", \"name\": \"listings\", \"showlegend\": true, \"text\": [\"16th Street Heights\", \"16th Street Heights\", \"16th Street Heights\", \"16th Street Heights\", \"16th Street Heights\", \"16th Street Heights\", \"16th Street Heights\", \"16th Street Heights\", \"16th Street Heights\", \"16th Street Heights\", \"16th Street Heights\"], \"type\": \"scatter\", \"x\": [\"2008\", \"2009\", \"2011\", \"2012\", \"2013\", \"2014\", \"2015\", \"2016\", \"2017\", \"2018\", \"2019\"], \"y\": [1, 2, 4, 6, 11, 20, 39, 69, 105, 149, 175]}, {\"legendgroup\": \"Adams Morgan\", \"marker\": {\"color\": \"blue\"}, \"mode\": \"lines+markers\", \"name\": \"listings\", \"showlegend\": true, \"text\": [\"Adams Morgan\", \"Adams Morgan\", \"Adams Morgan\", \"Adams Morgan\", \"Adams Morgan\", \"Adams Morgan\", \"Adams Morgan\", \"Adams Morgan\", \"Adams Morgan\", \"Adams Morgan\"], \"type\": \"scatter\", \"x\": [\"2009\", \"2011\", \"2012\", \"2013\", \"2014\", \"2015\", \"2016\", \"2017\", \"2018\", \"2019\"], \"y\": [2, 6, 14, 24, 45, 100, 166, 218, 263, 288]}, {\"legendgroup\": \"American University Park\", \"marker\": {\"color\": \"blue\"}, \"mode\": \"lines+markers\", \"name\": \"listings\", \"showlegend\": true, \"text\": [\"American University Park\", \"American University Park\", \"American University Park\", \"American University Park\", \"American University Park\", \"American University Park\", \"American University Park\", \"American University Park\"], \"type\": \"scatter\", \"x\": [\"2009\", \"2013\", \"2014\", \"2015\", \"2016\", \"2017\", \"2018\", \"2019\"], \"y\": [2, 6, 7, 12, 19, 34, 38, 47]}, {\"legendgroup\": \"Anacostia\", \"marker\": {\"color\": \"blue\"}, \"mode\": \"lines+markers\", \"name\": \"listings\", \"showlegend\": true, \"text\": [\"Anacostia\", \"Anacostia\", \"Anacostia\", \"Anacostia\", \"Anacostia\", \"Anacostia\", \"Anacostia\", \"Anacostia\", \"Anacostia\", \"Anacostia\"], \"type\": \"scatter\", \"x\": [\"2010\", \"2011\", \"2012\", \"2013\", \"2014\", \"2015\", \"2016\", \"2017\", \"2018\", \"2019\"], \"y\": [1, 2, 3, 4, 5, 9, 16, 34, 44, 55]}, {\"legendgroup\": \"Arboretum\", \"marker\": {\"color\": \"blue\"}, \"mode\": \"lines+markers\", \"name\": \"listings\", \"showlegend\": true, \"text\": [\"Arboretum\", \"Arboretum\"], \"type\": \"scatter\", \"x\": [\"2016\", \"2017\"], \"y\": [1, 3]}, {\"legendgroup\": \"Barney Circle\", \"marker\": {\"color\": \"blue\"}, \"mode\": \"lines+markers\", \"name\": \"listings\", \"showlegend\": true, \"text\": [\"Barney Circle\", \"Barney Circle\", \"Barney Circle\", \"Barney Circle\", \"Barney Circle\", \"Barney Circle\", \"Barney Circle\", \"Barney Circle\"], \"type\": \"scatter\", \"x\": [\"2012\", \"2013\", \"2014\", \"2015\", \"2016\", \"2017\", \"2018\", \"2019\"], \"y\": [7, 10, 16, 33, 58, 85, 117, 125]}, {\"legendgroup\": \"Barry Farm\", \"marker\": {\"color\": \"blue\"}, \"mode\": \"lines+markers\", \"name\": \"listings\", \"showlegend\": true, \"text\": [\"Barry Farm\", \"Barry Farm\", \"Barry Farm\", \"Barry Farm\"], \"type\": \"scatter\", \"x\": [\"2012\", \"2016\", \"2018\", \"2019\"], \"y\": [1, 2, 6, 12]}, {\"legendgroup\": \"Bellevue\", \"marker\": {\"color\": \"blue\"}, \"mode\": \"lines+markers\", \"name\": \"listings\", \"showlegend\": true, \"text\": [\"Bellevue\", \"Bellevue\", \"Bellevue\", \"Bellevue\", \"Bellevue\", \"Bellevue\"], \"type\": \"scatter\", \"x\": [\"2014\", \"2015\", \"2016\", \"2017\", \"2018\", \"2019\"], \"y\": [1, 2, 3, 6, 14, 20]}, {\"legendgroup\": \"Benning\", \"marker\": {\"color\": \"blue\"}, \"mode\": \"lines+markers\", \"name\": \"listings\", \"showlegend\": true, \"text\": [\"Benning\", \"Benning\", \"Benning\", \"Benning\", \"Benning\", \"Benning\", \"Benning\"], \"type\": \"scatter\", \"x\": [\"2012\", \"2013\", \"2015\", \"2016\", \"2017\", \"2018\", \"2019\"], \"y\": [1, 2, 4, 6, 10, 15, 21]}, {\"legendgroup\": \"Benning Heights\", \"marker\": {\"color\": \"blue\"}, \"mode\": \"lines+markers\", \"name\": \"listings\", \"showlegend\": true, \"text\": [\"Benning Heights\", \"Benning Heights\", \"Benning Heights\"], \"type\": \"scatter\", \"x\": [\"2012\", \"2016\", \"2018\"], \"y\": [1, 4, 5]}, {\"legendgroup\": \"Benning Ridge\", \"marker\": {\"color\": \"blue\"}, \"mode\": \"lines+markers\", \"name\": \"listings\", \"showlegend\": true, \"text\": [\"Benning Ridge\", \"Benning Ridge\", \"Benning Ridge\", \"Benning Ridge\"], \"type\": \"scatter\", \"x\": [\"2016\", \"2017\", \"2018\", \"2019\"], \"y\": [2, 7, 14, 21]}, {\"legendgroup\": \"Berkley\", \"marker\": {\"color\": \"blue\"}, \"mode\": \"lines+markers\", \"name\": \"listings\", \"showlegend\": true, \"text\": [\"Berkley\", \"Berkley\", \"Berkley\", \"Berkley\", \"Berkley\"], \"type\": \"scatter\", \"x\": [\"2014\", \"2015\", \"2016\", \"2018\", \"2019\"], \"y\": [2, 3, 4, 5, 6]}, {\"legendgroup\": \"Bloomingdale\", \"marker\": {\"color\": \"blue\"}, \"mode\": \"lines+markers\", \"name\": \"listings\", \"showlegend\": true, \"text\": [\"Bloomingdale\", \"Bloomingdale\", \"Bloomingdale\", \"Bloomingdale\", \"Bloomingdale\", \"Bloomingdale\", \"Bloomingdale\", \"Bloomingdale\"], \"type\": \"scatter\", \"x\": [\"2012\", \"2013\", \"2014\", \"2015\", \"2016\", \"2017\", \"2018\", \"2019\"], \"y\": [3, 12, 27, 52, 102, 159, 217, 243]}, {\"legendgroup\": \"Brentwood\", \"marker\": {\"color\": \"blue\"}, \"mode\": \"lines+markers\", \"name\": \"listings\", \"showlegend\": true, \"text\": [\"Brentwood\", \"Brentwood\", \"Brentwood\", \"Brentwood\", \"Brentwood\", \"Brentwood\", \"Brentwood\"], \"type\": \"scatter\", \"x\": [\"2013\", \"2014\", \"2015\", \"2016\", \"2017\", \"2018\", \"2019\"], \"y\": [2, 5, 9, 18, 28, 34, 38]}, {\"legendgroup\": \"Brightwood\", \"marker\": {\"color\": \"blue\"}, \"mode\": \"lines+markers\", \"name\": \"listings\", \"showlegend\": true, \"text\": [\"Brightwood\", \"Brightwood\", \"Brightwood\", \"Brightwood\", \"Brightwood\", \"Brightwood\"], \"type\": \"scatter\", \"x\": [\"2011\", \"2013\", \"2015\", \"2016\", \"2017\", \"2018\"], \"y\": [1, 4, 9, 13, 16, 27]}, {\"legendgroup\": \"Brookland\", \"marker\": {\"color\": \"blue\"}, \"mode\": \"lines+markers\", \"name\": \"listings\", \"showlegend\": true, \"text\": [\"Brookland\", \"Brookland\", \"Brookland\", \"Brookland\", \"Brookland\", \"Brookland\", \"Brookland\", \"Brookland\"], \"type\": \"scatter\", \"x\": [\"2011\", \"2013\", \"2014\", \"2015\", \"2016\", \"2017\", \"2018\", \"2019\"], \"y\": [1, 2, 6, 23, 40, 66, 78, 90]}, {\"legendgroup\": \"Buena Vista\", \"marker\": {\"color\": \"blue\"}, \"mode\": \"lines+markers\", \"name\": \"listings\", \"showlegend\": true, \"text\": [\"Buena Vista\", \"Buena Vista\", \"Buena Vista\", \"Buena Vista\", \"Buena Vista\", \"Buena Vista\", \"Buena Vista\", \"Buena Vista\"], \"type\": \"scatter\", \"x\": [\"2011\", \"2013\", \"2014\", \"2015\", \"2016\", \"2017\", \"2018\", \"2019\"], \"y\": [1, 2, 5, 8, 11, 18, 33, 46]}, {\"legendgroup\": \"Burleith\", \"marker\": {\"color\": \"blue\"}, \"mode\": \"lines+markers\", \"name\": \"listings\", \"showlegend\": true, \"text\": [\"Burleith\", \"Burleith\", \"Burleith\", \"Burleith\", \"Burleith\", \"Burleith\", \"Burleith\", \"Burleith\"], \"type\": \"scatter\", \"x\": [\"2012\", \"2013\", \"2014\", \"2015\", \"2016\", \"2017\", \"2018\", \"2019\"], \"y\": [3, 7, 10, 15, 22, 30, 38, 44]}, {\"legendgroup\": \"Capitol Hill\", \"marker\": {\"color\": \"blue\"}, \"mode\": \"lines+markers\", \"name\": \"listings\", \"showlegend\": true, \"text\": [\"Capitol Hill\", \"Capitol Hill\", \"Capitol Hill\", \"Capitol Hill\", \"Capitol Hill\", \"Capitol Hill\", \"Capitol Hill\", \"Capitol Hill\", \"Capitol Hill\", \"Capitol Hill\", \"Capitol Hill\"], \"type\": \"scatter\", \"x\": [\"2009\", \"2010\", \"2011\", \"2012\", \"2013\", \"2014\", \"2015\", \"2016\", \"2017\", \"2018\", \"2019\"], \"y\": [5, 7, 11, 29, 79, 167, 295, 516, 750, 947, 1051]}, {\"legendgroup\": \"Carver Langston\", \"marker\": {\"color\": \"blue\"}, \"mode\": \"lines+markers\", \"name\": \"listings\", \"showlegend\": true, \"text\": [\"Carver Langston\", \"Carver Langston\", \"Carver Langston\", \"Carver Langston\", \"Carver Langston\"], \"type\": \"scatter\", \"x\": [\"2015\", \"2016\", \"2017\", \"2018\", \"2019\"], \"y\": [2, 8, 19, 33, 42]}, {\"legendgroup\": \"Cathedral Heights\", \"marker\": {\"color\": \"blue\"}, \"mode\": \"lines+markers\", \"name\": \"listings\", \"showlegend\": true, \"text\": [\"Cathedral Heights\", \"Cathedral Heights\", \"Cathedral Heights\", \"Cathedral Heights\", \"Cathedral Heights\", \"Cathedral Heights\", \"Cathedral Heights\", \"Cathedral Heights\", \"Cathedral Heights\"], \"type\": \"scatter\", \"x\": [\"2010\", \"2011\", \"2013\", \"2014\", \"2015\", \"2016\", \"2017\", \"2018\", \"2019\"], \"y\": [3, 4, 5, 6, 8, 11, 16, 18, 21]}, {\"legendgroup\": \"Catholic University\", \"marker\": {\"color\": \"blue\"}, \"mode\": \"lines+markers\", \"name\": \"listings\", \"showlegend\": true, \"text\": [\"Catholic University\"], \"type\": \"scatter\", \"x\": [\"2017\"], \"y\": [1]}, {\"legendgroup\": \"Central Northeast/Mahaning Heights\", \"marker\": {\"color\": \"blue\"}, \"mode\": \"lines+markers\", \"name\": \"listings\", \"showlegend\": true, \"text\": [\"Central Northeast/Mahaning Heights\", \"Central Northeast/Mahaning Heights\", \"Central Northeast/Mahaning Heights\", \"Central Northeast/Mahaning Heights\", \"Central Northeast/Mahaning Heights\", \"Central Northeast/Mahaning Heights\"], \"type\": \"scatter\", \"x\": [\"2013\", \"2015\", \"2016\", \"2017\", \"2018\", \"2019\"], \"y\": [1, 3, 6, 27, 36, 46]}, {\"legendgroup\": \"Chevy Chase\", \"marker\": {\"color\": \"blue\"}, \"mode\": \"lines+markers\", \"name\": \"listings\", \"showlegend\": true, \"text\": [\"Chevy Chase\", \"Chevy Chase\", \"Chevy Chase\", \"Chevy Chase\", \"Chevy Chase\", \"Chevy Chase\", \"Chevy Chase\", \"Chevy Chase\"], \"type\": \"scatter\", \"x\": [\"2012\", \"2013\", \"2014\", \"2015\", \"2016\", \"2017\", \"2018\", \"2019\"], \"y\": [2, 5, 14, 18, 26, 33, 47, 51]}, {\"legendgroup\": \"Civic Betterment\", \"marker\": {\"color\": \"blue\"}, \"mode\": \"lines+markers\", \"name\": \"listings\", \"showlegend\": true, \"text\": [\"Civic Betterment\", \"Civic Betterment\"], \"type\": \"scatter\", \"x\": [\"2018\", \"2019\"], \"y\": [1, 2]}, {\"legendgroup\": \"Cleveland Park\", \"marker\": {\"color\": \"blue\"}, \"mode\": \"lines+markers\", \"name\": \"listings\", \"showlegend\": true, \"text\": [\"Cleveland Park\", \"Cleveland Park\", \"Cleveland Park\", \"Cleveland Park\", \"Cleveland Park\", \"Cleveland Park\", \"Cleveland Park\", \"Cleveland Park\", \"Cleveland Park\", \"Cleveland Park\"], \"type\": \"scatter\", \"x\": [\"2010\", \"2011\", \"2012\", \"2013\", \"2014\", \"2015\", \"2016\", \"2017\", \"2018\", \"2019\"], \"y\": [1, 2, 4, 7, 14, 32, 53, 67, 83, 95]}, {\"legendgroup\": \"Colonial Village\", \"marker\": {\"color\": \"blue\"}, \"mode\": \"lines+markers\", \"name\": \"listings\", \"showlegend\": true, \"text\": [\"Colonial Village\", \"Colonial Village\", \"Colonial Village\", \"Colonial Village\", \"Colonial Village\", \"Colonial Village\"], \"type\": \"scatter\", \"x\": [\"2011\", \"2014\", \"2015\", \"2016\", \"2017\", \"2019\"], \"y\": [1, 6, 7, 11, 14, 15]}, {\"legendgroup\": \"Columbia Heights\", \"marker\": {\"color\": \"blue\"}, \"mode\": \"lines+markers\", \"name\": \"listings\", \"showlegend\": true, \"text\": [\"Columbia Heights\", \"Columbia Heights\", \"Columbia Heights\", \"Columbia Heights\", \"Columbia Heights\", \"Columbia Heights\", \"Columbia Heights\", \"Columbia Heights\", \"Columbia Heights\", \"Columbia Heights\"], \"type\": \"scatter\", \"x\": [\"2010\", \"2011\", \"2012\", \"2013\", \"2014\", \"2015\", \"2016\", \"2017\", \"2018\", \"2019\"], \"y\": [2, 3, 16, 37, 80, 138, 216, 324, 420, 468]}, {\"legendgroup\": \"Congress Heights\", \"marker\": {\"color\": \"blue\"}, \"mode\": \"lines+markers\", \"name\": \"listings\", \"showlegend\": true, \"text\": [\"Congress Heights\", \"Congress Heights\", \"Congress Heights\", \"Congress Heights\", \"Congress Heights\"], \"type\": \"scatter\", \"x\": [\"2015\", \"2016\", \"2017\", \"2018\", \"2019\"], \"y\": [2, 7, 13, 19, 22]}, {\"legendgroup\": \"Crestwood\", \"marker\": {\"color\": \"blue\"}, \"mode\": \"lines+markers\", \"name\": \"listings\", \"showlegend\": true, \"text\": [\"Crestwood\", \"Crestwood\", \"Crestwood\", \"Crestwood\", \"Crestwood\", \"Crestwood\", \"Crestwood\", \"Crestwood\", \"Crestwood\"], \"type\": \"scatter\", \"x\": [\"2011\", \"2012\", \"2013\", \"2014\", \"2015\", \"2016\", \"2017\", \"2018\", \"2019\"], \"y\": [3, 4, 7, 8, 10, 13, 19, 22, 27]}, {\"legendgroup\": \"Deanwood\", \"marker\": {\"color\": \"blue\"}, \"mode\": \"lines+markers\", \"name\": \"listings\", \"showlegend\": true, \"text\": [\"Deanwood\", \"Deanwood\", \"Deanwood\", \"Deanwood\", \"Deanwood\", \"Deanwood\"], \"type\": \"scatter\", \"x\": [\"2013\", \"2015\", \"2016\", \"2017\", \"2018\", \"2019\"], \"y\": [1, 3, 4, 9, 21, 28]}, {\"legendgroup\": \"Douglass\", \"marker\": {\"color\": \"blue\"}, \"mode\": \"lines+markers\", \"name\": \"listings\", \"showlegend\": true, \"text\": [\"Douglass\", \"Douglass\", \"Douglass\", \"Douglass\", \"Douglass\"], \"type\": \"scatter\", \"x\": [\"2015\", \"2016\", \"2017\", \"2018\", \"2019\"], \"y\": [4, 5, 9, 11, 12]}, {\"legendgroup\": \"Downtown/Penn Quarter\", \"marker\": {\"color\": \"blue\"}, \"mode\": \"lines+markers\", \"name\": \"listings\", \"showlegend\": true, \"text\": [\"Downtown/Penn Quarter\", \"Downtown/Penn Quarter\", \"Downtown/Penn Quarter\", \"Downtown/Penn Quarter\", \"Downtown/Penn Quarter\", \"Downtown/Penn Quarter\", \"Downtown/Penn Quarter\", \"Downtown/Penn Quarter\", \"Downtown/Penn Quarter\", \"Downtown/Penn Quarter\", \"Downtown/Penn Quarter\"], \"type\": \"scatter\", \"x\": [\"2009\", \"2010\", \"2011\", \"2012\", \"2013\", \"2014\", \"2015\", \"2016\", \"2017\", \"2018\", \"2019\"], \"y\": [1, 2, 3, 6, 11, 27, 62, 98, 125, 145, 164]}, {\"legendgroup\": \"Dupont Circle\", \"marker\": {\"color\": \"blue\"}, \"mode\": \"lines+markers\", \"name\": \"listings\", \"showlegend\": true, \"text\": [\"Dupont Circle\", \"Dupont Circle\", \"Dupont Circle\", \"Dupont Circle\", \"Dupont Circle\", \"Dupont Circle\", \"Dupont Circle\", \"Dupont Circle\", \"Dupont Circle\", \"Dupont Circle\", \"Dupont Circle\"], \"type\": \"scatter\", \"x\": [\"2009\", \"2010\", \"2011\", \"2012\", \"2013\", \"2014\", \"2015\", \"2016\", \"2017\", \"2018\", \"2019\"], \"y\": [3, 5, 7, 12, 42, 84, 204, 297, 383, 456, 525]}, {\"legendgroup\": \"Dupont Park\", \"marker\": {\"color\": \"blue\"}, \"mode\": \"lines+markers\", \"name\": \"listings\", \"showlegend\": true, \"text\": [\"Dupont Park\", \"Dupont Park\", \"Dupont Park\"], \"type\": \"scatter\", \"x\": [\"2017\", \"2018\", \"2019\"], \"y\": [5, 10, 11]}, {\"legendgroup\": \"East Corner\", \"marker\": {\"color\": \"blue\"}, \"mode\": \"lines+markers\", \"name\": \"listings\", \"showlegend\": true, \"text\": [\"East Corner\", \"East Corner\"], \"type\": \"scatter\", \"x\": [\"2014\", \"2019\"], \"y\": [1, 3]}, {\"legendgroup\": \"Eastland Gardens\", \"marker\": {\"color\": \"blue\"}, \"mode\": \"lines+markers\", \"name\": \"listings\", \"showlegend\": true, \"text\": [\"Eastland Gardens\", \"Eastland Gardens\", \"Eastland Gardens\", \"Eastland Gardens\", \"Eastland Gardens\"], \"type\": \"scatter\", \"x\": [\"2009\", \"2015\", \"2016\", \"2018\", \"2019\"], \"y\": [1, 4, 5, 7, 10]}, {\"legendgroup\": \"Eckington\", \"marker\": {\"color\": \"blue\"}, \"mode\": \"lines+markers\", \"name\": \"listings\", \"showlegend\": true, \"text\": [\"Eckington\", \"Eckington\", \"Eckington\", \"Eckington\", \"Eckington\", \"Eckington\", \"Eckington\", \"Eckington\", \"Eckington\"], \"type\": \"scatter\", \"x\": [\"2011\", \"2012\", \"2013\", \"2014\", \"2015\", \"2016\", \"2017\", \"2018\", \"2019\"], \"y\": [1, 9, 14, 24, 38, 80, 127, 171, 201]}, {\"legendgroup\": \"Edgewood\", \"marker\": {\"color\": \"blue\"}, \"mode\": \"lines+markers\", \"name\": \"listings\", \"showlegend\": true, \"text\": [\"Edgewood\", \"Edgewood\", \"Edgewood\", \"Edgewood\", \"Edgewood\", \"Edgewood\", \"Edgewood\", \"Edgewood\", \"Edgewood\"], \"type\": \"scatter\", \"x\": [\"2010\", \"2011\", \"2013\", \"2014\", \"2015\", \"2016\", \"2017\", \"2018\", \"2019\"], \"y\": [1, 2, 5, 14, 31, 41, 57, 76, 87]}, {\"legendgroup\": \"Fairlawn\", \"marker\": {\"color\": \"blue\"}, \"mode\": \"lines+markers\", \"name\": \"listings\", \"showlegend\": true, \"text\": [\"Fairlawn\", \"Fairlawn\", \"Fairlawn\", \"Fairlawn\", \"Fairlawn\", \"Fairlawn\", \"Fairlawn\"], \"type\": \"scatter\", \"x\": [\"2011\", \"2014\", \"2015\", \"2016\", \"2017\", \"2018\", \"2019\"], \"y\": [1, 2, 6, 12, 16, 29, 38]}, {\"legendgroup\": \"Foggy Bottom\", \"marker\": {\"color\": \"blue\"}, \"mode\": \"lines+markers\", \"name\": \"listings\", \"showlegend\": true, \"text\": [\"Foggy Bottom\", \"Foggy Bottom\", \"Foggy Bottom\", \"Foggy Bottom\", \"Foggy Bottom\", \"Foggy Bottom\", \"Foggy Bottom\", \"Foggy Bottom\"], \"type\": \"scatter\", \"x\": [\"2012\", \"2013\", \"2014\", \"2015\", \"2016\", \"2017\", \"2018\", \"2019\"], \"y\": [3, 16, 29, 55, 98, 151, 227, 280]}, {\"legendgroup\": \"Forest Hills\", \"marker\": {\"color\": \"blue\"}, \"mode\": \"lines+markers\", \"name\": \"listings\", \"showlegend\": true, \"text\": [\"Forest Hills\", \"Forest Hills\", \"Forest Hills\", \"Forest Hills\", \"Forest Hills\", \"Forest Hills\", \"Forest Hills\"], \"type\": \"scatter\", \"x\": [\"2012\", \"2014\", \"2015\", \"2016\", \"2017\", \"2018\", \"2019\"], \"y\": [1, 10, 17, 23, 37, 44, 48]}, {\"legendgroup\": \"Fort Davis\", \"marker\": {\"color\": \"blue\"}, \"mode\": \"lines+markers\", \"name\": \"listings\", \"showlegend\": true, \"text\": [\"Fort Davis\", \"Fort Davis\", \"Fort Davis\"], \"type\": \"scatter\", \"x\": [\"2017\", \"2018\", \"2019\"], \"y\": [7, 10, 20]}, {\"legendgroup\": \"Fort Dupont\", \"marker\": {\"color\": \"blue\"}, \"mode\": \"lines+markers\", \"name\": \"listings\", \"showlegend\": true, \"text\": [\"Fort Dupont\", \"Fort Dupont\", \"Fort Dupont\", \"Fort Dupont\", \"Fort Dupont\"], \"type\": \"scatter\", \"x\": [\"2013\", \"2015\", \"2016\", \"2017\", \"2018\"], \"y\": [1, 2, 4, 5, 6]}, {\"legendgroup\": \"Fort Lincoln\", \"marker\": {\"color\": \"blue\"}, \"mode\": \"lines+markers\", \"name\": \"listings\", \"showlegend\": true, \"text\": [\"Fort Lincoln\", \"Fort Lincoln\", \"Fort Lincoln\", \"Fort Lincoln\", \"Fort Lincoln\", \"Fort Lincoln\"], \"type\": \"scatter\", \"x\": [\"2014\", \"2015\", \"2016\", \"2017\", \"2018\", \"2019\"], \"y\": [1, 3, 8, 13, 18, 21]}, {\"legendgroup\": \"Fort Totten\", \"marker\": {\"color\": \"blue\"}, \"mode\": \"lines+markers\", \"name\": \"listings\", \"showlegend\": true, \"text\": [\"Fort Totten\", \"Fort Totten\", \"Fort Totten\", \"Fort Totten\", \"Fort Totten\"], \"type\": \"scatter\", \"x\": [\"2012\", \"2014\", \"2016\", \"2018\", \"2019\"], \"y\": [1, 2, 3, 4, 5]}, {\"legendgroup\": \"Foxhall\", \"marker\": {\"color\": \"blue\"}, \"mode\": \"lines+markers\", \"name\": \"listings\", \"showlegend\": true, \"text\": [\"Foxhall\", \"Foxhall\", \"Foxhall\", \"Foxhall\", \"Foxhall\", \"Foxhall\", \"Foxhall\"], \"type\": \"scatter\", \"x\": [\"2012\", \"2014\", \"2015\", \"2016\", \"2017\", \"2018\", \"2019\"], \"y\": [1, 2, 4, 5, 9, 12, 14]}, {\"legendgroup\": \"Friendship Heights\", \"marker\": {\"color\": \"blue\"}, \"mode\": \"lines+markers\", \"name\": \"listings\", \"showlegend\": true, \"text\": [\"Friendship Heights\", \"Friendship Heights\", \"Friendship Heights\", \"Friendship Heights\", \"Friendship Heights\", \"Friendship Heights\", \"Friendship Heights\"], \"type\": \"scatter\", \"x\": [\"2013\", \"2014\", \"2015\", \"2016\", \"2017\", \"2018\", \"2019\"], \"y\": [2, 3, 6, 9, 11, 14, 17]}, {\"legendgroup\": \"Gallaudet\", \"marker\": {\"color\": \"blue\"}, \"mode\": \"lines+markers\", \"name\": \"listings\", \"showlegend\": true, \"text\": [\"Gallaudet\", \"Gallaudet\", \"Gallaudet\", \"Gallaudet\", \"Gallaudet\"], \"type\": \"scatter\", \"x\": [\"2013\", \"2015\", \"2017\", \"2018\", \"2019\"], \"y\": [2, 3, 5, 10, 14]}, {\"legendgroup\": \"Garfield Heights\", \"marker\": {\"color\": \"blue\"}, \"mode\": \"lines+markers\", \"name\": \"listings\", \"showlegend\": true, \"text\": [\"Garfield Heights\"], \"type\": \"scatter\", \"x\": [\"2018\"], \"y\": [1]}, {\"legendgroup\": \"Gateway\", \"marker\": {\"color\": \"blue\"}, \"mode\": \"lines+markers\", \"name\": \"listings\", \"showlegend\": true, \"text\": [\"Gateway\", \"Gateway\"], \"type\": \"scatter\", \"x\": [\"2018\", \"2019\"], \"y\": [3, 5]}, {\"legendgroup\": \"Georgetown\", \"marker\": {\"color\": \"blue\"}, \"mode\": \"lines+markers\", \"name\": \"listings\", \"showlegend\": true, \"text\": [\"Georgetown\", \"Georgetown\", \"Georgetown\", \"Georgetown\", \"Georgetown\", \"Georgetown\", \"Georgetown\", \"Georgetown\", \"Georgetown\"], \"type\": \"scatter\", \"x\": [\"2011\", \"2012\", \"2013\", \"2014\", \"2015\", \"2016\", \"2017\", \"2018\", \"2019\"], \"y\": [2, 5, 15, 31, 74, 112, 150, 192, 217]}, {\"legendgroup\": \"Glover Park\", \"marker\": {\"color\": \"blue\"}, \"mode\": \"lines+markers\", \"name\": \"listings\", \"showlegend\": true, \"text\": [\"Glover Park\", \"Glover Park\", \"Glover Park\", \"Glover Park\", \"Glover Park\", \"Glover Park\", \"Glover Park\", \"Glover Park\", \"Glover Park\"], \"type\": \"scatter\", \"x\": [\"2010\", \"2012\", \"2013\", \"2014\", \"2015\", \"2016\", \"2017\", \"2018\", \"2019\"], \"y\": [1, 2, 4, 9, 24, 41, 57, 73, 86]}, {\"legendgroup\": \"Good Hope\", \"marker\": {\"color\": \"blue\"}, \"mode\": \"lines+markers\", \"name\": \"listings\", \"showlegend\": true, \"text\": [\"Good Hope\", \"Good Hope\", \"Good Hope\", \"Good Hope\", \"Good Hope\"], \"type\": \"scatter\", \"x\": [\"2014\", \"2015\", \"2016\", \"2017\", \"2019\"], \"y\": [1, 4, 8, 12, 23]}, {\"legendgroup\": \"Greenway\", \"marker\": {\"color\": \"blue\"}, \"mode\": \"lines+markers\", \"name\": \"listings\", \"showlegend\": true, \"text\": [\"Greenway\", \"Greenway\", \"Greenway\"], \"type\": \"scatter\", \"x\": [\"2016\", \"2017\", \"2019\"], \"y\": [1, 3, 5]}, {\"legendgroup\": \"Hilcrest Heights/Marlow Heights, MD\", \"marker\": {\"color\": \"blue\"}, \"mode\": \"lines+markers\", \"name\": \"listings\", \"showlegend\": true, \"text\": [\"Hilcrest Heights/Marlow Heights, MD\", \"Hilcrest Heights/Marlow Heights, MD\"], \"type\": \"scatter\", \"x\": [\"2013\", \"2016\"], \"y\": [2, 3]}, {\"legendgroup\": \"Hillbrook\", \"marker\": {\"color\": \"blue\"}, \"mode\": \"lines+markers\", \"name\": \"listings\", \"showlegend\": true, \"text\": [\"Hillbrook\", \"Hillbrook\", \"Hillbrook\"], \"type\": \"scatter\", \"x\": [\"2017\", \"2018\", \"2019\"], \"y\": [3, 9, 14]}, {\"legendgroup\": \"Hillcrest\", \"marker\": {\"color\": \"blue\"}, \"mode\": \"lines+markers\", \"name\": \"listings\", \"showlegend\": true, \"text\": [\"Hillcrest\", \"Hillcrest\", \"Hillcrest\", \"Hillcrest\", \"Hillcrest\"], \"type\": \"scatter\", \"x\": [\"2015\", \"2016\", \"2017\", \"2018\", \"2019\"], \"y\": [1, 3, 5, 7, 10]}, {\"legendgroup\": \"Ivy City\", \"marker\": {\"color\": \"blue\"}, \"mode\": \"lines+markers\", \"name\": \"listings\", \"showlegend\": true, \"text\": [\"Ivy City\", \"Ivy City\", \"Ivy City\", \"Ivy City\", \"Ivy City\", \"Ivy City\", \"Ivy City\"], \"type\": \"scatter\", \"x\": [\"2010\", \"2014\", \"2015\", \"2016\", \"2017\", \"2018\", \"2019\"], \"y\": [1, 2, 5, 6, 9, 11, 12]}, {\"legendgroup\": \"Judiciary Square\", \"marker\": {\"color\": \"blue\"}, \"mode\": \"lines+markers\", \"name\": \"listings\", \"showlegend\": true, \"text\": [\"Judiciary Square\", \"Judiciary Square\", \"Judiciary Square\", \"Judiciary Square\", \"Judiciary Square\", \"Judiciary Square\", \"Judiciary Square\"], \"type\": \"scatter\", \"x\": [\"2013\", \"2014\", \"2015\", \"2016\", \"2017\", \"2018\", \"2019\"], \"y\": [5, 10, 25, 44, 58, 69, 73]}, {\"legendgroup\": \"Kalorama\", \"marker\": {\"color\": \"blue\"}, \"mode\": \"lines+markers\", \"name\": \"listings\", \"showlegend\": true, \"text\": [\"Kalorama\", \"Kalorama\", \"Kalorama\", \"Kalorama\", \"Kalorama\", \"Kalorama\", \"Kalorama\", \"Kalorama\", \"Kalorama\", \"Kalorama\"], \"type\": \"scatter\", \"x\": [\"2010\", \"2011\", \"2012\", \"2013\", \"2014\", \"2015\", \"2016\", \"2017\", \"2018\", \"2019\"], \"y\": [2, 3, 9, 17, 30, 47, 69, 93, 106, 123]}, {\"legendgroup\": \"Kent\", \"marker\": {\"color\": \"blue\"}, \"mode\": \"lines+markers\", \"name\": \"listings\", \"showlegend\": true, \"text\": [\"Kent\", \"Kent\", \"Kent\", \"Kent\", \"Kent\", \"Kent\"], \"type\": \"scatter\", \"x\": [\"2013\", \"2014\", \"2015\", \"2016\", \"2017\", \"2018\"], \"y\": [2, 3, 5, 7, 9, 12]}, {\"legendgroup\": \"Kingman Park\", \"marker\": {\"color\": \"blue\"}, \"mode\": \"lines+markers\", \"name\": \"listings\", \"showlegend\": true, \"text\": [\"Kingman Park\", \"Kingman Park\", \"Kingman Park\", \"Kingman Park\", \"Kingman Park\", \"Kingman Park\", \"Kingman Park\", \"Kingman Park\", \"Kingman Park\"], \"type\": \"scatter\", \"x\": [\"2011\", \"2012\", \"2013\", \"2014\", \"2015\", \"2016\", \"2017\", \"2018\", \"2019\"], \"y\": [2, 3, 9, 14, 27, 53, 97, 143, 158]}, {\"legendgroup\": \"Knox Hill\", \"marker\": {\"color\": \"blue\"}, \"mode\": \"lines+markers\", \"name\": \"listings\", \"showlegend\": true, \"text\": [\"Knox Hill\"], \"type\": \"scatter\", \"x\": [\"2017\"], \"y\": [1]}, {\"legendgroup\": \"Lamond Riggs\", \"marker\": {\"color\": \"blue\"}, \"mode\": \"lines+markers\", \"name\": \"listings\", \"showlegend\": true, \"text\": [\"Lamond Riggs\", \"Lamond Riggs\", \"Lamond Riggs\", \"Lamond Riggs\", \"Lamond Riggs\", \"Lamond Riggs\", \"Lamond Riggs\", \"Lamond Riggs\"], \"type\": \"scatter\", \"x\": [\"2011\", \"2012\", \"2014\", \"2015\", \"2016\", \"2017\", \"2018\", \"2019\"], \"y\": [3, 4, 5, 12, 21, 36, 53, 62]}, {\"legendgroup\": \"Langdon\", \"marker\": {\"color\": \"blue\"}, \"mode\": \"lines+markers\", \"name\": \"listings\", \"showlegend\": true, \"text\": [\"Langdon\", \"Langdon\", \"Langdon\", \"Langdon\", \"Langdon\", \"Langdon\", \"Langdon\"], \"type\": \"scatter\", \"x\": [\"2013\", \"2014\", \"2015\", \"2016\", \"2017\", \"2018\", \"2019\"], \"y\": [1, 6, 8, 15, 25, 30, 50]}, {\"legendgroup\": \"LeDroit Park\", \"marker\": {\"color\": \"blue\"}, \"mode\": \"lines+markers\", \"name\": \"listings\", \"showlegend\": true, \"text\": [\"LeDroit Park\", \"LeDroit Park\", \"LeDroit Park\", \"LeDroit Park\", \"LeDroit Park\", \"LeDroit Park\", \"LeDroit Park\", \"LeDroit Park\"], \"type\": \"scatter\", \"x\": [\"2012\", \"2013\", \"2014\", \"2015\", \"2016\", \"2017\", \"2018\", \"2019\"], \"y\": [3, 5, 11, 26, 38, 67, 84, 92]}, {\"legendgroup\": \"Lincoln Heights\", \"marker\": {\"color\": \"blue\"}, \"mode\": \"lines+markers\", \"name\": \"listings\", \"showlegend\": true, \"text\": [\"Lincoln Heights\", \"Lincoln Heights\", \"Lincoln Heights\"], \"type\": \"scatter\", \"x\": [\"2016\", \"2017\", \"2019\"], \"y\": [1, 3, 4]}, {\"legendgroup\": \"Logan Circle\", \"marker\": {\"color\": \"blue\"}, \"mode\": \"lines+markers\", \"name\": \"listings\", \"showlegend\": true, \"text\": [\"Logan Circle\", \"Logan Circle\", \"Logan Circle\", \"Logan Circle\", \"Logan Circle\", \"Logan Circle\", \"Logan Circle\", \"Logan Circle\", \"Logan Circle\", \"Logan Circle\", \"Logan Circle\", \"Logan Circle\"], \"type\": \"scatter\", \"x\": [\"2008\", \"2009\", \"2010\", \"2011\", \"2012\", \"2013\", \"2014\", \"2015\", \"2016\", \"2017\", \"2018\", \"2019\"], \"y\": [1, 2, 5, 7, 12, 28, 57, 108, 186, 267, 343, 387]}, {\"legendgroup\": \"Manor Park\", \"marker\": {\"color\": \"blue\"}, \"mode\": \"lines+markers\", \"name\": \"listings\", \"showlegend\": true, \"text\": [\"Manor Park\", \"Manor Park\", \"Manor Park\", \"Manor Park\", \"Manor Park\", \"Manor Park\", \"Manor Park\", \"Manor Park\", \"Manor Park\"], \"type\": \"scatter\", \"x\": [\"2011\", \"2012\", \"2013\", \"2014\", \"2015\", \"2016\", \"2017\", \"2018\", \"2019\"], \"y\": [6, 8, 12, 17, 25, 51, 68, 98, 118]}, {\"legendgroup\": \"Marshall Heights\", \"marker\": {\"color\": \"blue\"}, \"mode\": \"lines+markers\", \"name\": \"listings\", \"showlegend\": true, \"text\": [\"Marshall Heights\", \"Marshall Heights\", \"Marshall Heights\", \"Marshall Heights\", \"Marshall Heights\", \"Marshall Heights\", \"Marshall Heights\", \"Marshall Heights\", \"Marshall Heights\"], \"type\": \"scatter\", \"x\": [\"2011\", \"2012\", \"2013\", \"2014\", \"2015\", \"2016\", \"2017\", \"2018\", \"2019\"], \"y\": [1, 2, 3, 7, 12, 20, 22, 39, 43]}, {\"legendgroup\": \"Massachusetts Heights\", \"marker\": {\"color\": \"blue\"}, \"mode\": \"lines+markers\", \"name\": \"listings\", \"showlegend\": true, \"text\": [\"Massachusetts Heights\", \"Massachusetts Heights\", \"Massachusetts Heights\"], \"type\": \"scatter\", \"x\": [\"2015\", \"2016\", \"2017\"], \"y\": [1, 2, 3]}, {\"legendgroup\": \"Michigan Park\", \"marker\": {\"color\": \"blue\"}, \"mode\": \"lines+markers\", \"name\": \"listings\", \"showlegend\": true, \"text\": [\"Michigan Park\", \"Michigan Park\", \"Michigan Park\", \"Michigan Park\", \"Michigan Park\", \"Michigan Park\", \"Michigan Park\"], \"type\": \"scatter\", \"x\": [\"2013\", \"2014\", \"2015\", \"2016\", \"2017\", \"2018\", \"2019\"], \"y\": [3, 4, 9, 19, 29, 35, 43]}, {\"legendgroup\": \"Mount Pleasant\", \"marker\": {\"color\": \"blue\"}, \"mode\": \"lines+markers\", \"name\": \"listings\", \"showlegend\": true, \"text\": [\"Mount Pleasant\", \"Mount Pleasant\", \"Mount Pleasant\", \"Mount Pleasant\", \"Mount Pleasant\", \"Mount Pleasant\", \"Mount Pleasant\", \"Mount Pleasant\", \"Mount Pleasant\", \"Mount Pleasant\"], \"type\": \"scatter\", \"x\": [\"2009\", \"2011\", \"2012\", \"2013\", \"2014\", \"2015\", \"2016\", \"2017\", \"2018\", \"2019\"], \"y\": [2, 3, 11, 22, 43, 74, 99, 150, 185, 198]}, {\"legendgroup\": \"Mount Vernon Square\", \"marker\": {\"color\": \"blue\"}, \"mode\": \"lines+markers\", \"name\": \"listings\", \"showlegend\": true, \"text\": [\"Mount Vernon Square\", \"Mount Vernon Square\", \"Mount Vernon Square\", \"Mount Vernon Square\", \"Mount Vernon Square\", \"Mount Vernon Square\", \"Mount Vernon Square\", \"Mount Vernon Square\"], \"type\": \"scatter\", \"x\": [\"2011\", \"2013\", \"2014\", \"2015\", \"2016\", \"2017\", \"2018\", \"2019\"], \"y\": [2, 6, 13, 34, 66, 83, 104, 125]}, {\"legendgroup\": \"Navy Yard\", \"marker\": {\"color\": \"blue\"}, \"mode\": \"lines+markers\", \"name\": \"listings\", \"showlegend\": true, \"text\": [\"Navy Yard\", \"Navy Yard\", \"Navy Yard\", \"Navy Yard\", \"Navy Yard\", \"Navy Yard\", \"Navy Yard\", \"Navy Yard\", \"Navy Yard\"], \"type\": \"scatter\", \"x\": [\"2011\", \"2012\", \"2013\", \"2014\", \"2015\", \"2016\", \"2017\", \"2018\", \"2019\"], \"y\": [1, 2, 4, 6, 11, 23, 30, 40, 64]}, {\"legendgroup\": \"Naylor Gardens\", \"marker\": {\"color\": \"blue\"}, \"mode\": \"lines+markers\", \"name\": \"listings\", \"showlegend\": true, \"text\": [\"Naylor Gardens\", \"Naylor Gardens\", \"Naylor Gardens\", \"Naylor Gardens\"], \"type\": \"scatter\", \"x\": [\"2013\", \"2014\", \"2015\", \"2017\"], \"y\": [2, 3, 4, 5]}, {\"legendgroup\": \"Near Northeast/H Street Corridor\", \"marker\": {\"color\": \"blue\"}, \"mode\": \"lines+markers\", \"name\": \"listings\", \"showlegend\": true, \"text\": [\"Near Northeast/H Street Corridor\", \"Near Northeast/H Street Corridor\", \"Near Northeast/H Street Corridor\", \"Near Northeast/H Street Corridor\", \"Near Northeast/H Street Corridor\", \"Near Northeast/H Street Corridor\", \"Near Northeast/H Street Corridor\", \"Near Northeast/H Street Corridor\", \"Near Northeast/H Street Corridor\", \"Near Northeast/H Street Corridor\", \"Near Northeast/H Street Corridor\"], \"type\": \"scatter\", \"x\": [\"2008\", \"2010\", \"2011\", \"2012\", \"2013\", \"2014\", \"2015\", \"2016\", \"2017\", \"2018\", \"2019\"], \"y\": [1, 3, 4, 6, 17, 44, 96, 192, 288, 377, 430]}, {\"legendgroup\": \"North Cleveland Park\", \"marker\": {\"color\": \"blue\"}, \"mode\": \"lines+markers\", \"name\": \"listings\", \"showlegend\": true, \"text\": [\"North Cleveland Park\", \"North Cleveland Park\", \"North Cleveland Park\", \"North Cleveland Park\", \"North Cleveland Park\", \"North Cleveland Park\", \"North Cleveland Park\"], \"type\": \"scatter\", \"x\": [\"2013\", \"2014\", \"2015\", \"2016\", \"2017\", \"2018\", \"2019\"], \"y\": [2, 3, 6, 10, 17, 22, 26]}, {\"legendgroup\": \"North Michigan Park\", \"marker\": {\"color\": \"blue\"}, \"mode\": \"lines+markers\", \"name\": \"listings\", \"showlegend\": true, \"text\": [\"North Michigan Park\", \"North Michigan Park\", \"North Michigan Park\", \"North Michigan Park\", \"North Michigan Park\"], \"type\": \"scatter\", \"x\": [\"2013\", \"2016\", \"2017\", \"2018\", \"2019\"], \"y\": [1, 2, 8, 9, 10]}, {\"legendgroup\": \"Observatory Circle\", \"marker\": {\"color\": \"blue\"}, \"mode\": \"lines+markers\", \"name\": \"listings\", \"showlegend\": true, \"text\": [\"Observatory Circle\"], \"type\": \"scatter\", \"x\": [\"2017\"], \"y\": [1]}, {\"legendgroup\": \"Palisades\", \"marker\": {\"color\": \"blue\"}, \"mode\": \"lines+markers\", \"name\": \"listings\", \"showlegend\": true, \"text\": [\"Palisades\", \"Palisades\", \"Palisades\", \"Palisades\", \"Palisades\", \"Palisades\", \"Palisades\", \"Palisades\", \"Palisades\"], \"type\": \"scatter\", \"x\": [\"2009\", \"2012\", \"2013\", \"2014\", \"2015\", \"2016\", \"2017\", \"2018\", \"2019\"], \"y\": [1, 3, 4, 6, 11, 18, 25, 38, 45]}, {\"legendgroup\": \"Park View\", \"marker\": {\"color\": \"blue\"}, \"mode\": \"lines+markers\", \"name\": \"listings\", \"showlegend\": true, \"text\": [\"Park View\", \"Park View\", \"Park View\", \"Park View\", \"Park View\", \"Park View\", \"Park View\", \"Park View\", \"Park View\"], \"type\": \"scatter\", \"x\": [\"2011\", \"2012\", \"2013\", \"2014\", \"2015\", \"2016\", \"2017\", \"2018\", \"2019\"], \"y\": [2, 5, 10, 17, 39, 71, 105, 148, 176]}, {\"legendgroup\": \"Petworth\", \"marker\": {\"color\": \"blue\"}, \"mode\": \"lines+markers\", \"name\": \"listings\", \"showlegend\": true, \"text\": [\"Petworth\", \"Petworth\", \"Petworth\", \"Petworth\", \"Petworth\", \"Petworth\", \"Petworth\", \"Petworth\", \"Petworth\", \"Petworth\"], \"type\": \"scatter\", \"x\": [\"2010\", \"2011\", \"2012\", \"2013\", \"2014\", \"2015\", \"2016\", \"2017\", \"2018\", \"2019\"], \"y\": [7, 11, 19, 24, 45, 82, 133, 186, 255, 294]}, {\"legendgroup\": \"Pleasant Hill\", \"marker\": {\"color\": \"blue\"}, \"mode\": \"lines+markers\", \"name\": \"listings\", \"showlegend\": true, \"text\": [\"Pleasant Hill\", \"Pleasant Hill\", \"Pleasant Hill\", \"Pleasant Hill\", \"Pleasant Hill\", \"Pleasant Hill\"], \"type\": \"scatter\", \"x\": [\"2012\", \"2014\", \"2016\", \"2017\", \"2018\", \"2019\"], \"y\": [1, 2, 8, 13, 16, 18]}, {\"legendgroup\": \"Pleasant Plains\", \"marker\": {\"color\": \"blue\"}, \"mode\": \"lines+markers\", \"name\": \"listings\", \"showlegend\": true, \"text\": [\"Pleasant Plains\", \"Pleasant Plains\", \"Pleasant Plains\", \"Pleasant Plains\", \"Pleasant Plains\", \"Pleasant Plains\", \"Pleasant Plains\", \"Pleasant Plains\"], \"type\": \"scatter\", \"x\": [\"2009\", \"2013\", \"2014\", \"2015\", \"2016\", \"2017\", \"2018\", \"2019\"], \"y\": [1, 3, 4, 7, 16, 24, 35, 48]}, {\"legendgroup\": \"Randle Highlands\", \"marker\": {\"color\": \"blue\"}, \"mode\": \"lines+markers\", \"name\": \"listings\", \"showlegend\": true, \"text\": [\"Randle Highlands\", \"Randle Highlands\", \"Randle Highlands\", \"Randle Highlands\", \"Randle Highlands\", \"Randle Highlands\"], \"type\": \"scatter\", \"x\": [\"2014\", \"2015\", \"2016\", \"2017\", \"2018\", \"2019\"], \"y\": [2, 3, 4, 7, 11, 14]}, {\"legendgroup\": \"River Terrace\", \"marker\": {\"color\": \"blue\"}, \"mode\": \"lines+markers\", \"name\": \"listings\", \"showlegend\": true, \"text\": [\"River Terrace\", \"River Terrace\", \"River Terrace\", \"River Terrace\", \"River Terrace\", \"River Terrace\"], \"type\": \"scatter\", \"x\": [\"2014\", \"2015\", \"2016\", \"2017\", \"2018\", \"2019\"], \"y\": [1, 4, 6, 12, 19, 22]}, {\"legendgroup\": \"Shaw\", \"marker\": {\"color\": \"blue\"}, \"mode\": \"lines+markers\", \"name\": \"listings\", \"showlegend\": true, \"text\": [\"Shaw\", \"Shaw\", \"Shaw\", \"Shaw\", \"Shaw\", \"Shaw\", \"Shaw\", \"Shaw\", \"Shaw\", \"Shaw\", \"Shaw\"], \"type\": \"scatter\", \"x\": [\"2009\", \"2010\", \"2011\", \"2012\", \"2013\", \"2014\", \"2015\", \"2016\", \"2017\", \"2018\", \"2019\"], \"y\": [4, 8, 12, 19, 32, 50, 97, 170, 281, 354, 403]}, {\"legendgroup\": \"Shepherd Park\", \"marker\": {\"color\": \"blue\"}, \"mode\": \"lines+markers\", \"name\": \"listings\", \"showlegend\": true, \"text\": [\"Shepherd Park\", \"Shepherd Park\", \"Shepherd Park\", \"Shepherd Park\", \"Shepherd Park\"], \"type\": \"scatter\", \"x\": [\"2012\", \"2014\", \"2016\", \"2017\", \"2019\"], \"y\": [2, 3, 7, 12, 13]}, {\"legendgroup\": \"Shipley Terrace\", \"marker\": {\"color\": \"blue\"}, \"mode\": \"lines+markers\", \"name\": \"listings\", \"showlegend\": true, \"text\": [\"Shipley Terrace\", \"Shipley Terrace\", \"Shipley Terrace\", \"Shipley Terrace\", \"Shipley Terrace\", \"Shipley Terrace\"], \"type\": \"scatter\", \"x\": [\"2012\", \"2014\", \"2015\", \"2017\", \"2018\", \"2019\"], \"y\": [1, 4, 5, 7, 21, 24]}, {\"legendgroup\": \"Skyland\", \"marker\": {\"color\": \"blue\"}, \"mode\": \"lines+markers\", \"name\": \"listings\", \"showlegend\": true, \"text\": [\"Skyland\", \"Skyland\"], \"type\": \"scatter\", \"x\": [\"2017\", \"2018\"], \"y\": [1, 2]}, {\"legendgroup\": \"Southwest Waterfront\", \"marker\": {\"color\": \"blue\"}, \"mode\": \"lines+markers\", \"name\": \"listings\", \"showlegend\": true, \"text\": [\"Southwest Waterfront\", \"Southwest Waterfront\", \"Southwest Waterfront\", \"Southwest Waterfront\", \"Southwest Waterfront\", \"Southwest Waterfront\", \"Southwest Waterfront\", \"Southwest Waterfront\", \"Southwest Waterfront\", \"Southwest Waterfront\"], \"type\": \"scatter\", \"x\": [\"2008\", \"2011\", \"2012\", \"2013\", \"2014\", \"2015\", \"2016\", \"2017\", \"2018\", \"2019\"], \"y\": [1, 3, 4, 8, 17, 36, 62, 92, 114, 136]}, {\"legendgroup\": \"Spring Valley\", \"marker\": {\"color\": \"blue\"}, \"mode\": \"lines+markers\", \"name\": \"listings\", \"showlegend\": true, \"text\": [\"Spring Valley\", \"Spring Valley\", \"Spring Valley\"], \"type\": \"scatter\", \"x\": [\"2014\", \"2015\", \"2019\"], \"y\": [1, 3, 4]}, {\"legendgroup\": \"St. Elizabeths\", \"marker\": {\"color\": \"blue\"}, \"mode\": \"lines+markers\", \"name\": \"listings\", \"showlegend\": true, \"text\": [\"St. Elizabeths\", \"St. Elizabeths\", \"St. Elizabeths\", \"St. Elizabeths\", \"St. Elizabeths\"], \"type\": \"scatter\", \"x\": [\"2015\", \"2016\", \"2017\", \"2018\", \"2019\"], \"y\": [2, 5, 9, 10, 11]}, {\"legendgroup\": \"Stronghold\", \"marker\": {\"color\": \"blue\"}, \"mode\": \"lines+markers\", \"name\": \"listings\", \"showlegend\": true, \"text\": [\"Stronghold\", \"Stronghold\", \"Stronghold\", \"Stronghold\", \"Stronghold\", \"Stronghold\", \"Stronghold\"], \"type\": \"scatter\", \"x\": [\"2010\", \"2014\", \"2015\", \"2016\", \"2017\", \"2018\", \"2019\"], \"y\": [1, 3, 5, 10, 18, 31, 35]}, {\"legendgroup\": \"Takoma\", \"marker\": {\"color\": \"blue\"}, \"mode\": \"lines+markers\", \"name\": \"listings\", \"showlegend\": true, \"text\": [\"Takoma\", \"Takoma\", \"Takoma\", \"Takoma\", \"Takoma\", \"Takoma\", \"Takoma\", \"Takoma\"], \"type\": \"scatter\", \"x\": [\"2011\", \"2012\", \"2013\", \"2015\", \"2016\", \"2017\", \"2018\", \"2019\"], \"y\": [3, 4, 8, 14, 19, 33, 45, 51]}, {\"legendgroup\": \"Takoma Park, MD\", \"marker\": {\"color\": \"blue\"}, \"mode\": \"lines+markers\", \"name\": \"listings\", \"showlegend\": true, \"text\": [\"Takoma Park, MD\"], \"type\": \"scatter\", \"x\": [\"2011\"], \"y\": [1]}, {\"legendgroup\": \"Tenleytown\", \"marker\": {\"color\": \"blue\"}, \"mode\": \"lines+markers\", \"name\": \"listings\", \"showlegend\": true, \"text\": [\"Tenleytown\"], \"type\": \"scatter\", \"x\": [\"2015\"], \"y\": [1]}, {\"legendgroup\": \"Trinidad\", \"marker\": {\"color\": \"blue\"}, \"mode\": \"lines+markers\", \"name\": \"listings\", \"showlegend\": true, \"text\": [\"Trinidad\", \"Trinidad\", \"Trinidad\", \"Trinidad\", \"Trinidad\", \"Trinidad\", \"Trinidad\", \"Trinidad\", \"Trinidad\", \"Trinidad\"], \"type\": \"scatter\", \"x\": [\"2009\", \"2011\", \"2012\", \"2013\", \"2014\", \"2015\", \"2016\", \"2017\", \"2018\", \"2019\"], \"y\": [1, 3, 4, 10, 16, 26, 52, 90, 140, 183]}, {\"legendgroup\": \"Truxton Circle\", \"marker\": {\"color\": \"blue\"}, \"mode\": \"lines+markers\", \"name\": \"listings\", \"showlegend\": true, \"text\": [\"Truxton Circle\", \"Truxton Circle\", \"Truxton Circle\", \"Truxton Circle\", \"Truxton Circle\", \"Truxton Circle\", \"Truxton Circle\", \"Truxton Circle\"], \"type\": \"scatter\", \"x\": [\"2009\", \"2012\", \"2014\", \"2015\", \"2016\", \"2017\", \"2018\", \"2019\"], \"y\": [1, 2, 3, 11, 19, 33, 47, 54]}, {\"legendgroup\": \"Twining\", \"marker\": {\"color\": \"blue\"}, \"mode\": \"lines+markers\", \"name\": \"listings\", \"showlegend\": true, \"text\": [\"Twining\", \"Twining\"], \"type\": \"scatter\", \"x\": [\"2016\", \"2018\"], \"y\": [3, 4]}, {\"legendgroup\": \"U Street Corridor\", \"marker\": {\"color\": \"blue\"}, \"mode\": \"lines+markers\", \"name\": \"listings\", \"showlegend\": true, \"text\": [\"U Street Corridor\", \"U Street Corridor\", \"U Street Corridor\", \"U Street Corridor\", \"U Street Corridor\", \"U Street Corridor\", \"U Street Corridor\", \"U Street Corridor\", \"U Street Corridor\", \"U Street Corridor\"], \"type\": \"scatter\", \"x\": [\"2009\", \"2010\", \"2012\", \"2013\", \"2014\", \"2015\", \"2016\", \"2017\", \"2018\", \"2019\"], \"y\": [4, 6, 10, 35, 61, 110, 180, 257, 314, 365]}, {\"legendgroup\": \"Washington Highlands\", \"marker\": {\"color\": \"blue\"}, \"mode\": \"lines+markers\", \"name\": \"listings\", \"showlegend\": true, \"text\": [\"Washington Highlands\", \"Washington Highlands\", \"Washington Highlands\"], \"type\": \"scatter\", \"x\": [\"2017\", \"2018\", \"2019\"], \"y\": [2, 9, 10]}, {\"legendgroup\": \"Wesley Heights\", \"marker\": {\"color\": \"blue\"}, \"mode\": \"lines+markers\", \"name\": \"listings\", \"showlegend\": true, \"text\": [\"Wesley Heights\", \"Wesley Heights\", \"Wesley Heights\", \"Wesley Heights\", \"Wesley Heights\", \"Wesley Heights\"], \"type\": \"scatter\", \"x\": [\"2013\", \"2014\", \"2016\", \"2017\", \"2018\", \"2019\"], \"y\": [1, 2, 5, 8, 10, 11]}, {\"legendgroup\": \"West End\", \"marker\": {\"color\": \"blue\"}, \"mode\": \"lines+markers\", \"name\": \"listings\", \"showlegend\": true, \"text\": [\"West End\", \"West End\", \"West End\", \"West End\", \"West End\", \"West End\"], \"type\": \"scatter\", \"x\": [\"2014\", \"2015\", \"2016\", \"2017\", \"2018\", \"2019\"], \"y\": [1, 4, 13, 21, 26, 37]}, {\"legendgroup\": \"Woodland\", \"marker\": {\"color\": \"blue\"}, \"mode\": \"lines+markers\", \"name\": \"listings\", \"showlegend\": true, \"text\": [\"Woodland\"], \"type\": \"scatter\", \"x\": [\"2017\"], \"y\": [1]}, {\"legendgroup\": \"Woodland-Normanstone Terrace\", \"marker\": {\"color\": \"blue\"}, \"mode\": \"lines+markers\", \"name\": \"listings\", \"showlegend\": true, \"text\": [\"Woodland-Normanstone Terrace\"], \"type\": \"scatter\", \"x\": [\"2018\"], \"y\": [1]}, {\"legendgroup\": \"Woodley Park\", \"marker\": {\"color\": \"blue\"}, \"mode\": \"lines+markers\", \"name\": \"listings\", \"showlegend\": true, \"text\": [\"Woodley Park\", \"Woodley Park\", \"Woodley Park\", \"Woodley Park\", \"Woodley Park\", \"Woodley Park\", \"Woodley Park\", \"Woodley Park\", \"Woodley Park\"], \"type\": \"scatter\", \"x\": [\"2011\", \"2012\", \"2013\", \"2014\", \"2015\", \"2016\", \"2017\", \"2018\", \"2019\"], \"y\": [2, 4, 8, 13, 23, 33, 46, 57, 63]}, {\"legendgroup\": \"Woodridge\", \"marker\": {\"color\": \"blue\"}, \"mode\": \"lines+markers\", \"name\": \"listings\", \"showlegend\": true, \"text\": [\"Woodridge\", \"Woodridge\", \"Woodridge\", \"Woodridge\", \"Woodridge\", \"Woodridge\", \"Woodridge\"], \"type\": \"scatter\", \"x\": [\"2012\", \"2014\", \"2015\", \"2016\", \"2017\", \"2018\", \"2019\"], \"y\": [1, 2, 7, 17, 24, 32, 39]}, {\"legendgroup\": \"16th Street Heights\", \"marker\": {\"color\": \"black\"}, \"mode\": \"lines+markers\", \"name\": \"hosts\", \"text\": [\"16th Street Heights\", \"16th Street Heights\", \"16th Street Heights\", \"16th Street Heights\", \"16th Street Heights\", \"16th Street Heights\", \"16th Street Heights\", \"16th Street Heights\", \"16th Street Heights\", \"16th Street Heights\", \"16th Street Heights\"], \"type\": \"scatter\", \"x\": [\"2008\", \"2009\", \"2011\", \"2012\", \"2013\", \"2014\", \"2015\", \"2016\", \"2017\", \"2018\", \"2019\"], \"y\": [2, 4, 10, 19, 38, 66, 96, 121, 131, 139, 142]}, {\"legendgroup\": \"Adams Morgan\", \"marker\": {\"color\": \"black\"}, \"mode\": \"lines+markers\", \"name\": \"hosts\", \"text\": [\"Adams Morgan\", \"Adams Morgan\", \"Adams Morgan\", \"Adams Morgan\", \"Adams Morgan\", \"Adams Morgan\", \"Adams Morgan\", \"Adams Morgan\", \"Adams Morgan\", \"Adams Morgan\"], \"type\": \"scatter\", \"x\": [\"2009\", \"2011\", \"2012\", \"2013\", \"2014\", \"2015\", \"2016\", \"2017\", \"2018\", \"2019\"], \"y\": [2, 16, 37, 84, 116, 147, 179, 189, 199, 203]}, {\"legendgroup\": \"American University Park\", \"marker\": {\"color\": \"black\"}, \"mode\": \"lines+markers\", \"name\": \"hosts\", \"text\": [\"American University Park\", \"American University Park\", \"American University Park\", \"American University Park\", \"American University Park\", \"American University Park\", \"American University Park\", \"American University Park\", \"American University Park\"], \"type\": \"scatter\", \"x\": [\"2009\", \"2011\", \"2013\", \"2014\", \"2015\", \"2016\", \"2017\", \"2018\", \"2019\"], \"y\": [1, 2, 7, 10, 16, 27, 30, 31, 33]}, {\"legendgroup\": \"Anacostia\", \"marker\": {\"color\": \"black\"}, \"mode\": \"lines+markers\", \"name\": \"hosts\", \"text\": [\"Anacostia\", \"Anacostia\", \"Anacostia\", \"Anacostia\", \"Anacostia\", \"Anacostia\", \"Anacostia\", \"Anacostia\", \"Anacostia\", \"Anacostia\"], \"type\": \"scatter\", \"x\": [\"2010\", \"2011\", \"2012\", \"2013\", \"2014\", \"2015\", \"2016\", \"2017\", \"2018\", \"2019\"], \"y\": [1, 6, 9, 12, 15, 20, 25, 32, 36, 38]}, {\"legendgroup\": \"Arboretum\", \"marker\": {\"color\": \"black\"}, \"mode\": \"lines+markers\", \"name\": \"hosts\", \"text\": [\"Arboretum\", \"Arboretum\"], \"type\": \"scatter\", \"x\": [\"2016\", \"2017\"], \"y\": [2, 3]}, {\"legendgroup\": \"Barney Circle\", \"marker\": {\"color\": \"black\"}, \"mode\": \"lines+markers\", \"name\": \"hosts\", \"text\": [\"Barney Circle\", \"Barney Circle\", \"Barney Circle\", \"Barney Circle\", \"Barney Circle\", \"Barney Circle\", \"Barney Circle\", \"Barney Circle\", \"Barney Circle\", \"Barney Circle\"], \"type\": \"scatter\", \"x\": [\"2009\", \"2011\", \"2012\", \"2013\", \"2014\", \"2015\", \"2016\", \"2017\", \"2018\", \"2019\"], \"y\": [1, 6, 19, 32, 47, 66, 87, 91, 100, 101]}, {\"legendgroup\": \"Barry Farm\", \"marker\": {\"color\": \"black\"}, \"mode\": \"lines+markers\", \"name\": \"hosts\", \"text\": [\"Barry Farm\", \"Barry Farm\", \"Barry Farm\", \"Barry Farm\"], \"type\": \"scatter\", \"x\": [\"2012\", \"2016\", \"2018\", \"2019\"], \"y\": [1, 2, 5, 6]}, {\"legendgroup\": \"Bellevue\", \"marker\": {\"color\": \"black\"}, \"mode\": \"lines+markers\", \"name\": \"hosts\", \"text\": [\"Bellevue\", \"Bellevue\", \"Bellevue\", \"Bellevue\", \"Bellevue\", \"Bellevue\"], \"type\": \"scatter\", \"x\": [\"2014\", \"2015\", \"2016\", \"2017\", \"2018\", \"2019\"], \"y\": [1, 4, 7, 10, 12, 13]}, {\"legendgroup\": \"Benning\", \"marker\": {\"color\": \"black\"}, \"mode\": \"lines+markers\", \"name\": \"hosts\", \"text\": [\"Benning\", \"Benning\", \"Benning\", \"Benning\", \"Benning\", \"Benning\"], \"type\": \"scatter\", \"x\": [\"2012\", \"2013\", \"2014\", \"2015\", \"2016\", \"2017\"], \"y\": [1, 3, 4, 7, 9, 10]}, {\"legendgroup\": \"Benning Heights\", \"marker\": {\"color\": \"black\"}, \"mode\": \"lines+markers\", \"name\": \"hosts\", \"text\": [\"Benning Heights\", \"Benning Heights\", \"Benning Heights\", \"Benning Heights\"], \"type\": \"scatter\", \"x\": [\"2012\", \"2014\", \"2015\", \"2016\"], \"y\": [1, 2, 3, 5]}, {\"legendgroup\": \"Benning Ridge\", \"marker\": {\"color\": \"black\"}, \"mode\": \"lines+markers\", \"name\": \"hosts\", \"text\": [\"Benning Ridge\", \"Benning Ridge\", \"Benning Ridge\", \"Benning Ridge\", \"Benning Ridge\", \"Benning Ridge\", \"Benning Ridge\", \"Benning Ridge\"], \"type\": \"scatter\", \"x\": [\"2012\", \"2013\", \"2014\", \"2015\", \"2016\", \"2017\", \"2018\", \"2019\"], \"y\": [1, 3, 5, 7, 9, 11, 14, 15]}, {\"legendgroup\": \"Berkley\", \"marker\": {\"color\": \"black\"}, \"mode\": \"lines+markers\", \"name\": \"hosts\", \"text\": [\"Berkley\", \"Berkley\", \"Berkley\"], \"type\": \"scatter\", \"x\": [\"2014\", \"2015\", \"2018\"], \"y\": [2, 3, 4]}, {\"legendgroup\": \"Bloomingdale\", \"marker\": {\"color\": \"black\"}, \"mode\": \"lines+markers\", \"name\": \"hosts\", \"text\": [\"Bloomingdale\", \"Bloomingdale\", \"Bloomingdale\", \"Bloomingdale\", \"Bloomingdale\", \"Bloomingdale\", \"Bloomingdale\", \"Bloomingdale\", \"Bloomingdale\", \"Bloomingdale\", \"Bloomingdale\", \"Bloomingdale\"], \"type\": \"scatter\", \"x\": [\"2008\", \"2009\", \"2010\", \"2011\", \"2012\", \"2013\", \"2014\", \"2015\", \"2016\", \"2017\", \"2018\", \"2019\"], \"y\": [2, 4, 9, 17, 37, 56, 90, 125, 153, 164, 171, 173]}, {\"legendgroup\": \"Brentwood\", \"marker\": {\"color\": \"black\"}, \"mode\": \"lines+markers\", \"name\": \"hosts\", \"text\": [\"Brentwood\", \"Brentwood\", \"Brentwood\", \"Brentwood\", \"Brentwood\", \"Brentwood\", \"Brentwood\", \"Brentwood\"], \"type\": \"scatter\", \"x\": [\"2009\", \"2012\", \"2013\", \"2014\", \"2015\", \"2016\", \"2017\", \"2018\"], \"y\": [1, 5, 6, 11, 16, 20, 24, 26]}, {\"legendgroup\": \"Brightwood\", \"marker\": {\"color\": \"black\"}, \"mode\": \"lines+markers\", \"name\": \"hosts\", \"text\": [\"Brightwood\", \"Brightwood\", \"Brightwood\", \"Brightwood\", \"Brightwood\", \"Brightwood\", \"Brightwood\", \"Brightwood\"], \"type\": \"scatter\", \"x\": [\"2011\", \"2012\", \"2013\", \"2014\", \"2015\", \"2016\", \"2017\", \"2018\"], \"y\": [1, 3, 5, 6, 8, 13, 15, 17]}, {\"legendgroup\": \"Brookland\", \"marker\": {\"color\": \"black\"}, \"mode\": \"lines+markers\", \"name\": \"hosts\", \"text\": [\"Brookland\", \"Brookland\", \"Brookland\", \"Brookland\", \"Brookland\", \"Brookland\", \"Brookland\", \"Brookland\"], \"type\": \"scatter\", \"x\": [\"2012\", \"2013\", \"2014\", \"2015\", \"2016\", \"2017\", \"2018\", \"2019\"], \"y\": [4, 13, 26, 42, 51, 60, 65, 66]}, {\"legendgroup\": \"Buena Vista\", \"marker\": {\"color\": \"black\"}, \"mode\": \"lines+markers\", \"name\": \"hosts\", \"text\": [\"Buena Vista\", \"Buena Vista\", \"Buena Vista\", \"Buena Vista\", \"Buena Vista\", \"Buena Vista\", \"Buena Vista\", \"Buena Vista\"], \"type\": \"scatter\", \"x\": [\"2008\", \"2011\", \"2012\", \"2014\", \"2015\", \"2016\", \"2017\", \"2018\"], \"y\": [1, 3, 6, 10, 14, 21, 27, 32]}, {\"legendgroup\": \"Burleith\", \"marker\": {\"color\": \"black\"}, \"mode\": \"lines+markers\", \"name\": \"hosts\", \"text\": [\"Burleith\", \"Burleith\", \"Burleith\", \"Burleith\", \"Burleith\", \"Burleith\", \"Burleith\", \"Burleith\", \"Burleith\"], \"type\": \"scatter\", \"x\": [\"2008\", \"2010\", \"2011\", \"2012\", \"2013\", \"2014\", \"2015\", \"2016\", \"2017\"], \"y\": [1, 2, 3, 7, 11, 12, 16, 27, 29]}, {\"legendgroup\": \"Capitol Hill\", \"marker\": {\"color\": \"black\"}, \"mode\": \"lines+markers\", \"name\": \"hosts\", \"text\": [\"Capitol Hill\", \"Capitol Hill\", \"Capitol Hill\", \"Capitol Hill\", \"Capitol Hill\", \"Capitol Hill\", \"Capitol Hill\", \"Capitol Hill\", \"Capitol Hill\", \"Capitol Hill\", \"Capitol Hill\", \"Capitol Hill\", \"Capitol Hill\"], \"type\": \"scatter\", \"x\": [\"2008\", \"2009\", \"2010\", \"2011\", \"2012\", \"2013\", \"2014\", \"2015\", \"2016\", \"2017\", \"2018\", \"2019\", \"NaT\"], \"y\": [1, 8, 12, 31, 81, 168, 294, 429, 571, 630, 654, 670, 671]}, {\"legendgroup\": \"Carver Langston\", \"marker\": {\"color\": \"black\"}, \"mode\": \"lines+markers\", \"name\": \"hosts\", \"text\": [\"Carver Langston\", \"Carver Langston\", \"Carver Langston\", \"Carver Langston\", \"Carver Langston\", \"Carver Langston\", \"Carver Langston\", \"Carver Langston\", \"Carver Langston\"], \"type\": \"scatter\", \"x\": [\"2011\", \"2012\", \"2013\", \"2014\", \"2015\", \"2016\", \"2017\", \"2018\", \"2019\"], \"y\": [2, 4, 5, 12, 17, 23, 29, 33, 34]}, {\"legendgroup\": \"Cathedral Heights\", \"marker\": {\"color\": \"black\"}, \"mode\": \"lines+markers\", \"name\": \"hosts\", \"text\": [\"Cathedral Heights\", \"Cathedral Heights\", \"Cathedral Heights\", \"Cathedral Heights\", \"Cathedral Heights\", \"Cathedral Heights\", \"Cathedral Heights\", \"Cathedral Heights\"], \"type\": \"scatter\", \"x\": [\"2009\", \"2012\", \"2013\", \"2014\", \"2015\", \"2016\", \"2017\", \"2018\"], \"y\": [1, 2, 3, 8, 10, 12, 14, 15]}, {\"legendgroup\": \"Catholic University\", \"marker\": {\"color\": \"black\"}, \"mode\": \"lines+markers\", \"name\": \"hosts\", \"text\": [], \"type\": \"scatter\", \"x\": [], \"y\": []}, {\"legendgroup\": \"Central Northeast/Mahaning Heights\", \"marker\": {\"color\": \"black\"}, \"mode\": \"lines+markers\", \"name\": \"hosts\", \"text\": [\"Central Northeast/Mahaning Heights\", \"Central Northeast/Mahaning Heights\", \"Central Northeast/Mahaning Heights\", \"Central Northeast/Mahaning Heights\", \"Central Northeast/Mahaning Heights\", \"Central Northeast/Mahaning Heights\", \"Central Northeast/Mahaning Heights\", \"Central Northeast/Mahaning Heights\"], \"type\": \"scatter\", \"x\": [\"2012\", \"2013\", \"2014\", \"2015\", \"2016\", \"2017\", \"2018\", \"2019\"], \"y\": [2, 3, 7, 10, 18, 24, 27, 28]}, {\"legendgroup\": \"Chevy Chase\", \"marker\": {\"color\": \"black\"}, \"mode\": \"lines+markers\", \"name\": \"hosts\", \"text\": [\"Chevy Chase\", \"Chevy Chase\", \"Chevy Chase\", \"Chevy Chase\", \"Chevy Chase\", \"Chevy Chase\", \"Chevy Chase\", \"Chevy Chase\", \"Chevy Chase\"], \"type\": \"scatter\", \"x\": [\"2010\", \"2011\", \"2012\", \"2013\", \"2014\", \"2015\", \"2016\", \"2017\", \"2018\"], \"y\": [1, 3, 6, 11, 19, 24, 32, 39, 41]}, {\"legendgroup\": \"Civic Betterment\", \"marker\": {\"color\": \"black\"}, \"mode\": \"lines+markers\", \"name\": \"hosts\", \"text\": [\"Civic Betterment\"], \"type\": \"scatter\", \"x\": [\"2016\"], \"y\": [2]}, {\"legendgroup\": \"Cleveland Park\", \"marker\": {\"color\": \"black\"}, \"mode\": \"lines+markers\", \"name\": \"hosts\", \"text\": [\"Cleveland Park\", \"Cleveland Park\", \"Cleveland Park\", \"Cleveland Park\", \"Cleveland Park\", \"Cleveland Park\", \"Cleveland Park\", \"Cleveland Park\", \"Cleveland Park\", \"Cleveland Park\"], \"type\": \"scatter\", \"x\": [\"2010\", \"2011\", \"2012\", \"2013\", \"2014\", \"2015\", \"2016\", \"2017\", \"2018\", \"2019\"], \"y\": [1, 3, 8, 15, 38, 54, 65, 71, 73, 75]}, {\"legendgroup\": \"Colonial Village\", \"marker\": {\"color\": \"black\"}, \"mode\": \"lines+markers\", \"name\": \"hosts\", \"text\": [\"Colonial Village\", \"Colonial Village\", \"Colonial Village\", \"Colonial Village\", \"Colonial Village\"], \"type\": \"scatter\", \"x\": [\"2011\", \"2013\", \"2014\", \"2015\", \"2017\"], \"y\": [1, 4, 6, 10, 11]}, {\"legendgroup\": \"Columbia Heights\", \"marker\": {\"color\": \"black\"}, \"mode\": \"lines+markers\", \"name\": \"hosts\", \"text\": [\"Columbia Heights\", \"Columbia Heights\", \"Columbia Heights\", \"Columbia Heights\", \"Columbia Heights\", \"Columbia Heights\", \"Columbia Heights\", \"Columbia Heights\", \"Columbia Heights\", \"Columbia Heights\", \"Columbia Heights\"], \"type\": \"scatter\", \"x\": [\"2009\", \"2010\", \"2011\", \"2012\", \"2013\", \"2014\", \"2015\", \"2016\", \"2017\", \"2018\", \"2019\"], \"y\": [2, 8, 22, 54, 113, 177, 248, 291, 323, 334, 344]}, {\"legendgroup\": \"Congress Heights\", \"marker\": {\"color\": \"black\"}, \"mode\": \"lines+markers\", \"name\": \"hosts\", \"text\": [\"Congress Heights\", \"Congress Heights\", \"Congress Heights\", \"Congress Heights\", \"Congress Heights\", \"Congress Heights\"], \"type\": \"scatter\", \"x\": [\"2013\", \"2014\", \"2015\", \"2016\", \"2017\", \"2018\"], \"y\": [2, 4, 7, 9, 11, 13]}, {\"legendgroup\": \"Crestwood\", \"marker\": {\"color\": \"black\"}, \"mode\": \"lines+markers\", \"name\": \"hosts\", \"text\": [\"Crestwood\", \"Crestwood\", \"Crestwood\", \"Crestwood\", \"Crestwood\", \"Crestwood\", \"Crestwood\", \"Crestwood\", \"Crestwood\"], \"type\": \"scatter\", \"x\": [\"2011\", \"2012\", \"2013\", \"2014\", \"2015\", \"2016\", \"2017\", \"2018\", \"2019\"], \"y\": [4, 5, 8, 9, 11, 14, 17, 18, 19]}, {\"legendgroup\": \"Deanwood\", \"marker\": {\"color\": \"black\"}, \"mode\": \"lines+markers\", \"name\": \"hosts\", \"text\": [\"Deanwood\", \"Deanwood\", \"Deanwood\", \"Deanwood\", \"Deanwood\", \"Deanwood\", \"Deanwood\", \"Deanwood\"], \"type\": \"scatter\", \"x\": [\"2011\", \"2013\", \"2014\", \"2015\", \"2016\", \"2017\", \"2018\", \"2019\"], \"y\": [1, 5, 7, 9, 11, 16, 18, 19]}, {\"legendgroup\": \"Douglass\", \"marker\": {\"color\": \"black\"}, \"mode\": \"lines+markers\", \"name\": \"hosts\", \"text\": [\"Douglass\", \"Douglass\", \"Douglass\", \"Douglass\", \"Douglass\"], \"type\": \"scatter\", \"x\": [\"2012\", \"2015\", \"2016\", \"2017\", \"2018\"], \"y\": [1, 3, 5, 8, 10]}, {\"legendgroup\": \"Downtown/Penn Quarter\", \"marker\": {\"color\": \"black\"}, \"mode\": \"lines+markers\", \"name\": \"hosts\", \"text\": [\"Downtown/Penn Quarter\", \"Downtown/Penn Quarter\", \"Downtown/Penn Quarter\", \"Downtown/Penn Quarter\", \"Downtown/Penn Quarter\", \"Downtown/Penn Quarter\", \"Downtown/Penn Quarter\", \"Downtown/Penn Quarter\", \"Downtown/Penn Quarter\", \"Downtown/Penn Quarter\", \"Downtown/Penn Quarter\"], \"type\": \"scatter\", \"x\": [\"2008\", \"2010\", \"2011\", \"2012\", \"2013\", \"2014\", \"2015\", \"2016\", \"2017\", \"2019\", \"NaT\"], \"y\": [1, 2, 3, 10, 15, 40, 65, 79, 86, 90, 91]}, {\"legendgroup\": \"Dupont Circle\", \"marker\": {\"color\": \"black\"}, \"mode\": \"lines+markers\", \"name\": \"hosts\", \"text\": [\"Dupont Circle\", \"Dupont Circle\", \"Dupont Circle\", \"Dupont Circle\", \"Dupont Circle\", \"Dupont Circle\", \"Dupont Circle\", \"Dupont Circle\", \"Dupont Circle\", \"Dupont Circle\"], \"type\": \"scatter\", \"x\": [\"2010\", \"2011\", \"2012\", \"2013\", \"2014\", \"2015\", \"2016\", \"2017\", \"2018\", \"2019\"], \"y\": [2, 12, 31, 73, 129, 191, 240, 256, 266, 273]}, {\"legendgroup\": \"Dupont Park\", \"marker\": {\"color\": \"black\"}, \"mode\": \"lines+markers\", \"name\": \"hosts\", \"text\": [\"Dupont Park\", \"Dupont Park\", \"Dupont Park\"], \"type\": \"scatter\", \"x\": [\"2013\", \"2016\", \"2018\"], \"y\": [2, 5, 7]}, {\"legendgroup\": \"East Corner\", \"marker\": {\"color\": \"black\"}, \"mode\": \"lines+markers\", \"name\": \"hosts\", \"text\": [\"East Corner\"], \"type\": \"scatter\", \"x\": [\"2014\"], \"y\": [2]}, {\"legendgroup\": \"Eastland Gardens\", \"marker\": {\"color\": \"black\"}, \"mode\": \"lines+markers\", \"name\": \"hosts\", \"text\": [\"Eastland Gardens\", \"Eastland Gardens\", \"Eastland Gardens\", \"Eastland Gardens\", \"Eastland Gardens\"], \"type\": \"scatter\", \"x\": [\"2008\", \"2012\", \"2013\", \"2015\", \"2016\"], \"y\": [1, 2, 3, 5, 6]}, {\"legendgroup\": \"Eckington\", \"marker\": {\"color\": \"black\"}, \"mode\": \"lines+markers\", \"name\": \"hosts\", \"text\": [\"Eckington\", \"Eckington\", \"Eckington\", \"Eckington\", \"Eckington\", \"Eckington\", \"Eckington\", \"Eckington\", \"Eckington\", \"Eckington\", \"Eckington\", \"Eckington\"], \"type\": \"scatter\", \"x\": [\"2008\", \"2009\", \"2010\", \"2011\", \"2012\", \"2013\", \"2014\", \"2015\", \"2016\", \"2017\", \"2018\", \"2019\"], \"y\": [2, 4, 5, 10, 23, 41, 64, 84, 112, 126, 132, 136]}, {\"legendgroup\": \"Edgewood\", \"marker\": {\"color\": \"black\"}, \"mode\": \"lines+markers\", \"name\": \"hosts\", \"text\": [\"Edgewood\", \"Edgewood\", \"Edgewood\", \"Edgewood\", \"Edgewood\", \"Edgewood\", \"Edgewood\", \"Edgewood\", \"Edgewood\", \"Edgewood\", \"Edgewood\"], \"type\": \"scatter\", \"x\": [\"2008\", \"2010\", \"2011\", \"2012\", \"2013\", \"2014\", \"2015\", \"2016\", \"2017\", \"2018\", \"2019\"], \"y\": [1, 2, 3, 10, 21, 30, 55, 59, 64, 66, 67]}, {\"legendgroup\": \"Fairlawn\", \"marker\": {\"color\": \"black\"}, \"mode\": \"lines+markers\", \"name\": \"hosts\", \"text\": [\"Fairlawn\", \"Fairlawn\", \"Fairlawn\", \"Fairlawn\", \"Fairlawn\", \"Fairlawn\", \"Fairlawn\", \"Fairlawn\"], \"type\": \"scatter\", \"x\": [\"2011\", \"2012\", \"2013\", \"2014\", \"2015\", \"2016\", \"2018\", \"2019\"], \"y\": [2, 4, 5, 10, 18, 23, 26, 29]}, {\"legendgroup\": \"Foggy Bottom\", \"marker\": {\"color\": \"black\"}, \"mode\": \"lines+markers\", \"name\": \"hosts\", \"text\": [\"Foggy Bottom\", \"Foggy Bottom\", \"Foggy Bottom\", \"Foggy Bottom\", \"Foggy Bottom\", \"Foggy Bottom\", \"Foggy Bottom\", \"Foggy Bottom\", \"Foggy Bottom\", \"Foggy Bottom\"], \"type\": \"scatter\", \"x\": [\"2010\", \"2011\", \"2012\", \"2013\", \"2014\", \"2015\", \"2016\", \"2017\", \"2018\", \"2019\"], \"y\": [1, 2, 9, 17, 36, 60, 77, 86, 93, 95]}, {\"legendgroup\": \"Forest Hills\", \"marker\": {\"color\": \"black\"}, \"mode\": \"lines+markers\", \"name\": \"hosts\", \"text\": [\"Forest Hills\", \"Forest Hills\", \"Forest Hills\", \"Forest Hills\", \"Forest Hills\", \"Forest Hills\", \"Forest Hills\", \"Forest Hills\", \"Forest Hills\", \"Forest Hills\"], \"type\": \"scatter\", \"x\": [\"2010\", \"2011\", \"2012\", \"2013\", \"2014\", \"2015\", \"2016\", \"2017\", \"2018\", \"2019\"], \"y\": [1, 2, 4, 5, 14, 23, 31, 39, 40, 42]}, {\"legendgroup\": \"Fort Davis\", \"marker\": {\"color\": \"black\"}, \"mode\": \"lines+markers\", \"name\": \"hosts\", \"text\": [\"Fort Davis\", \"Fort Davis\", \"Fort Davis\", \"Fort Davis\", \"Fort Davis\", \"Fort Davis\"], \"type\": \"scatter\", \"x\": [\"2014\", \"2015\", \"2016\", \"2017\", \"2018\", \"2019\"], \"y\": [1, 2, 4, 5, 6, 9]}, {\"legendgroup\": \"Fort Dupont\", \"marker\": {\"color\": \"black\"}, \"mode\": \"lines+markers\", \"name\": \"hosts\", \"text\": [\"Fort Dupont\", \"Fort Dupont\", \"Fort Dupont\"], \"type\": \"scatter\", \"x\": [\"2012\", \"2015\", \"2016\"], \"y\": [1, 2, 4]}, {\"legendgroup\": \"Fort Lincoln\", \"marker\": {\"color\": \"black\"}, \"mode\": \"lines+markers\", \"name\": \"hosts\", \"text\": [\"Fort Lincoln\", \"Fort Lincoln\", \"Fort Lincoln\", \"Fort Lincoln\", \"Fort Lincoln\", \"Fort Lincoln\", \"Fort Lincoln\"], \"type\": \"scatter\", \"x\": [\"2012\", \"2013\", \"2014\", \"2015\", \"2016\", \"2017\", \"2018\"], \"y\": [2, 6, 7, 8, 12, 16, 18]}, {\"legendgroup\": \"Fort Totten\", \"marker\": {\"color\": \"black\"}, \"mode\": \"lines+markers\", \"name\": \"hosts\", \"text\": [\"Fort Totten\", \"Fort Totten\", \"Fort Totten\"], \"type\": \"scatter\", \"x\": [\"2012\", \"2014\", \"2018\"], \"y\": [1, 3, 4]}, {\"legendgroup\": \"Foxhall\", \"marker\": {\"color\": \"black\"}, \"mode\": \"lines+markers\", \"name\": \"hosts\", \"text\": [\"Foxhall\", \"Foxhall\", \"Foxhall\", \"Foxhall\", \"Foxhall\", \"Foxhall\", \"Foxhall\"], \"type\": \"scatter\", \"x\": [\"2012\", \"2013\", \"2014\", \"2015\", \"2016\", \"2017\", \"2018\"], \"y\": [1, 3, 5, 7, 8, 9, 10]}, {\"legendgroup\": \"Friendship Heights\", \"marker\": {\"color\": \"black\"}, \"mode\": \"lines+markers\", \"name\": \"hosts\", \"text\": [\"Friendship Heights\", \"Friendship Heights\", \"Friendship Heights\", \"Friendship Heights\", \"Friendship Heights\", \"Friendship Heights\"], \"type\": \"scatter\", \"x\": [\"2009\", \"2013\", \"2014\", \"2015\", \"2017\", \"2018\"], \"y\": [1, 4, 9, 10, 11, 12]}, {\"legendgroup\": \"Gallaudet\", \"marker\": {\"color\": \"black\"}, \"mode\": \"lines+markers\", \"name\": \"hosts\", \"text\": [\"Gallaudet\", \"Gallaudet\", \"Gallaudet\", \"Gallaudet\", \"Gallaudet\"], \"type\": \"scatter\", \"x\": [\"2013\", \"2015\", \"2016\", \"2017\", \"2018\"], \"y\": [3, 5, 6, 9, 10]}, {\"legendgroup\": \"Garfield Heights\", \"marker\": {\"color\": \"black\"}, \"mode\": \"lines+markers\", \"name\": \"hosts\", \"text\": [\"Garfield Heights\"], \"type\": \"scatter\", \"x\": [\"2015\"], \"y\": [1]}, {\"legendgroup\": \"Gateway\", \"marker\": {\"color\": \"black\"}, \"mode\": \"lines+markers\", \"name\": \"hosts\", \"text\": [\"Gateway\", \"Gateway\"], \"type\": \"scatter\", \"x\": [\"2014\", \"2017\"], \"y\": [1, 3]}, {\"legendgroup\": \"Georgetown\", \"marker\": {\"color\": \"black\"}, \"mode\": \"lines+markers\", \"name\": \"hosts\", \"text\": [\"Georgetown\", \"Georgetown\", \"Georgetown\", \"Georgetown\", \"Georgetown\", \"Georgetown\", \"Georgetown\", \"Georgetown\", \"Georgetown\", \"Georgetown\"], \"type\": \"scatter\", \"x\": [\"2010\", \"2011\", \"2012\", \"2013\", \"2014\", \"2015\", \"2016\", \"2017\", \"2018\", \"2019\"], \"y\": [1, 5, 13, 25, 63, 87, 106, 117, 123, 125]}, {\"legendgroup\": \"Glover Park\", \"marker\": {\"color\": \"black\"}, \"mode\": \"lines+markers\", \"name\": \"hosts\", \"text\": [\"Glover Park\", \"Glover Park\", \"Glover Park\", \"Glover Park\", \"Glover Park\", \"Glover Park\", \"Glover Park\", \"Glover Park\", \"Glover Park\", \"Glover Park\"], \"type\": \"scatter\", \"x\": [\"2010\", \"2011\", \"2012\", \"2013\", \"2014\", \"2015\", \"2016\", \"2017\", \"2018\", \"2019\"], \"y\": [2, 3, 6, 15, 30, 45, 58, 63, 66, 71]}, {\"legendgroup\": \"Good Hope\", \"marker\": {\"color\": \"black\"}, \"mode\": \"lines+markers\", \"name\": \"hosts\", \"text\": [\"Good Hope\", \"Good Hope\", \"Good Hope\", \"Good Hope\", \"Good Hope\", \"Good Hope\"], \"type\": \"scatter\", \"x\": [\"2013\", \"2014\", \"2015\", \"2016\", \"2017\", \"2019\"], \"y\": [1, 3, 5, 8, 9, 10]}, {\"legendgroup\": \"Greenway\", \"marker\": {\"color\": \"black\"}, \"mode\": \"lines+markers\", \"name\": \"hosts\", \"text\": [\"Greenway\", \"Greenway\", \"Greenway\"], \"type\": \"scatter\", \"x\": [\"2013\", \"2014\", \"2016\"], \"y\": [1, 3, 5]}, {\"legendgroup\": \"Hilcrest Heights/Marlow Heights, MD\", \"marker\": {\"color\": \"black\"}, \"mode\": \"lines+markers\", \"name\": \"hosts\", \"text\": [\"Hilcrest Heights/Marlow Heights, MD\"], \"type\": \"scatter\", \"x\": [\"2013\"], \"y\": [1]}, {\"legendgroup\": \"Hillbrook\", \"marker\": {\"color\": \"black\"}, \"mode\": \"lines+markers\", \"name\": \"hosts\", \"text\": [\"Hillbrook\", \"Hillbrook\", \"Hillbrook\", \"Hillbrook\", \"Hillbrook\"], \"type\": \"scatter\", \"x\": [\"2015\", \"2016\", \"2017\", \"2018\", \"2019\"], \"y\": [1, 2, 3, 7, 10]}, {\"legendgroup\": \"Hillcrest\", \"marker\": {\"color\": \"black\"}, \"mode\": \"lines+markers\", \"name\": \"hosts\", \"text\": [\"Hillcrest\", \"Hillcrest\", \"Hillcrest\", \"Hillcrest\"], \"type\": \"scatter\", \"x\": [\"2015\", \"2016\", \"2017\", \"2019\"], \"y\": [2, 3, 6, 7]}, {\"legendgroup\": \"Ivy City\", \"marker\": {\"color\": \"black\"}, \"mode\": \"lines+markers\", \"name\": \"hosts\", \"text\": [\"Ivy City\", \"Ivy City\", \"Ivy City\", \"Ivy City\", \"Ivy City\", \"Ivy City\", \"Ivy City\"], \"type\": \"scatter\", \"x\": [\"2009\", \"2011\", \"2012\", \"2014\", \"2015\", \"2016\", \"2018\"], \"y\": [1, 2, 3, 5, 8, 10, 12]}, {\"legendgroup\": \"Judiciary Square\", \"marker\": {\"color\": \"black\"}, \"mode\": \"lines+markers\", \"name\": \"hosts\", \"text\": [\"Judiciary Square\", \"Judiciary Square\", \"Judiciary Square\", \"Judiciary Square\", \"Judiciary Square\", \"Judiciary Square\"], \"type\": \"scatter\", \"x\": [\"2012\", \"2013\", \"2014\", \"2015\", \"2016\", \"2017\"], \"y\": [1, 6, 7, 15, 25, 28]}, {\"legendgroup\": \"Kalorama\", \"marker\": {\"color\": \"black\"}, \"mode\": \"lines+markers\", \"name\": \"hosts\", \"text\": [\"Kalorama\", \"Kalorama\", \"Kalorama\", \"Kalorama\", \"Kalorama\", \"Kalorama\", \"Kalorama\", \"Kalorama\", \"Kalorama\", \"Kalorama\"], \"type\": \"scatter\", \"x\": [\"2010\", \"2011\", \"2012\", \"2013\", \"2014\", \"2015\", \"2016\", \"2017\", \"2018\", \"2019\"], \"y\": [7, 13, 24, 39, 50, 65, 80, 84, 87, 89]}, {\"legendgroup\": \"Kent\", \"marker\": {\"color\": \"black\"}, \"mode\": \"lines+markers\", \"name\": \"hosts\", \"text\": [\"Kent\", \"Kent\", \"Kent\", \"Kent\", \"Kent\", \"Kent\"], \"type\": \"scatter\", \"x\": [\"2012\", \"2013\", \"2014\", \"2015\", \"2016\", \"2017\"], \"y\": [2, 3, 5, 7, 8, 9]}, {\"legendgroup\": \"Kingman Park\", \"marker\": {\"color\": \"black\"}, \"mode\": \"lines+markers\", \"name\": \"hosts\", \"text\": [\"Kingman Park\", \"Kingman Park\", \"Kingman Park\", \"Kingman Park\", \"Kingman Park\", \"Kingman Park\", \"Kingman Park\", \"Kingman Park\", \"Kingman Park\"], \"type\": \"scatter\", \"x\": [\"2011\", \"2012\", \"2013\", \"2014\", \"2015\", \"2016\", \"2017\", \"2018\", \"2019\"], \"y\": [4, 11, 30, 49, 71, 97, 103, 112, 113]}, {\"legendgroup\": \"Knox Hill\", \"marker\": {\"color\": \"black\"}, \"mode\": \"lines+markers\", \"name\": \"hosts\", \"text\": [\"Knox Hill\"], \"type\": \"scatter\", \"x\": [\"2017\"], \"y\": [1]}, {\"legendgroup\": \"Lamond Riggs\", \"marker\": {\"color\": \"black\"}, \"mode\": \"lines+markers\", \"name\": \"hosts\", \"text\": [\"Lamond Riggs\", \"Lamond Riggs\", \"Lamond Riggs\", \"Lamond Riggs\", \"Lamond Riggs\", \"Lamond Riggs\", \"Lamond Riggs\", \"Lamond Riggs\", \"Lamond Riggs\", \"Lamond Riggs\", \"Lamond Riggs\"], \"type\": \"scatter\", \"x\": [\"2009\", \"2010\", \"2011\", \"2012\", \"2013\", \"2014\", \"2015\", \"2016\", \"2017\", \"2018\", \"2019\"], \"y\": [1, 2, 5, 8, 12, 18, 31, 41, 45, 47, 49]}, {\"legendgroup\": \"Langdon\", \"marker\": {\"color\": \"black\"}, \"mode\": \"lines+markers\", \"name\": \"hosts\", \"text\": [\"Langdon\", \"Langdon\", \"Langdon\", \"Langdon\", \"Langdon\", \"Langdon\", \"Langdon\", \"Langdon\", \"Langdon\"], \"type\": \"scatter\", \"x\": [\"2011\", \"2012\", \"2013\", \"2014\", \"2015\", \"2016\", \"2017\", \"2018\", \"2019\"], \"y\": [1, 3, 4, 11, 12, 17, 18, 22, 26]}, {\"legendgroup\": \"LeDroit Park\", \"marker\": {\"color\": \"black\"}, \"mode\": \"lines+markers\", \"name\": \"hosts\", \"text\": [\"LeDroit Park\", \"LeDroit Park\", \"LeDroit Park\", \"LeDroit Park\", \"LeDroit Park\", \"LeDroit Park\", \"LeDroit Park\", \"LeDroit Park\", \"LeDroit Park\", \"LeDroit Park\", \"LeDroit Park\"], \"type\": \"scatter\", \"x\": [\"2009\", \"2010\", \"2011\", \"2012\", \"2013\", \"2014\", \"2015\", \"2016\", \"2017\", \"2018\", \"2019\"], \"y\": [1, 2, 3, 8, 12, 24, 32, 41, 48, 50, 51]}, {\"legendgroup\": \"Lincoln Heights\", \"marker\": {\"color\": \"black\"}, \"mode\": \"lines+markers\", \"name\": \"hosts\", \"text\": [\"Lincoln Heights\", \"Lincoln Heights\", \"Lincoln Heights\"], \"type\": \"scatter\", \"x\": [\"2014\", \"2016\", \"2017\"], \"y\": [1, 3, 4]}, {\"legendgroup\": \"Logan Circle\", \"marker\": {\"color\": \"black\"}, \"mode\": \"lines+markers\", \"name\": \"hosts\", \"text\": [\"Logan Circle\", \"Logan Circle\", \"Logan Circle\", \"Logan Circle\", \"Logan Circle\", \"Logan Circle\", \"Logan Circle\", \"Logan Circle\", \"Logan Circle\", \"Logan Circle\", \"Logan Circle\", \"Logan Circle\"], \"type\": \"scatter\", \"x\": [\"2008\", \"2009\", \"2010\", \"2011\", \"2012\", \"2013\", \"2014\", \"2015\", \"2016\", \"2017\", \"2018\", \"2019\"], \"y\": [1, 4, 7, 19, 41, 84, 133, 170, 218, 238, 254, 259]}, {\"legendgroup\": \"Manor Park\", \"marker\": {\"color\": \"black\"}, \"mode\": \"lines+markers\", \"name\": \"hosts\", \"text\": [\"Manor Park\", \"Manor Park\", \"Manor Park\", \"Manor Park\", \"Manor Park\", \"Manor Park\", \"Manor Park\", \"Manor Park\", \"Manor Park\", \"Manor Park\"], \"type\": \"scatter\", \"x\": [\"2010\", \"2011\", \"2012\", \"2013\", \"2014\", \"2015\", \"2016\", \"2017\", \"2018\", \"2019\"], \"y\": [2, 9, 16, 29, 36, 48, 67, 76, 83, 86]}, {\"legendgroup\": \"Marshall Heights\", \"marker\": {\"color\": \"black\"}, \"mode\": \"lines+markers\", \"name\": \"hosts\", \"text\": [\"Marshall Heights\", \"Marshall Heights\", \"Marshall Heights\", \"Marshall Heights\", \"Marshall Heights\", \"Marshall Heights\", \"Marshall Heights\", \"Marshall Heights\", \"Marshall Heights\"], \"type\": \"scatter\", \"x\": [\"2011\", \"2012\", \"2013\", \"2014\", \"2015\", \"2016\", \"2017\", \"2018\", \"2019\"], \"y\": [1, 3, 8, 12, 17, 23, 25, 29, 30]}, {\"legendgroup\": \"Massachusetts Heights\", \"marker\": {\"color\": \"black\"}, \"mode\": \"lines+markers\", \"name\": \"hosts\", \"text\": [\"Massachusetts Heights\", \"Massachusetts Heights\"], \"type\": \"scatter\", \"x\": [\"2014\", \"2015\"], \"y\": [1, 2]}, {\"legendgroup\": \"Michigan Park\", \"marker\": {\"color\": \"black\"}, \"mode\": \"lines+markers\", \"name\": \"hosts\", \"text\": [\"Michigan Park\", \"Michigan Park\", \"Michigan Park\", \"Michigan Park\", \"Michigan Park\", \"Michigan Park\", \"Michigan Park\", \"Michigan Park\", \"Michigan Park\"], \"type\": \"scatter\", \"x\": [\"2010\", \"2011\", \"2013\", \"2014\", \"2015\", \"2016\", \"2017\", \"2018\", \"2019\"], \"y\": [1, 3, 9, 13, 21, 27, 32, 33, 34]}, {\"legendgroup\": \"Mount Pleasant\", \"marker\": {\"color\": \"black\"}, \"mode\": \"lines+markers\", \"name\": \"hosts\", \"text\": [\"Mount Pleasant\", \"Mount Pleasant\", \"Mount Pleasant\", \"Mount Pleasant\", \"Mount Pleasant\", \"Mount Pleasant\", \"Mount Pleasant\", \"Mount Pleasant\", \"Mount Pleasant\", \"Mount Pleasant\", \"Mount Pleasant\", \"Mount Pleasant\", \"Mount Pleasant\"], \"type\": \"scatter\", \"x\": [\"2008\", \"2009\", \"2010\", \"2011\", \"2012\", \"2013\", \"2014\", \"2015\", \"2016\", \"2017\", \"2018\", \"2019\", \"NaT\"], \"y\": [2, 4, 6, 14, 31, 56, 91, 122, 137, 149, 153, 156, 157]}, {\"legendgroup\": \"Mount Vernon Square\", \"marker\": {\"color\": \"black\"}, \"mode\": \"lines+markers\", \"name\": \"hosts\", \"text\": [\"Mount Vernon Square\", \"Mount Vernon Square\", \"Mount Vernon Square\", \"Mount Vernon Square\", \"Mount Vernon Square\", \"Mount Vernon Square\", \"Mount Vernon Square\", \"Mount Vernon Square\", \"Mount Vernon Square\"], \"type\": \"scatter\", \"x\": [\"2011\", \"2012\", \"2013\", \"2014\", \"2015\", \"2016\", \"2017\", \"2018\", \"2019\"], \"y\": [4, 6, 17, 30, 51, 65, 71, 77, 81]}, {\"legendgroup\": \"Navy Yard\", \"marker\": {\"color\": \"black\"}, \"mode\": \"lines+markers\", \"name\": \"hosts\", \"text\": [\"Navy Yard\", \"Navy Yard\", \"Navy Yard\", \"Navy Yard\", \"Navy Yard\", \"Navy Yard\", \"Navy Yard\", \"Navy Yard\", \"Navy Yard\"], \"type\": \"scatter\", \"x\": [\"2011\", \"2012\", \"2013\", \"2014\", \"2015\", \"2016\", \"2017\", \"2018\", \"2019\"], \"y\": [2, 3, 7, 11, 14, 23, 27, 31, 33]}, {\"legendgroup\": \"Naylor Gardens\", \"marker\": {\"color\": \"black\"}, \"mode\": \"lines+markers\", \"name\": \"hosts\", \"text\": [\"Naylor Gardens\", \"Naylor Gardens\", \"Naylor Gardens\", \"Naylor Gardens\"], \"type\": \"scatter\", \"x\": [\"2013\", \"2014\", \"2015\", \"2016\"], \"y\": [1, 2, 3, 4]}, {\"legendgroup\": \"Near Northeast/H Street Corridor\", \"marker\": {\"color\": \"black\"}, \"mode\": \"lines+markers\", \"name\": \"hosts\", \"text\": [\"Near Northeast/H Street Corridor\", \"Near Northeast/H Street Corridor\", \"Near Northeast/H Street Corridor\", \"Near Northeast/H Street Corridor\", \"Near Northeast/H Street Corridor\", \"Near Northeast/H Street Corridor\", \"Near Northeast/H Street Corridor\", \"Near Northeast/H Street Corridor\", \"Near Northeast/H Street Corridor\", \"Near Northeast/H Street Corridor\", \"Near Northeast/H Street Corridor\", \"Near Northeast/H Street Corridor\"], \"type\": \"scatter\", \"x\": [\"2008\", \"2009\", \"2010\", \"2011\", \"2012\", \"2013\", \"2014\", \"2015\", \"2016\", \"2017\", \"2018\", \"2019\"], \"y\": [1, 2, 7, 20, 35, 76, 132, 176, 242, 260, 281, 296]}, {\"legendgroup\": \"North Cleveland Park\", \"marker\": {\"color\": \"black\"}, \"mode\": \"lines+markers\", \"name\": \"hosts\", \"text\": [\"North Cleveland Park\", \"North Cleveland Park\", \"North Cleveland Park\", \"North Cleveland Park\", \"North Cleveland Park\", \"North Cleveland Park\", \"North Cleveland Park\", \"North Cleveland Park\", \"North Cleveland Park\"], \"type\": \"scatter\", \"x\": [\"2011\", \"2012\", \"2013\", \"2014\", \"2015\", \"2016\", \"2017\", \"2018\", \"2019\"], \"y\": [1, 3, 6, 9, 15, 17, 19, 20, 22]}, {\"legendgroup\": \"North Michigan Park\", \"marker\": {\"color\": \"black\"}, \"mode\": \"lines+markers\", \"name\": \"hosts\", \"text\": [\"North Michigan Park\", \"North Michigan Park\", \"North Michigan Park\", \"North Michigan Park\", \"North Michigan Park\"], \"type\": \"scatter\", \"x\": [\"2011\", \"2013\", \"2014\", \"2015\", \"2016\"], \"y\": [1, 2, 4, 6, 9]}, {\"legendgroup\": \"Observatory Circle\", \"marker\": {\"color\": \"black\"}, \"mode\": \"lines+markers\", \"name\": \"hosts\", \"text\": [\"Observatory Circle\"], \"type\": \"scatter\", \"x\": [\"2014\"], \"y\": [1]}, {\"legendgroup\": \"Palisades\", \"marker\": {\"color\": \"black\"}, \"mode\": \"lines+markers\", \"name\": \"hosts\", \"text\": [\"Palisades\", \"Palisades\", \"Palisades\", \"Palisades\", \"Palisades\", \"Palisades\", \"Palisades\", \"Palisades\", \"Palisades\"], \"type\": \"scatter\", \"x\": [\"2009\", \"2011\", \"2012\", \"2013\", \"2014\", \"2015\", \"2016\", \"2017\", \"2018\"], \"y\": [1, 4, 8, 10, 13, 21, 26, 28, 30]}, {\"legendgroup\": \"Park View\", \"marker\": {\"color\": \"black\"}, \"mode\": \"lines+markers\", \"name\": \"hosts\", \"text\": [\"Park View\", \"Park View\", \"Park View\", \"Park View\", \"Park View\", \"Park View\", \"Park View\", \"Park View\", \"Park View\", \"Park View\", \"Park View\"], \"type\": \"scatter\", \"x\": [\"2008\", \"2010\", \"2011\", \"2012\", \"2013\", \"2014\", \"2015\", \"2016\", \"2017\", \"2018\", \"2019\"], \"y\": [2, 4, 6, 19, 32, 58, 82, 98, 105, 108, 112]}, {\"legendgroup\": \"Petworth\", \"marker\": {\"color\": \"black\"}, \"mode\": \"lines+markers\", \"name\": \"hosts\", \"text\": [\"Petworth\", \"Petworth\", \"Petworth\", \"Petworth\", \"Petworth\", \"Petworth\", \"Petworth\", \"Petworth\", \"Petworth\", \"Petworth\", \"Petworth\", \"Petworth\"], \"type\": \"scatter\", \"x\": [\"2008\", \"2010\", \"2011\", \"2012\", \"2013\", \"2014\", \"2015\", \"2016\", \"2017\", \"2018\", \"2019\", \"NaT\"], \"y\": [1, 7, 21, 39, 68, 99, 132, 161, 189, 198, 203, 204]}, {\"legendgroup\": \"Pleasant Hill\", \"marker\": {\"color\": \"black\"}, \"mode\": \"lines+markers\", \"name\": \"hosts\", \"text\": [\"Pleasant Hill\", \"Pleasant Hill\", \"Pleasant Hill\", \"Pleasant Hill\", \"Pleasant Hill\", \"Pleasant Hill\", \"Pleasant Hill\"], \"type\": \"scatter\", \"x\": [\"2012\", \"2014\", \"2015\", \"2016\", \"2017\", \"2018\", \"2019\"], \"y\": [1, 4, 5, 8, 9, 10, 11]}, {\"legendgroup\": \"Pleasant Plains\", \"marker\": {\"color\": \"black\"}, \"mode\": \"lines+markers\", \"name\": \"hosts\", \"text\": [\"Pleasant Plains\", \"Pleasant Plains\", \"Pleasant Plains\", \"Pleasant Plains\", \"Pleasant Plains\", \"Pleasant Plains\", \"Pleasant Plains\", \"Pleasant Plains\"], \"type\": \"scatter\", \"x\": [\"2011\", \"2012\", \"2013\", \"2014\", \"2015\", \"2016\", \"2018\", \"2019\"], \"y\": [1, 3, 8, 12, 19, 27, 30, 31]}, {\"legendgroup\": \"Randle Highlands\", \"marker\": {\"color\": \"black\"}, \"mode\": \"lines+markers\", \"name\": \"hosts\", \"text\": [\"Randle Highlands\", \"Randle Highlands\", \"Randle Highlands\", \"Randle Highlands\", \"Randle Highlands\", \"Randle Highlands\"], \"type\": \"scatter\", \"x\": [\"2009\", \"2012\", \"2014\", \"2015\", \"2017\", \"2018\"], \"y\": [1, 2, 6, 8, 11, 12]}, {\"legendgroup\": \"River Terrace\", \"marker\": {\"color\": \"black\"}, \"mode\": \"lines+markers\", \"name\": \"hosts\", \"text\": [\"River Terrace\", \"River Terrace\", \"River Terrace\", \"River Terrace\", \"River Terrace\", \"River Terrace\", \"River Terrace\"], \"type\": \"scatter\", \"x\": [\"2013\", \"2014\", \"2015\", \"2016\", \"2017\", \"2018\", \"2019\"], \"y\": [1, 3, 6, 9, 11, 12, 13]}, {\"legendgroup\": \"Shaw\", \"marker\": {\"color\": \"black\"}, \"mode\": \"lines+markers\", \"name\": \"hosts\", \"text\": [\"Shaw\", \"Shaw\", \"Shaw\", \"Shaw\", \"Shaw\", \"Shaw\", \"Shaw\", \"Shaw\", \"Shaw\", \"Shaw\", \"Shaw\", \"Shaw\"], \"type\": \"scatter\", \"x\": [\"2008\", \"2009\", \"2010\", \"2011\", \"2012\", \"2013\", \"2014\", \"2015\", \"2016\", \"2017\", \"2018\", \"2019\"], \"y\": [2, 4, 9, 20, 38, 68, 116, 165, 199, 213, 223, 233]}, {\"legendgroup\": \"Shepherd Park\", \"marker\": {\"color\": \"black\"}, \"mode\": \"lines+markers\", \"name\": \"hosts\", \"text\": [\"Shepherd Park\", \"Shepherd Park\", \"Shepherd Park\", \"Shepherd Park\", \"Shepherd Park\"], \"type\": \"scatter\", \"x\": [\"2011\", \"2014\", \"2015\", \"2016\", \"2017\"], \"y\": [2, 3, 5, 10, 11]}, {\"legendgroup\": \"Shipley Terrace\", \"marker\": {\"color\": \"black\"}, \"mode\": \"lines+markers\", \"name\": \"hosts\", \"text\": [\"Shipley Terrace\", \"Shipley Terrace\", \"Shipley Terrace\", \"Shipley Terrace\", \"Shipley Terrace\", \"Shipley Terrace\"], \"type\": \"scatter\", \"x\": [\"2012\", \"2014\", \"2015\", \"2016\", \"2017\", \"2018\"], \"y\": [1, 2, 5, 7, 10, 18]}, {\"legendgroup\": \"Skyland\", \"marker\": {\"color\": \"black\"}, \"mode\": \"lines+markers\", \"name\": \"hosts\", \"text\": [\"Skyland\", \"Skyland\"], \"type\": \"scatter\", \"x\": [\"2016\", \"2018\"], \"y\": [1, 2]}, {\"legendgroup\": \"Southwest Waterfront\", \"marker\": {\"color\": \"black\"}, \"mode\": \"lines+markers\", \"name\": \"hosts\", \"text\": [\"Southwest Waterfront\", \"Southwest Waterfront\", \"Southwest Waterfront\", \"Southwest Waterfront\", \"Southwest Waterfront\", \"Southwest Waterfront\", \"Southwest Waterfront\", \"Southwest Waterfront\", \"Southwest Waterfront\", \"Southwest Waterfront\", \"Southwest Waterfront\"], \"type\": \"scatter\", \"x\": [\"2008\", \"2010\", \"2011\", \"2012\", \"2013\", \"2014\", \"2015\", \"2016\", \"2017\", \"2018\", \"2019\"], \"y\": [1, 2, 7, 14, 20, 37, 53, 76, 85, 92, 93]}, {\"legendgroup\": \"Spring Valley\", \"marker\": {\"color\": \"black\"}, \"mode\": \"lines+markers\", \"name\": \"hosts\", \"text\": [\"Spring Valley\", \"Spring Valley\"], \"type\": \"scatter\", \"x\": [\"2014\", \"2015\"], \"y\": [2, 3]}, {\"legendgroup\": \"St. Elizabeths\", \"marker\": {\"color\": \"black\"}, \"mode\": \"lines+markers\", \"name\": \"hosts\", \"text\": [\"St. Elizabeths\", \"St. Elizabeths\", \"St. Elizabeths\", \"St. Elizabeths\"], \"type\": \"scatter\", \"x\": [\"2014\", \"2015\", \"2016\", \"2017\"], \"y\": [1, 4, 7, 8]}, {\"legendgroup\": \"Stronghold\", \"marker\": {\"color\": \"black\"}, \"mode\": \"lines+markers\", \"name\": \"hosts\", \"text\": [\"Stronghold\", \"Stronghold\", \"Stronghold\", \"Stronghold\", \"Stronghold\", \"Stronghold\", \"Stronghold\", \"Stronghold\", \"Stronghold\"], \"type\": \"scatter\", \"x\": [\"2010\", \"2011\", \"2012\", \"2013\", \"2014\", \"2015\", \"2016\", \"2017\", \"2018\"], \"y\": [1, 2, 3, 7, 11, 18, 23, 27, 31]}, {\"legendgroup\": \"Takoma\", \"marker\": {\"color\": \"black\"}, \"mode\": \"lines+markers\", \"name\": \"hosts\", \"text\": [\"Takoma\", \"Takoma\", \"Takoma\", \"Takoma\", \"Takoma\", \"Takoma\", \"Takoma\", \"Takoma\", \"Takoma\"], \"type\": \"scatter\", \"x\": [\"2011\", \"2012\", \"2013\", \"2014\", \"2015\", \"2016\", \"2017\", \"2018\", \"2019\"], \"y\": [7, 12, 18, 19, 24, 29, 36, 38, 39]}, {\"legendgroup\": \"Takoma Park, MD\", \"marker\": {\"color\": \"black\"}, \"mode\": \"lines+markers\", \"name\": \"hosts\", \"text\": [\"Takoma Park, MD\"], \"type\": \"scatter\", \"x\": [\"2011\"], \"y\": [1]}, {\"legendgroup\": \"Tenleytown\", \"marker\": {\"color\": \"black\"}, \"mode\": \"lines+markers\", \"name\": \"hosts\", \"text\": [], \"type\": \"scatter\", \"x\": [], \"y\": []}, {\"legendgroup\": \"Trinidad\", \"marker\": {\"color\": \"black\"}, \"mode\": \"lines+markers\", \"name\": \"hosts\", \"text\": [\"Trinidad\", \"Trinidad\", \"Trinidad\", \"Trinidad\", \"Trinidad\", \"Trinidad\", \"Trinidad\", \"Trinidad\", \"Trinidad\", \"Trinidad\"], \"type\": \"scatter\", \"x\": [\"2010\", \"2011\", \"2012\", \"2013\", \"2014\", \"2015\", \"2016\", \"2017\", \"2018\", \"2019\"], \"y\": [1, 7, 16, 34, 56, 85, 109, 119, 128, 131]}, {\"legendgroup\": \"Truxton Circle\", \"marker\": {\"color\": \"black\"}, \"mode\": \"lines+markers\", \"name\": \"hosts\", \"text\": [\"Truxton Circle\", \"Truxton Circle\", \"Truxton Circle\", \"Truxton Circle\", \"Truxton Circle\", \"Truxton Circle\", \"Truxton Circle\", \"Truxton Circle\", \"Truxton Circle\"], \"type\": \"scatter\", \"x\": [\"2011\", \"2012\", \"2013\", \"2014\", \"2015\", \"2016\", \"2017\", \"2018\", \"2019\"], \"y\": [2, 3, 4, 7, 13, 23, 25, 28, 29]}, {\"legendgroup\": \"Twining\", \"marker\": {\"color\": \"black\"}, \"mode\": \"lines+markers\", \"name\": \"hosts\", \"text\": [\"Twining\", \"Twining\", \"Twining\"], \"type\": \"scatter\", \"x\": [\"2013\", \"2016\", \"2018\"], \"y\": [1, 3, 4]}, {\"legendgroup\": \"U Street Corridor\", \"marker\": {\"color\": \"black\"}, \"mode\": \"lines+markers\", \"name\": \"hosts\", \"text\": [\"U Street Corridor\", \"U Street Corridor\", \"U Street Corridor\", \"U Street Corridor\", \"U Street Corridor\", \"U Street Corridor\", \"U Street Corridor\", \"U Street Corridor\", \"U Street Corridor\", \"U Street Corridor\", \"U Street Corridor\"], \"type\": \"scatter\", \"x\": [\"2008\", \"2010\", \"2011\", \"2012\", \"2013\", \"2014\", \"2015\", \"2016\", \"2017\", \"2018\", \"2019\"], \"y\": [2, 7, 14, 34, 76, 132, 176, 228, 248, 255, 259]}, {\"legendgroup\": \"Washington Highlands\", \"marker\": {\"color\": \"black\"}, \"mode\": \"lines+markers\", \"name\": \"hosts\", \"text\": [\"Washington Highlands\", \"Washington Highlands\", \"Washington Highlands\", \"Washington Highlands\", \"Washington Highlands\"], \"type\": \"scatter\", \"x\": [\"2011\", \"2013\", \"2014\", \"2016\", \"2017\"], \"y\": [1, 3, 5, 8, 9]}, {\"legendgroup\": \"Wesley Heights\", \"marker\": {\"color\": \"black\"}, \"mode\": \"lines+markers\", \"name\": \"hosts\", \"text\": [\"Wesley Heights\", \"Wesley Heights\", \"Wesley Heights\", \"Wesley Heights\"], \"type\": \"scatter\", \"x\": [\"2012\", \"2014\", \"2015\", \"2016\"], \"y\": [1, 2, 4, 7]}, {\"legendgroup\": \"West End\", \"marker\": {\"color\": \"black\"}, \"mode\": \"lines+markers\", \"name\": \"hosts\", \"text\": [\"West End\", \"West End\", \"West End\", \"West End\", \"West End\", \"West End\", \"West End\"], \"type\": \"scatter\", \"x\": [\"2011\", \"2013\", \"2015\", \"2016\", \"2017\", \"2018\", \"2019\"], \"y\": [1, 2, 4, 9, 10, 11, 13]}, {\"legendgroup\": \"Woodland\", \"marker\": {\"color\": \"black\"}, \"mode\": \"lines+markers\", \"name\": \"hosts\", \"text\": [\"Woodland\"], \"type\": \"scatter\", \"x\": [\"2017\"], \"y\": [1]}, {\"legendgroup\": \"Woodland-Normanstone Terrace\", \"marker\": {\"color\": \"black\"}, \"mode\": \"lines+markers\", \"name\": \"hosts\", \"text\": [\"Woodland-Normanstone Terrace\"], \"type\": \"scatter\", \"x\": [\"2018\"], \"y\": [1]}, {\"legendgroup\": \"Woodley Park\", \"marker\": {\"color\": \"black\"}, \"mode\": \"lines+markers\", \"name\": \"hosts\", \"text\": [\"Woodley Park\", \"Woodley Park\", \"Woodley Park\", \"Woodley Park\", \"Woodley Park\", \"Woodley Park\", \"Woodley Park\", \"Woodley Park\", \"Woodley Park\", \"Woodley Park\"], \"type\": \"scatter\", \"x\": [\"2010\", \"2011\", \"2012\", \"2013\", \"2014\", \"2015\", \"2016\", \"2017\", \"2018\", \"2019\"], \"y\": [1, 3, 11, 18, 27, 31, 41, 43, 44, 45]}, {\"legendgroup\": \"Woodridge\", \"marker\": {\"color\": \"black\"}, \"mode\": \"lines+markers\", \"name\": \"hosts\", \"text\": [\"Woodridge\", \"Woodridge\", \"Woodridge\", \"Woodridge\", \"Woodridge\", \"Woodridge\", \"Woodridge\", \"Woodridge\", \"Woodridge\", \"Woodridge\"], \"type\": \"scatter\", \"x\": [\"2009\", \"2011\", \"2012\", \"2013\", \"2014\", \"2015\", \"2016\", \"2017\", \"2018\", \"2019\"], \"y\": [1, 2, 3, 5, 11, 15, 21, 23, 26, 28]}],\n",
       "                        {\"height\": 400, \"plot_bgcolor\": \"rgb(240, 240, 240)\", \"showlegend\": false, \"template\": {\"data\": {\"bar\": [{\"error_x\": {\"color\": \"#2a3f5f\"}, \"error_y\": {\"color\": \"#2a3f5f\"}, \"marker\": {\"line\": {\"color\": \"#E5ECF6\", \"width\": 0.5}}, \"type\": \"bar\"}], \"barpolar\": [{\"marker\": {\"line\": {\"color\": \"#E5ECF6\", \"width\": 0.5}}, \"type\": \"barpolar\"}], \"carpet\": [{\"aaxis\": {\"endlinecolor\": \"#2a3f5f\", \"gridcolor\": \"white\", \"linecolor\": \"white\", \"minorgridcolor\": \"white\", \"startlinecolor\": \"#2a3f5f\"}, \"baxis\": {\"endlinecolor\": \"#2a3f5f\", \"gridcolor\": \"white\", \"linecolor\": \"white\", \"minorgridcolor\": \"white\", \"startlinecolor\": \"#2a3f5f\"}, \"type\": \"carpet\"}], \"choropleth\": [{\"colorbar\": {\"outlinewidth\": 0, \"ticks\": \"\"}, \"type\": \"choropleth\"}], \"contour\": [{\"colorbar\": {\"outlinewidth\": 0, \"ticks\": \"\"}, \"colorscale\": [[0.0, \"#0d0887\"], [0.1111111111111111, \"#46039f\"], [0.2222222222222222, \"#7201a8\"], [0.3333333333333333, \"#9c179e\"], [0.4444444444444444, \"#bd3786\"], [0.5555555555555556, \"#d8576b\"], [0.6666666666666666, \"#ed7953\"], [0.7777777777777778, \"#fb9f3a\"], [0.8888888888888888, \"#fdca26\"], [1.0, \"#f0f921\"]], \"type\": \"contour\"}], \"contourcarpet\": [{\"colorbar\": {\"outlinewidth\": 0, \"ticks\": \"\"}, \"type\": \"contourcarpet\"}], \"heatmap\": [{\"colorbar\": {\"outlinewidth\": 0, \"ticks\": \"\"}, \"colorscale\": [[0.0, \"#0d0887\"], [0.1111111111111111, \"#46039f\"], [0.2222222222222222, \"#7201a8\"], [0.3333333333333333, \"#9c179e\"], [0.4444444444444444, \"#bd3786\"], [0.5555555555555556, \"#d8576b\"], [0.6666666666666666, \"#ed7953\"], [0.7777777777777778, \"#fb9f3a\"], [0.8888888888888888, \"#fdca26\"], [1.0, \"#f0f921\"]], \"type\": \"heatmap\"}], \"heatmapgl\": [{\"colorbar\": {\"outlinewidth\": 0, \"ticks\": \"\"}, \"colorscale\": [[0.0, \"#0d0887\"], [0.1111111111111111, \"#46039f\"], [0.2222222222222222, \"#7201a8\"], [0.3333333333333333, \"#9c179e\"], [0.4444444444444444, \"#bd3786\"], [0.5555555555555556, \"#d8576b\"], [0.6666666666666666, \"#ed7953\"], [0.7777777777777778, \"#fb9f3a\"], [0.8888888888888888, \"#fdca26\"], [1.0, \"#f0f921\"]], \"type\": \"heatmapgl\"}], \"histogram\": [{\"marker\": {\"colorbar\": {\"outlinewidth\": 0, \"ticks\": \"\"}}, \"type\": \"histogram\"}], \"histogram2d\": [{\"colorbar\": {\"outlinewidth\": 0, \"ticks\": \"\"}, \"colorscale\": [[0.0, \"#0d0887\"], [0.1111111111111111, \"#46039f\"], [0.2222222222222222, \"#7201a8\"], [0.3333333333333333, \"#9c179e\"], [0.4444444444444444, \"#bd3786\"], [0.5555555555555556, \"#d8576b\"], [0.6666666666666666, \"#ed7953\"], [0.7777777777777778, \"#fb9f3a\"], [0.8888888888888888, \"#fdca26\"], [1.0, \"#f0f921\"]], \"type\": \"histogram2d\"}], \"histogram2dcontour\": [{\"colorbar\": {\"outlinewidth\": 0, \"ticks\": \"\"}, \"colorscale\": [[0.0, \"#0d0887\"], [0.1111111111111111, \"#46039f\"], [0.2222222222222222, \"#7201a8\"], [0.3333333333333333, \"#9c179e\"], [0.4444444444444444, \"#bd3786\"], [0.5555555555555556, \"#d8576b\"], [0.6666666666666666, \"#ed7953\"], [0.7777777777777778, \"#fb9f3a\"], [0.8888888888888888, \"#fdca26\"], [1.0, \"#f0f921\"]], \"type\": \"histogram2dcontour\"}], \"mesh3d\": [{\"colorbar\": {\"outlinewidth\": 0, \"ticks\": \"\"}, \"type\": \"mesh3d\"}], \"parcoords\": [{\"line\": {\"colorbar\": {\"outlinewidth\": 0, \"ticks\": \"\"}}, \"type\": \"parcoords\"}], \"scatter\": [{\"marker\": {\"colorbar\": {\"outlinewidth\": 0, \"ticks\": \"\"}}, \"type\": \"scatter\"}], \"scatter3d\": [{\"line\": {\"colorbar\": {\"outlinewidth\": 0, \"ticks\": \"\"}}, \"marker\": {\"colorbar\": {\"outlinewidth\": 0, \"ticks\": \"\"}}, \"type\": \"scatter3d\"}], \"scattercarpet\": [{\"marker\": {\"colorbar\": {\"outlinewidth\": 0, \"ticks\": \"\"}}, \"type\": \"scattercarpet\"}], \"scattergeo\": [{\"marker\": {\"colorbar\": {\"outlinewidth\": 0, \"ticks\": \"\"}}, \"type\": \"scattergeo\"}], \"scattergl\": [{\"marker\": {\"colorbar\": {\"outlinewidth\": 0, \"ticks\": \"\"}}, \"type\": \"scattergl\"}], \"scattermapbox\": [{\"marker\": {\"colorbar\": {\"outlinewidth\": 0, \"ticks\": \"\"}}, \"type\": \"scattermapbox\"}], \"scatterpolar\": [{\"marker\": {\"colorbar\": {\"outlinewidth\": 0, \"ticks\": \"\"}}, \"type\": \"scatterpolar\"}], \"scatterpolargl\": [{\"marker\": {\"colorbar\": {\"outlinewidth\": 0, \"ticks\": \"\"}}, \"type\": \"scatterpolargl\"}], \"scatterternary\": [{\"marker\": {\"colorbar\": {\"outlinewidth\": 0, \"ticks\": \"\"}}, \"type\": \"scatterternary\"}], \"surface\": [{\"colorbar\": {\"outlinewidth\": 0, \"ticks\": \"\"}, \"colorscale\": [[0.0, \"#0d0887\"], [0.1111111111111111, \"#46039f\"], [0.2222222222222222, \"#7201a8\"], [0.3333333333333333, \"#9c179e\"], [0.4444444444444444, \"#bd3786\"], [0.5555555555555556, \"#d8576b\"], [0.6666666666666666, \"#ed7953\"], [0.7777777777777778, \"#fb9f3a\"], [0.8888888888888888, \"#fdca26\"], [1.0, \"#f0f921\"]], \"type\": \"surface\"}], \"table\": [{\"cells\": {\"fill\": {\"color\": \"#EBF0F8\"}, \"line\": {\"color\": \"white\"}}, \"header\": {\"fill\": {\"color\": \"#C8D4E3\"}, \"line\": {\"color\": \"white\"}}, \"type\": \"table\"}]}, \"layout\": {\"annotationdefaults\": {\"arrowcolor\": \"#2a3f5f\", \"arrowhead\": 0, \"arrowwidth\": 1}, \"colorscale\": {\"diverging\": [[0, \"#8e0152\"], [0.1, \"#c51b7d\"], [0.2, \"#de77ae\"], [0.3, \"#f1b6da\"], [0.4, \"#fde0ef\"], [0.5, \"#f7f7f7\"], [0.6, \"#e6f5d0\"], [0.7, \"#b8e186\"], [0.8, \"#7fbc41\"], [0.9, \"#4d9221\"], [1, \"#276419\"]], \"sequential\": [[0.0, \"#0d0887\"], [0.1111111111111111, \"#46039f\"], [0.2222222222222222, \"#7201a8\"], [0.3333333333333333, \"#9c179e\"], [0.4444444444444444, \"#bd3786\"], [0.5555555555555556, \"#d8576b\"], [0.6666666666666666, \"#ed7953\"], [0.7777777777777778, \"#fb9f3a\"], [0.8888888888888888, \"#fdca26\"], [1.0, \"#f0f921\"]], \"sequentialminus\": [[0.0, \"#0d0887\"], [0.1111111111111111, \"#46039f\"], [0.2222222222222222, \"#7201a8\"], [0.3333333333333333, \"#9c179e\"], [0.4444444444444444, \"#bd3786\"], [0.5555555555555556, \"#d8576b\"], [0.6666666666666666, \"#ed7953\"], [0.7777777777777778, \"#fb9f3a\"], [0.8888888888888888, \"#fdca26\"], [1.0, \"#f0f921\"]]}, \"colorway\": [\"#636efa\", \"#EF553B\", \"#00cc96\", \"#ab63fa\", \"#FFA15A\", \"#19d3f3\", \"#FF6692\", \"#B6E880\", \"#FF97FF\", \"#FECB52\"], \"font\": {\"color\": \"#2a3f5f\"}, \"geo\": {\"bgcolor\": \"white\", \"lakecolor\": \"white\", \"landcolor\": \"#E5ECF6\", \"showlakes\": true, \"showland\": true, \"subunitcolor\": \"white\"}, \"hoverlabel\": {\"align\": \"left\"}, \"hovermode\": \"closest\", \"mapbox\": {\"style\": \"light\"}, \"paper_bgcolor\": \"white\", \"plot_bgcolor\": \"#E5ECF6\", \"polar\": {\"angularaxis\": {\"gridcolor\": \"white\", \"linecolor\": \"white\", \"ticks\": \"\"}, \"bgcolor\": \"#E5ECF6\", \"radialaxis\": {\"gridcolor\": \"white\", \"linecolor\": \"white\", \"ticks\": \"\"}}, \"scene\": {\"xaxis\": {\"backgroundcolor\": \"#E5ECF6\", \"gridcolor\": \"white\", \"gridwidth\": 2, \"linecolor\": \"white\", \"showbackground\": true, \"ticks\": \"\", \"zerolinecolor\": \"white\"}, \"yaxis\": {\"backgroundcolor\": \"#E5ECF6\", \"gridcolor\": \"white\", \"gridwidth\": 2, \"linecolor\": \"white\", \"showbackground\": true, \"ticks\": \"\", \"zerolinecolor\": \"white\"}, \"zaxis\": {\"backgroundcolor\": \"#E5ECF6\", \"gridcolor\": \"white\", \"gridwidth\": 2, \"linecolor\": \"white\", \"showbackground\": true, \"ticks\": \"\", \"zerolinecolor\": \"white\"}}, \"shapedefaults\": {\"line\": {\"color\": \"#2a3f5f\"}}, \"ternary\": {\"aaxis\": {\"gridcolor\": \"white\", \"linecolor\": \"white\", \"ticks\": \"\"}, \"baxis\": {\"gridcolor\": \"white\", \"linecolor\": \"white\", \"ticks\": \"\"}, \"bgcolor\": \"#E5ECF6\", \"caxis\": {\"gridcolor\": \"white\", \"linecolor\": \"white\", \"ticks\": \"\"}}, \"title\": {\"x\": 0.05}, \"xaxis\": {\"automargin\": true, \"gridcolor\": \"white\", \"linecolor\": \"white\", \"ticks\": \"\", \"zerolinecolor\": \"white\", \"zerolinewidth\": 2}, \"yaxis\": {\"automargin\": true, \"gridcolor\": \"white\", \"linecolor\": \"white\", \"ticks\": \"\", \"zerolinecolor\": \"white\", \"zerolinewidth\": 2}}}, \"title\": {\"text\": \"<b>Number of Listings vs Hosts by Neighbourhood</b>\"}, \"updatemenus\": [{\"active\": 1, \"buttons\": [{\"args\": [{\"visible\": [true, false, false, false, false, false, false, false, false, false, false, false, false, false, false, false, false, false, false, false, false, false, false, false, false, false, false, false, false, false, false, false, false, false, false, false, false, false, false, false, false, false, false, false, false, false, false, false, false, false, false, false, false, false, false, false, false, false, false, false, false, false, false, false, false, false, false, false, false, false, false, false, false, false, false, false, false, false, false, false, false, false, false, false, false, false, false, false, false, false, false, false, false, false, false, false, false, false, false, false, false, false, false, false, false, false, false, false, false, false]}, {\"title\": \"16th Street Heights\"}], \"label\": \"16th Street Heights\", \"method\": \"update\"}, {\"args\": [{\"visible\": [false, true, false, false, false, false, false, false, false, false, false, false, false, false, false, false, false, false, false, false, false, false, false, false, false, false, false, false, false, false, false, false, false, false, false, false, false, false, false, false, false, false, false, false, false, false, false, false, false, false, false, false, false, false, false, false, false, false, false, false, false, false, false, false, false, false, false, false, false, false, false, false, false, false, false, false, false, false, false, false, false, false, false, false, false, false, false, false, false, false, false, false, false, false, false, false, false, false, false, false, false, false, false, false, false, false, false, false, false, false]}, {\"title\": \"Adams Morgan\"}], \"label\": \"Adams Morgan\", \"method\": \"update\"}, {\"args\": [{\"visible\": [false, false, true, false, false, false, false, false, false, false, false, false, false, false, false, false, false, false, false, false, false, false, false, false, false, false, false, false, false, false, false, false, false, false, false, false, false, false, false, false, false, false, false, false, false, false, false, false, false, false, false, false, false, false, false, false, false, false, false, false, false, false, false, false, false, false, false, false, false, false, false, false, false, false, false, false, false, false, false, false, false, false, false, false, false, false, false, false, false, false, false, false, false, false, false, false, false, false, false, false, false, false, false, false, false, false, false, false, false, false]}, {\"title\": \"American University Park\"}], \"label\": \"American University Park\", \"method\": \"update\"}, {\"args\": [{\"visible\": [false, false, false, true, false, false, false, false, false, false, false, false, false, false, false, false, false, false, false, false, false, false, false, false, false, false, false, false, false, false, false, false, false, false, false, false, false, false, false, false, false, false, false, false, false, false, false, false, false, false, false, false, false, false, false, false, false, false, false, false, false, false, false, false, false, false, false, false, false, false, false, false, false, false, false, false, false, false, false, false, false, false, false, false, false, false, false, false, false, false, false, false, false, false, false, false, false, false, false, false, false, false, false, false, false, false, false, false, false, false]}, {\"title\": \"Anacostia\"}], \"label\": \"Anacostia\", \"method\": \"update\"}, {\"args\": [{\"visible\": [false, false, false, false, true, false, false, false, false, false, false, false, false, false, false, false, false, false, false, false, false, false, false, false, false, false, false, false, false, false, false, false, false, false, false, false, false, false, false, false, false, false, false, false, false, false, false, false, false, false, false, false, false, false, false, false, false, false, false, false, false, false, false, false, false, false, false, false, false, false, false, false, false, false, false, false, false, false, false, false, false, false, false, false, false, false, false, false, false, false, false, false, false, false, false, false, false, false, false, false, false, false, false, false, false, false, false, false, false, false]}, {\"title\": \"Arboretum\"}], \"label\": \"Arboretum\", \"method\": \"update\"}, {\"args\": [{\"visible\": [false, false, false, false, false, true, false, false, false, false, false, false, false, false, false, false, false, false, false, false, false, false, false, false, false, false, false, false, false, false, false, false, false, false, false, false, false, false, false, false, false, false, false, false, false, false, false, false, false, false, false, false, false, false, false, false, false, false, false, false, false, false, false, false, false, false, false, false, false, false, false, false, false, false, false, false, false, false, false, false, false, false, false, false, false, false, false, false, false, false, false, false, false, false, false, false, false, false, false, false, false, false, false, false, false, false, false, false, false, false]}, {\"title\": \"Barney Circle\"}], \"label\": \"Barney Circle\", \"method\": \"update\"}, {\"args\": [{\"visible\": [false, false, false, false, false, false, true, false, false, false, false, false, false, false, false, false, false, false, false, false, false, false, false, false, false, false, false, false, false, false, false, false, false, false, false, false, false, false, false, false, false, false, false, false, false, false, false, false, false, false, false, false, false, false, false, false, false, false, false, false, false, false, false, false, false, false, false, false, false, false, false, false, false, false, false, false, false, false, false, false, false, false, false, false, false, false, false, false, false, false, false, false, false, false, false, false, false, false, false, false, false, false, false, false, false, false, false, false, false, false]}, {\"title\": \"Barry Farm\"}], \"label\": \"Barry Farm\", \"method\": \"update\"}, {\"args\": [{\"visible\": [false, false, false, false, false, false, false, true, false, false, false, false, false, false, false, false, false, false, false, false, false, false, false, false, false, false, false, false, false, false, false, false, false, false, false, false, false, false, false, false, false, false, false, false, false, false, false, false, false, false, false, false, false, false, false, false, false, false, false, false, false, false, false, false, false, false, false, false, false, false, false, false, false, false, false, false, false, false, false, false, false, false, false, false, false, false, false, false, false, false, false, false, false, false, false, false, false, false, false, false, false, false, false, false, false, false, false, false, false, false]}, {\"title\": \"Bellevue\"}], \"label\": \"Bellevue\", \"method\": \"update\"}, {\"args\": [{\"visible\": [false, false, false, false, false, false, false, false, true, false, false, false, false, false, false, false, false, false, false, false, false, false, false, false, false, false, false, false, false, false, false, false, false, false, false, false, false, false, false, false, false, false, false, false, false, false, false, false, false, false, false, false, false, false, false, false, false, false, false, false, false, false, false, false, false, false, false, false, false, false, false, false, false, false, false, false, false, false, false, false, false, false, false, false, false, false, false, false, false, false, false, false, false, false, false, false, false, false, false, false, false, false, false, false, false, false, false, false, false, false]}, {\"title\": \"Benning\"}], \"label\": \"Benning\", \"method\": \"update\"}, {\"args\": [{\"visible\": [false, false, false, false, false, false, false, false, false, true, false, false, false, false, false, false, false, false, false, false, false, false, false, false, false, false, false, false, false, false, false, false, false, false, false, false, false, false, false, false, false, false, false, false, false, false, false, false, false, false, false, false, false, false, false, false, false, false, false, false, false, false, false, false, false, false, false, false, false, false, false, false, false, false, false, false, false, false, false, false, false, false, false, false, false, false, false, false, false, false, false, false, false, false, false, false, false, false, false, false, false, false, false, false, false, false, false, false, false, false]}, {\"title\": \"Benning Heights\"}], \"label\": \"Benning Heights\", \"method\": \"update\"}, {\"args\": [{\"visible\": [false, false, false, false, false, false, false, false, false, false, true, false, false, false, false, false, false, false, false, false, false, false, false, false, false, false, false, false, false, false, false, false, false, false, false, false, false, false, false, false, false, false, false, false, false, false, false, false, false, false, false, false, false, false, false, false, false, false, false, false, false, false, false, false, false, false, false, false, false, false, false, false, false, false, false, false, false, false, false, false, false, false, false, false, false, false, false, false, false, false, false, false, false, false, false, false, false, false, false, false, false, false, false, false, false, false, false, false, false, false]}, {\"title\": \"Benning Ridge\"}], \"label\": \"Benning Ridge\", \"method\": \"update\"}, {\"args\": [{\"visible\": [false, false, false, false, false, false, false, false, false, false, false, true, false, false, false, false, false, false, false, false, false, false, false, false, false, false, false, false, false, false, false, false, false, false, false, false, false, false, false, false, false, false, false, false, false, false, false, false, false, false, false, false, false, false, false, false, false, false, false, false, false, false, false, false, false, false, false, false, false, false, false, false, false, false, false, false, false, false, false, false, false, false, false, false, false, false, false, false, false, false, false, false, false, false, false, false, false, false, false, false, false, false, false, false, false, false, false, false, false, false]}, {\"title\": \"Berkley\"}], \"label\": \"Berkley\", \"method\": \"update\"}, {\"args\": [{\"visible\": [false, false, false, false, false, false, false, false, false, false, false, false, true, false, false, false, false, false, false, false, false, false, false, false, false, false, false, false, false, false, false, false, false, false, false, false, false, false, false, false, false, false, false, false, false, false, false, false, false, false, false, false, false, false, false, false, false, false, false, false, false, false, false, false, false, false, false, false, false, false, false, false, false, false, false, false, false, false, false, false, false, false, false, false, false, false, false, false, false, false, false, false, false, false, false, false, false, false, false, false, false, false, false, false, false, false, false, false, false, false]}, {\"title\": \"Bloomingdale\"}], \"label\": \"Bloomingdale\", \"method\": \"update\"}, {\"args\": [{\"visible\": [false, false, false, false, false, false, false, false, false, false, false, false, false, true, false, false, false, false, false, false, false, false, false, false, false, false, false, false, false, false, false, false, false, false, false, false, false, false, false, false, false, false, false, false, false, false, false, false, false, false, false, false, false, false, false, false, false, false, false, false, false, false, false, false, false, false, false, false, false, false, false, false, false, false, false, false, false, false, false, false, false, false, false, false, false, false, false, false, false, false, false, false, false, false, false, false, false, false, false, false, false, false, false, false, false, false, false, false, false, false]}, {\"title\": \"Brentwood\"}], \"label\": \"Brentwood\", \"method\": \"update\"}, {\"args\": [{\"visible\": [false, false, false, false, false, false, false, false, false, false, false, false, false, false, true, false, false, false, false, false, false, false, false, false, false, false, false, false, false, false, false, false, false, false, false, false, false, false, false, false, false, false, false, false, false, false, false, false, false, false, false, false, false, false, false, false, false, false, false, false, false, false, false, false, false, false, false, false, false, false, false, false, false, false, false, false, false, false, false, false, false, false, false, false, false, false, false, false, false, false, false, false, false, false, false, false, false, false, false, false, false, false, false, false, false, false, false, false, false, false]}, {\"title\": \"Brightwood\"}], \"label\": \"Brightwood\", \"method\": \"update\"}, {\"args\": [{\"visible\": [false, false, false, false, false, false, false, false, false, false, false, false, false, false, false, true, false, false, false, false, false, false, false, false, false, false, false, false, false, false, false, false, false, false, false, false, false, false, false, false, false, false, false, false, false, false, false, false, false, false, false, false, false, false, false, false, false, false, false, false, false, false, false, false, false, false, false, false, false, false, false, false, false, false, false, false, false, false, false, false, false, false, false, false, false, false, false, false, false, false, false, false, false, false, false, false, false, false, false, false, false, false, false, false, false, false, false, false, false, false]}, {\"title\": \"Brookland\"}], \"label\": \"Brookland\", \"method\": \"update\"}, {\"args\": [{\"visible\": [false, false, false, false, false, false, false, false, false, false, false, false, false, false, false, false, true, false, false, false, false, false, false, false, false, false, false, false, false, false, false, false, false, false, false, false, false, false, false, false, false, false, false, false, false, false, false, false, false, false, false, false, false, false, false, false, false, false, false, false, false, false, false, false, false, false, false, false, false, false, false, false, false, false, false, false, false, false, false, false, false, false, false, false, false, false, false, false, false, false, false, false, false, false, false, false, false, false, false, false, false, false, false, false, false, false, false, false, false, false]}, {\"title\": \"Buena Vista\"}], \"label\": \"Buena Vista\", \"method\": \"update\"}, {\"args\": [{\"visible\": [false, false, false, false, false, false, false, false, false, false, false, false, false, false, false, false, false, true, false, false, false, false, false, false, false, false, false, false, false, false, false, false, false, false, false, false, false, false, false, false, false, false, false, false, false, false, false, false, false, false, false, false, false, false, false, false, false, false, false, false, false, false, false, false, false, false, false, false, false, false, false, false, false, false, false, false, false, false, false, false, false, false, false, false, false, false, false, false, false, false, false, false, false, false, false, false, false, false, false, false, false, false, false, false, false, false, false, false, false, false]}, {\"title\": \"Burleith\"}], \"label\": \"Burleith\", \"method\": \"update\"}, {\"args\": [{\"visible\": [false, false, false, false, false, false, false, false, false, false, false, false, false, false, false, false, false, false, true, false, false, false, false, false, false, false, false, false, false, false, false, false, false, false, false, false, false, false, false, false, false, false, false, false, false, false, false, false, false, false, false, false, false, false, false, false, false, false, false, false, false, false, false, false, false, false, false, false, false, false, false, false, false, false, false, false, false, false, false, false, false, false, false, false, false, false, false, false, false, false, false, false, false, false, false, false, false, false, false, false, false, false, false, false, false, false, false, false, false, false]}, {\"title\": \"Capitol Hill\"}], \"label\": \"Capitol Hill\", \"method\": \"update\"}, {\"args\": [{\"visible\": [false, false, false, false, false, false, false, false, false, false, false, false, false, false, false, false, false, false, false, true, false, false, false, false, false, false, false, false, false, false, false, false, false, false, false, false, false, false, false, false, false, false, false, false, false, false, false, false, false, false, false, false, false, false, false, false, false, false, false, false, false, false, false, false, false, false, false, false, false, false, false, false, false, false, false, false, false, false, false, false, false, false, false, false, false, false, false, false, false, false, false, false, false, false, false, false, false, false, false, false, false, false, false, false, false, false, false, false, false, false]}, {\"title\": \"Carver Langston\"}], \"label\": \"Carver Langston\", \"method\": \"update\"}, {\"args\": [{\"visible\": [false, false, false, false, false, false, false, false, false, false, false, false, false, false, false, false, false, false, false, false, true, false, false, false, false, false, false, false, false, false, false, false, false, false, false, false, false, false, false, false, false, false, false, false, false, false, false, false, false, false, false, false, false, false, false, false, false, false, false, false, false, false, false, false, false, false, false, false, false, false, false, false, false, false, false, false, false, false, false, false, false, false, false, false, false, false, false, false, false, false, false, false, false, false, false, false, false, false, false, false, false, false, false, false, false, false, false, false, false, false]}, {\"title\": \"Cathedral Heights\"}], \"label\": \"Cathedral Heights\", \"method\": \"update\"}, {\"args\": [{\"visible\": [false, false, false, false, false, false, false, false, false, false, false, false, false, false, false, false, false, false, false, false, false, true, false, false, false, false, false, false, false, false, false, false, false, false, false, false, false, false, false, false, false, false, false, false, false, false, false, false, false, false, false, false, false, false, false, false, false, false, false, false, false, false, false, false, false, false, false, false, false, false, false, false, false, false, false, false, false, false, false, false, false, false, false, false, false, false, false, false, false, false, false, false, false, false, false, false, false, false, false, false, false, false, false, false, false, false, false, false, false, false]}, {\"title\": \"Catholic University\"}], \"label\": \"Catholic University\", \"method\": \"update\"}, {\"args\": [{\"visible\": [false, false, false, false, false, false, false, false, false, false, false, false, false, false, false, false, false, false, false, false, false, false, true, false, false, false, false, false, false, false, false, false, false, false, false, false, false, false, false, false, false, false, false, false, false, false, false, false, false, false, false, false, false, false, false, false, false, false, false, false, false, false, false, false, false, false, false, false, false, false, false, false, false, false, false, false, false, false, false, false, false, false, false, false, false, false, false, false, false, false, false, false, false, false, false, false, false, false, false, false, false, false, false, false, false, false, false, false, false, false]}, {\"title\": \"Central Northeast/Mahaning Heights\"}], \"label\": \"Central Northeast/Mahaning Heights\", \"method\": \"update\"}, {\"args\": [{\"visible\": [false, false, false, false, false, false, false, false, false, false, false, false, false, false, false, false, false, false, false, false, false, false, false, true, false, false, false, false, false, false, false, false, false, false, false, false, false, false, false, false, false, false, false, false, false, false, false, false, false, false, false, false, false, false, false, false, false, false, false, false, false, false, false, false, false, false, false, false, false, false, false, false, false, false, false, false, false, false, false, false, false, false, false, false, false, false, false, false, false, false, false, false, false, false, false, false, false, false, false, false, false, false, false, false, false, false, false, false, false, false]}, {\"title\": \"Chevy Chase\"}], \"label\": \"Chevy Chase\", \"method\": \"update\"}, {\"args\": [{\"visible\": [false, false, false, false, false, false, false, false, false, false, false, false, false, false, false, false, false, false, false, false, false, false, false, false, true, false, false, false, false, false, false, false, false, false, false, false, false, false, false, false, false, false, false, false, false, false, false, false, false, false, false, false, false, false, false, false, false, false, false, false, false, false, false, false, false, false, false, false, false, false, false, false, false, false, false, false, false, false, false, false, false, false, false, false, false, false, false, false, false, false, false, false, false, false, false, false, false, false, false, false, false, false, false, false, false, false, false, false, false, false]}, {\"title\": \"Civic Betterment\"}], \"label\": \"Civic Betterment\", \"method\": \"update\"}, {\"args\": [{\"visible\": [false, false, false, false, false, false, false, false, false, false, false, false, false, false, false, false, false, false, false, false, false, false, false, false, false, true, false, false, false, false, false, false, false, false, false, false, false, false, false, false, false, false, false, false, false, false, false, false, false, false, false, false, false, false, false, false, false, false, false, false, false, false, false, false, false, false, false, false, false, false, false, false, false, false, false, false, false, false, false, false, false, false, false, false, false, false, false, false, false, false, false, false, false, false, false, false, false, false, false, false, false, false, false, false, false, false, false, false, false, false]}, {\"title\": \"Cleveland Park\"}], \"label\": \"Cleveland Park\", \"method\": \"update\"}, {\"args\": [{\"visible\": [false, false, false, false, false, false, false, false, false, false, false, false, false, false, false, false, false, false, false, false, false, false, false, false, false, false, true, false, false, false, false, false, false, false, false, false, false, false, false, false, false, false, false, false, false, false, false, false, false, false, false, false, false, false, false, false, false, false, false, false, false, false, false, false, false, false, false, false, false, false, false, false, false, false, false, false, false, false, false, false, false, false, false, false, false, false, false, false, false, false, false, false, false, false, false, false, false, false, false, false, false, false, false, false, false, false, false, false, false, false]}, {\"title\": \"Colonial Village\"}], \"label\": \"Colonial Village\", \"method\": \"update\"}, {\"args\": [{\"visible\": [false, false, false, false, false, false, false, false, false, false, false, false, false, false, false, false, false, false, false, false, false, false, false, false, false, false, false, true, false, false, false, false, false, false, false, false, false, false, false, false, false, false, false, false, false, false, false, false, false, false, false, false, false, false, false, false, false, false, false, false, false, false, false, false, false, false, false, false, false, false, false, false, false, false, false, false, false, false, false, false, false, false, false, false, false, false, false, false, false, false, false, false, false, false, false, false, false, false, false, false, false, false, false, false, false, false, false, false, false, false]}, {\"title\": \"Columbia Heights\"}], \"label\": \"Columbia Heights\", \"method\": \"update\"}, {\"args\": [{\"visible\": [false, false, false, false, false, false, false, false, false, false, false, false, false, false, false, false, false, false, false, false, false, false, false, false, false, false, false, false, true, false, false, false, false, false, false, false, false, false, false, false, false, false, false, false, false, false, false, false, false, false, false, false, false, false, false, false, false, false, false, false, false, false, false, false, false, false, false, false, false, false, false, false, false, false, false, false, false, false, false, false, false, false, false, false, false, false, false, false, false, false, false, false, false, false, false, false, false, false, false, false, false, false, false, false, false, false, false, false, false, false]}, {\"title\": \"Congress Heights\"}], \"label\": \"Congress Heights\", \"method\": \"update\"}, {\"args\": [{\"visible\": [false, false, false, false, false, false, false, false, false, false, false, false, false, false, false, false, false, false, false, false, false, false, false, false, false, false, false, false, false, true, false, false, false, false, false, false, false, false, false, false, false, false, false, false, false, false, false, false, false, false, false, false, false, false, false, false, false, false, false, false, false, false, false, false, false, false, false, false, false, false, false, false, false, false, false, false, false, false, false, false, false, false, false, false, false, false, false, false, false, false, false, false, false, false, false, false, false, false, false, false, false, false, false, false, false, false, false, false, false, false]}, {\"title\": \"Crestwood\"}], \"label\": \"Crestwood\", \"method\": \"update\"}, {\"args\": [{\"visible\": [false, false, false, false, false, false, false, false, false, false, false, false, false, false, false, false, false, false, false, false, false, false, false, false, false, false, false, false, false, false, true, false, false, false, false, false, false, false, false, false, false, false, false, false, false, false, false, false, false, false, false, false, false, false, false, false, false, false, false, false, false, false, false, false, false, false, false, false, false, false, false, false, false, false, false, false, false, false, false, false, false, false, false, false, false, false, false, false, false, false, false, false, false, false, false, false, false, false, false, false, false, false, false, false, false, false, false, false, false, false]}, {\"title\": \"Deanwood\"}], \"label\": \"Deanwood\", \"method\": \"update\"}, {\"args\": [{\"visible\": [false, false, false, false, false, false, false, false, false, false, false, false, false, false, false, false, false, false, false, false, false, false, false, false, false, false, false, false, false, false, false, true, false, false, false, false, false, false, false, false, false, false, false, false, false, false, false, false, false, false, false, false, false, false, false, false, false, false, false, false, false, false, false, false, false, false, false, false, false, false, false, false, false, false, false, false, false, false, false, false, false, false, false, false, false, false, false, false, false, false, false, false, false, false, false, false, false, false, false, false, false, false, false, false, false, false, false, false, false, false]}, {\"title\": \"Douglass\"}], \"label\": \"Douglass\", \"method\": \"update\"}, {\"args\": [{\"visible\": [false, false, false, false, false, false, false, false, false, false, false, false, false, false, false, false, false, false, false, false, false, false, false, false, false, false, false, false, false, false, false, false, true, false, false, false, false, false, false, false, false, false, false, false, false, false, false, false, false, false, false, false, false, false, false, false, false, false, false, false, false, false, false, false, false, false, false, false, false, false, false, false, false, false, false, false, false, false, false, false, false, false, false, false, false, false, false, false, false, false, false, false, false, false, false, false, false, false, false, false, false, false, false, false, false, false, false, false, false, false]}, {\"title\": \"Downtown/Penn Quarter\"}], \"label\": \"Downtown/Penn Quarter\", \"method\": \"update\"}, {\"args\": [{\"visible\": [false, false, false, false, false, false, false, false, false, false, false, false, false, false, false, false, false, false, false, false, false, false, false, false, false, false, false, false, false, false, false, false, false, true, false, false, false, false, false, false, false, false, false, false, false, false, false, false, false, false, false, false, false, false, false, false, false, false, false, false, false, false, false, false, false, false, false, false, false, false, false, false, false, false, false, false, false, false, false, false, false, false, false, false, false, false, false, false, false, false, false, false, false, false, false, false, false, false, false, false, false, false, false, false, false, false, false, false, false, false]}, {\"title\": \"Dupont Circle\"}], \"label\": \"Dupont Circle\", \"method\": \"update\"}, {\"args\": [{\"visible\": [false, false, false, false, false, false, false, false, false, false, false, false, false, false, false, false, false, false, false, false, false, false, false, false, false, false, false, false, false, false, false, false, false, false, true, false, false, false, false, false, false, false, false, false, false, false, false, false, false, false, false, false, false, false, false, false, false, false, false, false, false, false, false, false, false, false, false, false, false, false, false, false, false, false, false, false, false, false, false, false, false, false, false, false, false, false, false, false, false, false, false, false, false, false, false, false, false, false, false, false, false, false, false, false, false, false, false, false, false, false]}, {\"title\": \"Dupont Park\"}], \"label\": \"Dupont Park\", \"method\": \"update\"}, {\"args\": [{\"visible\": [false, false, false, false, false, false, false, false, false, false, false, false, false, false, false, false, false, false, false, false, false, false, false, false, false, false, false, false, false, false, false, false, false, false, false, true, false, false, false, false, false, false, false, false, false, false, false, false, false, false, false, false, false, false, false, false, false, false, false, false, false, false, false, false, false, false, false, false, false, false, false, false, false, false, false, false, false, false, false, false, false, false, false, false, false, false, false, false, false, false, false, false, false, false, false, false, false, false, false, false, false, false, false, false, false, false, false, false, false, false]}, {\"title\": \"East Corner\"}], \"label\": \"East Corner\", \"method\": \"update\"}, {\"args\": [{\"visible\": [false, false, false, false, false, false, false, false, false, false, false, false, false, false, false, false, false, false, false, false, false, false, false, false, false, false, false, false, false, false, false, false, false, false, false, false, true, false, false, false, false, false, false, false, false, false, false, false, false, false, false, false, false, false, false, false, false, false, false, false, false, false, false, false, false, false, false, false, false, false, false, false, false, false, false, false, false, false, false, false, false, false, false, false, false, false, false, false, false, false, false, false, false, false, false, false, false, false, false, false, false, false, false, false, false, false, false, false, false, false]}, {\"title\": \"Eastland Gardens\"}], \"label\": \"Eastland Gardens\", \"method\": \"update\"}, {\"args\": [{\"visible\": [false, false, false, false, false, false, false, false, false, false, false, false, false, false, false, false, false, false, false, false, false, false, false, false, false, false, false, false, false, false, false, false, false, false, false, false, false, true, false, false, false, false, false, false, false, false, false, false, false, false, false, false, false, false, false, false, false, false, false, false, false, false, false, false, false, false, false, false, false, false, false, false, false, false, false, false, false, false, false, false, false, false, false, false, false, false, false, false, false, false, false, false, false, false, false, false, false, false, false, false, false, false, false, false, false, false, false, false, false, false]}, {\"title\": \"Eckington\"}], \"label\": \"Eckington\", \"method\": \"update\"}, {\"args\": [{\"visible\": [false, false, false, false, false, false, false, false, false, false, false, false, false, false, false, false, false, false, false, false, false, false, false, false, false, false, false, false, false, false, false, false, false, false, false, false, false, false, true, false, false, false, false, false, false, false, false, false, false, false, false, false, false, false, false, false, false, false, false, false, false, false, false, false, false, false, false, false, false, false, false, false, false, false, false, false, false, false, false, false, false, false, false, false, false, false, false, false, false, false, false, false, false, false, false, false, false, false, false, false, false, false, false, false, false, false, false, false, false, false]}, {\"title\": \"Edgewood\"}], \"label\": \"Edgewood\", \"method\": \"update\"}, {\"args\": [{\"visible\": [false, false, false, false, false, false, false, false, false, false, false, false, false, false, false, false, false, false, false, false, false, false, false, false, false, false, false, false, false, false, false, false, false, false, false, false, false, false, false, true, false, false, false, false, false, false, false, false, false, false, false, false, false, false, false, false, false, false, false, false, false, false, false, false, false, false, false, false, false, false, false, false, false, false, false, false, false, false, false, false, false, false, false, false, false, false, false, false, false, false, false, false, false, false, false, false, false, false, false, false, false, false, false, false, false, false, false, false, false, false]}, {\"title\": \"Fairlawn\"}], \"label\": \"Fairlawn\", \"method\": \"update\"}, {\"args\": [{\"visible\": [false, false, false, false, false, false, false, false, false, false, false, false, false, false, false, false, false, false, false, false, false, false, false, false, false, false, false, false, false, false, false, false, false, false, false, false, false, false, false, false, true, false, false, false, false, false, false, false, false, false, false, false, false, false, false, false, false, false, false, false, false, false, false, false, false, false, false, false, false, false, false, false, false, false, false, false, false, false, false, false, false, false, false, false, false, false, false, false, false, false, false, false, false, false, false, false, false, false, false, false, false, false, false, false, false, false, false, false, false, false]}, {\"title\": \"Foggy Bottom\"}], \"label\": \"Foggy Bottom\", \"method\": \"update\"}, {\"args\": [{\"visible\": [false, false, false, false, false, false, false, false, false, false, false, false, false, false, false, false, false, false, false, false, false, false, false, false, false, false, false, false, false, false, false, false, false, false, false, false, false, false, false, false, false, true, false, false, false, false, false, false, false, false, false, false, false, false, false, false, false, false, false, false, false, false, false, false, false, false, false, false, false, false, false, false, false, false, false, false, false, false, false, false, false, false, false, false, false, false, false, false, false, false, false, false, false, false, false, false, false, false, false, false, false, false, false, false, false, false, false, false, false, false]}, {\"title\": \"Forest Hills\"}], \"label\": \"Forest Hills\", \"method\": \"update\"}, {\"args\": [{\"visible\": [false, false, false, false, false, false, false, false, false, false, false, false, false, false, false, false, false, false, false, false, false, false, false, false, false, false, false, false, false, false, false, false, false, false, false, false, false, false, false, false, false, false, true, false, false, false, false, false, false, false, false, false, false, false, false, false, false, false, false, false, false, false, false, false, false, false, false, false, false, false, false, false, false, false, false, false, false, false, false, false, false, false, false, false, false, false, false, false, false, false, false, false, false, false, false, false, false, false, false, false, false, false, false, false, false, false, false, false, false, false]}, {\"title\": \"Fort Davis\"}], \"label\": \"Fort Davis\", \"method\": \"update\"}, {\"args\": [{\"visible\": [false, false, false, false, false, false, false, false, false, false, false, false, false, false, false, false, false, false, false, false, false, false, false, false, false, false, false, false, false, false, false, false, false, false, false, false, false, false, false, false, false, false, false, true, false, false, false, false, false, false, false, false, false, false, false, false, false, false, false, false, false, false, false, false, false, false, false, false, false, false, false, false, false, false, false, false, false, false, false, false, false, false, false, false, false, false, false, false, false, false, false, false, false, false, false, false, false, false, false, false, false, false, false, false, false, false, false, false, false, false]}, {\"title\": \"Fort Dupont\"}], \"label\": \"Fort Dupont\", \"method\": \"update\"}, {\"args\": [{\"visible\": [false, false, false, false, false, false, false, false, false, false, false, false, false, false, false, false, false, false, false, false, false, false, false, false, false, false, false, false, false, false, false, false, false, false, false, false, false, false, false, false, false, false, false, false, true, false, false, false, false, false, false, false, false, false, false, false, false, false, false, false, false, false, false, false, false, false, false, false, false, false, false, false, false, false, false, false, false, false, false, false, false, false, false, false, false, false, false, false, false, false, false, false, false, false, false, false, false, false, false, false, false, false, false, false, false, false, false, false, false, false]}, {\"title\": \"Fort Lincoln\"}], \"label\": \"Fort Lincoln\", \"method\": \"update\"}, {\"args\": [{\"visible\": [false, false, false, false, false, false, false, false, false, false, false, false, false, false, false, false, false, false, false, false, false, false, false, false, false, false, false, false, false, false, false, false, false, false, false, false, false, false, false, false, false, false, false, false, false, true, false, false, false, false, false, false, false, false, false, false, false, false, false, false, false, false, false, false, false, false, false, false, false, false, false, false, false, false, false, false, false, false, false, false, false, false, false, false, false, false, false, false, false, false, false, false, false, false, false, false, false, false, false, false, false, false, false, false, false, false, false, false, false, false]}, {\"title\": \"Fort Totten\"}], \"label\": \"Fort Totten\", \"method\": \"update\"}, {\"args\": [{\"visible\": [false, false, false, false, false, false, false, false, false, false, false, false, false, false, false, false, false, false, false, false, false, false, false, false, false, false, false, false, false, false, false, false, false, false, false, false, false, false, false, false, false, false, false, false, false, false, true, false, false, false, false, false, false, false, false, false, false, false, false, false, false, false, false, false, false, false, false, false, false, false, false, false, false, false, false, false, false, false, false, false, false, false, false, false, false, false, false, false, false, false, false, false, false, false, false, false, false, false, false, false, false, false, false, false, false, false, false, false, false, false]}, {\"title\": \"Foxhall\"}], \"label\": \"Foxhall\", \"method\": \"update\"}, {\"args\": [{\"visible\": [false, false, false, false, false, false, false, false, false, false, false, false, false, false, false, false, false, false, false, false, false, false, false, false, false, false, false, false, false, false, false, false, false, false, false, false, false, false, false, false, false, false, false, false, false, false, false, true, false, false, false, false, false, false, false, false, false, false, false, false, false, false, false, false, false, false, false, false, false, false, false, false, false, false, false, false, false, false, false, false, false, false, false, false, false, false, false, false, false, false, false, false, false, false, false, false, false, false, false, false, false, false, false, false, false, false, false, false, false, false]}, {\"title\": \"Friendship Heights\"}], \"label\": \"Friendship Heights\", \"method\": \"update\"}, {\"args\": [{\"visible\": [false, false, false, false, false, false, false, false, false, false, false, false, false, false, false, false, false, false, false, false, false, false, false, false, false, false, false, false, false, false, false, false, false, false, false, false, false, false, false, false, false, false, false, false, false, false, false, false, true, false, false, false, false, false, false, false, false, false, false, false, false, false, false, false, false, false, false, false, false, false, false, false, false, false, false, false, false, false, false, false, false, false, false, false, false, false, false, false, false, false, false, false, false, false, false, false, false, false, false, false, false, false, false, false, false, false, false, false, false, false]}, {\"title\": \"Gallaudet\"}], \"label\": \"Gallaudet\", \"method\": \"update\"}, {\"args\": [{\"visible\": [false, false, false, false, false, false, false, false, false, false, false, false, false, false, false, false, false, false, false, false, false, false, false, false, false, false, false, false, false, false, false, false, false, false, false, false, false, false, false, false, false, false, false, false, false, false, false, false, false, true, false, false, false, false, false, false, false, false, false, false, false, false, false, false, false, false, false, false, false, false, false, false, false, false, false, false, false, false, false, false, false, false, false, false, false, false, false, false, false, false, false, false, false, false, false, false, false, false, false, false, false, false, false, false, false, false, false, false, false, false]}, {\"title\": \"Garfield Heights\"}], \"label\": \"Garfield Heights\", \"method\": \"update\"}, {\"args\": [{\"visible\": [false, false, false, false, false, false, false, false, false, false, false, false, false, false, false, false, false, false, false, false, false, false, false, false, false, false, false, false, false, false, false, false, false, false, false, false, false, false, false, false, false, false, false, false, false, false, false, false, false, false, true, false, false, false, false, false, false, false, false, false, false, false, false, false, false, false, false, false, false, false, false, false, false, false, false, false, false, false, false, false, false, false, false, false, false, false, false, false, false, false, false, false, false, false, false, false, false, false, false, false, false, false, false, false, false, false, false, false, false, false]}, {\"title\": \"Gateway\"}], \"label\": \"Gateway\", \"method\": \"update\"}, {\"args\": [{\"visible\": [false, false, false, false, false, false, false, false, false, false, false, false, false, false, false, false, false, false, false, false, false, false, false, false, false, false, false, false, false, false, false, false, false, false, false, false, false, false, false, false, false, false, false, false, false, false, false, false, false, false, false, true, false, false, false, false, false, false, false, false, false, false, false, false, false, false, false, false, false, false, false, false, false, false, false, false, false, false, false, false, false, false, false, false, false, false, false, false, false, false, false, false, false, false, false, false, false, false, false, false, false, false, false, false, false, false, false, false, false, false]}, {\"title\": \"Georgetown\"}], \"label\": \"Georgetown\", \"method\": \"update\"}, {\"args\": [{\"visible\": [false, false, false, false, false, false, false, false, false, false, false, false, false, false, false, false, false, false, false, false, false, false, false, false, false, false, false, false, false, false, false, false, false, false, false, false, false, false, false, false, false, false, false, false, false, false, false, false, false, false, false, false, true, false, false, false, false, false, false, false, false, false, false, false, false, false, false, false, false, false, false, false, false, false, false, false, false, false, false, false, false, false, false, false, false, false, false, false, false, false, false, false, false, false, false, false, false, false, false, false, false, false, false, false, false, false, false, false, false, false]}, {\"title\": \"Glover Park\"}], \"label\": \"Glover Park\", \"method\": \"update\"}, {\"args\": [{\"visible\": [false, false, false, false, false, false, false, false, false, false, false, false, false, false, false, false, false, false, false, false, false, false, false, false, false, false, false, false, false, false, false, false, false, false, false, false, false, false, false, false, false, false, false, false, false, false, false, false, false, false, false, false, false, true, false, false, false, false, false, false, false, false, false, false, false, false, false, false, false, false, false, false, false, false, false, false, false, false, false, false, false, false, false, false, false, false, false, false, false, false, false, false, false, false, false, false, false, false, false, false, false, false, false, false, false, false, false, false, false, false]}, {\"title\": \"Good Hope\"}], \"label\": \"Good Hope\", \"method\": \"update\"}, {\"args\": [{\"visible\": [false, false, false, false, false, false, false, false, false, false, false, false, false, false, false, false, false, false, false, false, false, false, false, false, false, false, false, false, false, false, false, false, false, false, false, false, false, false, false, false, false, false, false, false, false, false, false, false, false, false, false, false, false, false, true, false, false, false, false, false, false, false, false, false, false, false, false, false, false, false, false, false, false, false, false, false, false, false, false, false, false, false, false, false, false, false, false, false, false, false, false, false, false, false, false, false, false, false, false, false, false, false, false, false, false, false, false, false, false, false]}, {\"title\": \"Greenway\"}], \"label\": \"Greenway\", \"method\": \"update\"}, {\"args\": [{\"visible\": [false, false, false, false, false, false, false, false, false, false, false, false, false, false, false, false, false, false, false, false, false, false, false, false, false, false, false, false, false, false, false, false, false, false, false, false, false, false, false, false, false, false, false, false, false, false, false, false, false, false, false, false, false, false, false, true, false, false, false, false, false, false, false, false, false, false, false, false, false, false, false, false, false, false, false, false, false, false, false, false, false, false, false, false, false, false, false, false, false, false, false, false, false, false, false, false, false, false, false, false, false, false, false, false, false, false, false, false, false, false]}, {\"title\": \"Hilcrest Heights/Marlow Heights, MD\"}], \"label\": \"Hilcrest Heights/Marlow Heights, MD\", \"method\": \"update\"}, {\"args\": [{\"visible\": [false, false, false, false, false, false, false, false, false, false, false, false, false, false, false, false, false, false, false, false, false, false, false, false, false, false, false, false, false, false, false, false, false, false, false, false, false, false, false, false, false, false, false, false, false, false, false, false, false, false, false, false, false, false, false, false, true, false, false, false, false, false, false, false, false, false, false, false, false, false, false, false, false, false, false, false, false, false, false, false, false, false, false, false, false, false, false, false, false, false, false, false, false, false, false, false, false, false, false, false, false, false, false, false, false, false, false, false, false, false]}, {\"title\": \"Hillbrook\"}], \"label\": \"Hillbrook\", \"method\": \"update\"}, {\"args\": [{\"visible\": [false, false, false, false, false, false, false, false, false, false, false, false, false, false, false, false, false, false, false, false, false, false, false, false, false, false, false, false, false, false, false, false, false, false, false, false, false, false, false, false, false, false, false, false, false, false, false, false, false, false, false, false, false, false, false, false, false, true, false, false, false, false, false, false, false, false, false, false, false, false, false, false, false, false, false, false, false, false, false, false, false, false, false, false, false, false, false, false, false, false, false, false, false, false, false, false, false, false, false, false, false, false, false, false, false, false, false, false, false, false]}, {\"title\": \"Hillcrest\"}], \"label\": \"Hillcrest\", \"method\": \"update\"}, {\"args\": [{\"visible\": [false, false, false, false, false, false, false, false, false, false, false, false, false, false, false, false, false, false, false, false, false, false, false, false, false, false, false, false, false, false, false, false, false, false, false, false, false, false, false, false, false, false, false, false, false, false, false, false, false, false, false, false, false, false, false, false, false, false, true, false, false, false, false, false, false, false, false, false, false, false, false, false, false, false, false, false, false, false, false, false, false, false, false, false, false, false, false, false, false, false, false, false, false, false, false, false, false, false, false, false, false, false, false, false, false, false, false, false, false, false]}, {\"title\": \"Ivy City\"}], \"label\": \"Ivy City\", \"method\": \"update\"}, {\"args\": [{\"visible\": [false, false, false, false, false, false, false, false, false, false, false, false, false, false, false, false, false, false, false, false, false, false, false, false, false, false, false, false, false, false, false, false, false, false, false, false, false, false, false, false, false, false, false, false, false, false, false, false, false, false, false, false, false, false, false, false, false, false, false, true, false, false, false, false, false, false, false, false, false, false, false, false, false, false, false, false, false, false, false, false, false, false, false, false, false, false, false, false, false, false, false, false, false, false, false, false, false, false, false, false, false, false, false, false, false, false, false, false, false, false]}, {\"title\": \"Judiciary Square\"}], \"label\": \"Judiciary Square\", \"method\": \"update\"}, {\"args\": [{\"visible\": [false, false, false, false, false, false, false, false, false, false, false, false, false, false, false, false, false, false, false, false, false, false, false, false, false, false, false, false, false, false, false, false, false, false, false, false, false, false, false, false, false, false, false, false, false, false, false, false, false, false, false, false, false, false, false, false, false, false, false, false, true, false, false, false, false, false, false, false, false, false, false, false, false, false, false, false, false, false, false, false, false, false, false, false, false, false, false, false, false, false, false, false, false, false, false, false, false, false, false, false, false, false, false, false, false, false, false, false, false, false]}, {\"title\": \"Kalorama\"}], \"label\": \"Kalorama\", \"method\": \"update\"}, {\"args\": [{\"visible\": [false, false, false, false, false, false, false, false, false, false, false, false, false, false, false, false, false, false, false, false, false, false, false, false, false, false, false, false, false, false, false, false, false, false, false, false, false, false, false, false, false, false, false, false, false, false, false, false, false, false, false, false, false, false, false, false, false, false, false, false, false, true, false, false, false, false, false, false, false, false, false, false, false, false, false, false, false, false, false, false, false, false, false, false, false, false, false, false, false, false, false, false, false, false, false, false, false, false, false, false, false, false, false, false, false, false, false, false, false, false]}, {\"title\": \"Kent\"}], \"label\": \"Kent\", \"method\": \"update\"}, {\"args\": [{\"visible\": [false, false, false, false, false, false, false, false, false, false, false, false, false, false, false, false, false, false, false, false, false, false, false, false, false, false, false, false, false, false, false, false, false, false, false, false, false, false, false, false, false, false, false, false, false, false, false, false, false, false, false, false, false, false, false, false, false, false, false, false, false, false, true, false, false, false, false, false, false, false, false, false, false, false, false, false, false, false, false, false, false, false, false, false, false, false, false, false, false, false, false, false, false, false, false, false, false, false, false, false, false, false, false, false, false, false, false, false, false, false]}, {\"title\": \"Kingman Park\"}], \"label\": \"Kingman Park\", \"method\": \"update\"}, {\"args\": [{\"visible\": [false, false, false, false, false, false, false, false, false, false, false, false, false, false, false, false, false, false, false, false, false, false, false, false, false, false, false, false, false, false, false, false, false, false, false, false, false, false, false, false, false, false, false, false, false, false, false, false, false, false, false, false, false, false, false, false, false, false, false, false, false, false, false, true, false, false, false, false, false, false, false, false, false, false, false, false, false, false, false, false, false, false, false, false, false, false, false, false, false, false, false, false, false, false, false, false, false, false, false, false, false, false, false, false, false, false, false, false, false, false]}, {\"title\": \"Knox Hill\"}], \"label\": \"Knox Hill\", \"method\": \"update\"}, {\"args\": [{\"visible\": [false, false, false, false, false, false, false, false, false, false, false, false, false, false, false, false, false, false, false, false, false, false, false, false, false, false, false, false, false, false, false, false, false, false, false, false, false, false, false, false, false, false, false, false, false, false, false, false, false, false, false, false, false, false, false, false, false, false, false, false, false, false, false, false, true, false, false, false, false, false, false, false, false, false, false, false, false, false, false, false, false, false, false, false, false, false, false, false, false, false, false, false, false, false, false, false, false, false, false, false, false, false, false, false, false, false, false, false, false, false]}, {\"title\": \"Lamond Riggs\"}], \"label\": \"Lamond Riggs\", \"method\": \"update\"}, {\"args\": [{\"visible\": [false, false, false, false, false, false, false, false, false, false, false, false, false, false, false, false, false, false, false, false, false, false, false, false, false, false, false, false, false, false, false, false, false, false, false, false, false, false, false, false, false, false, false, false, false, false, false, false, false, false, false, false, false, false, false, false, false, false, false, false, false, false, false, false, false, true, false, false, false, false, false, false, false, false, false, false, false, false, false, false, false, false, false, false, false, false, false, false, false, false, false, false, false, false, false, false, false, false, false, false, false, false, false, false, false, false, false, false, false, false]}, {\"title\": \"Langdon\"}], \"label\": \"Langdon\", \"method\": \"update\"}, {\"args\": [{\"visible\": [false, false, false, false, false, false, false, false, false, false, false, false, false, false, false, false, false, false, false, false, false, false, false, false, false, false, false, false, false, false, false, false, false, false, false, false, false, false, false, false, false, false, false, false, false, false, false, false, false, false, false, false, false, false, false, false, false, false, false, false, false, false, false, false, false, false, true, false, false, false, false, false, false, false, false, false, false, false, false, false, false, false, false, false, false, false, false, false, false, false, false, false, false, false, false, false, false, false, false, false, false, false, false, false, false, false, false, false, false, false]}, {\"title\": \"LeDroit Park\"}], \"label\": \"LeDroit Park\", \"method\": \"update\"}, {\"args\": [{\"visible\": [false, false, false, false, false, false, false, false, false, false, false, false, false, false, false, false, false, false, false, false, false, false, false, false, false, false, false, false, false, false, false, false, false, false, false, false, false, false, false, false, false, false, false, false, false, false, false, false, false, false, false, false, false, false, false, false, false, false, false, false, false, false, false, false, false, false, false, true, false, false, false, false, false, false, false, false, false, false, false, false, false, false, false, false, false, false, false, false, false, false, false, false, false, false, false, false, false, false, false, false, false, false, false, false, false, false, false, false, false, false]}, {\"title\": \"Lincoln Heights\"}], \"label\": \"Lincoln Heights\", \"method\": \"update\"}, {\"args\": [{\"visible\": [false, false, false, false, false, false, false, false, false, false, false, false, false, false, false, false, false, false, false, false, false, false, false, false, false, false, false, false, false, false, false, false, false, false, false, false, false, false, false, false, false, false, false, false, false, false, false, false, false, false, false, false, false, false, false, false, false, false, false, false, false, false, false, false, false, false, false, false, true, false, false, false, false, false, false, false, false, false, false, false, false, false, false, false, false, false, false, false, false, false, false, false, false, false, false, false, false, false, false, false, false, false, false, false, false, false, false, false, false, false]}, {\"title\": \"Logan Circle\"}], \"label\": \"Logan Circle\", \"method\": \"update\"}, {\"args\": [{\"visible\": [false, false, false, false, false, false, false, false, false, false, false, false, false, false, false, false, false, false, false, false, false, false, false, false, false, false, false, false, false, false, false, false, false, false, false, false, false, false, false, false, false, false, false, false, false, false, false, false, false, false, false, false, false, false, false, false, false, false, false, false, false, false, false, false, false, false, false, false, false, true, false, false, false, false, false, false, false, false, false, false, false, false, false, false, false, false, false, false, false, false, false, false, false, false, false, false, false, false, false, false, false, false, false, false, false, false, false, false, false, false]}, {\"title\": \"Manor Park\"}], \"label\": \"Manor Park\", \"method\": \"update\"}, {\"args\": [{\"visible\": [false, false, false, false, false, false, false, false, false, false, false, false, false, false, false, false, false, false, false, false, false, false, false, false, false, false, false, false, false, false, false, false, false, false, false, false, false, false, false, false, false, false, false, false, false, false, false, false, false, false, false, false, false, false, false, false, false, false, false, false, false, false, false, false, false, false, false, false, false, false, true, false, false, false, false, false, false, false, false, false, false, false, false, false, false, false, false, false, false, false, false, false, false, false, false, false, false, false, false, false, false, false, false, false, false, false, false, false, false, false]}, {\"title\": \"Marshall Heights\"}], \"label\": \"Marshall Heights\", \"method\": \"update\"}, {\"args\": [{\"visible\": [false, false, false, false, false, false, false, false, false, false, false, false, false, false, false, false, false, false, false, false, false, false, false, false, false, false, false, false, false, false, false, false, false, false, false, false, false, false, false, false, false, false, false, false, false, false, false, false, false, false, false, false, false, false, false, false, false, false, false, false, false, false, false, false, false, false, false, false, false, false, false, true, false, false, false, false, false, false, false, false, false, false, false, false, false, false, false, false, false, false, false, false, false, false, false, false, false, false, false, false, false, false, false, false, false, false, false, false, false, false]}, {\"title\": \"Massachusetts Heights\"}], \"label\": \"Massachusetts Heights\", \"method\": \"update\"}, {\"args\": [{\"visible\": [false, false, false, false, false, false, false, false, false, false, false, false, false, false, false, false, false, false, false, false, false, false, false, false, false, false, false, false, false, false, false, false, false, false, false, false, false, false, false, false, false, false, false, false, false, false, false, false, false, false, false, false, false, false, false, false, false, false, false, false, false, false, false, false, false, false, false, false, false, false, false, false, true, false, false, false, false, false, false, false, false, false, false, false, false, false, false, false, false, false, false, false, false, false, false, false, false, false, false, false, false, false, false, false, false, false, false, false, false, false]}, {\"title\": \"Michigan Park\"}], \"label\": \"Michigan Park\", \"method\": \"update\"}, {\"args\": [{\"visible\": [false, false, false, false, false, false, false, false, false, false, false, false, false, false, false, false, false, false, false, false, false, false, false, false, false, false, false, false, false, false, false, false, false, false, false, false, false, false, false, false, false, false, false, false, false, false, false, false, false, false, false, false, false, false, false, false, false, false, false, false, false, false, false, false, false, false, false, false, false, false, false, false, false, true, false, false, false, false, false, false, false, false, false, false, false, false, false, false, false, false, false, false, false, false, false, false, false, false, false, false, false, false, false, false, false, false, false, false, false, false]}, {\"title\": \"Mount Pleasant\"}], \"label\": \"Mount Pleasant\", \"method\": \"update\"}, {\"args\": [{\"visible\": [false, false, false, false, false, false, false, false, false, false, false, false, false, false, false, false, false, false, false, false, false, false, false, false, false, false, false, false, false, false, false, false, false, false, false, false, false, false, false, false, false, false, false, false, false, false, false, false, false, false, false, false, false, false, false, false, false, false, false, false, false, false, false, false, false, false, false, false, false, false, false, false, false, false, true, false, false, false, false, false, false, false, false, false, false, false, false, false, false, false, false, false, false, false, false, false, false, false, false, false, false, false, false, false, false, false, false, false, false, false]}, {\"title\": \"Mount Vernon Square\"}], \"label\": \"Mount Vernon Square\", \"method\": \"update\"}, {\"args\": [{\"visible\": [false, false, false, false, false, false, false, false, false, false, false, false, false, false, false, false, false, false, false, false, false, false, false, false, false, false, false, false, false, false, false, false, false, false, false, false, false, false, false, false, false, false, false, false, false, false, false, false, false, false, false, false, false, false, false, false, false, false, false, false, false, false, false, false, false, false, false, false, false, false, false, false, false, false, false, true, false, false, false, false, false, false, false, false, false, false, false, false, false, false, false, false, false, false, false, false, false, false, false, false, false, false, false, false, false, false, false, false, false, false]}, {\"title\": \"Navy Yard\"}], \"label\": \"Navy Yard\", \"method\": \"update\"}, {\"args\": [{\"visible\": [false, false, false, false, false, false, false, false, false, false, false, false, false, false, false, false, false, false, false, false, false, false, false, false, false, false, false, false, false, false, false, false, false, false, false, false, false, false, false, false, false, false, false, false, false, false, false, false, false, false, false, false, false, false, false, false, false, false, false, false, false, false, false, false, false, false, false, false, false, false, false, false, false, false, false, false, true, false, false, false, false, false, false, false, false, false, false, false, false, false, false, false, false, false, false, false, false, false, false, false, false, false, false, false, false, false, false, false, false, false]}, {\"title\": \"Naylor Gardens\"}], \"label\": \"Naylor Gardens\", \"method\": \"update\"}, {\"args\": [{\"visible\": [false, false, false, false, false, false, false, false, false, false, false, false, false, false, false, false, false, false, false, false, false, false, false, false, false, false, false, false, false, false, false, false, false, false, false, false, false, false, false, false, false, false, false, false, false, false, false, false, false, false, false, false, false, false, false, false, false, false, false, false, false, false, false, false, false, false, false, false, false, false, false, false, false, false, false, false, false, true, false, false, false, false, false, false, false, false, false, false, false, false, false, false, false, false, false, false, false, false, false, false, false, false, false, false, false, false, false, false, false, false]}, {\"title\": \"Near Northeast/H Street Corridor\"}], \"label\": \"Near Northeast/H Street Corridor\", \"method\": \"update\"}, {\"args\": [{\"visible\": [false, false, false, false, false, false, false, false, false, false, false, false, false, false, false, false, false, false, false, false, false, false, false, false, false, false, false, false, false, false, false, false, false, false, false, false, false, false, false, false, false, false, false, false, false, false, false, false, false, false, false, false, false, false, false, false, false, false, false, false, false, false, false, false, false, false, false, false, false, false, false, false, false, false, false, false, false, false, true, false, false, false, false, false, false, false, false, false, false, false, false, false, false, false, false, false, false, false, false, false, false, false, false, false, false, false, false, false, false, false]}, {\"title\": \"North Cleveland Park\"}], \"label\": \"North Cleveland Park\", \"method\": \"update\"}, {\"args\": [{\"visible\": [false, false, false, false, false, false, false, false, false, false, false, false, false, false, false, false, false, false, false, false, false, false, false, false, false, false, false, false, false, false, false, false, false, false, false, false, false, false, false, false, false, false, false, false, false, false, false, false, false, false, false, false, false, false, false, false, false, false, false, false, false, false, false, false, false, false, false, false, false, false, false, false, false, false, false, false, false, false, false, true, false, false, false, false, false, false, false, false, false, false, false, false, false, false, false, false, false, false, false, false, false, false, false, false, false, false, false, false, false, false]}, {\"title\": \"North Michigan Park\"}], \"label\": \"North Michigan Park\", \"method\": \"update\"}, {\"args\": [{\"visible\": [false, false, false, false, false, false, false, false, false, false, false, false, false, false, false, false, false, false, false, false, false, false, false, false, false, false, false, false, false, false, false, false, false, false, false, false, false, false, false, false, false, false, false, false, false, false, false, false, false, false, false, false, false, false, false, false, false, false, false, false, false, false, false, false, false, false, false, false, false, false, false, false, false, false, false, false, false, false, false, false, true, false, false, false, false, false, false, false, false, false, false, false, false, false, false, false, false, false, false, false, false, false, false, false, false, false, false, false, false, false]}, {\"title\": \"Observatory Circle\"}], \"label\": \"Observatory Circle\", \"method\": \"update\"}, {\"args\": [{\"visible\": [false, false, false, false, false, false, false, false, false, false, false, false, false, false, false, false, false, false, false, false, false, false, false, false, false, false, false, false, false, false, false, false, false, false, false, false, false, false, false, false, false, false, false, false, false, false, false, false, false, false, false, false, false, false, false, false, false, false, false, false, false, false, false, false, false, false, false, false, false, false, false, false, false, false, false, false, false, false, false, false, false, true, false, false, false, false, false, false, false, false, false, false, false, false, false, false, false, false, false, false, false, false, false, false, false, false, false, false, false, false]}, {\"title\": \"Palisades\"}], \"label\": \"Palisades\", \"method\": \"update\"}, {\"args\": [{\"visible\": [false, false, false, false, false, false, false, false, false, false, false, false, false, false, false, false, false, false, false, false, false, false, false, false, false, false, false, false, false, false, false, false, false, false, false, false, false, false, false, false, false, false, false, false, false, false, false, false, false, false, false, false, false, false, false, false, false, false, false, false, false, false, false, false, false, false, false, false, false, false, false, false, false, false, false, false, false, false, false, false, false, false, true, false, false, false, false, false, false, false, false, false, false, false, false, false, false, false, false, false, false, false, false, false, false, false, false, false, false, false]}, {\"title\": \"Park View\"}], \"label\": \"Park View\", \"method\": \"update\"}, {\"args\": [{\"visible\": [false, false, false, false, false, false, false, false, false, false, false, false, false, false, false, false, false, false, false, false, false, false, false, false, false, false, false, false, false, false, false, false, false, false, false, false, false, false, false, false, false, false, false, false, false, false, false, false, false, false, false, false, false, false, false, false, false, false, false, false, false, false, false, false, false, false, false, false, false, false, false, false, false, false, false, false, false, false, false, false, false, false, false, true, false, false, false, false, false, false, false, false, false, false, false, false, false, false, false, false, false, false, false, false, false, false, false, false, false, false]}, {\"title\": \"Petworth\"}], \"label\": \"Petworth\", \"method\": \"update\"}, {\"args\": [{\"visible\": [false, false, false, false, false, false, false, false, false, false, false, false, false, false, false, false, false, false, false, false, false, false, false, false, false, false, false, false, false, false, false, false, false, false, false, false, false, false, false, false, false, false, false, false, false, false, false, false, false, false, false, false, false, false, false, false, false, false, false, false, false, false, false, false, false, false, false, false, false, false, false, false, false, false, false, false, false, false, false, false, false, false, false, false, true, false, false, false, false, false, false, false, false, false, false, false, false, false, false, false, false, false, false, false, false, false, false, false, false, false]}, {\"title\": \"Pleasant Hill\"}], \"label\": \"Pleasant Hill\", \"method\": \"update\"}, {\"args\": [{\"visible\": [false, false, false, false, false, false, false, false, false, false, false, false, false, false, false, false, false, false, false, false, false, false, false, false, false, false, false, false, false, false, false, false, false, false, false, false, false, false, false, false, false, false, false, false, false, false, false, false, false, false, false, false, false, false, false, false, false, false, false, false, false, false, false, false, false, false, false, false, false, false, false, false, false, false, false, false, false, false, false, false, false, false, false, false, false, true, false, false, false, false, false, false, false, false, false, false, false, false, false, false, false, false, false, false, false, false, false, false, false, false]}, {\"title\": \"Pleasant Plains\"}], \"label\": \"Pleasant Plains\", \"method\": \"update\"}, {\"args\": [{\"visible\": [false, false, false, false, false, false, false, false, false, false, false, false, false, false, false, false, false, false, false, false, false, false, false, false, false, false, false, false, false, false, false, false, false, false, false, false, false, false, false, false, false, false, false, false, false, false, false, false, false, false, false, false, false, false, false, false, false, false, false, false, false, false, false, false, false, false, false, false, false, false, false, false, false, false, false, false, false, false, false, false, false, false, false, false, false, false, true, false, false, false, false, false, false, false, false, false, false, false, false, false, false, false, false, false, false, false, false, false, false, false]}, {\"title\": \"Randle Highlands\"}], \"label\": \"Randle Highlands\", \"method\": \"update\"}, {\"args\": [{\"visible\": [false, false, false, false, false, false, false, false, false, false, false, false, false, false, false, false, false, false, false, false, false, false, false, false, false, false, false, false, false, false, false, false, false, false, false, false, false, false, false, false, false, false, false, false, false, false, false, false, false, false, false, false, false, false, false, false, false, false, false, false, false, false, false, false, false, false, false, false, false, false, false, false, false, false, false, false, false, false, false, false, false, false, false, false, false, false, false, true, false, false, false, false, false, false, false, false, false, false, false, false, false, false, false, false, false, false, false, false, false, false]}, {\"title\": \"River Terrace\"}], \"label\": \"River Terrace\", \"method\": \"update\"}, {\"args\": [{\"visible\": [false, false, false, false, false, false, false, false, false, false, false, false, false, false, false, false, false, false, false, false, false, false, false, false, false, false, false, false, false, false, false, false, false, false, false, false, false, false, false, false, false, false, false, false, false, false, false, false, false, false, false, false, false, false, false, false, false, false, false, false, false, false, false, false, false, false, false, false, false, false, false, false, false, false, false, false, false, false, false, false, false, false, false, false, false, false, false, false, true, false, false, false, false, false, false, false, false, false, false, false, false, false, false, false, false, false, false, false, false, false]}, {\"title\": \"Shaw\"}], \"label\": \"Shaw\", \"method\": \"update\"}, {\"args\": [{\"visible\": [false, false, false, false, false, false, false, false, false, false, false, false, false, false, false, false, false, false, false, false, false, false, false, false, false, false, false, false, false, false, false, false, false, false, false, false, false, false, false, false, false, false, false, false, false, false, false, false, false, false, false, false, false, false, false, false, false, false, false, false, false, false, false, false, false, false, false, false, false, false, false, false, false, false, false, false, false, false, false, false, false, false, false, false, false, false, false, false, false, true, false, false, false, false, false, false, false, false, false, false, false, false, false, false, false, false, false, false, false, false]}, {\"title\": \"Shepherd Park\"}], \"label\": \"Shepherd Park\", \"method\": \"update\"}, {\"args\": [{\"visible\": [false, false, false, false, false, false, false, false, false, false, false, false, false, false, false, false, false, false, false, false, false, false, false, false, false, false, false, false, false, false, false, false, false, false, false, false, false, false, false, false, false, false, false, false, false, false, false, false, false, false, false, false, false, false, false, false, false, false, false, false, false, false, false, false, false, false, false, false, false, false, false, false, false, false, false, false, false, false, false, false, false, false, false, false, false, false, false, false, false, false, true, false, false, false, false, false, false, false, false, false, false, false, false, false, false, false, false, false, false, false]}, {\"title\": \"Shipley Terrace\"}], \"label\": \"Shipley Terrace\", \"method\": \"update\"}, {\"args\": [{\"visible\": [false, false, false, false, false, false, false, false, false, false, false, false, false, false, false, false, false, false, false, false, false, false, false, false, false, false, false, false, false, false, false, false, false, false, false, false, false, false, false, false, false, false, false, false, false, false, false, false, false, false, false, false, false, false, false, false, false, false, false, false, false, false, false, false, false, false, false, false, false, false, false, false, false, false, false, false, false, false, false, false, false, false, false, false, false, false, false, false, false, false, false, true, false, false, false, false, false, false, false, false, false, false, false, false, false, false, false, false, false, false]}, {\"title\": \"Skyland\"}], \"label\": \"Skyland\", \"method\": \"update\"}, {\"args\": [{\"visible\": [false, false, false, false, false, false, false, false, false, false, false, false, false, false, false, false, false, false, false, false, false, false, false, false, false, false, false, false, false, false, false, false, false, false, false, false, false, false, false, false, false, false, false, false, false, false, false, false, false, false, false, false, false, false, false, false, false, false, false, false, false, false, false, false, false, false, false, false, false, false, false, false, false, false, false, false, false, false, false, false, false, false, false, false, false, false, false, false, false, false, false, false, true, false, false, false, false, false, false, false, false, false, false, false, false, false, false, false, false, false]}, {\"title\": \"Southwest Waterfront\"}], \"label\": \"Southwest Waterfront\", \"method\": \"update\"}, {\"args\": [{\"visible\": [false, false, false, false, false, false, false, false, false, false, false, false, false, false, false, false, false, false, false, false, false, false, false, false, false, false, false, false, false, false, false, false, false, false, false, false, false, false, false, false, false, false, false, false, false, false, false, false, false, false, false, false, false, false, false, false, false, false, false, false, false, false, false, false, false, false, false, false, false, false, false, false, false, false, false, false, false, false, false, false, false, false, false, false, false, false, false, false, false, false, false, false, false, true, false, false, false, false, false, false, false, false, false, false, false, false, false, false, false, false]}, {\"title\": \"Spring Valley\"}], \"label\": \"Spring Valley\", \"method\": \"update\"}, {\"args\": [{\"visible\": [false, false, false, false, false, false, false, false, false, false, false, false, false, false, false, false, false, false, false, false, false, false, false, false, false, false, false, false, false, false, false, false, false, false, false, false, false, false, false, false, false, false, false, false, false, false, false, false, false, false, false, false, false, false, false, false, false, false, false, false, false, false, false, false, false, false, false, false, false, false, false, false, false, false, false, false, false, false, false, false, false, false, false, false, false, false, false, false, false, false, false, false, false, false, true, false, false, false, false, false, false, false, false, false, false, false, false, false, false, false]}, {\"title\": \"St. Elizabeths\"}], \"label\": \"St. Elizabeths\", \"method\": \"update\"}, {\"args\": [{\"visible\": [false, false, false, false, false, false, false, false, false, false, false, false, false, false, false, false, false, false, false, false, false, false, false, false, false, false, false, false, false, false, false, false, false, false, false, false, false, false, false, false, false, false, false, false, false, false, false, false, false, false, false, false, false, false, false, false, false, false, false, false, false, false, false, false, false, false, false, false, false, false, false, false, false, false, false, false, false, false, false, false, false, false, false, false, false, false, false, false, false, false, false, false, false, false, false, true, false, false, false, false, false, false, false, false, false, false, false, false, false, false]}, {\"title\": \"Stronghold\"}], \"label\": \"Stronghold\", \"method\": \"update\"}, {\"args\": [{\"visible\": [false, false, false, false, false, false, false, false, false, false, false, false, false, false, false, false, false, false, false, false, false, false, false, false, false, false, false, false, false, false, false, false, false, false, false, false, false, false, false, false, false, false, false, false, false, false, false, false, false, false, false, false, false, false, false, false, false, false, false, false, false, false, false, false, false, false, false, false, false, false, false, false, false, false, false, false, false, false, false, false, false, false, false, false, false, false, false, false, false, false, false, false, false, false, false, false, true, false, false, false, false, false, false, false, false, false, false, false, false, false]}, {\"title\": \"Takoma\"}], \"label\": \"Takoma\", \"method\": \"update\"}, {\"args\": [{\"visible\": [false, false, false, false, false, false, false, false, false, false, false, false, false, false, false, false, false, false, false, false, false, false, false, false, false, false, false, false, false, false, false, false, false, false, false, false, false, false, false, false, false, false, false, false, false, false, false, false, false, false, false, false, false, false, false, false, false, false, false, false, false, false, false, false, false, false, false, false, false, false, false, false, false, false, false, false, false, false, false, false, false, false, false, false, false, false, false, false, false, false, false, false, false, false, false, false, false, true, false, false, false, false, false, false, false, false, false, false, false, false]}, {\"title\": \"Takoma Park, MD\"}], \"label\": \"Takoma Park, MD\", \"method\": \"update\"}, {\"args\": [{\"visible\": [false, false, false, false, false, false, false, false, false, false, false, false, false, false, false, false, false, false, false, false, false, false, false, false, false, false, false, false, false, false, false, false, false, false, false, false, false, false, false, false, false, false, false, false, false, false, false, false, false, false, false, false, false, false, false, false, false, false, false, false, false, false, false, false, false, false, false, false, false, false, false, false, false, false, false, false, false, false, false, false, false, false, false, false, false, false, false, false, false, false, false, false, false, false, false, false, false, false, true, false, false, false, false, false, false, false, false, false, false, false]}, {\"title\": \"Tenleytown\"}], \"label\": \"Tenleytown\", \"method\": \"update\"}, {\"args\": [{\"visible\": [false, false, false, false, false, false, false, false, false, false, false, false, false, false, false, false, false, false, false, false, false, false, false, false, false, false, false, false, false, false, false, false, false, false, false, false, false, false, false, false, false, false, false, false, false, false, false, false, false, false, false, false, false, false, false, false, false, false, false, false, false, false, false, false, false, false, false, false, false, false, false, false, false, false, false, false, false, false, false, false, false, false, false, false, false, false, false, false, false, false, false, false, false, false, false, false, false, false, false, true, false, false, false, false, false, false, false, false, false, false]}, {\"title\": \"Trinidad\"}], \"label\": \"Trinidad\", \"method\": \"update\"}, {\"args\": [{\"visible\": [false, false, false, false, false, false, false, false, false, false, false, false, false, false, false, false, false, false, false, false, false, false, false, false, false, false, false, false, false, false, false, false, false, false, false, false, false, false, false, false, false, false, false, false, false, false, false, false, false, false, false, false, false, false, false, false, false, false, false, false, false, false, false, false, false, false, false, false, false, false, false, false, false, false, false, false, false, false, false, false, false, false, false, false, false, false, false, false, false, false, false, false, false, false, false, false, false, false, false, false, true, false, false, false, false, false, false, false, false, false]}, {\"title\": \"Truxton Circle\"}], \"label\": \"Truxton Circle\", \"method\": \"update\"}, {\"args\": [{\"visible\": [false, false, false, false, false, false, false, false, false, false, false, false, false, false, false, false, false, false, false, false, false, false, false, false, false, false, false, false, false, false, false, false, false, false, false, false, false, false, false, false, false, false, false, false, false, false, false, false, false, false, false, false, false, false, false, false, false, false, false, false, false, false, false, false, false, false, false, false, false, false, false, false, false, false, false, false, false, false, false, false, false, false, false, false, false, false, false, false, false, false, false, false, false, false, false, false, false, false, false, false, false, true, false, false, false, false, false, false, false, false]}, {\"title\": \"Twining\"}], \"label\": \"Twining\", \"method\": \"update\"}, {\"args\": [{\"visible\": [false, false, false, false, false, false, false, false, false, false, false, false, false, false, false, false, false, false, false, false, false, false, false, false, false, false, false, false, false, false, false, false, false, false, false, false, false, false, false, false, false, false, false, false, false, false, false, false, false, false, false, false, false, false, false, false, false, false, false, false, false, false, false, false, false, false, false, false, false, false, false, false, false, false, false, false, false, false, false, false, false, false, false, false, false, false, false, false, false, false, false, false, false, false, false, false, false, false, false, false, false, false, true, false, false, false, false, false, false, false]}, {\"title\": \"U Street Corridor\"}], \"label\": \"U Street Corridor\", \"method\": \"update\"}, {\"args\": [{\"visible\": [false, false, false, false, false, false, false, false, false, false, false, false, false, false, false, false, false, false, false, false, false, false, false, false, false, false, false, false, false, false, false, false, false, false, false, false, false, false, false, false, false, false, false, false, false, false, false, false, false, false, false, false, false, false, false, false, false, false, false, false, false, false, false, false, false, false, false, false, false, false, false, false, false, false, false, false, false, false, false, false, false, false, false, false, false, false, false, false, false, false, false, false, false, false, false, false, false, false, false, false, false, false, false, true, false, false, false, false, false, false]}, {\"title\": \"Washington Highlands\"}], \"label\": \"Washington Highlands\", \"method\": \"update\"}, {\"args\": [{\"visible\": [false, false, false, false, false, false, false, false, false, false, false, false, false, false, false, false, false, false, false, false, false, false, false, false, false, false, false, false, false, false, false, false, false, false, false, false, false, false, false, false, false, false, false, false, false, false, false, false, false, false, false, false, false, false, false, false, false, false, false, false, false, false, false, false, false, false, false, false, false, false, false, false, false, false, false, false, false, false, false, false, false, false, false, false, false, false, false, false, false, false, false, false, false, false, false, false, false, false, false, false, false, false, false, false, true, false, false, false, false, false]}, {\"title\": \"Wesley Heights\"}], \"label\": \"Wesley Heights\", \"method\": \"update\"}, {\"args\": [{\"visible\": [false, false, false, false, false, false, false, false, false, false, false, false, false, false, false, false, false, false, false, false, false, false, false, false, false, false, false, false, false, false, false, false, false, false, false, false, false, false, false, false, false, false, false, false, false, false, false, false, false, false, false, false, false, false, false, false, false, false, false, false, false, false, false, false, false, false, false, false, false, false, false, false, false, false, false, false, false, false, false, false, false, false, false, false, false, false, false, false, false, false, false, false, false, false, false, false, false, false, false, false, false, false, false, false, false, true, false, false, false, false]}, {\"title\": \"West End\"}], \"label\": \"West End\", \"method\": \"update\"}, {\"args\": [{\"visible\": [false, false, false, false, false, false, false, false, false, false, false, false, false, false, false, false, false, false, false, false, false, false, false, false, false, false, false, false, false, false, false, false, false, false, false, false, false, false, false, false, false, false, false, false, false, false, false, false, false, false, false, false, false, false, false, false, false, false, false, false, false, false, false, false, false, false, false, false, false, false, false, false, false, false, false, false, false, false, false, false, false, false, false, false, false, false, false, false, false, false, false, false, false, false, false, false, false, false, false, false, false, false, false, false, false, false, true, false, false, false]}, {\"title\": \"Woodland\"}], \"label\": \"Woodland\", \"method\": \"update\"}, {\"args\": [{\"visible\": [false, false, false, false, false, false, false, false, false, false, false, false, false, false, false, false, false, false, false, false, false, false, false, false, false, false, false, false, false, false, false, false, false, false, false, false, false, false, false, false, false, false, false, false, false, false, false, false, false, false, false, false, false, false, false, false, false, false, false, false, false, false, false, false, false, false, false, false, false, false, false, false, false, false, false, false, false, false, false, false, false, false, false, false, false, false, false, false, false, false, false, false, false, false, false, false, false, false, false, false, false, false, false, false, false, false, false, true, false, false]}, {\"title\": \"Woodland-Normanstone Terrace\"}], \"label\": \"Woodland-Normanstone Terrace\", \"method\": \"update\"}, {\"args\": [{\"visible\": [false, false, false, false, false, false, false, false, false, false, false, false, false, false, false, false, false, false, false, false, false, false, false, false, false, false, false, false, false, false, false, false, false, false, false, false, false, false, false, false, false, false, false, false, false, false, false, false, false, false, false, false, false, false, false, false, false, false, false, false, false, false, false, false, false, false, false, false, false, false, false, false, false, false, false, false, false, false, false, false, false, false, false, false, false, false, false, false, false, false, false, false, false, false, false, false, false, false, false, false, false, false, false, false, false, false, false, false, true, false]}, {\"title\": \"Woodley Park\"}], \"label\": \"Woodley Park\", \"method\": \"update\"}, {\"args\": [{\"visible\": [false, false, false, false, false, false, false, false, false, false, false, false, false, false, false, false, false, false, false, false, false, false, false, false, false, false, false, false, false, false, false, false, false, false, false, false, false, false, false, false, false, false, false, false, false, false, false, false, false, false, false, false, false, false, false, false, false, false, false, false, false, false, false, false, false, false, false, false, false, false, false, false, false, false, false, false, false, false, false, false, false, false, false, false, false, false, false, false, false, false, false, false, false, false, false, false, false, false, false, false, false, false, false, false, false, false, false, false, false, true]}, {\"title\": \"Woodridge\"}], \"label\": \"Woodridge\", \"method\": \"update\"}], \"showactive\": false, \"x\": 1, \"y\": 1.15, \"yanchor\": \"top\"}], \"width\": 800, \"xaxis\": {\"gridcolor\": \"#d3d3d3\", \"title\": {\"text\": \"\"}, \"type\": \"date\"}, \"yaxis\": {\"gridcolor\": \"#d3d3d3\", \"range\": [0, 1200], \"title\": {\"text\": \"<b>Count</b>\"}, \"type\": \"linear\"}},\n",
       "                        {\"responsive\": true}\n",
       "                    ).then(function(){\n",
       "                            \n",
       "var gd = document.getElementById('63ec1d7a-9fa1-4cd3-b8a8-19c0a9304a43');\n",
       "var x = new MutationObserver(function (mutations, observer) {{\n",
       "        var display = window.getComputedStyle(gd).display;\n",
       "        if (!display || display === 'none') {{\n",
       "            console.log([gd, 'removed!']);\n",
       "            Plotly.purge(gd);\n",
       "            observer.disconnect();\n",
       "        }}\n",
       "}});\n",
       "\n",
       "// Listen for the removal of the full notebook cells\n",
       "var notebookContainer = gd.closest('#notebook-container');\n",
       "if (notebookContainer) {{\n",
       "    x.observe(notebookContainer, {childList: true});\n",
       "}}\n",
       "\n",
       "// Listen for the clearing of the current output cell\n",
       "var outputEl = gd.closest('.output');\n",
       "if (outputEl) {{\n",
       "    x.observe(outputEl, {childList: true});\n",
       "}}\n",
       "\n",
       "                        })\n",
       "                };\n",
       "                });\n",
       "            </script>\n",
       "        </div>"
      ]
     },
     "metadata": {},
     "output_type": "display_data"
    }
   ],
   "source": [
    "\n",
    "fig = go.Figure()\n",
    "\n",
    "\n",
    "for i, d in enumerate(data_list):\n",
    "    \n",
    "    fig.add_trace(go.Scatter( x=d[\"firstreview_modified_year\"], \n",
    "                                y=d[\"listings_cumulative\"], \n",
    "                                mode = \"lines+markers\",\n",
    "                                marker_color=\"blue\",\n",
    "                                text=d['neighbourhood'],\n",
    "                                showlegend= True, \n",
    "                                legendgroup = labels[i],\n",
    "                            name = \"listings\")\n",
    "                  \n",
    "                                )\n",
    "\n",
    "for i, d in enumerate(data_host):\n",
    "    \n",
    "    fig.add_trace(go.Scatter( x=d[\"hostsince_year\"], \n",
    "                                y=d[\"hosts_cumulative\"], \n",
    "                                mode = \"lines+markers\",\n",
    "                                #line=dict(color=hh['neighbourhood']),\n",
    "                                marker_color=\"black\",\n",
    "                                text=d['neighbourhood'], \n",
    "                            legendgroup = labels[i],\n",
    "                            name = \"hosts\")\n",
    "                                \n",
    "                                )\n",
    "    \n",
    "\n",
    "    \n",
    "### Create buttons for drop down menu\n",
    "buttons = []\n",
    "for i, label in enumerate(labels):\n",
    "    visibility = [i==j for j in range(len(labels))]\n",
    "    button = dict(\n",
    "                 label =  label,\n",
    "                 method = 'update',\n",
    "                 args = [{'visible': visibility},\n",
    "                     {'title': label}])\n",
    "    buttons.append(button)\n",
    "\n",
    "updatemenus = list([\n",
    "    dict(x = 1,\n",
    "        y = 1.15,\n",
    "        #xref = 'paper',\n",
    "        #yref = 'paper',\n",
    "        yanchor = 'top',\n",
    "        active = 1,\n",
    "        showactive = False,\n",
    "        buttons = buttons\n",
    "    )\n",
    "])\n",
    "\n",
    "#fig['layout']['title'] = 'Number of Listings vs Hosts by Neighbourhood'\n",
    "#fig['layout']['showlegend'] = True\n",
    "#fig['layout']['updatemenus'] = updatemenus\n",
    "\n",
    "fig['layout']['title'] = '<b>Number of Listings vs Hosts by Neighbourhood</b>'\n",
    "fig['layout']['xaxis']['title'] = ''\n",
    "fig['layout']['xaxis']['type'] = 'date'\n",
    "fig['layout']['xaxis']['gridcolor'] = '#d3d3d3'\n",
    "fig['layout']['yaxis']['title'] = '<b>Count</b>'\n",
    "fig['layout']['yaxis']['type'] = 'linear'\n",
    "fig['layout']['yaxis']['range'] = [0,1200]\n",
    "fig['layout']['yaxis']['gridcolor'] = '#d3d3d3'\n",
    "fig['layout'][\"plot_bgcolor\"]= 'rgb(240, 240, 240)'\n",
    "fig['layout'][\"width\"]= 800\n",
    "fig['layout'][\"height\"] = 400\n",
    "fig['layout']['showlegend'] = False\n",
    "\n",
    "fig['layout']['updatemenus'] = updatemenus\n",
    "\n",
    "\n",
    "plotly.offline.plot(fig, \"listings.html\")\n",
    "fig.show()\n",
    "    "
   ]
  },
  {
   "cell_type": "code",
   "execution_count": null,
   "metadata": {},
   "outputs": [],
   "source": [
    "- legend labels\n",
    "- title"
   ]
  },
  {
   "cell_type": "code",
   "execution_count": null,
   "metadata": {},
   "outputs": [],
   "source": [
    "fig['layout']['title'] = '<b>Number of Listings vs Hosts by Neighbourhood</b>'\n",
    "fig['layout']['xaxis']['title'] = '<b>Year</b>'\n",
    "fig['layout']['xaxis']['gridcolor'] = '#d3d3d3'\n",
    "fig['layout']['yaxis']['title'] = '<b>Count</b>'\n",
    "fig['layout']['yaxis']['range'] = [0,1200]\n",
    "fig['layout']['yaxis']['gridcolor'] = '#d3d3d3'\n",
    "fig['layout'][\"plot_bgcolor\"]= \"white\"\n",
    "fig['layout'][\"width\"]= 800\n",
    "fig['layout'][\"height\"] = 400\n",
    "\n",
    "\n",
    "\n",
    "layout = list([\n",
    "    dict(\n",
    "        paper_bgcolor = 'rgb(240, 240, 240)',\n",
    "        plot_bgcolor = 'rgb(240, 240, 240)',\n",
    "        title = '<b>Number of Listings vs Hosts by Neighbourhood</b>'\n",
    "        xaxis = dict(\n",
    "            title = '',\n",
    "            type = 'date'),\n",
    "        yaxis = dict(\n",
    "    title = 'Count',\n",
    "    type = 'linear'))])\n",
    "        "
   ]
  },
  {
   "cell_type": "code",
   "execution_count": 115,
   "metadata": {},
   "outputs": [],
   "source": [
    "#create new df for modified listings aggregrate and new column for cumsum\n",
    "\n",
    "listdata = listings.groupby(['firstreview_modified_year']).firstreview_modified_year.agg('count').to_frame('list_count').reset_index()\n",
    "listdata['list_total'] = listdata.list_count.cumsum()"
   ]
  },
  {
   "cell_type": "code",
   "execution_count": 116,
   "metadata": {},
   "outputs": [
    {
     "data": {
      "text/html": [
       "<div>\n",
       "<style scoped>\n",
       "    .dataframe tbody tr th:only-of-type {\n",
       "        vertical-align: middle;\n",
       "    }\n",
       "\n",
       "    .dataframe tbody tr th {\n",
       "        vertical-align: top;\n",
       "    }\n",
       "\n",
       "    .dataframe thead th {\n",
       "        text-align: right;\n",
       "    }\n",
       "</style>\n",
       "<table border=\"1\" class=\"dataframe\">\n",
       "  <thead>\n",
       "    <tr style=\"text-align: right;\">\n",
       "      <th></th>\n",
       "      <th>firstreview_modified_year</th>\n",
       "      <th>list_count</th>\n",
       "      <th>list_total</th>\n",
       "    </tr>\n",
       "  </thead>\n",
       "  <tbody>\n",
       "    <tr>\n",
       "      <th>0</th>\n",
       "      <td>2008</td>\n",
       "      <td>4</td>\n",
       "      <td>4</td>\n",
       "    </tr>\n",
       "    <tr>\n",
       "      <th>1</th>\n",
       "      <td>2009</td>\n",
       "      <td>30</td>\n",
       "      <td>34</td>\n",
       "    </tr>\n",
       "    <tr>\n",
       "      <th>2</th>\n",
       "      <td>2010</td>\n",
       "      <td>36</td>\n",
       "      <td>70</td>\n",
       "    </tr>\n",
       "    <tr>\n",
       "      <th>3</th>\n",
       "      <td>2011</td>\n",
       "      <td>69</td>\n",
       "      <td>139</td>\n",
       "    </tr>\n",
       "    <tr>\n",
       "      <th>4</th>\n",
       "      <td>2012</td>\n",
       "      <td>154</td>\n",
       "      <td>293</td>\n",
       "    </tr>\n",
       "    <tr>\n",
       "      <th>5</th>\n",
       "      <td>2013</td>\n",
       "      <td>353</td>\n",
       "      <td>646</td>\n",
       "    </tr>\n",
       "    <tr>\n",
       "      <th>6</th>\n",
       "      <td>2014</td>\n",
       "      <td>595</td>\n",
       "      <td>1241</td>\n",
       "    </tr>\n",
       "    <tr>\n",
       "      <th>7</th>\n",
       "      <td>2015</td>\n",
       "      <td>1178</td>\n",
       "      <td>2419</td>\n",
       "    </tr>\n",
       "    <tr>\n",
       "      <th>8</th>\n",
       "      <td>2016</td>\n",
       "      <td>1657</td>\n",
       "      <td>4076</td>\n",
       "    </tr>\n",
       "    <tr>\n",
       "      <th>9</th>\n",
       "      <td>2017</td>\n",
       "      <td>1931</td>\n",
       "      <td>6007</td>\n",
       "    </tr>\n",
       "    <tr>\n",
       "      <th>10</th>\n",
       "      <td>2018</td>\n",
       "      <td>1839</td>\n",
       "      <td>7846</td>\n",
       "    </tr>\n",
       "    <tr>\n",
       "      <th>11</th>\n",
       "      <td>2019</td>\n",
       "      <td>1235</td>\n",
       "      <td>9081</td>\n",
       "    </tr>\n",
       "  </tbody>\n",
       "</table>\n",
       "</div>"
      ],
      "text/plain": [
       "   firstreview_modified_year  list_count  list_total\n",
       "0                       2008           4           4\n",
       "1                       2009          30          34\n",
       "2                       2010          36          70\n",
       "3                       2011          69         139\n",
       "4                       2012         154         293\n",
       "5                       2013         353         646\n",
       "6                       2014         595        1241\n",
       "7                       2015        1178        2419\n",
       "8                       2016        1657        4076\n",
       "9                       2017        1931        6007\n",
       "10                      2018        1839        7846\n",
       "11                      2019        1235        9081"
      ]
     },
     "execution_count": 116,
     "metadata": {},
     "output_type": "execute_result"
    }
   ],
   "source": [
    "listdata"
   ]
  },
  {
   "cell_type": "code",
   "execution_count": 118,
   "metadata": {},
   "outputs": [
    {
     "data": {
      "text/html": [
       "<div>\n",
       "<style scoped>\n",
       "    .dataframe tbody tr th:only-of-type {\n",
       "        vertical-align: middle;\n",
       "    }\n",
       "\n",
       "    .dataframe tbody tr th {\n",
       "        vertical-align: top;\n",
       "    }\n",
       "\n",
       "    .dataframe thead th {\n",
       "        text-align: right;\n",
       "    }\n",
       "</style>\n",
       "<table border=\"1\" class=\"dataframe\">\n",
       "  <thead>\n",
       "    <tr style=\"text-align: right;\">\n",
       "      <th></th>\n",
       "      <th>hostsince_year</th>\n",
       "      <th>host_count</th>\n",
       "      <th>host_total</th>\n",
       "    </tr>\n",
       "  </thead>\n",
       "  <tbody>\n",
       "    <tr>\n",
       "      <th>0</th>\n",
       "      <td>2008</td>\n",
       "      <td>24</td>\n",
       "      <td>24</td>\n",
       "    </tr>\n",
       "    <tr>\n",
       "      <th>1</th>\n",
       "      <td>2009</td>\n",
       "      <td>36</td>\n",
       "      <td>60</td>\n",
       "    </tr>\n",
       "    <tr>\n",
       "      <th>2</th>\n",
       "      <td>2010</td>\n",
       "      <td>73</td>\n",
       "      <td>133</td>\n",
       "    </tr>\n",
       "    <tr>\n",
       "      <th>3</th>\n",
       "      <td>2011</td>\n",
       "      <td>248</td>\n",
       "      <td>381</td>\n",
       "    </tr>\n",
       "    <tr>\n",
       "      <th>4</th>\n",
       "      <td>2012</td>\n",
       "      <td>469</td>\n",
       "      <td>850</td>\n",
       "    </tr>\n",
       "    <tr>\n",
       "      <th>5</th>\n",
       "      <td>2013</td>\n",
       "      <td>796</td>\n",
       "      <td>1646</td>\n",
       "    </tr>\n",
       "    <tr>\n",
       "      <th>6</th>\n",
       "      <td>2014</td>\n",
       "      <td>1095</td>\n",
       "      <td>2741</td>\n",
       "    </tr>\n",
       "    <tr>\n",
       "      <th>7</th>\n",
       "      <td>2015</td>\n",
       "      <td>1143</td>\n",
       "      <td>3884</td>\n",
       "    </tr>\n",
       "    <tr>\n",
       "      <th>8</th>\n",
       "      <td>2016</td>\n",
       "      <td>1105</td>\n",
       "      <td>4989</td>\n",
       "    </tr>\n",
       "    <tr>\n",
       "      <th>9</th>\n",
       "      <td>2017</td>\n",
       "      <td>526</td>\n",
       "      <td>5515</td>\n",
       "    </tr>\n",
       "    <tr>\n",
       "      <th>10</th>\n",
       "      <td>2018</td>\n",
       "      <td>331</td>\n",
       "      <td>5846</td>\n",
       "    </tr>\n",
       "    <tr>\n",
       "      <th>11</th>\n",
       "      <td>2019</td>\n",
       "      <td>171</td>\n",
       "      <td>6017</td>\n",
       "    </tr>\n",
       "  </tbody>\n",
       "</table>\n",
       "</div>"
      ],
      "text/plain": [
       "   hostsince_year  host_count  host_total\n",
       "0            2008          24          24\n",
       "1            2009          36          60\n",
       "2            2010          73         133\n",
       "3            2011         248         381\n",
       "4            2012         469         850\n",
       "5            2013         796        1646\n",
       "6            2014        1095        2741\n",
       "7            2015        1143        3884\n",
       "8            2016        1105        4989\n",
       "9            2017         526        5515\n",
       "10           2018         331        5846\n",
       "11           2019         171        6017"
      ]
     },
     "execution_count": 118,
     "metadata": {},
     "output_type": "execute_result"
    }
   ],
   "source": [
    "hostdata = hostdata.dropna()\n",
    "hostdata = hostdata.groupby(['hostsince_year']).hostsince_year.agg('count').to_frame('host_count').reset_index()\n",
    "hostdata['host_total'] = hostdata.host_count.cumsum()\n",
    "\n",
    "hostdata"
   ]
  },
  {
   "cell_type": "code",
   "execution_count": 119,
   "metadata": {},
   "outputs": [],
   "source": [
    "df = pd.concat([listdata, hostdata], axis=1)"
   ]
  },
  {
   "cell_type": "code",
   "execution_count": 121,
   "metadata": {},
   "outputs": [
    {
     "data": {
      "text/html": [
       "<div>\n",
       "<style scoped>\n",
       "    .dataframe tbody tr th:only-of-type {\n",
       "        vertical-align: middle;\n",
       "    }\n",
       "\n",
       "    .dataframe tbody tr th {\n",
       "        vertical-align: top;\n",
       "    }\n",
       "\n",
       "    .dataframe thead th {\n",
       "        text-align: right;\n",
       "    }\n",
       "</style>\n",
       "<table border=\"1\" class=\"dataframe\">\n",
       "  <thead>\n",
       "    <tr style=\"text-align: right;\">\n",
       "      <th></th>\n",
       "      <th>firstreview_modified_year</th>\n",
       "      <th>list_count</th>\n",
       "      <th>list_total</th>\n",
       "      <th>host_count</th>\n",
       "      <th>host_total</th>\n",
       "    </tr>\n",
       "  </thead>\n",
       "  <tbody>\n",
       "    <tr>\n",
       "      <th>0</th>\n",
       "      <td>2008</td>\n",
       "      <td>4</td>\n",
       "      <td>4</td>\n",
       "      <td>24</td>\n",
       "      <td>24</td>\n",
       "    </tr>\n",
       "    <tr>\n",
       "      <th>1</th>\n",
       "      <td>2009</td>\n",
       "      <td>30</td>\n",
       "      <td>34</td>\n",
       "      <td>36</td>\n",
       "      <td>60</td>\n",
       "    </tr>\n",
       "    <tr>\n",
       "      <th>2</th>\n",
       "      <td>2010</td>\n",
       "      <td>36</td>\n",
       "      <td>70</td>\n",
       "      <td>73</td>\n",
       "      <td>133</td>\n",
       "    </tr>\n",
       "    <tr>\n",
       "      <th>3</th>\n",
       "      <td>2011</td>\n",
       "      <td>69</td>\n",
       "      <td>139</td>\n",
       "      <td>248</td>\n",
       "      <td>381</td>\n",
       "    </tr>\n",
       "    <tr>\n",
       "      <th>4</th>\n",
       "      <td>2012</td>\n",
       "      <td>154</td>\n",
       "      <td>293</td>\n",
       "      <td>469</td>\n",
       "      <td>850</td>\n",
       "    </tr>\n",
       "    <tr>\n",
       "      <th>5</th>\n",
       "      <td>2013</td>\n",
       "      <td>353</td>\n",
       "      <td>646</td>\n",
       "      <td>796</td>\n",
       "      <td>1646</td>\n",
       "    </tr>\n",
       "    <tr>\n",
       "      <th>6</th>\n",
       "      <td>2014</td>\n",
       "      <td>595</td>\n",
       "      <td>1241</td>\n",
       "      <td>1095</td>\n",
       "      <td>2741</td>\n",
       "    </tr>\n",
       "    <tr>\n",
       "      <th>7</th>\n",
       "      <td>2015</td>\n",
       "      <td>1178</td>\n",
       "      <td>2419</td>\n",
       "      <td>1143</td>\n",
       "      <td>3884</td>\n",
       "    </tr>\n",
       "    <tr>\n",
       "      <th>8</th>\n",
       "      <td>2016</td>\n",
       "      <td>1657</td>\n",
       "      <td>4076</td>\n",
       "      <td>1105</td>\n",
       "      <td>4989</td>\n",
       "    </tr>\n",
       "    <tr>\n",
       "      <th>9</th>\n",
       "      <td>2017</td>\n",
       "      <td>1931</td>\n",
       "      <td>6007</td>\n",
       "      <td>526</td>\n",
       "      <td>5515</td>\n",
       "    </tr>\n",
       "    <tr>\n",
       "      <th>10</th>\n",
       "      <td>2018</td>\n",
       "      <td>1839</td>\n",
       "      <td>7846</td>\n",
       "      <td>331</td>\n",
       "      <td>5846</td>\n",
       "    </tr>\n",
       "    <tr>\n",
       "      <th>11</th>\n",
       "      <td>2019</td>\n",
       "      <td>1235</td>\n",
       "      <td>9081</td>\n",
       "      <td>171</td>\n",
       "      <td>6017</td>\n",
       "    </tr>\n",
       "  </tbody>\n",
       "</table>\n",
       "</div>"
      ],
      "text/plain": [
       "   firstreview_modified_year  list_count  list_total  host_count  host_total\n",
       "0                       2008           4           4          24          24\n",
       "1                       2009          30          34          36          60\n",
       "2                       2010          36          70          73         133\n",
       "3                       2011          69         139         248         381\n",
       "4                       2012         154         293         469         850\n",
       "5                       2013         353         646         796        1646\n",
       "6                       2014         595        1241        1095        2741\n",
       "7                       2015        1178        2419        1143        3884\n",
       "8                       2016        1657        4076        1105        4989\n",
       "9                       2017        1931        6007         526        5515\n",
       "10                      2018        1839        7846         331        5846\n",
       "11                      2019        1235        9081         171        6017"
      ]
     },
     "execution_count": 121,
     "metadata": {},
     "output_type": "execute_result"
    }
   ],
   "source": [
    "df = df.drop(['hostsince_year'], axis=1)\n"
   ]
  },
  {
   "cell_type": "code",
   "execution_count": 122,
   "metadata": {},
   "outputs": [],
   "source": [
    "df = df.rename({'firstreview_modified_year':'year'}, axis=1)"
   ]
  },
  {
   "cell_type": "code",
   "execution_count": 123,
   "metadata": {},
   "outputs": [
    {
     "data": {
      "text/html": [
       "<div>\n",
       "<style scoped>\n",
       "    .dataframe tbody tr th:only-of-type {\n",
       "        vertical-align: middle;\n",
       "    }\n",
       "\n",
       "    .dataframe tbody tr th {\n",
       "        vertical-align: top;\n",
       "    }\n",
       "\n",
       "    .dataframe thead th {\n",
       "        text-align: right;\n",
       "    }\n",
       "</style>\n",
       "<table border=\"1\" class=\"dataframe\">\n",
       "  <thead>\n",
       "    <tr style=\"text-align: right;\">\n",
       "      <th></th>\n",
       "      <th>year</th>\n",
       "      <th>list_count</th>\n",
       "      <th>list_total</th>\n",
       "      <th>host_count</th>\n",
       "      <th>host_total</th>\n",
       "    </tr>\n",
       "  </thead>\n",
       "  <tbody>\n",
       "    <tr>\n",
       "      <th>0</th>\n",
       "      <td>2008</td>\n",
       "      <td>4</td>\n",
       "      <td>4</td>\n",
       "      <td>24</td>\n",
       "      <td>24</td>\n",
       "    </tr>\n",
       "    <tr>\n",
       "      <th>1</th>\n",
       "      <td>2009</td>\n",
       "      <td>30</td>\n",
       "      <td>34</td>\n",
       "      <td>36</td>\n",
       "      <td>60</td>\n",
       "    </tr>\n",
       "    <tr>\n",
       "      <th>2</th>\n",
       "      <td>2010</td>\n",
       "      <td>36</td>\n",
       "      <td>70</td>\n",
       "      <td>73</td>\n",
       "      <td>133</td>\n",
       "    </tr>\n",
       "    <tr>\n",
       "      <th>3</th>\n",
       "      <td>2011</td>\n",
       "      <td>69</td>\n",
       "      <td>139</td>\n",
       "      <td>248</td>\n",
       "      <td>381</td>\n",
       "    </tr>\n",
       "    <tr>\n",
       "      <th>4</th>\n",
       "      <td>2012</td>\n",
       "      <td>154</td>\n",
       "      <td>293</td>\n",
       "      <td>469</td>\n",
       "      <td>850</td>\n",
       "    </tr>\n",
       "    <tr>\n",
       "      <th>5</th>\n",
       "      <td>2013</td>\n",
       "      <td>353</td>\n",
       "      <td>646</td>\n",
       "      <td>796</td>\n",
       "      <td>1646</td>\n",
       "    </tr>\n",
       "    <tr>\n",
       "      <th>6</th>\n",
       "      <td>2014</td>\n",
       "      <td>595</td>\n",
       "      <td>1241</td>\n",
       "      <td>1095</td>\n",
       "      <td>2741</td>\n",
       "    </tr>\n",
       "    <tr>\n",
       "      <th>7</th>\n",
       "      <td>2015</td>\n",
       "      <td>1178</td>\n",
       "      <td>2419</td>\n",
       "      <td>1143</td>\n",
       "      <td>3884</td>\n",
       "    </tr>\n",
       "    <tr>\n",
       "      <th>8</th>\n",
       "      <td>2016</td>\n",
       "      <td>1657</td>\n",
       "      <td>4076</td>\n",
       "      <td>1105</td>\n",
       "      <td>4989</td>\n",
       "    </tr>\n",
       "    <tr>\n",
       "      <th>9</th>\n",
       "      <td>2017</td>\n",
       "      <td>1931</td>\n",
       "      <td>6007</td>\n",
       "      <td>526</td>\n",
       "      <td>5515</td>\n",
       "    </tr>\n",
       "    <tr>\n",
       "      <th>10</th>\n",
       "      <td>2018</td>\n",
       "      <td>1839</td>\n",
       "      <td>7846</td>\n",
       "      <td>331</td>\n",
       "      <td>5846</td>\n",
       "    </tr>\n",
       "    <tr>\n",
       "      <th>11</th>\n",
       "      <td>2019</td>\n",
       "      <td>1235</td>\n",
       "      <td>9081</td>\n",
       "      <td>171</td>\n",
       "      <td>6017</td>\n",
       "    </tr>\n",
       "  </tbody>\n",
       "</table>\n",
       "</div>"
      ],
      "text/plain": [
       "    year  list_count  list_total  host_count  host_total\n",
       "0   2008           4           4          24          24\n",
       "1   2009          30          34          36          60\n",
       "2   2010          36          70          73         133\n",
       "3   2011          69         139         248         381\n",
       "4   2012         154         293         469         850\n",
       "5   2013         353         646         796        1646\n",
       "6   2014         595        1241        1095        2741\n",
       "7   2015        1178        2419        1143        3884\n",
       "8   2016        1657        4076        1105        4989\n",
       "9   2017        1931        6007         526        5515\n",
       "10  2018        1839        7846         331        5846\n",
       "11  2019        1235        9081         171        6017"
      ]
     },
     "execution_count": 123,
     "metadata": {},
     "output_type": "execute_result"
    }
   ],
   "source": [
    "df"
   ]
  },
  {
   "cell_type": "code",
   "execution_count": 124,
   "metadata": {},
   "outputs": [],
   "source": [
    "df.to_csv(\"list_host_yearly_countdata.csv\", index=False)"
   ]
  },
  {
   "cell_type": "code",
   "execution_count": 137,
   "metadata": {},
   "outputs": [
    {
     "data": {
      "text/plain": [
       "['2008',\n",
       " '2009',\n",
       " '2010',\n",
       " '2011',\n",
       " '2012',\n",
       " '2013',\n",
       " '2014',\n",
       " '2015',\n",
       " '2016',\n",
       " '2017',\n",
       " '2018',\n",
       " '2019']"
      ]
     },
     "execution_count": 137,
     "metadata": {},
     "output_type": "execute_result"
    }
   ],
   "source": [
    "[df['year'][k] for k in range(12)]"
   ]
  },
  {
   "cell_type": "code",
   "execution_count": 148,
   "metadata": {},
   "outputs": [
    {
     "data": {
      "application/vnd.plotly.v1+json": {
       "config": {
        "plotlyServerURL": "https://plot.ly"
       },
       "data": [
        {
         "line": {
          "color": "blue",
          "width": 2
         },
         "mode": "lines",
         "type": "scatter",
         "x": [
          "2008",
          "2009",
          "2010",
          "2011",
          "2012",
          "2013",
          "2014",
          "2015",
          "2016",
          "2017",
          "2018",
          "2019"
         ],
         "y": [
          4,
          30,
          36,
          69,
          154,
          353,
          595,
          1178,
          1657,
          1931,
          1839,
          1235
         ]
        },
        {
         "line": {
          "color": "black",
          "width": 2
         },
         "mode": "lines",
         "type": "scatter",
         "x": [
          "2008",
          "2009",
          "2010",
          "2011",
          "2012",
          "2013",
          "2014",
          "2015",
          "2016",
          "2017",
          "2018",
          "2019"
         ],
         "y": [
          4,
          34,
          70,
          139,
          293,
          646,
          1241,
          2419,
          4076,
          6007,
          7846,
          9081
         ]
        },
        {
         "line": {
          "color": "blue",
          "width": 2
         },
         "mode": "lines",
         "name": "change in listings",
         "type": "scatter",
         "x": [
          "2008",
          "2009",
          "2010",
          "2011",
          "2012",
          "2013",
          "2014",
          "2015",
          "2016",
          "2017",
          "2018",
          "2019"
         ],
         "y": [
          4,
          30,
          36,
          69,
          154,
          353,
          595,
          1178,
          1657,
          1931,
          1839,
          1235
         ]
        },
        {
         "line": {
          "color": "black",
          "width": 2
         },
         "mode": "lines",
         "name": "listings total",
         "type": "scatter",
         "x": [
          "2008",
          "2009",
          "2010",
          "2011",
          "2012",
          "2013",
          "2014",
          "2015",
          "2016",
          "2017",
          "2018",
          "2019"
         ],
         "y": [
          4,
          34,
          70,
          139,
          293,
          646,
          1241,
          2419,
          4076,
          6007,
          7846,
          9081
         ]
        }
       ],
       "frames": [
        {
         "data": [
          {
           "marker": {
            "color": "red",
            "size": 10
           },
           "mode": "markers",
           "name": "listings",
           "type": "scatter",
           "x": [
            "2008"
           ],
           "y": [
            4
           ]
          },
          {
           "marker": {
            "color": "red",
            "size": 10
           },
           "mode": "markers",
           "name": "hosts",
           "type": "scatter",
           "x": [
            "2008"
           ],
           "y": [
            4
           ]
          }
         ]
        },
        {
         "data": [
          {
           "marker": {
            "color": "red",
            "size": 10
           },
           "mode": "markers",
           "name": "listings",
           "type": "scatter",
           "x": [
            "2009"
           ],
           "y": [
            30
           ]
          },
          {
           "marker": {
            "color": "red",
            "size": 10
           },
           "mode": "markers",
           "name": "hosts",
           "type": "scatter",
           "x": [
            "2009"
           ],
           "y": [
            34
           ]
          }
         ]
        },
        {
         "data": [
          {
           "marker": {
            "color": "red",
            "size": 10
           },
           "mode": "markers",
           "name": "listings",
           "type": "scatter",
           "x": [
            "2010"
           ],
           "y": [
            36
           ]
          },
          {
           "marker": {
            "color": "red",
            "size": 10
           },
           "mode": "markers",
           "name": "hosts",
           "type": "scatter",
           "x": [
            "2010"
           ],
           "y": [
            70
           ]
          }
         ]
        },
        {
         "data": [
          {
           "marker": {
            "color": "red",
            "size": 10
           },
           "mode": "markers",
           "name": "listings",
           "type": "scatter",
           "x": [
            "2011"
           ],
           "y": [
            69
           ]
          },
          {
           "marker": {
            "color": "red",
            "size": 10
           },
           "mode": "markers",
           "name": "hosts",
           "type": "scatter",
           "x": [
            "2011"
           ],
           "y": [
            139
           ]
          }
         ]
        },
        {
         "data": [
          {
           "marker": {
            "color": "red",
            "size": 10
           },
           "mode": "markers",
           "name": "listings",
           "type": "scatter",
           "x": [
            "2012"
           ],
           "y": [
            154
           ]
          },
          {
           "marker": {
            "color": "red",
            "size": 10
           },
           "mode": "markers",
           "name": "hosts",
           "type": "scatter",
           "x": [
            "2012"
           ],
           "y": [
            293
           ]
          }
         ]
        },
        {
         "data": [
          {
           "marker": {
            "color": "red",
            "size": 10
           },
           "mode": "markers",
           "name": "listings",
           "type": "scatter",
           "x": [
            "2013"
           ],
           "y": [
            353
           ]
          },
          {
           "marker": {
            "color": "red",
            "size": 10
           },
           "mode": "markers",
           "name": "hosts",
           "type": "scatter",
           "x": [
            "2013"
           ],
           "y": [
            646
           ]
          }
         ]
        },
        {
         "data": [
          {
           "marker": {
            "color": "red",
            "size": 10
           },
           "mode": "markers",
           "name": "listings",
           "type": "scatter",
           "x": [
            "2014"
           ],
           "y": [
            595
           ]
          },
          {
           "marker": {
            "color": "red",
            "size": 10
           },
           "mode": "markers",
           "name": "hosts",
           "type": "scatter",
           "x": [
            "2014"
           ],
           "y": [
            1241
           ]
          }
         ]
        },
        {
         "data": [
          {
           "marker": {
            "color": "red",
            "size": 10
           },
           "mode": "markers",
           "name": "listings",
           "type": "scatter",
           "x": [
            "2015"
           ],
           "y": [
            1178
           ]
          },
          {
           "marker": {
            "color": "red",
            "size": 10
           },
           "mode": "markers",
           "name": "hosts",
           "type": "scatter",
           "x": [
            "2015"
           ],
           "y": [
            2419
           ]
          }
         ]
        },
        {
         "data": [
          {
           "marker": {
            "color": "red",
            "size": 10
           },
           "mode": "markers",
           "name": "listings",
           "type": "scatter",
           "x": [
            "2016"
           ],
           "y": [
            1657
           ]
          },
          {
           "marker": {
            "color": "red",
            "size": 10
           },
           "mode": "markers",
           "name": "hosts",
           "type": "scatter",
           "x": [
            "2016"
           ],
           "y": [
            4076
           ]
          }
         ]
        },
        {
         "data": [
          {
           "marker": {
            "color": "red",
            "size": 10
           },
           "mode": "markers",
           "name": "listings",
           "type": "scatter",
           "x": [
            "2017"
           ],
           "y": [
            1931
           ]
          },
          {
           "marker": {
            "color": "red",
            "size": 10
           },
           "mode": "markers",
           "name": "hosts",
           "type": "scatter",
           "x": [
            "2017"
           ],
           "y": [
            6007
           ]
          }
         ]
        },
        {
         "data": [
          {
           "marker": {
            "color": "red",
            "size": 10
           },
           "mode": "markers",
           "name": "listings",
           "type": "scatter",
           "x": [
            "2018"
           ],
           "y": [
            1839
           ]
          },
          {
           "marker": {
            "color": "red",
            "size": 10
           },
           "mode": "markers",
           "name": "hosts",
           "type": "scatter",
           "x": [
            "2018"
           ],
           "y": [
            7846
           ]
          }
         ]
        },
        {
         "data": [
          {
           "marker": {
            "color": "red",
            "size": 10
           },
           "mode": "markers",
           "name": "listings",
           "type": "scatter",
           "x": [
            "2019"
           ],
           "y": [
            1235
           ]
          },
          {
           "marker": {
            "color": "red",
            "size": 10
           },
           "mode": "markers",
           "name": "hosts",
           "type": "scatter",
           "x": [
            "2019"
           ],
           "y": [
            9081
           ]
          }
         ]
        }
       ],
       "layout": {
        "hovermode": "closest",
        "template": {
         "data": {
          "bar": [
           {
            "error_x": {
             "color": "#2a3f5f"
            },
            "error_y": {
             "color": "#2a3f5f"
            },
            "marker": {
             "line": {
              "color": "#E5ECF6",
              "width": 0.5
             }
            },
            "type": "bar"
           }
          ],
          "barpolar": [
           {
            "marker": {
             "line": {
              "color": "#E5ECF6",
              "width": 0.5
             }
            },
            "type": "barpolar"
           }
          ],
          "carpet": [
           {
            "aaxis": {
             "endlinecolor": "#2a3f5f",
             "gridcolor": "white",
             "linecolor": "white",
             "minorgridcolor": "white",
             "startlinecolor": "#2a3f5f"
            },
            "baxis": {
             "endlinecolor": "#2a3f5f",
             "gridcolor": "white",
             "linecolor": "white",
             "minorgridcolor": "white",
             "startlinecolor": "#2a3f5f"
            },
            "type": "carpet"
           }
          ],
          "choropleth": [
           {
            "colorbar": {
             "outlinewidth": 0,
             "ticks": ""
            },
            "type": "choropleth"
           }
          ],
          "contour": [
           {
            "colorbar": {
             "outlinewidth": 0,
             "ticks": ""
            },
            "colorscale": [
             [
              0,
              "#0d0887"
             ],
             [
              0.1111111111111111,
              "#46039f"
             ],
             [
              0.2222222222222222,
              "#7201a8"
             ],
             [
              0.3333333333333333,
              "#9c179e"
             ],
             [
              0.4444444444444444,
              "#bd3786"
             ],
             [
              0.5555555555555556,
              "#d8576b"
             ],
             [
              0.6666666666666666,
              "#ed7953"
             ],
             [
              0.7777777777777778,
              "#fb9f3a"
             ],
             [
              0.8888888888888888,
              "#fdca26"
             ],
             [
              1,
              "#f0f921"
             ]
            ],
            "type": "contour"
           }
          ],
          "contourcarpet": [
           {
            "colorbar": {
             "outlinewidth": 0,
             "ticks": ""
            },
            "type": "contourcarpet"
           }
          ],
          "heatmap": [
           {
            "colorbar": {
             "outlinewidth": 0,
             "ticks": ""
            },
            "colorscale": [
             [
              0,
              "#0d0887"
             ],
             [
              0.1111111111111111,
              "#46039f"
             ],
             [
              0.2222222222222222,
              "#7201a8"
             ],
             [
              0.3333333333333333,
              "#9c179e"
             ],
             [
              0.4444444444444444,
              "#bd3786"
             ],
             [
              0.5555555555555556,
              "#d8576b"
             ],
             [
              0.6666666666666666,
              "#ed7953"
             ],
             [
              0.7777777777777778,
              "#fb9f3a"
             ],
             [
              0.8888888888888888,
              "#fdca26"
             ],
             [
              1,
              "#f0f921"
             ]
            ],
            "type": "heatmap"
           }
          ],
          "heatmapgl": [
           {
            "colorbar": {
             "outlinewidth": 0,
             "ticks": ""
            },
            "colorscale": [
             [
              0,
              "#0d0887"
             ],
             [
              0.1111111111111111,
              "#46039f"
             ],
             [
              0.2222222222222222,
              "#7201a8"
             ],
             [
              0.3333333333333333,
              "#9c179e"
             ],
             [
              0.4444444444444444,
              "#bd3786"
             ],
             [
              0.5555555555555556,
              "#d8576b"
             ],
             [
              0.6666666666666666,
              "#ed7953"
             ],
             [
              0.7777777777777778,
              "#fb9f3a"
             ],
             [
              0.8888888888888888,
              "#fdca26"
             ],
             [
              1,
              "#f0f921"
             ]
            ],
            "type": "heatmapgl"
           }
          ],
          "histogram": [
           {
            "marker": {
             "colorbar": {
              "outlinewidth": 0,
              "ticks": ""
             }
            },
            "type": "histogram"
           }
          ],
          "histogram2d": [
           {
            "colorbar": {
             "outlinewidth": 0,
             "ticks": ""
            },
            "colorscale": [
             [
              0,
              "#0d0887"
             ],
             [
              0.1111111111111111,
              "#46039f"
             ],
             [
              0.2222222222222222,
              "#7201a8"
             ],
             [
              0.3333333333333333,
              "#9c179e"
             ],
             [
              0.4444444444444444,
              "#bd3786"
             ],
             [
              0.5555555555555556,
              "#d8576b"
             ],
             [
              0.6666666666666666,
              "#ed7953"
             ],
             [
              0.7777777777777778,
              "#fb9f3a"
             ],
             [
              0.8888888888888888,
              "#fdca26"
             ],
             [
              1,
              "#f0f921"
             ]
            ],
            "type": "histogram2d"
           }
          ],
          "histogram2dcontour": [
           {
            "colorbar": {
             "outlinewidth": 0,
             "ticks": ""
            },
            "colorscale": [
             [
              0,
              "#0d0887"
             ],
             [
              0.1111111111111111,
              "#46039f"
             ],
             [
              0.2222222222222222,
              "#7201a8"
             ],
             [
              0.3333333333333333,
              "#9c179e"
             ],
             [
              0.4444444444444444,
              "#bd3786"
             ],
             [
              0.5555555555555556,
              "#d8576b"
             ],
             [
              0.6666666666666666,
              "#ed7953"
             ],
             [
              0.7777777777777778,
              "#fb9f3a"
             ],
             [
              0.8888888888888888,
              "#fdca26"
             ],
             [
              1,
              "#f0f921"
             ]
            ],
            "type": "histogram2dcontour"
           }
          ],
          "mesh3d": [
           {
            "colorbar": {
             "outlinewidth": 0,
             "ticks": ""
            },
            "type": "mesh3d"
           }
          ],
          "parcoords": [
           {
            "line": {
             "colorbar": {
              "outlinewidth": 0,
              "ticks": ""
             }
            },
            "type": "parcoords"
           }
          ],
          "scatter": [
           {
            "marker": {
             "colorbar": {
              "outlinewidth": 0,
              "ticks": ""
             }
            },
            "type": "scatter"
           }
          ],
          "scatter3d": [
           {
            "line": {
             "colorbar": {
              "outlinewidth": 0,
              "ticks": ""
             }
            },
            "marker": {
             "colorbar": {
              "outlinewidth": 0,
              "ticks": ""
             }
            },
            "type": "scatter3d"
           }
          ],
          "scattercarpet": [
           {
            "marker": {
             "colorbar": {
              "outlinewidth": 0,
              "ticks": ""
             }
            },
            "type": "scattercarpet"
           }
          ],
          "scattergeo": [
           {
            "marker": {
             "colorbar": {
              "outlinewidth": 0,
              "ticks": ""
             }
            },
            "type": "scattergeo"
           }
          ],
          "scattergl": [
           {
            "marker": {
             "colorbar": {
              "outlinewidth": 0,
              "ticks": ""
             }
            },
            "type": "scattergl"
           }
          ],
          "scattermapbox": [
           {
            "marker": {
             "colorbar": {
              "outlinewidth": 0,
              "ticks": ""
             }
            },
            "type": "scattermapbox"
           }
          ],
          "scatterpolar": [
           {
            "marker": {
             "colorbar": {
              "outlinewidth": 0,
              "ticks": ""
             }
            },
            "type": "scatterpolar"
           }
          ],
          "scatterpolargl": [
           {
            "marker": {
             "colorbar": {
              "outlinewidth": 0,
              "ticks": ""
             }
            },
            "type": "scatterpolargl"
           }
          ],
          "scatterternary": [
           {
            "marker": {
             "colorbar": {
              "outlinewidth": 0,
              "ticks": ""
             }
            },
            "type": "scatterternary"
           }
          ],
          "surface": [
           {
            "colorbar": {
             "outlinewidth": 0,
             "ticks": ""
            },
            "colorscale": [
             [
              0,
              "#0d0887"
             ],
             [
              0.1111111111111111,
              "#46039f"
             ],
             [
              0.2222222222222222,
              "#7201a8"
             ],
             [
              0.3333333333333333,
              "#9c179e"
             ],
             [
              0.4444444444444444,
              "#bd3786"
             ],
             [
              0.5555555555555556,
              "#d8576b"
             ],
             [
              0.6666666666666666,
              "#ed7953"
             ],
             [
              0.7777777777777778,
              "#fb9f3a"
             ],
             [
              0.8888888888888888,
              "#fdca26"
             ],
             [
              1,
              "#f0f921"
             ]
            ],
            "type": "surface"
           }
          ],
          "table": [
           {
            "cells": {
             "fill": {
              "color": "#EBF0F8"
             },
             "line": {
              "color": "white"
             }
            },
            "header": {
             "fill": {
              "color": "#C8D4E3"
             },
             "line": {
              "color": "white"
             }
            },
            "type": "table"
           }
          ]
         },
         "layout": {
          "annotationdefaults": {
           "arrowcolor": "#2a3f5f",
           "arrowhead": 0,
           "arrowwidth": 1
          },
          "colorscale": {
           "diverging": [
            [
             0,
             "#8e0152"
            ],
            [
             0.1,
             "#c51b7d"
            ],
            [
             0.2,
             "#de77ae"
            ],
            [
             0.3,
             "#f1b6da"
            ],
            [
             0.4,
             "#fde0ef"
            ],
            [
             0.5,
             "#f7f7f7"
            ],
            [
             0.6,
             "#e6f5d0"
            ],
            [
             0.7,
             "#b8e186"
            ],
            [
             0.8,
             "#7fbc41"
            ],
            [
             0.9,
             "#4d9221"
            ],
            [
             1,
             "#276419"
            ]
           ],
           "sequential": [
            [
             0,
             "#0d0887"
            ],
            [
             0.1111111111111111,
             "#46039f"
            ],
            [
             0.2222222222222222,
             "#7201a8"
            ],
            [
             0.3333333333333333,
             "#9c179e"
            ],
            [
             0.4444444444444444,
             "#bd3786"
            ],
            [
             0.5555555555555556,
             "#d8576b"
            ],
            [
             0.6666666666666666,
             "#ed7953"
            ],
            [
             0.7777777777777778,
             "#fb9f3a"
            ],
            [
             0.8888888888888888,
             "#fdca26"
            ],
            [
             1,
             "#f0f921"
            ]
           ],
           "sequentialminus": [
            [
             0,
             "#0d0887"
            ],
            [
             0.1111111111111111,
             "#46039f"
            ],
            [
             0.2222222222222222,
             "#7201a8"
            ],
            [
             0.3333333333333333,
             "#9c179e"
            ],
            [
             0.4444444444444444,
             "#bd3786"
            ],
            [
             0.5555555555555556,
             "#d8576b"
            ],
            [
             0.6666666666666666,
             "#ed7953"
            ],
            [
             0.7777777777777778,
             "#fb9f3a"
            ],
            [
             0.8888888888888888,
             "#fdca26"
            ],
            [
             1,
             "#f0f921"
            ]
           ]
          },
          "colorway": [
           "#636efa",
           "#EF553B",
           "#00cc96",
           "#ab63fa",
           "#FFA15A",
           "#19d3f3",
           "#FF6692",
           "#B6E880",
           "#FF97FF",
           "#FECB52"
          ],
          "font": {
           "color": "#2a3f5f"
          },
          "geo": {
           "bgcolor": "white",
           "lakecolor": "white",
           "landcolor": "#E5ECF6",
           "showlakes": true,
           "showland": true,
           "subunitcolor": "white"
          },
          "hoverlabel": {
           "align": "left"
          },
          "hovermode": "closest",
          "mapbox": {
           "style": "light"
          },
          "paper_bgcolor": "white",
          "plot_bgcolor": "#E5ECF6",
          "polar": {
           "angularaxis": {
            "gridcolor": "white",
            "linecolor": "white",
            "ticks": ""
           },
           "bgcolor": "#E5ECF6",
           "radialaxis": {
            "gridcolor": "white",
            "linecolor": "white",
            "ticks": ""
           }
          },
          "scene": {
           "xaxis": {
            "backgroundcolor": "#E5ECF6",
            "gridcolor": "white",
            "gridwidth": 2,
            "linecolor": "white",
            "showbackground": true,
            "ticks": "",
            "zerolinecolor": "white"
           },
           "yaxis": {
            "backgroundcolor": "#E5ECF6",
            "gridcolor": "white",
            "gridwidth": 2,
            "linecolor": "white",
            "showbackground": true,
            "ticks": "",
            "zerolinecolor": "white"
           },
           "zaxis": {
            "backgroundcolor": "#E5ECF6",
            "gridcolor": "white",
            "gridwidth": 2,
            "linecolor": "white",
            "showbackground": true,
            "ticks": "",
            "zerolinecolor": "white"
           }
          },
          "shapedefaults": {
           "line": {
            "color": "#2a3f5f"
           }
          },
          "ternary": {
           "aaxis": {
            "gridcolor": "white",
            "linecolor": "white",
            "ticks": ""
           },
           "baxis": {
            "gridcolor": "white",
            "linecolor": "white",
            "ticks": ""
           },
           "bgcolor": "#E5ECF6",
           "caxis": {
            "gridcolor": "white",
            "linecolor": "white",
            "ticks": ""
           }
          },
          "title": {
           "x": 0.05
          },
          "xaxis": {
           "automargin": true,
           "gridcolor": "white",
           "linecolor": "white",
           "ticks": "",
           "zerolinecolor": "white",
           "zerolinewidth": 2
          },
          "yaxis": {
           "automargin": true,
           "gridcolor": "white",
           "linecolor": "white",
           "ticks": "",
           "zerolinecolor": "white",
           "zerolinewidth": 2
          }
         }
        },
        "title": {
         "text": "Kinematic Generation of a Planar Curve"
        },
        "updatemenus": [
         {
          "buttons": [
           {
            "args": [
             null
            ],
            "label": "Play",
            "method": "animate"
           }
          ],
          "type": "buttons"
         }
        ],
        "xaxis": {
         "autorange": false,
         "range": [
          2008,
          2020
         ],
         "zeroline": false
        },
        "yaxis": {
         "autorange": false,
         "range": [
          0,
          10000
         ],
         "zeroline": false
        }
       }
      },
      "text/html": [
       "<div>\n",
       "        \n",
       "        \n",
       "            <div id=\"26bf058e-e8b4-4389-ac3b-bf616cf6ff9b\" class=\"plotly-graph-div\" style=\"height:525px; width:100%;\"></div>\n",
       "            <script type=\"text/javascript\">\n",
       "                require([\"plotly\"], function(Plotly) {\n",
       "                    window.PLOTLYENV=window.PLOTLYENV || {};\n",
       "                    \n",
       "                if (document.getElementById(\"26bf058e-e8b4-4389-ac3b-bf616cf6ff9b\")) {\n",
       "                    Plotly.newPlot(\n",
       "                        '26bf058e-e8b4-4389-ac3b-bf616cf6ff9b',\n",
       "                        [{\"line\": {\"color\": \"blue\", \"width\": 2}, \"mode\": \"lines\", \"type\": \"scatter\", \"x\": [\"2008\", \"2009\", \"2010\", \"2011\", \"2012\", \"2013\", \"2014\", \"2015\", \"2016\", \"2017\", \"2018\", \"2019\"], \"y\": [4, 30, 36, 69, 154, 353, 595, 1178, 1657, 1931, 1839, 1235]}, {\"line\": {\"color\": \"black\", \"width\": 2}, \"mode\": \"lines\", \"type\": \"scatter\", \"x\": [\"2008\", \"2009\", \"2010\", \"2011\", \"2012\", \"2013\", \"2014\", \"2015\", \"2016\", \"2017\", \"2018\", \"2019\"], \"y\": [4, 34, 70, 139, 293, 646, 1241, 2419, 4076, 6007, 7846, 9081]}, {\"line\": {\"color\": \"blue\", \"width\": 2}, \"mode\": \"lines\", \"name\": \"change in listings\", \"type\": \"scatter\", \"x\": [\"2008\", \"2009\", \"2010\", \"2011\", \"2012\", \"2013\", \"2014\", \"2015\", \"2016\", \"2017\", \"2018\", \"2019\"], \"y\": [4, 30, 36, 69, 154, 353, 595, 1178, 1657, 1931, 1839, 1235]}, {\"line\": {\"color\": \"black\", \"width\": 2}, \"mode\": \"lines\", \"name\": \"listings total\", \"type\": \"scatter\", \"x\": [\"2008\", \"2009\", \"2010\", \"2011\", \"2012\", \"2013\", \"2014\", \"2015\", \"2016\", \"2017\", \"2018\", \"2019\"], \"y\": [4, 34, 70, 139, 293, 646, 1241, 2419, 4076, 6007, 7846, 9081]}],\n",
       "                        {\"hovermode\": \"closest\", \"template\": {\"data\": {\"bar\": [{\"error_x\": {\"color\": \"#2a3f5f\"}, \"error_y\": {\"color\": \"#2a3f5f\"}, \"marker\": {\"line\": {\"color\": \"#E5ECF6\", \"width\": 0.5}}, \"type\": \"bar\"}], \"barpolar\": [{\"marker\": {\"line\": {\"color\": \"#E5ECF6\", \"width\": 0.5}}, \"type\": \"barpolar\"}], \"carpet\": [{\"aaxis\": {\"endlinecolor\": \"#2a3f5f\", \"gridcolor\": \"white\", \"linecolor\": \"white\", \"minorgridcolor\": \"white\", \"startlinecolor\": \"#2a3f5f\"}, \"baxis\": {\"endlinecolor\": \"#2a3f5f\", \"gridcolor\": \"white\", \"linecolor\": \"white\", \"minorgridcolor\": \"white\", \"startlinecolor\": \"#2a3f5f\"}, \"type\": \"carpet\"}], \"choropleth\": [{\"colorbar\": {\"outlinewidth\": 0, \"ticks\": \"\"}, \"type\": \"choropleth\"}], \"contour\": [{\"colorbar\": {\"outlinewidth\": 0, \"ticks\": \"\"}, \"colorscale\": [[0.0, \"#0d0887\"], [0.1111111111111111, \"#46039f\"], [0.2222222222222222, \"#7201a8\"], [0.3333333333333333, \"#9c179e\"], [0.4444444444444444, \"#bd3786\"], [0.5555555555555556, \"#d8576b\"], [0.6666666666666666, \"#ed7953\"], [0.7777777777777778, \"#fb9f3a\"], [0.8888888888888888, \"#fdca26\"], [1.0, \"#f0f921\"]], \"type\": \"contour\"}], \"contourcarpet\": [{\"colorbar\": {\"outlinewidth\": 0, \"ticks\": \"\"}, \"type\": \"contourcarpet\"}], \"heatmap\": [{\"colorbar\": {\"outlinewidth\": 0, \"ticks\": \"\"}, \"colorscale\": [[0.0, \"#0d0887\"], [0.1111111111111111, \"#46039f\"], [0.2222222222222222, \"#7201a8\"], [0.3333333333333333, \"#9c179e\"], [0.4444444444444444, \"#bd3786\"], [0.5555555555555556, \"#d8576b\"], [0.6666666666666666, \"#ed7953\"], [0.7777777777777778, \"#fb9f3a\"], [0.8888888888888888, \"#fdca26\"], [1.0, \"#f0f921\"]], \"type\": \"heatmap\"}], \"heatmapgl\": [{\"colorbar\": {\"outlinewidth\": 0, \"ticks\": \"\"}, \"colorscale\": [[0.0, \"#0d0887\"], [0.1111111111111111, \"#46039f\"], [0.2222222222222222, \"#7201a8\"], [0.3333333333333333, \"#9c179e\"], [0.4444444444444444, \"#bd3786\"], [0.5555555555555556, \"#d8576b\"], [0.6666666666666666, \"#ed7953\"], [0.7777777777777778, \"#fb9f3a\"], [0.8888888888888888, \"#fdca26\"], [1.0, \"#f0f921\"]], \"type\": \"heatmapgl\"}], \"histogram\": [{\"marker\": {\"colorbar\": {\"outlinewidth\": 0, \"ticks\": \"\"}}, \"type\": \"histogram\"}], \"histogram2d\": [{\"colorbar\": {\"outlinewidth\": 0, \"ticks\": \"\"}, \"colorscale\": [[0.0, \"#0d0887\"], [0.1111111111111111, \"#46039f\"], [0.2222222222222222, \"#7201a8\"], [0.3333333333333333, \"#9c179e\"], [0.4444444444444444, \"#bd3786\"], [0.5555555555555556, \"#d8576b\"], [0.6666666666666666, \"#ed7953\"], [0.7777777777777778, \"#fb9f3a\"], [0.8888888888888888, \"#fdca26\"], [1.0, \"#f0f921\"]], \"type\": \"histogram2d\"}], \"histogram2dcontour\": [{\"colorbar\": {\"outlinewidth\": 0, \"ticks\": \"\"}, \"colorscale\": [[0.0, \"#0d0887\"], [0.1111111111111111, \"#46039f\"], [0.2222222222222222, \"#7201a8\"], [0.3333333333333333, \"#9c179e\"], [0.4444444444444444, \"#bd3786\"], [0.5555555555555556, \"#d8576b\"], [0.6666666666666666, \"#ed7953\"], [0.7777777777777778, \"#fb9f3a\"], [0.8888888888888888, \"#fdca26\"], [1.0, \"#f0f921\"]], \"type\": \"histogram2dcontour\"}], \"mesh3d\": [{\"colorbar\": {\"outlinewidth\": 0, \"ticks\": \"\"}, \"type\": \"mesh3d\"}], \"parcoords\": [{\"line\": {\"colorbar\": {\"outlinewidth\": 0, \"ticks\": \"\"}}, \"type\": \"parcoords\"}], \"scatter\": [{\"marker\": {\"colorbar\": {\"outlinewidth\": 0, \"ticks\": \"\"}}, \"type\": \"scatter\"}], \"scatter3d\": [{\"line\": {\"colorbar\": {\"outlinewidth\": 0, \"ticks\": \"\"}}, \"marker\": {\"colorbar\": {\"outlinewidth\": 0, \"ticks\": \"\"}}, \"type\": \"scatter3d\"}], \"scattercarpet\": [{\"marker\": {\"colorbar\": {\"outlinewidth\": 0, \"ticks\": \"\"}}, \"type\": \"scattercarpet\"}], \"scattergeo\": [{\"marker\": {\"colorbar\": {\"outlinewidth\": 0, \"ticks\": \"\"}}, \"type\": \"scattergeo\"}], \"scattergl\": [{\"marker\": {\"colorbar\": {\"outlinewidth\": 0, \"ticks\": \"\"}}, \"type\": \"scattergl\"}], \"scattermapbox\": [{\"marker\": {\"colorbar\": {\"outlinewidth\": 0, \"ticks\": \"\"}}, \"type\": \"scattermapbox\"}], \"scatterpolar\": [{\"marker\": {\"colorbar\": {\"outlinewidth\": 0, \"ticks\": \"\"}}, \"type\": \"scatterpolar\"}], \"scatterpolargl\": [{\"marker\": {\"colorbar\": {\"outlinewidth\": 0, \"ticks\": \"\"}}, \"type\": \"scatterpolargl\"}], \"scatterternary\": [{\"marker\": {\"colorbar\": {\"outlinewidth\": 0, \"ticks\": \"\"}}, \"type\": \"scatterternary\"}], \"surface\": [{\"colorbar\": {\"outlinewidth\": 0, \"ticks\": \"\"}, \"colorscale\": [[0.0, \"#0d0887\"], [0.1111111111111111, \"#46039f\"], [0.2222222222222222, \"#7201a8\"], [0.3333333333333333, \"#9c179e\"], [0.4444444444444444, \"#bd3786\"], [0.5555555555555556, \"#d8576b\"], [0.6666666666666666, \"#ed7953\"], [0.7777777777777778, \"#fb9f3a\"], [0.8888888888888888, \"#fdca26\"], [1.0, \"#f0f921\"]], \"type\": \"surface\"}], \"table\": [{\"cells\": {\"fill\": {\"color\": \"#EBF0F8\"}, \"line\": {\"color\": \"white\"}}, \"header\": {\"fill\": {\"color\": \"#C8D4E3\"}, \"line\": {\"color\": \"white\"}}, \"type\": \"table\"}]}, \"layout\": {\"annotationdefaults\": {\"arrowcolor\": \"#2a3f5f\", \"arrowhead\": 0, \"arrowwidth\": 1}, \"colorscale\": {\"diverging\": [[0, \"#8e0152\"], [0.1, \"#c51b7d\"], [0.2, \"#de77ae\"], [0.3, \"#f1b6da\"], [0.4, \"#fde0ef\"], [0.5, \"#f7f7f7\"], [0.6, \"#e6f5d0\"], [0.7, \"#b8e186\"], [0.8, \"#7fbc41\"], [0.9, \"#4d9221\"], [1, \"#276419\"]], \"sequential\": [[0.0, \"#0d0887\"], [0.1111111111111111, \"#46039f\"], [0.2222222222222222, \"#7201a8\"], [0.3333333333333333, \"#9c179e\"], [0.4444444444444444, \"#bd3786\"], [0.5555555555555556, \"#d8576b\"], [0.6666666666666666, \"#ed7953\"], [0.7777777777777778, \"#fb9f3a\"], [0.8888888888888888, \"#fdca26\"], [1.0, \"#f0f921\"]], \"sequentialminus\": [[0.0, \"#0d0887\"], [0.1111111111111111, \"#46039f\"], [0.2222222222222222, \"#7201a8\"], [0.3333333333333333, \"#9c179e\"], [0.4444444444444444, \"#bd3786\"], [0.5555555555555556, \"#d8576b\"], [0.6666666666666666, \"#ed7953\"], [0.7777777777777778, \"#fb9f3a\"], [0.8888888888888888, \"#fdca26\"], [1.0, \"#f0f921\"]]}, \"colorway\": [\"#636efa\", \"#EF553B\", \"#00cc96\", \"#ab63fa\", \"#FFA15A\", \"#19d3f3\", \"#FF6692\", \"#B6E880\", \"#FF97FF\", \"#FECB52\"], \"font\": {\"color\": \"#2a3f5f\"}, \"geo\": {\"bgcolor\": \"white\", \"lakecolor\": \"white\", \"landcolor\": \"#E5ECF6\", \"showlakes\": true, \"showland\": true, \"subunitcolor\": \"white\"}, \"hoverlabel\": {\"align\": \"left\"}, \"hovermode\": \"closest\", \"mapbox\": {\"style\": \"light\"}, \"paper_bgcolor\": \"white\", \"plot_bgcolor\": \"#E5ECF6\", \"polar\": {\"angularaxis\": {\"gridcolor\": \"white\", \"linecolor\": \"white\", \"ticks\": \"\"}, \"bgcolor\": \"#E5ECF6\", \"radialaxis\": {\"gridcolor\": \"white\", \"linecolor\": \"white\", \"ticks\": \"\"}}, \"scene\": {\"xaxis\": {\"backgroundcolor\": \"#E5ECF6\", \"gridcolor\": \"white\", \"gridwidth\": 2, \"linecolor\": \"white\", \"showbackground\": true, \"ticks\": \"\", \"zerolinecolor\": \"white\"}, \"yaxis\": {\"backgroundcolor\": \"#E5ECF6\", \"gridcolor\": \"white\", \"gridwidth\": 2, \"linecolor\": \"white\", \"showbackground\": true, \"ticks\": \"\", \"zerolinecolor\": \"white\"}, \"zaxis\": {\"backgroundcolor\": \"#E5ECF6\", \"gridcolor\": \"white\", \"gridwidth\": 2, \"linecolor\": \"white\", \"showbackground\": true, \"ticks\": \"\", \"zerolinecolor\": \"white\"}}, \"shapedefaults\": {\"line\": {\"color\": \"#2a3f5f\"}}, \"ternary\": {\"aaxis\": {\"gridcolor\": \"white\", \"linecolor\": \"white\", \"ticks\": \"\"}, \"baxis\": {\"gridcolor\": \"white\", \"linecolor\": \"white\", \"ticks\": \"\"}, \"bgcolor\": \"#E5ECF6\", \"caxis\": {\"gridcolor\": \"white\", \"linecolor\": \"white\", \"ticks\": \"\"}}, \"title\": {\"x\": 0.05}, \"xaxis\": {\"automargin\": true, \"gridcolor\": \"white\", \"linecolor\": \"white\", \"ticks\": \"\", \"zerolinecolor\": \"white\", \"zerolinewidth\": 2}, \"yaxis\": {\"automargin\": true, \"gridcolor\": \"white\", \"linecolor\": \"white\", \"ticks\": \"\", \"zerolinecolor\": \"white\", \"zerolinewidth\": 2}}}, \"title\": {\"text\": \"Kinematic Generation of a Planar Curve\"}, \"updatemenus\": [{\"buttons\": [{\"args\": [null], \"label\": \"Play\", \"method\": \"animate\"}], \"type\": \"buttons\"}], \"xaxis\": {\"autorange\": false, \"range\": [2008, 2020], \"zeroline\": false}, \"yaxis\": {\"autorange\": false, \"range\": [0, 10000], \"zeroline\": false}},\n",
       "                        {\"responsive\": true}\n",
       "                    ).then(function(){\n",
       "                            Plotly.addFrames('26bf058e-e8b4-4389-ac3b-bf616cf6ff9b', [{\"data\": [{\"marker\": {\"color\": \"red\", \"size\": 10}, \"mode\": \"markers\", \"name\": \"listings\", \"x\": [\"2008\"], \"y\": [4], \"type\": \"scatter\"}, {\"marker\": {\"color\": \"red\", \"size\": 10}, \"mode\": \"markers\", \"name\": \"hosts\", \"x\": [\"2008\"], \"y\": [4], \"type\": \"scatter\"}]}, {\"data\": [{\"marker\": {\"color\": \"red\", \"size\": 10}, \"mode\": \"markers\", \"name\": \"listings\", \"x\": [\"2009\"], \"y\": [30], \"type\": \"scatter\"}, {\"marker\": {\"color\": \"red\", \"size\": 10}, \"mode\": \"markers\", \"name\": \"hosts\", \"x\": [\"2009\"], \"y\": [34], \"type\": \"scatter\"}]}, {\"data\": [{\"marker\": {\"color\": \"red\", \"size\": 10}, \"mode\": \"markers\", \"name\": \"listings\", \"x\": [\"2010\"], \"y\": [36], \"type\": \"scatter\"}, {\"marker\": {\"color\": \"red\", \"size\": 10}, \"mode\": \"markers\", \"name\": \"hosts\", \"x\": [\"2010\"], \"y\": [70], \"type\": \"scatter\"}]}, {\"data\": [{\"marker\": {\"color\": \"red\", \"size\": 10}, \"mode\": \"markers\", \"name\": \"listings\", \"x\": [\"2011\"], \"y\": [69], \"type\": \"scatter\"}, {\"marker\": {\"color\": \"red\", \"size\": 10}, \"mode\": \"markers\", \"name\": \"hosts\", \"x\": [\"2011\"], \"y\": [139], \"type\": \"scatter\"}]}, {\"data\": [{\"marker\": {\"color\": \"red\", \"size\": 10}, \"mode\": \"markers\", \"name\": \"listings\", \"x\": [\"2012\"], \"y\": [154], \"type\": \"scatter\"}, {\"marker\": {\"color\": \"red\", \"size\": 10}, \"mode\": \"markers\", \"name\": \"hosts\", \"x\": [\"2012\"], \"y\": [293], \"type\": \"scatter\"}]}, {\"data\": [{\"marker\": {\"color\": \"red\", \"size\": 10}, \"mode\": \"markers\", \"name\": \"listings\", \"x\": [\"2013\"], \"y\": [353], \"type\": \"scatter\"}, {\"marker\": {\"color\": \"red\", \"size\": 10}, \"mode\": \"markers\", \"name\": \"hosts\", \"x\": [\"2013\"], \"y\": [646], \"type\": \"scatter\"}]}, {\"data\": [{\"marker\": {\"color\": \"red\", \"size\": 10}, \"mode\": \"markers\", \"name\": \"listings\", \"x\": [\"2014\"], \"y\": [595], \"type\": \"scatter\"}, {\"marker\": {\"color\": \"red\", \"size\": 10}, \"mode\": \"markers\", \"name\": \"hosts\", \"x\": [\"2014\"], \"y\": [1241], \"type\": \"scatter\"}]}, {\"data\": [{\"marker\": {\"color\": \"red\", \"size\": 10}, \"mode\": \"markers\", \"name\": \"listings\", \"x\": [\"2015\"], \"y\": [1178], \"type\": \"scatter\"}, {\"marker\": {\"color\": \"red\", \"size\": 10}, \"mode\": \"markers\", \"name\": \"hosts\", \"x\": [\"2015\"], \"y\": [2419], \"type\": \"scatter\"}]}, {\"data\": [{\"marker\": {\"color\": \"red\", \"size\": 10}, \"mode\": \"markers\", \"name\": \"listings\", \"x\": [\"2016\"], \"y\": [1657], \"type\": \"scatter\"}, {\"marker\": {\"color\": \"red\", \"size\": 10}, \"mode\": \"markers\", \"name\": \"hosts\", \"x\": [\"2016\"], \"y\": [4076], \"type\": \"scatter\"}]}, {\"data\": [{\"marker\": {\"color\": \"red\", \"size\": 10}, \"mode\": \"markers\", \"name\": \"listings\", \"x\": [\"2017\"], \"y\": [1931], \"type\": \"scatter\"}, {\"marker\": {\"color\": \"red\", \"size\": 10}, \"mode\": \"markers\", \"name\": \"hosts\", \"x\": [\"2017\"], \"y\": [6007], \"type\": \"scatter\"}]}, {\"data\": [{\"marker\": {\"color\": \"red\", \"size\": 10}, \"mode\": \"markers\", \"name\": \"listings\", \"x\": [\"2018\"], \"y\": [1839], \"type\": \"scatter\"}, {\"marker\": {\"color\": \"red\", \"size\": 10}, \"mode\": \"markers\", \"name\": \"hosts\", \"x\": [\"2018\"], \"y\": [7846], \"type\": \"scatter\"}]}, {\"data\": [{\"marker\": {\"color\": \"red\", \"size\": 10}, \"mode\": \"markers\", \"name\": \"listings\", \"x\": [\"2019\"], \"y\": [1235], \"type\": \"scatter\"}, {\"marker\": {\"color\": \"red\", \"size\": 10}, \"mode\": \"markers\", \"name\": \"hosts\", \"x\": [\"2019\"], \"y\": [9081], \"type\": \"scatter\"}]}]);\n",
       "                        }).then(function(){\n",
       "                            \n",
       "var gd = document.getElementById('26bf058e-e8b4-4389-ac3b-bf616cf6ff9b');\n",
       "var x = new MutationObserver(function (mutations, observer) {{\n",
       "        var display = window.getComputedStyle(gd).display;\n",
       "        if (!display || display === 'none') {{\n",
       "            console.log([gd, 'removed!']);\n",
       "            Plotly.purge(gd);\n",
       "            observer.disconnect();\n",
       "        }}\n",
       "}});\n",
       "\n",
       "// Listen for the removal of the full notebook cells\n",
       "var notebookContainer = gd.closest('#notebook-container');\n",
       "if (notebookContainer) {{\n",
       "    x.observe(notebookContainer, {childList: true});\n",
       "}}\n",
       "\n",
       "// Listen for the clearing of the current output cell\n",
       "var outputEl = gd.closest('.output');\n",
       "if (outputEl) {{\n",
       "    x.observe(outputEl, {childList: true});\n",
       "}}\n",
       "\n",
       "                        })\n",
       "                };\n",
       "                });\n",
       "            </script>\n",
       "        </div>"
      ]
     },
     "metadata": {},
     "output_type": "display_data"
    }
   ],
   "source": [
    "# Create figure\n",
    "fig = go.Figure(\n",
    "    data=[go.Scatter(x=df['year'], y=df['list_count'],\n",
    "                     mode=\"lines\",\n",
    "                     line=dict(width=2, color=\"blue\")),    \n",
    "          \n",
    "          go.Scatter(x=df['year'], y=df['list_total'],\n",
    "                     mode=\"lines\",\n",
    "                     line=dict(width=2, color=\"black\")),\n",
    "          \n",
    "          go.Scatter(x=df['year'], y=df['list_count'],\n",
    "                     mode=\"lines\", name = \"change in listings\",\n",
    "                     line=dict(width=2, color=\"blue\")),\n",
    "          \n",
    "          go.Scatter(x=df['year'], y=df['list_total'],\n",
    "                     mode=\"lines\", name= \"listings total\",\n",
    "                     line=dict(width=2, color=\"black\"))\n",
    "          ],\n",
    "    layout=go.Layout(\n",
    "        xaxis=dict(range=[2008,2020], autorange=False, zeroline=False),\n",
    "        yaxis=dict(range=[0,10000], autorange=False, zeroline=False),\n",
    "        title_text=\"Kinematic Generation of a Planar Curve\", hovermode=\"closest\",\n",
    "        updatemenus=[dict(type=\"buttons\",\n",
    "                          buttons=[dict(label=\"Play\",\n",
    "                                        method=\"animate\",\n",
    "                                        args=[None])])]),\n",
    "    \n",
    "\n",
    "\n",
    "    frames=[go.Frame(\n",
    "        data=[go.Scatter(\n",
    "            x=[df['year'][k]],\n",
    "            y=[df['list_count'][k]],\n",
    "            mode=\"markers\",\n",
    "            name = \"listings\",\n",
    "            marker=dict(color=\"red\", size=10)),\n",
    "              \n",
    "            go.Scatter(\n",
    "            x=[df['year'][k]],\n",
    "            y=[df['list_total'][k]],\n",
    "            mode=\"markers\",\n",
    "                name = \"hosts\",\n",
    "            marker=dict(color=\"red\", size=10))])\n",
    "\n",
    "        for k in range(12)])\n",
    "\n",
    "fig.show()"
   ]
  },
  {
   "cell_type": "code",
   "execution_count": null,
   "metadata": {},
   "outputs": [],
   "source": [
    "- add annotations\n",
    "- add host data\n",
    "- can use host info w/ dups for listings\n",
    "- for host: keep first while dropping dups, arranged asc"
   ]
  },
  {
   "cell_type": "code",
   "execution_count": 162,
   "metadata": {},
   "outputs": [
    {
     "data": {
      "text/html": [
       "<div>\n",
       "<style scoped>\n",
       "    .dataframe tbody tr th:only-of-type {\n",
       "        vertical-align: middle;\n",
       "    }\n",
       "\n",
       "    .dataframe tbody tr th {\n",
       "        vertical-align: top;\n",
       "    }\n",
       "\n",
       "    .dataframe thead th {\n",
       "        text-align: right;\n",
       "    }\n",
       "</style>\n",
       "<table border=\"1\" class=\"dataframe\">\n",
       "  <thead>\n",
       "    <tr style=\"text-align: right;\">\n",
       "      <th></th>\n",
       "      <th>id</th>\n",
       "      <th>neighbourhood</th>\n",
       "      <th>state</th>\n",
       "      <th>host_id</th>\n",
       "      <th>host_since</th>\n",
       "      <th>property_type</th>\n",
       "      <th>first_review_modified</th>\n",
       "      <th>firstreview_modified_year</th>\n",
       "      <th>hostsince_year</th>\n",
       "    </tr>\n",
       "  </thead>\n",
       "  <tbody>\n",
       "    <tr>\n",
       "      <th>0</th>\n",
       "      <td>3344</td>\n",
       "      <td>Downtown/Penn Quarter</td>\n",
       "      <td>DC</td>\n",
       "      <td>4957</td>\n",
       "      <td>2008-12-10</td>\n",
       "      <td>Condominium</td>\n",
       "      <td>2009-05-09</td>\n",
       "      <td>2009</td>\n",
       "      <td>2008</td>\n",
       "    </tr>\n",
       "    <tr>\n",
       "      <th>1</th>\n",
       "      <td>3362</td>\n",
       "      <td>Shaw</td>\n",
       "      <td>DC</td>\n",
       "      <td>2798</td>\n",
       "      <td>2008-09-07</td>\n",
       "      <td>Townhouse</td>\n",
       "      <td>2009-01-21</td>\n",
       "      <td>2009</td>\n",
       "      <td>2008</td>\n",
       "    </tr>\n",
       "    <tr>\n",
       "      <th>2</th>\n",
       "      <td>3662</td>\n",
       "      <td>Buena Vista</td>\n",
       "      <td>DC</td>\n",
       "      <td>4645</td>\n",
       "      <td>2008-11-26</td>\n",
       "      <td>House</td>\n",
       "      <td>2011-04-13</td>\n",
       "      <td>2011</td>\n",
       "      <td>2008</td>\n",
       "    </tr>\n",
       "    <tr>\n",
       "      <th>3</th>\n",
       "      <td>3670</td>\n",
       "      <td>U Street Corridor</td>\n",
       "      <td>DC</td>\n",
       "      <td>4630</td>\n",
       "      <td>2008-11-25</td>\n",
       "      <td>Townhouse</td>\n",
       "      <td>2015-03-18</td>\n",
       "      <td>2015</td>\n",
       "      <td>2008</td>\n",
       "    </tr>\n",
       "    <tr>\n",
       "      <th>4</th>\n",
       "      <td>3686</td>\n",
       "      <td>Anacostia</td>\n",
       "      <td>DC</td>\n",
       "      <td>4645</td>\n",
       "      <td>2008-11-26</td>\n",
       "      <td>House</td>\n",
       "      <td>2010-11-01</td>\n",
       "      <td>2010</td>\n",
       "      <td>2008</td>\n",
       "    </tr>\n",
       "  </tbody>\n",
       "</table>\n",
       "</div>"
      ],
      "text/plain": [
       "     id          neighbourhood state  host_id host_since property_type  \\\n",
       "0  3344  Downtown/Penn Quarter    DC     4957 2008-12-10   Condominium   \n",
       "1  3362                   Shaw    DC     2798 2008-09-07     Townhouse   \n",
       "2  3662            Buena Vista    DC     4645 2008-11-26         House   \n",
       "3  3670      U Street Corridor    DC     4630 2008-11-25     Townhouse   \n",
       "4  3686              Anacostia    DC     4645 2008-11-26         House   \n",
       "\n",
       "  first_review_modified firstreview_modified_year hostsince_year  \n",
       "0            2009-05-09                      2009           2008  \n",
       "1            2009-01-21                      2009           2008  \n",
       "2            2011-04-13                      2011           2008  \n",
       "3            2015-03-18                      2015           2008  \n",
       "4            2010-11-01                      2010           2008  "
      ]
     },
     "execution_count": 162,
     "metadata": {},
     "output_type": "execute_result"
    }
   ],
   "source": [
    "listings.head()\n"
   ]
  },
  {
   "cell_type": "code",
   "execution_count": 18,
   "metadata": {},
   "outputs": [],
   "source": [
    "prop = listings[['room_type', 'firstreview_year'] ].copy()"
   ]
  },
  {
   "cell_type": "code",
   "execution_count": 30,
   "metadata": {},
   "outputs": [
    {
     "data": {
      "text/plain": [
       "room_type           0\n",
       "firstreview_year    0\n",
       "listcount           0\n",
       "cumu_count          0\n",
       "dtype: int64"
      ]
     },
     "execution_count": 30,
     "metadata": {},
     "output_type": "execute_result"
    }
   ],
   "source": [
    "k.isnull().sum()"
   ]
  },
  {
   "cell_type": "code",
   "execution_count": 24,
   "metadata": {},
   "outputs": [],
   "source": [
    "prop = prop.groupby(['room_type', 'firstreview_year']).firstreview_year.agg('count').to_frame('listcount').reset_index()"
   ]
  },
  {
   "cell_type": "code",
   "execution_count": 25,
   "metadata": {},
   "outputs": [],
   "source": [
    "prop['cumu_count'] = prop.groupby(['room_type'])['listcount'].apply(lambda x: x.cumsum())"
   ]
  },
  {
   "cell_type": "code",
   "execution_count": 27,
   "metadata": {},
   "outputs": [
    {
     "data": {
      "text/plain": [
       "array(['Entire home/apt', 'Private room', 'Shared room'], dtype=object)"
      ]
     },
     "execution_count": 27,
     "metadata": {},
     "output_type": "execute_result"
    }
   ],
   "source": [
    "prop.room_type.unique()"
   ]
  },
  {
   "cell_type": "code",
   "execution_count": 28,
   "metadata": {},
   "outputs": [],
   "source": [
    "types = ['Entire home/apt', 'Private room', 'Shared room']\n",
    "\n",
    "k = []\n",
    "\n",
    "for t in types:\n",
    "    k.append(prop[prop['room_type'] == t])\n",
    "    \n",
    "k = pd.concat(k)"
   ]
  },
  {
   "cell_type": "code",
   "execution_count": 29,
   "metadata": {},
   "outputs": [
    {
     "data": {
      "text/html": [
       "<div>\n",
       "<style scoped>\n",
       "    .dataframe tbody tr th:only-of-type {\n",
       "        vertical-align: middle;\n",
       "    }\n",
       "\n",
       "    .dataframe tbody tr th {\n",
       "        vertical-align: top;\n",
       "    }\n",
       "\n",
       "    .dataframe thead th {\n",
       "        text-align: right;\n",
       "    }\n",
       "</style>\n",
       "<table border=\"1\" class=\"dataframe\">\n",
       "  <thead>\n",
       "    <tr style=\"text-align: right;\">\n",
       "      <th></th>\n",
       "      <th>room_type</th>\n",
       "      <th>firstreview_year</th>\n",
       "      <th>listcount</th>\n",
       "      <th>cumu_count</th>\n",
       "    </tr>\n",
       "  </thead>\n",
       "  <tbody>\n",
       "    <tr>\n",
       "      <th>0</th>\n",
       "      <td>Entire home/apt</td>\n",
       "      <td>2009</td>\n",
       "      <td>3</td>\n",
       "      <td>3</td>\n",
       "    </tr>\n",
       "    <tr>\n",
       "      <th>1</th>\n",
       "      <td>Entire home/apt</td>\n",
       "      <td>2010</td>\n",
       "      <td>10</td>\n",
       "      <td>13</td>\n",
       "    </tr>\n",
       "    <tr>\n",
       "      <th>2</th>\n",
       "      <td>Entire home/apt</td>\n",
       "      <td>2011</td>\n",
       "      <td>15</td>\n",
       "      <td>28</td>\n",
       "    </tr>\n",
       "    <tr>\n",
       "      <th>3</th>\n",
       "      <td>Entire home/apt</td>\n",
       "      <td>2012</td>\n",
       "      <td>46</td>\n",
       "      <td>74</td>\n",
       "    </tr>\n",
       "    <tr>\n",
       "      <th>4</th>\n",
       "      <td>Entire home/apt</td>\n",
       "      <td>2013</td>\n",
       "      <td>91</td>\n",
       "      <td>165</td>\n",
       "    </tr>\n",
       "  </tbody>\n",
       "</table>\n",
       "</div>"
      ],
      "text/plain": [
       "         room_type firstreview_year  listcount  cumu_count\n",
       "0  Entire home/apt             2009          3           3\n",
       "1  Entire home/apt             2010         10          13\n",
       "2  Entire home/apt             2011         15          28\n",
       "3  Entire home/apt             2012         46          74\n",
       "4  Entire home/apt             2013         91         165"
      ]
     },
     "execution_count": 29,
     "metadata": {},
     "output_type": "execute_result"
    }
   ],
   "source": [
    "k = k.reset_index()\n",
    "\n",
    "k = k.drop(['index'], axis=1)\n",
    "\n",
    "k.head()"
   ]
  },
  {
   "cell_type": "code",
   "execution_count": 41,
   "metadata": {},
   "outputs": [],
   "source": [
    "k = k.drop([23, 34], axis=0).reset_index()\n",
    "\n",
    "k = k.drop(['index'] ,axis=1)"
   ]
  },
  {
   "cell_type": "code",
   "execution_count": 34,
   "metadata": {},
   "outputs": [
    {
     "data": {
      "text/plain": [
       "room_type\n",
       "Entire home/apt    11\n",
       "Private room       12\n",
       "Shared room        11\n",
       "dtype: int64"
      ]
     },
     "execution_count": 34,
     "metadata": {},
     "output_type": "execute_result"
    }
   ],
   "source": [
    "k.groupby('room_type').size()"
   ]
  },
  {
   "cell_type": "code",
   "execution_count": 35,
   "metadata": {},
   "outputs": [],
   "source": [
    "import plotly"
   ]
  },
  {
   "cell_type": "code",
   "execution_count": 63,
   "metadata": {},
   "outputs": [
    {
     "data": {
      "application/vnd.plotly.v1+json": {
       "config": {
        "plotlyServerURL": "https://plot.ly"
       },
       "data": [
        {
         "hoverlabel": {
          "namelength": 0
         },
         "hovertemplate": "Listing Type=Entire home/apt<br>Year=%{x}<br>Count=%{y}",
         "legendgroup": "Listing Type=Entire home/apt",
         "line": {
          "color": "#636efa"
         },
         "mode": "lines",
         "name": "Listing Type=Entire home/apt",
         "orientation": "v",
         "showlegend": true,
         "stackgroup": "1",
         "type": "scatter",
         "x": [
          "2009",
          "2010",
          "2011",
          "2012",
          "2013",
          "2014",
          "2015",
          "2016",
          "2017",
          "2018",
          "2019"
         ],
         "xaxis": "x",
         "y": [
          3,
          13,
          28,
          74,
          165,
          418,
          945,
          1853,
          3060,
          4316,
          5175
         ],
         "yaxis": "y"
        },
        {
         "hoverlabel": {
          "namelength": 0
         },
         "hovertemplate": "Listing Type=Private room<br>Year=%{x}<br>Count=%{y}",
         "legendgroup": "Listing Type=Private room",
         "line": {
          "color": "#EF553B"
         },
         "mode": "lines",
         "name": "Listing Type=Private room",
         "orientation": "v",
         "showlegend": true,
         "stackgroup": "1",
         "type": "scatter",
         "x": [
          "2009",
          "2010",
          "2011",
          "2012",
          "2013",
          "2014",
          "2015",
          "2016",
          "2017",
          "2018",
          "2019"
         ],
         "xaxis": "x",
         "y": [
          6,
          13,
          26,
          43,
          88,
          189,
          391,
          722,
          1216,
          1676,
          1933
         ],
         "yaxis": "y"
        },
        {
         "hoverlabel": {
          "namelength": 0
         },
         "hovertemplate": "Listing Type=Shared room<br>Year=%{x}<br>Count=%{y}",
         "legendgroup": "Listing Type=Shared room",
         "line": {
          "color": "#00cc96"
         },
         "mode": "lines",
         "name": "Listing Type=Shared room",
         "orientation": "v",
         "showlegend": true,
         "stackgroup": "1",
         "type": "scatter",
         "x": [
          "2009",
          "2010",
          "2012",
          "2013",
          "2014",
          "2015",
          "2016",
          "2017",
          "2018",
          "2019"
         ],
         "xaxis": "x",
         "y": [
          1,
          2,
          3,
          5,
          7,
          12,
          23,
          89,
          134,
          166
         ],
         "yaxis": "y"
        }
       ],
       "layout": {
        "legend": {
         "tracegroupgap": 0
        },
        "margin": {
         "t": 60
        },
        "plot_bgcolor": "#FDFEFE",
        "showlegend": true,
        "template": {
         "data": {
          "bar": [
           {
            "error_x": {
             "color": "#2a3f5f"
            },
            "error_y": {
             "color": "#2a3f5f"
            },
            "marker": {
             "line": {
              "color": "#E5ECF6",
              "width": 0.5
             }
            },
            "type": "bar"
           }
          ],
          "barpolar": [
           {
            "marker": {
             "line": {
              "color": "#E5ECF6",
              "width": 0.5
             }
            },
            "type": "barpolar"
           }
          ],
          "carpet": [
           {
            "aaxis": {
             "endlinecolor": "#2a3f5f",
             "gridcolor": "white",
             "linecolor": "white",
             "minorgridcolor": "white",
             "startlinecolor": "#2a3f5f"
            },
            "baxis": {
             "endlinecolor": "#2a3f5f",
             "gridcolor": "white",
             "linecolor": "white",
             "minorgridcolor": "white",
             "startlinecolor": "#2a3f5f"
            },
            "type": "carpet"
           }
          ],
          "choropleth": [
           {
            "colorbar": {
             "outlinewidth": 0,
             "ticks": ""
            },
            "type": "choropleth"
           }
          ],
          "contour": [
           {
            "colorbar": {
             "outlinewidth": 0,
             "ticks": ""
            },
            "colorscale": [
             [
              0,
              "#0d0887"
             ],
             [
              0.1111111111111111,
              "#46039f"
             ],
             [
              0.2222222222222222,
              "#7201a8"
             ],
             [
              0.3333333333333333,
              "#9c179e"
             ],
             [
              0.4444444444444444,
              "#bd3786"
             ],
             [
              0.5555555555555556,
              "#d8576b"
             ],
             [
              0.6666666666666666,
              "#ed7953"
             ],
             [
              0.7777777777777778,
              "#fb9f3a"
             ],
             [
              0.8888888888888888,
              "#fdca26"
             ],
             [
              1,
              "#f0f921"
             ]
            ],
            "type": "contour"
           }
          ],
          "contourcarpet": [
           {
            "colorbar": {
             "outlinewidth": 0,
             "ticks": ""
            },
            "type": "contourcarpet"
           }
          ],
          "heatmap": [
           {
            "colorbar": {
             "outlinewidth": 0,
             "ticks": ""
            },
            "colorscale": [
             [
              0,
              "#0d0887"
             ],
             [
              0.1111111111111111,
              "#46039f"
             ],
             [
              0.2222222222222222,
              "#7201a8"
             ],
             [
              0.3333333333333333,
              "#9c179e"
             ],
             [
              0.4444444444444444,
              "#bd3786"
             ],
             [
              0.5555555555555556,
              "#d8576b"
             ],
             [
              0.6666666666666666,
              "#ed7953"
             ],
             [
              0.7777777777777778,
              "#fb9f3a"
             ],
             [
              0.8888888888888888,
              "#fdca26"
             ],
             [
              1,
              "#f0f921"
             ]
            ],
            "type": "heatmap"
           }
          ],
          "heatmapgl": [
           {
            "colorbar": {
             "outlinewidth": 0,
             "ticks": ""
            },
            "colorscale": [
             [
              0,
              "#0d0887"
             ],
             [
              0.1111111111111111,
              "#46039f"
             ],
             [
              0.2222222222222222,
              "#7201a8"
             ],
             [
              0.3333333333333333,
              "#9c179e"
             ],
             [
              0.4444444444444444,
              "#bd3786"
             ],
             [
              0.5555555555555556,
              "#d8576b"
             ],
             [
              0.6666666666666666,
              "#ed7953"
             ],
             [
              0.7777777777777778,
              "#fb9f3a"
             ],
             [
              0.8888888888888888,
              "#fdca26"
             ],
             [
              1,
              "#f0f921"
             ]
            ],
            "type": "heatmapgl"
           }
          ],
          "histogram": [
           {
            "marker": {
             "colorbar": {
              "outlinewidth": 0,
              "ticks": ""
             }
            },
            "type": "histogram"
           }
          ],
          "histogram2d": [
           {
            "colorbar": {
             "outlinewidth": 0,
             "ticks": ""
            },
            "colorscale": [
             [
              0,
              "#0d0887"
             ],
             [
              0.1111111111111111,
              "#46039f"
             ],
             [
              0.2222222222222222,
              "#7201a8"
             ],
             [
              0.3333333333333333,
              "#9c179e"
             ],
             [
              0.4444444444444444,
              "#bd3786"
             ],
             [
              0.5555555555555556,
              "#d8576b"
             ],
             [
              0.6666666666666666,
              "#ed7953"
             ],
             [
              0.7777777777777778,
              "#fb9f3a"
             ],
             [
              0.8888888888888888,
              "#fdca26"
             ],
             [
              1,
              "#f0f921"
             ]
            ],
            "type": "histogram2d"
           }
          ],
          "histogram2dcontour": [
           {
            "colorbar": {
             "outlinewidth": 0,
             "ticks": ""
            },
            "colorscale": [
             [
              0,
              "#0d0887"
             ],
             [
              0.1111111111111111,
              "#46039f"
             ],
             [
              0.2222222222222222,
              "#7201a8"
             ],
             [
              0.3333333333333333,
              "#9c179e"
             ],
             [
              0.4444444444444444,
              "#bd3786"
             ],
             [
              0.5555555555555556,
              "#d8576b"
             ],
             [
              0.6666666666666666,
              "#ed7953"
             ],
             [
              0.7777777777777778,
              "#fb9f3a"
             ],
             [
              0.8888888888888888,
              "#fdca26"
             ],
             [
              1,
              "#f0f921"
             ]
            ],
            "type": "histogram2dcontour"
           }
          ],
          "mesh3d": [
           {
            "colorbar": {
             "outlinewidth": 0,
             "ticks": ""
            },
            "type": "mesh3d"
           }
          ],
          "parcoords": [
           {
            "line": {
             "colorbar": {
              "outlinewidth": 0,
              "ticks": ""
             }
            },
            "type": "parcoords"
           }
          ],
          "pie": [
           {
            "automargin": true,
            "type": "pie"
           }
          ],
          "scatter": [
           {
            "marker": {
             "colorbar": {
              "outlinewidth": 0,
              "ticks": ""
             }
            },
            "type": "scatter"
           }
          ],
          "scatter3d": [
           {
            "line": {
             "colorbar": {
              "outlinewidth": 0,
              "ticks": ""
             }
            },
            "marker": {
             "colorbar": {
              "outlinewidth": 0,
              "ticks": ""
             }
            },
            "type": "scatter3d"
           }
          ],
          "scattercarpet": [
           {
            "marker": {
             "colorbar": {
              "outlinewidth": 0,
              "ticks": ""
             }
            },
            "type": "scattercarpet"
           }
          ],
          "scattergeo": [
           {
            "marker": {
             "colorbar": {
              "outlinewidth": 0,
              "ticks": ""
             }
            },
            "type": "scattergeo"
           }
          ],
          "scattergl": [
           {
            "marker": {
             "colorbar": {
              "outlinewidth": 0,
              "ticks": ""
             }
            },
            "type": "scattergl"
           }
          ],
          "scattermapbox": [
           {
            "marker": {
             "colorbar": {
              "outlinewidth": 0,
              "ticks": ""
             }
            },
            "type": "scattermapbox"
           }
          ],
          "scatterpolar": [
           {
            "marker": {
             "colorbar": {
              "outlinewidth": 0,
              "ticks": ""
             }
            },
            "type": "scatterpolar"
           }
          ],
          "scatterpolargl": [
           {
            "marker": {
             "colorbar": {
              "outlinewidth": 0,
              "ticks": ""
             }
            },
            "type": "scatterpolargl"
           }
          ],
          "scatterternary": [
           {
            "marker": {
             "colorbar": {
              "outlinewidth": 0,
              "ticks": ""
             }
            },
            "type": "scatterternary"
           }
          ],
          "surface": [
           {
            "colorbar": {
             "outlinewidth": 0,
             "ticks": ""
            },
            "colorscale": [
             [
              0,
              "#0d0887"
             ],
             [
              0.1111111111111111,
              "#46039f"
             ],
             [
              0.2222222222222222,
              "#7201a8"
             ],
             [
              0.3333333333333333,
              "#9c179e"
             ],
             [
              0.4444444444444444,
              "#bd3786"
             ],
             [
              0.5555555555555556,
              "#d8576b"
             ],
             [
              0.6666666666666666,
              "#ed7953"
             ],
             [
              0.7777777777777778,
              "#fb9f3a"
             ],
             [
              0.8888888888888888,
              "#fdca26"
             ],
             [
              1,
              "#f0f921"
             ]
            ],
            "type": "surface"
           }
          ],
          "table": [
           {
            "cells": {
             "fill": {
              "color": "#EBF0F8"
             },
             "line": {
              "color": "white"
             }
            },
            "header": {
             "fill": {
              "color": "#C8D4E3"
             },
             "line": {
              "color": "white"
             }
            },
            "type": "table"
           }
          ]
         },
         "layout": {
          "annotationdefaults": {
           "arrowcolor": "#2a3f5f",
           "arrowhead": 0,
           "arrowwidth": 1
          },
          "coloraxis": {
           "colorbar": {
            "outlinewidth": 0,
            "ticks": ""
           }
          },
          "colorscale": {
           "diverging": [
            [
             0,
             "#8e0152"
            ],
            [
             0.1,
             "#c51b7d"
            ],
            [
             0.2,
             "#de77ae"
            ],
            [
             0.3,
             "#f1b6da"
            ],
            [
             0.4,
             "#fde0ef"
            ],
            [
             0.5,
             "#f7f7f7"
            ],
            [
             0.6,
             "#e6f5d0"
            ],
            [
             0.7,
             "#b8e186"
            ],
            [
             0.8,
             "#7fbc41"
            ],
            [
             0.9,
             "#4d9221"
            ],
            [
             1,
             "#276419"
            ]
           ],
           "sequential": [
            [
             0,
             "#0d0887"
            ],
            [
             0.1111111111111111,
             "#46039f"
            ],
            [
             0.2222222222222222,
             "#7201a8"
            ],
            [
             0.3333333333333333,
             "#9c179e"
            ],
            [
             0.4444444444444444,
             "#bd3786"
            ],
            [
             0.5555555555555556,
             "#d8576b"
            ],
            [
             0.6666666666666666,
             "#ed7953"
            ],
            [
             0.7777777777777778,
             "#fb9f3a"
            ],
            [
             0.8888888888888888,
             "#fdca26"
            ],
            [
             1,
             "#f0f921"
            ]
           ],
           "sequentialminus": [
            [
             0,
             "#0d0887"
            ],
            [
             0.1111111111111111,
             "#46039f"
            ],
            [
             0.2222222222222222,
             "#7201a8"
            ],
            [
             0.3333333333333333,
             "#9c179e"
            ],
            [
             0.4444444444444444,
             "#bd3786"
            ],
            [
             0.5555555555555556,
             "#d8576b"
            ],
            [
             0.6666666666666666,
             "#ed7953"
            ],
            [
             0.7777777777777778,
             "#fb9f3a"
            ],
            [
             0.8888888888888888,
             "#fdca26"
            ],
            [
             1,
             "#f0f921"
            ]
           ]
          },
          "colorway": [
           "#636efa",
           "#EF553B",
           "#00cc96",
           "#ab63fa",
           "#FFA15A",
           "#19d3f3",
           "#FF6692",
           "#B6E880",
           "#FF97FF",
           "#FECB52"
          ],
          "font": {
           "color": "#2a3f5f"
          },
          "geo": {
           "bgcolor": "white",
           "lakecolor": "white",
           "landcolor": "#E5ECF6",
           "showlakes": true,
           "showland": true,
           "subunitcolor": "white"
          },
          "hoverlabel": {
           "align": "left"
          },
          "hovermode": "closest",
          "mapbox": {
           "style": "light"
          },
          "paper_bgcolor": "white",
          "plot_bgcolor": "#E5ECF6",
          "polar": {
           "angularaxis": {
            "gridcolor": "white",
            "linecolor": "white",
            "ticks": ""
           },
           "bgcolor": "#E5ECF6",
           "radialaxis": {
            "gridcolor": "white",
            "linecolor": "white",
            "ticks": ""
           }
          },
          "scene": {
           "xaxis": {
            "backgroundcolor": "#E5ECF6",
            "gridcolor": "white",
            "gridwidth": 2,
            "linecolor": "white",
            "showbackground": true,
            "ticks": "",
            "zerolinecolor": "white"
           },
           "yaxis": {
            "backgroundcolor": "#E5ECF6",
            "gridcolor": "white",
            "gridwidth": 2,
            "linecolor": "white",
            "showbackground": true,
            "ticks": "",
            "zerolinecolor": "white"
           },
           "zaxis": {
            "backgroundcolor": "#E5ECF6",
            "gridcolor": "white",
            "gridwidth": 2,
            "linecolor": "white",
            "showbackground": true,
            "ticks": "",
            "zerolinecolor": "white"
           }
          },
          "shapedefaults": {
           "line": {
            "color": "#2a3f5f"
           }
          },
          "ternary": {
           "aaxis": {
            "gridcolor": "white",
            "linecolor": "white",
            "ticks": ""
           },
           "baxis": {
            "gridcolor": "white",
            "linecolor": "white",
            "ticks": ""
           },
           "bgcolor": "#E5ECF6",
           "caxis": {
            "gridcolor": "white",
            "linecolor": "white",
            "ticks": ""
           }
          },
          "title": {
           "x": 0.05
          },
          "xaxis": {
           "automargin": true,
           "gridcolor": "white",
           "linecolor": "white",
           "ticks": "",
           "title": {
            "standoff": 15
           },
           "zerolinecolor": "white",
           "zerolinewidth": 2
          },
          "yaxis": {
           "automargin": true,
           "gridcolor": "white",
           "linecolor": "white",
           "ticks": "",
           "title": {
            "standoff": 15
           },
           "zerolinecolor": "white",
           "zerolinewidth": 2
          }
         }
        },
        "title": {
         "text": "<b>Airbnb Listing Type Trend</b>",
         "xref": "container",
         "yref": "container"
        },
        "xaxis": {
         "anchor": "y",
         "domain": [
          0,
          1
         ],
         "gridcolor": "#d3d3d3",
         "title": {
          "text": "Year"
         }
        },
        "yaxis": {
         "anchor": "x",
         "domain": [
          0,
          1
         ],
         "gridcolor": "#d3d3d3",
         "title": {
          "text": "Count"
         }
        }
       }
      },
      "text/html": [
       "<div>\n",
       "        \n",
       "        \n",
       "            <div id=\"98db262e-b2dd-40a9-9ad8-60a5bf4d2aec\" class=\"plotly-graph-div\" style=\"height:525px; width:100%;\"></div>\n",
       "            <script type=\"text/javascript\">\n",
       "                require([\"plotly\"], function(Plotly) {\n",
       "                    window.PLOTLYENV=window.PLOTLYENV || {};\n",
       "                    \n",
       "                if (document.getElementById(\"98db262e-b2dd-40a9-9ad8-60a5bf4d2aec\")) {\n",
       "                    Plotly.newPlot(\n",
       "                        '98db262e-b2dd-40a9-9ad8-60a5bf4d2aec',\n",
       "                        [{\"hoverlabel\": {\"namelength\": 0}, \"hovertemplate\": \"Listing Type=Entire home/apt<br>Year=%{x}<br>Count=%{y}\", \"legendgroup\": \"Listing Type=Entire home/apt\", \"line\": {\"color\": \"#636efa\"}, \"mode\": \"lines\", \"name\": \"Listing Type=Entire home/apt\", \"orientation\": \"v\", \"showlegend\": true, \"stackgroup\": \"1\", \"type\": \"scatter\", \"x\": [\"2009\", \"2010\", \"2011\", \"2012\", \"2013\", \"2014\", \"2015\", \"2016\", \"2017\", \"2018\", \"2019\"], \"xaxis\": \"x\", \"y\": [3, 13, 28, 74, 165, 418, 945, 1853, 3060, 4316, 5175], \"yaxis\": \"y\"}, {\"hoverlabel\": {\"namelength\": 0}, \"hovertemplate\": \"Listing Type=Private room<br>Year=%{x}<br>Count=%{y}\", \"legendgroup\": \"Listing Type=Private room\", \"line\": {\"color\": \"#EF553B\"}, \"mode\": \"lines\", \"name\": \"Listing Type=Private room\", \"orientation\": \"v\", \"showlegend\": true, \"stackgroup\": \"1\", \"type\": \"scatter\", \"x\": [\"2009\", \"2010\", \"2011\", \"2012\", \"2013\", \"2014\", \"2015\", \"2016\", \"2017\", \"2018\", \"2019\"], \"xaxis\": \"x\", \"y\": [6, 13, 26, 43, 88, 189, 391, 722, 1216, 1676, 1933], \"yaxis\": \"y\"}, {\"hoverlabel\": {\"namelength\": 0}, \"hovertemplate\": \"Listing Type=Shared room<br>Year=%{x}<br>Count=%{y}\", \"legendgroup\": \"Listing Type=Shared room\", \"line\": {\"color\": \"#00cc96\"}, \"mode\": \"lines\", \"name\": \"Listing Type=Shared room\", \"orientation\": \"v\", \"showlegend\": true, \"stackgroup\": \"1\", \"type\": \"scatter\", \"x\": [\"2009\", \"2010\", \"2012\", \"2013\", \"2014\", \"2015\", \"2016\", \"2017\", \"2018\", \"2019\"], \"xaxis\": \"x\", \"y\": [1, 2, 3, 5, 7, 12, 23, 89, 134, 166], \"yaxis\": \"y\"}],\n",
       "                        {\"legend\": {\"tracegroupgap\": 0}, \"margin\": {\"t\": 60}, \"plot_bgcolor\": \"#FDFEFE\", \"showlegend\": true, \"template\": {\"data\": {\"bar\": [{\"error_x\": {\"color\": \"#2a3f5f\"}, \"error_y\": {\"color\": \"#2a3f5f\"}, \"marker\": {\"line\": {\"color\": \"#E5ECF6\", \"width\": 0.5}}, \"type\": \"bar\"}], \"barpolar\": [{\"marker\": {\"line\": {\"color\": \"#E5ECF6\", \"width\": 0.5}}, \"type\": \"barpolar\"}], \"carpet\": [{\"aaxis\": {\"endlinecolor\": \"#2a3f5f\", \"gridcolor\": \"white\", \"linecolor\": \"white\", \"minorgridcolor\": \"white\", \"startlinecolor\": \"#2a3f5f\"}, \"baxis\": {\"endlinecolor\": \"#2a3f5f\", \"gridcolor\": \"white\", \"linecolor\": \"white\", \"minorgridcolor\": \"white\", \"startlinecolor\": \"#2a3f5f\"}, \"type\": \"carpet\"}], \"choropleth\": [{\"colorbar\": {\"outlinewidth\": 0, \"ticks\": \"\"}, \"type\": \"choropleth\"}], \"contour\": [{\"colorbar\": {\"outlinewidth\": 0, \"ticks\": \"\"}, \"colorscale\": [[0.0, \"#0d0887\"], [0.1111111111111111, \"#46039f\"], [0.2222222222222222, \"#7201a8\"], [0.3333333333333333, \"#9c179e\"], [0.4444444444444444, \"#bd3786\"], [0.5555555555555556, \"#d8576b\"], [0.6666666666666666, \"#ed7953\"], [0.7777777777777778, \"#fb9f3a\"], [0.8888888888888888, \"#fdca26\"], [1.0, \"#f0f921\"]], \"type\": \"contour\"}], \"contourcarpet\": [{\"colorbar\": {\"outlinewidth\": 0, \"ticks\": \"\"}, \"type\": \"contourcarpet\"}], \"heatmap\": [{\"colorbar\": {\"outlinewidth\": 0, \"ticks\": \"\"}, \"colorscale\": [[0.0, \"#0d0887\"], [0.1111111111111111, \"#46039f\"], [0.2222222222222222, \"#7201a8\"], [0.3333333333333333, \"#9c179e\"], [0.4444444444444444, \"#bd3786\"], [0.5555555555555556, \"#d8576b\"], [0.6666666666666666, \"#ed7953\"], [0.7777777777777778, \"#fb9f3a\"], [0.8888888888888888, \"#fdca26\"], [1.0, \"#f0f921\"]], \"type\": \"heatmap\"}], \"heatmapgl\": [{\"colorbar\": {\"outlinewidth\": 0, \"ticks\": \"\"}, \"colorscale\": [[0.0, \"#0d0887\"], [0.1111111111111111, \"#46039f\"], [0.2222222222222222, \"#7201a8\"], [0.3333333333333333, \"#9c179e\"], [0.4444444444444444, \"#bd3786\"], [0.5555555555555556, \"#d8576b\"], [0.6666666666666666, \"#ed7953\"], [0.7777777777777778, \"#fb9f3a\"], [0.8888888888888888, \"#fdca26\"], [1.0, \"#f0f921\"]], \"type\": \"heatmapgl\"}], \"histogram\": [{\"marker\": {\"colorbar\": {\"outlinewidth\": 0, \"ticks\": \"\"}}, \"type\": \"histogram\"}], \"histogram2d\": [{\"colorbar\": {\"outlinewidth\": 0, \"ticks\": \"\"}, \"colorscale\": [[0.0, \"#0d0887\"], [0.1111111111111111, \"#46039f\"], [0.2222222222222222, \"#7201a8\"], [0.3333333333333333, \"#9c179e\"], [0.4444444444444444, \"#bd3786\"], [0.5555555555555556, \"#d8576b\"], [0.6666666666666666, \"#ed7953\"], [0.7777777777777778, \"#fb9f3a\"], [0.8888888888888888, \"#fdca26\"], [1.0, \"#f0f921\"]], \"type\": \"histogram2d\"}], \"histogram2dcontour\": [{\"colorbar\": {\"outlinewidth\": 0, \"ticks\": \"\"}, \"colorscale\": [[0.0, \"#0d0887\"], [0.1111111111111111, \"#46039f\"], [0.2222222222222222, \"#7201a8\"], [0.3333333333333333, \"#9c179e\"], [0.4444444444444444, \"#bd3786\"], [0.5555555555555556, \"#d8576b\"], [0.6666666666666666, \"#ed7953\"], [0.7777777777777778, \"#fb9f3a\"], [0.8888888888888888, \"#fdca26\"], [1.0, \"#f0f921\"]], \"type\": \"histogram2dcontour\"}], \"mesh3d\": [{\"colorbar\": {\"outlinewidth\": 0, \"ticks\": \"\"}, \"type\": \"mesh3d\"}], \"parcoords\": [{\"line\": {\"colorbar\": {\"outlinewidth\": 0, \"ticks\": \"\"}}, \"type\": \"parcoords\"}], \"pie\": [{\"automargin\": true, \"type\": \"pie\"}], \"scatter\": [{\"marker\": {\"colorbar\": {\"outlinewidth\": 0, \"ticks\": \"\"}}, \"type\": \"scatter\"}], \"scatter3d\": [{\"line\": {\"colorbar\": {\"outlinewidth\": 0, \"ticks\": \"\"}}, \"marker\": {\"colorbar\": {\"outlinewidth\": 0, \"ticks\": \"\"}}, \"type\": \"scatter3d\"}], \"scattercarpet\": [{\"marker\": {\"colorbar\": {\"outlinewidth\": 0, \"ticks\": \"\"}}, \"type\": \"scattercarpet\"}], \"scattergeo\": [{\"marker\": {\"colorbar\": {\"outlinewidth\": 0, \"ticks\": \"\"}}, \"type\": \"scattergeo\"}], \"scattergl\": [{\"marker\": {\"colorbar\": {\"outlinewidth\": 0, \"ticks\": \"\"}}, \"type\": \"scattergl\"}], \"scattermapbox\": [{\"marker\": {\"colorbar\": {\"outlinewidth\": 0, \"ticks\": \"\"}}, \"type\": \"scattermapbox\"}], \"scatterpolar\": [{\"marker\": {\"colorbar\": {\"outlinewidth\": 0, \"ticks\": \"\"}}, \"type\": \"scatterpolar\"}], \"scatterpolargl\": [{\"marker\": {\"colorbar\": {\"outlinewidth\": 0, \"ticks\": \"\"}}, \"type\": \"scatterpolargl\"}], \"scatterternary\": [{\"marker\": {\"colorbar\": {\"outlinewidth\": 0, \"ticks\": \"\"}}, \"type\": \"scatterternary\"}], \"surface\": [{\"colorbar\": {\"outlinewidth\": 0, \"ticks\": \"\"}, \"colorscale\": [[0.0, \"#0d0887\"], [0.1111111111111111, \"#46039f\"], [0.2222222222222222, \"#7201a8\"], [0.3333333333333333, \"#9c179e\"], [0.4444444444444444, \"#bd3786\"], [0.5555555555555556, \"#d8576b\"], [0.6666666666666666, \"#ed7953\"], [0.7777777777777778, \"#fb9f3a\"], [0.8888888888888888, \"#fdca26\"], [1.0, \"#f0f921\"]], \"type\": \"surface\"}], \"table\": [{\"cells\": {\"fill\": {\"color\": \"#EBF0F8\"}, \"line\": {\"color\": \"white\"}}, \"header\": {\"fill\": {\"color\": \"#C8D4E3\"}, \"line\": {\"color\": \"white\"}}, \"type\": \"table\"}]}, \"layout\": {\"annotationdefaults\": {\"arrowcolor\": \"#2a3f5f\", \"arrowhead\": 0, \"arrowwidth\": 1}, \"coloraxis\": {\"colorbar\": {\"outlinewidth\": 0, \"ticks\": \"\"}}, \"colorscale\": {\"diverging\": [[0, \"#8e0152\"], [0.1, \"#c51b7d\"], [0.2, \"#de77ae\"], [0.3, \"#f1b6da\"], [0.4, \"#fde0ef\"], [0.5, \"#f7f7f7\"], [0.6, \"#e6f5d0\"], [0.7, \"#b8e186\"], [0.8, \"#7fbc41\"], [0.9, \"#4d9221\"], [1, \"#276419\"]], \"sequential\": [[0.0, \"#0d0887\"], [0.1111111111111111, \"#46039f\"], [0.2222222222222222, \"#7201a8\"], [0.3333333333333333, \"#9c179e\"], [0.4444444444444444, \"#bd3786\"], [0.5555555555555556, \"#d8576b\"], [0.6666666666666666, \"#ed7953\"], [0.7777777777777778, \"#fb9f3a\"], [0.8888888888888888, \"#fdca26\"], [1.0, \"#f0f921\"]], \"sequentialminus\": [[0.0, \"#0d0887\"], [0.1111111111111111, \"#46039f\"], [0.2222222222222222, \"#7201a8\"], [0.3333333333333333, \"#9c179e\"], [0.4444444444444444, \"#bd3786\"], [0.5555555555555556, \"#d8576b\"], [0.6666666666666666, \"#ed7953\"], [0.7777777777777778, \"#fb9f3a\"], [0.8888888888888888, \"#fdca26\"], [1.0, \"#f0f921\"]]}, \"colorway\": [\"#636efa\", \"#EF553B\", \"#00cc96\", \"#ab63fa\", \"#FFA15A\", \"#19d3f3\", \"#FF6692\", \"#B6E880\", \"#FF97FF\", \"#FECB52\"], \"font\": {\"color\": \"#2a3f5f\"}, \"geo\": {\"bgcolor\": \"white\", \"lakecolor\": \"white\", \"landcolor\": \"#E5ECF6\", \"showlakes\": true, \"showland\": true, \"subunitcolor\": \"white\"}, \"hoverlabel\": {\"align\": \"left\"}, \"hovermode\": \"closest\", \"mapbox\": {\"style\": \"light\"}, \"paper_bgcolor\": \"white\", \"plot_bgcolor\": \"#E5ECF6\", \"polar\": {\"angularaxis\": {\"gridcolor\": \"white\", \"linecolor\": \"white\", \"ticks\": \"\"}, \"bgcolor\": \"#E5ECF6\", \"radialaxis\": {\"gridcolor\": \"white\", \"linecolor\": \"white\", \"ticks\": \"\"}}, \"scene\": {\"xaxis\": {\"backgroundcolor\": \"#E5ECF6\", \"gridcolor\": \"white\", \"gridwidth\": 2, \"linecolor\": \"white\", \"showbackground\": true, \"ticks\": \"\", \"zerolinecolor\": \"white\"}, \"yaxis\": {\"backgroundcolor\": \"#E5ECF6\", \"gridcolor\": \"white\", \"gridwidth\": 2, \"linecolor\": \"white\", \"showbackground\": true, \"ticks\": \"\", \"zerolinecolor\": \"white\"}, \"zaxis\": {\"backgroundcolor\": \"#E5ECF6\", \"gridcolor\": \"white\", \"gridwidth\": 2, \"linecolor\": \"white\", \"showbackground\": true, \"ticks\": \"\", \"zerolinecolor\": \"white\"}}, \"shapedefaults\": {\"line\": {\"color\": \"#2a3f5f\"}}, \"ternary\": {\"aaxis\": {\"gridcolor\": \"white\", \"linecolor\": \"white\", \"ticks\": \"\"}, \"baxis\": {\"gridcolor\": \"white\", \"linecolor\": \"white\", \"ticks\": \"\"}, \"bgcolor\": \"#E5ECF6\", \"caxis\": {\"gridcolor\": \"white\", \"linecolor\": \"white\", \"ticks\": \"\"}}, \"title\": {\"x\": 0.05}, \"xaxis\": {\"automargin\": true, \"gridcolor\": \"white\", \"linecolor\": \"white\", \"ticks\": \"\", \"title\": {\"standoff\": 15}, \"zerolinecolor\": \"white\", \"zerolinewidth\": 2}, \"yaxis\": {\"automargin\": true, \"gridcolor\": \"white\", \"linecolor\": \"white\", \"ticks\": \"\", \"title\": {\"standoff\": 15}, \"zerolinecolor\": \"white\", \"zerolinewidth\": 2}}}, \"title\": {\"text\": \"<b>Airbnb Listing Type Trend</b>\", \"xref\": \"container\", \"yref\": \"container\"}, \"xaxis\": {\"anchor\": \"y\", \"domain\": [0.0, 1.0], \"gridcolor\": \"#d3d3d3\", \"title\": {\"text\": \"Year\"}}, \"yaxis\": {\"anchor\": \"x\", \"domain\": [0.0, 1.0], \"gridcolor\": \"#d3d3d3\", \"title\": {\"text\": \"Count\"}}},\n",
       "                        {\"responsive\": true}\n",
       "                    ).then(function(){\n",
       "                            \n",
       "var gd = document.getElementById('98db262e-b2dd-40a9-9ad8-60a5bf4d2aec');\n",
       "var x = new MutationObserver(function (mutations, observer) {{\n",
       "        var display = window.getComputedStyle(gd).display;\n",
       "        if (!display || display === 'none') {{\n",
       "            console.log([gd, 'removed!']);\n",
       "            Plotly.purge(gd);\n",
       "            observer.disconnect();\n",
       "        }}\n",
       "}});\n",
       "\n",
       "// Listen for the removal of the full notebook cells\n",
       "var notebookContainer = gd.closest('#notebook-container');\n",
       "if (notebookContainer) {{\n",
       "    x.observe(notebookContainer, {childList: true});\n",
       "}}\n",
       "\n",
       "// Listen for the clearing of the current output cell\n",
       "var outputEl = gd.closest('.output');\n",
       "if (outputEl) {{\n",
       "    x.observe(outputEl, {childList: true});\n",
       "}}\n",
       "\n",
       "                        })\n",
       "                };\n",
       "                });\n",
       "            </script>\n",
       "        </div>"
      ]
     },
     "metadata": {},
     "output_type": "display_data"
    }
   ],
   "source": [
    "#area chart for listing type\n",
    "\n",
    "fig = px.area(k, x=\"firstreview_year\", y=\"cumu_count\", color=\"room_type\",\n",
    "\t      line_group=\"room_type\", labels = {\"room_type\": \"Listing Type\", \"firstreview_year\": \"Year\" ,\"cumu_count\": \"Count\"})\n",
    "\n",
    "\n",
    "\n",
    "fig.update_layout(\n",
    "    \n",
    "    xaxis = dict(gridcolor= '#d3d3d3'),\n",
    "    yaxis = dict(title = 'Count', gridcolor= '#d3d3d3'),\n",
    "    #width = 900,\n",
    "    #height = 500,\n",
    "    showlegend = True,\n",
    "    title = dict(text = '<b>Airbnb Listing Type Trend</b>', xref = 'container', yref = 'container'), \n",
    "    plot_bgcolor = \"#FDFEFE\")\n",
    "    \n",
    "    \n",
    "    \n",
    "\n",
    "\n",
    "plotly.offline.plot(fig, \"types.html\")\n",
    "fig.show()\n",
    "\n"
   ]
  }
 ],
 "metadata": {
  "kernelspec": {
   "display_name": "Python 3",
   "language": "python",
   "name": "python3"
  },
  "language_info": {
   "codemirror_mode": {
    "name": "ipython",
    "version": 3
   },
   "file_extension": ".py",
   "mimetype": "text/x-python",
   "name": "python",
   "nbconvert_exporter": "python",
   "pygments_lexer": "ipython3",
   "version": "3.6.5"
  },
  "toc": {
   "base_numbering": 1,
   "nav_menu": {},
   "number_sections": true,
   "sideBar": true,
   "skip_h1_title": false,
   "title_cell": "Table of Contents",
   "title_sidebar": "Contents",
   "toc_cell": false,
   "toc_position": {},
   "toc_section_display": true,
   "toc_window_display": false
  },
  "varInspector": {
   "cols": {
    "lenName": 16,
    "lenType": 16,
    "lenVar": 40
   },
   "kernels_config": {
    "python": {
     "delete_cmd_postfix": "",
     "delete_cmd_prefix": "del ",
     "library": "var_list.py",
     "varRefreshCmd": "print(var_dic_list())"
    },
    "r": {
     "delete_cmd_postfix": ") ",
     "delete_cmd_prefix": "rm(",
     "library": "var_list.r",
     "varRefreshCmd": "cat(var_dic_list()) "
    }
   },
   "types_to_exclude": [
    "module",
    "function",
    "builtin_function_or_method",
    "instance",
    "_Feature"
   ],
   "window_display": false
  }
 },
 "nbformat": 4,
 "nbformat_minor": 2
}
